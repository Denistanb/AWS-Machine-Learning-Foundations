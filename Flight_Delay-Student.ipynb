{
 "cells": [
  {
   "cell_type": "markdown",
   "metadata": {},
   "source": [
    "# Problem: Predicting Airplane Delays\n",
    "\n",
    "The goals of this notebook are:\n",
    "- Process and create a dataset from downloaded .zip files\n",
    "- Perform exploratory data analysis (EDA)\n",
    "- Establish a baseline model\n",
    "- Move from a simple model to an ensemble model\n",
    "- Perform hyperparameter optimization\n",
    "- Check feature importance\n",
    "\n",
    "\n",
    "## Introduction to business scenario\n",
    "\n",
    "You work for a travel booking website that wants to improve the customer experience for flights that were delayed. The company wants to create a feature to let customers know if the flight will be delayed because of weather when they book a flight to or from the busiest airports for domestic travel in the US. \n",
    "\n",
    "You are tasked with solving part of this problem by using machine learning (ML) to identify whether the flight will be delayed because of weather. You have been given access to the a dataset about the on-time performance of domestic flights that were operated by large air carriers. You can use this data to train an ML model to predict if the flight is going to be delayed for the busiest airports.\n",
    "\n",
    "\n",
    "## About this dataset\n",
    "\n",
    "This dataset contains scheduled and actual departure and arrival times reported by certified US air carriers that account for at least 1 percent of domestic scheduled passenger revenues. The data was collected by the U.S. Office of Airline Information, Bureau of Transportation Statistics (BTS). The dataset contains date, time, origin, destination, airline, distance, and delay status of flights for flights between 2013 and 2018.\n",
    "\n",
    "\n",
    "### Features\n",
    "\n",
    "For more information about features in the dataset, see [On-time delay dataset features](https://www.transtats.bts.gov/Fields.asp).\n",
    "\n",
    "### Dataset attributions  \n",
    "Website: https://www.transtats.bts.gov/\n",
    "\n",
    "Dataset(s) used in this lab were compiled by the U.S. Office of Airline Information, Bureau of Transportation Statistics (BTS), Airline On-Time Performance Data, available at https://www.transtats.bts.gov/DatabaseInfo.asp?DB_ID=120&DB_URL=Mode_ID=1&Mode_Desc=Aviation&Subject_ID2=0."
   ]
  },
  {
   "cell_type": "markdown",
   "metadata": {},
   "source": [
    "# Step 1: Problem formulation and data collection\n",
    "\n",
    "Start this project by writing a few sentences that summarize the business problem and the business goal that you want to achieve in this scenario. You can write down your ideas in the following sections. Include a business metric that you would like your team to aspire toward. After you define that information, write the ML problem statement. Finally, add a comment or two about the type of ML this activity represents. \n",
    "\n",
    "#### <span style=\"color: blue;\">Project presentation: Include a summary of these details in your project presentation.</span>\n",
    "\n",
    "### 1. Determine if and why ML is an appropriate solution to deploy for this scenario."
   ]
  },
  {
   "cell_type": "markdown",
   "metadata": {},
   "source": [
    "# Write your answer here\n",
    "* ML can be Suitable for this Problem Because Detecting Flight Times can easily be Automated Instead of Doing Manually. Based on the Given Past Informations Model can Easily Predict Whether there is a Delay otr Not."
   ]
  },
  {
   "cell_type": "markdown",
   "metadata": {},
   "source": [
    "### 2. Formulate the business problem, success metrics, and desired ML output."
   ]
  },
  {
   "cell_type": "markdown",
   "metadata": {},
   "source": [
    "# Write your answer here\n",
    "* Succes Metrics - Confusion Matrix , Precision and Accuracy\n",
    "* Model want to Predict 1( Delay ) or 0( Not Delay )"
   ]
  },
  {
   "cell_type": "markdown",
   "metadata": {},
   "source": [
    "### 3. Identify the type of ML problem that you're working with."
   ]
  },
  {
   "cell_type": "markdown",
   "metadata": {},
   "source": [
    "# Write your answer here\n",
    "* It is Binary Classification type of Problem Because Model want to Predict Delay or Not \n"
   ]
  },
  {
   "cell_type": "markdown",
   "metadata": {},
   "source": [
    "### 4. Analyze the appropriateness of the data that you're working with."
   ]
  },
  {
   "cell_type": "markdown",
   "metadata": {},
   "source": [
    "# Write your answer here\n",
    "* For effective airplane delay prediction, the dataset must include relevant features like flight details, weather, airport traffic, and time variables, ensuring it's clean, complete, and free of outliers."
   ]
  },
  {
   "cell_type": "markdown",
   "metadata": {},
   "source": [
    "### Setup\n",
    "\n",
    "Now that you have decided where you want to focus your attention, you will set up this lab so that you can start solving the problem.\n",
    "\n",
    "**Note:** This notebook was created and tested on an `ml.m4.xlarge` notebook instance with 25 GB storage. "
   ]
  },
  {
   "cell_type": "code",
   "execution_count": 1,
   "metadata": {},
   "outputs": [
    {
     "name": "stderr",
     "output_type": "stream",
     "text": [
      "Matplotlib is building the font cache; this may take a moment.\n"
     ]
    }
   ],
   "source": [
    "import os\n",
    "from pathlib2 import Path # File Handling in Object Oriented Way\n",
    "from zipfile import ZipFile # Work with Zip File\n",
    "import time\n",
    "\n",
    "import pandas as pd\n",
    "import numpy as np\n",
    "import subprocess # To Run System Commands\n",
    "\n",
    "import matplotlib.pyplot as plt\n",
    "import seaborn as sns\n",
    "\n",
    "sns.set()\n",
    "instance_type='ml.m4.xlarge'\n",
    "\n",
    "import warnings\n",
    "warnings.filterwarnings('ignore')\n",
    "\n",
    "%matplotlib inline"
   ]
  },
  {
   "cell_type": "markdown",
   "metadata": {},
   "source": [
    "# Step 2: Data preprocessing and visualization  \n",
    "In this data preprocessing phase, you explore and visualize your data to better understand it. First, import the necessary libraries and read the data into a pandas DataFrame. After you import the data, explore the dataset. Look for the shape of the dataset and explore your columns and the types of columns that you will work with (numerical, categorical). Consider performing basic statistics on the features to get a sense of feature means and ranges. Examine your target column closely, and determine its distribution.\n",
    "\n",
    "\n",
    "### Specific questions to consider\n",
    "\n",
    "Throughout this section of the lab, consider the following questions:\n",
    "\n",
    "1. What can you deduce from the basic statistics that you ran on the features? \n",
    "2. What can you deduce from the distributions of the target classes?\n",
    "3. Is there anything else you can deduce by exploring the data?\n",
    "\n",
    "#### <span style=\"color: blue;\">Project presentation: Include a summary of your answers to these questions (and other similar questions) in your project presentation.</span>"
   ]
  },
  {
   "cell_type": "markdown",
   "metadata": {},
   "source": [
    "Start by bringing in the dataset from a public Amazon Simple Storage Service (Amazon S3) bucket to this notebook environment."
   ]
  },
  {
   "cell_type": "code",
   "execution_count": 2,
   "metadata": {},
   "outputs": [
    {
     "name": "stdout",
     "output_type": "stream",
     "text": [
      "download: s3://aws-tc-largeobjects/CUR-TF-200-ACMLFO-1/flight_delay_project/data/On_Time_Reporting_Carrier_On_Time_Performance_1987_present_2014_1.zip to project/data/FlightDelays/On_Time_Reporting_Carrier_On_Time_Performance_1987_present_2014_1.zip\n",
      "download: s3://aws-tc-largeobjects/CUR-TF-200-ACMLFO-1/flight_delay_project/data/On_Time_Reporting_Carrier_On_Time_Performance_1987_present_2014_10.zip to project/data/FlightDelays/On_Time_Reporting_Carrier_On_Time_Performance_1987_present_2014_10.zip\n",
      "download: s3://aws-tc-largeobjects/CUR-TF-200-ACMLFO-1/flight_delay_project/data/On_Time_Reporting_Carrier_On_Time_Performance_1987_present_2014_11.zip to project/data/FlightDelays/On_Time_Reporting_Carrier_On_Time_Performance_1987_present_2014_11.zip\n",
      "download: s3://aws-tc-largeobjects/CUR-TF-200-ACMLFO-1/flight_delay_project/data/On_Time_Reporting_Carrier_On_Time_Performance_1987_present_2014_3.zip to project/data/FlightDelays/On_Time_Reporting_Carrier_On_Time_Performance_1987_present_2014_3.zip\n",
      "download: s3://aws-tc-largeobjects/CUR-TF-200-ACMLFO-1/flight_delay_project/data/On_Time_Reporting_Carrier_On_Time_Performance_1987_present_2014_12.zip to project/data/FlightDelays/On_Time_Reporting_Carrier_On_Time_Performance_1987_present_2014_12.zip\n",
      "download: s3://aws-tc-largeobjects/CUR-TF-200-ACMLFO-1/flight_delay_project/data/On_Time_Reporting_Carrier_On_Time_Performance_1987_present_2014_5.zip to project/data/FlightDelays/On_Time_Reporting_Carrier_On_Time_Performance_1987_present_2014_5.zip\n",
      "download: s3://aws-tc-largeobjects/CUR-TF-200-ACMLFO-1/flight_delay_project/data/On_Time_Reporting_Carrier_On_Time_Performance_1987_present_2014_6.zip to project/data/FlightDelays/On_Time_Reporting_Carrier_On_Time_Performance_1987_present_2014_6.zip\n",
      "download: s3://aws-tc-largeobjects/CUR-TF-200-ACMLFO-1/flight_delay_project/data/On_Time_Reporting_Carrier_On_Time_Performance_1987_present_2014_4.zip to project/data/FlightDelays/On_Time_Reporting_Carrier_On_Time_Performance_1987_present_2014_4.zip\n",
      "download: s3://aws-tc-largeobjects/CUR-TF-200-ACMLFO-1/flight_delay_project/data/On_Time_Reporting_Carrier_On_Time_Performance_1987_present_2014_2.zip to project/data/FlightDelays/On_Time_Reporting_Carrier_On_Time_Performance_1987_present_2014_2.zip\n",
      "download: s3://aws-tc-largeobjects/CUR-TF-200-ACMLFO-1/flight_delay_project/data/On_Time_Reporting_Carrier_On_Time_Performance_1987_present_2014_7.zip to project/data/FlightDelays/On_Time_Reporting_Carrier_On_Time_Performance_1987_present_2014_7.zip\n",
      "download: s3://aws-tc-largeobjects/CUR-TF-200-ACMLFO-1/flight_delay_project/data/On_Time_Reporting_Carrier_On_Time_Performance_1987_present_2014_9.zip to project/data/FlightDelays/On_Time_Reporting_Carrier_On_Time_Performance_1987_present_2014_9.zip\n",
      "download: s3://aws-tc-largeobjects/CUR-TF-200-ACMLFO-1/flight_delay_project/data/On_Time_Reporting_Carrier_On_Time_Performance_1987_present_2015_1.zip to project/data/FlightDelays/On_Time_Reporting_Carrier_On_Time_Performance_1987_present_2015_1.zip\n",
      "download: s3://aws-tc-largeobjects/CUR-TF-200-ACMLFO-1/flight_delay_project/data/On_Time_Reporting_Carrier_On_Time_Performance_1987_present_2014_8.zip to project/data/FlightDelays/On_Time_Reporting_Carrier_On_Time_Performance_1987_present_2014_8.zip\n",
      "download: s3://aws-tc-largeobjects/CUR-TF-200-ACMLFO-1/flight_delay_project/data/On_Time_Reporting_Carrier_On_Time_Performance_1987_present_2015_10.zip to project/data/FlightDelays/On_Time_Reporting_Carrier_On_Time_Performance_1987_present_2015_10.zip\n",
      "download: s3://aws-tc-largeobjects/CUR-TF-200-ACMLFO-1/flight_delay_project/data/On_Time_Reporting_Carrier_On_Time_Performance_1987_present_2015_2.zip to project/data/FlightDelays/On_Time_Reporting_Carrier_On_Time_Performance_1987_present_2015_2.zip\n",
      "download: s3://aws-tc-largeobjects/CUR-TF-200-ACMLFO-1/flight_delay_project/data/On_Time_Reporting_Carrier_On_Time_Performance_1987_present_2015_11.zip to project/data/FlightDelays/On_Time_Reporting_Carrier_On_Time_Performance_1987_present_2015_11.zip\n",
      "download: s3://aws-tc-largeobjects/CUR-TF-200-ACMLFO-1/flight_delay_project/data/On_Time_Reporting_Carrier_On_Time_Performance_1987_present_2015_3.zip to project/data/FlightDelays/On_Time_Reporting_Carrier_On_Time_Performance_1987_present_2015_3.zip\n",
      "download: s3://aws-tc-largeobjects/CUR-TF-200-ACMLFO-1/flight_delay_project/data/On_Time_Reporting_Carrier_On_Time_Performance_1987_present_2015_5.zip to project/data/FlightDelays/On_Time_Reporting_Carrier_On_Time_Performance_1987_present_2015_5.zip\n",
      "download: s3://aws-tc-largeobjects/CUR-TF-200-ACMLFO-1/flight_delay_project/data/On_Time_Reporting_Carrier_On_Time_Performance_1987_present_2015_12.zip to project/data/FlightDelays/On_Time_Reporting_Carrier_On_Time_Performance_1987_present_2015_12.zip\n",
      "download: s3://aws-tc-largeobjects/CUR-TF-200-ACMLFO-1/flight_delay_project/data/On_Time_Reporting_Carrier_On_Time_Performance_1987_present_2015_4.zip to project/data/FlightDelays/On_Time_Reporting_Carrier_On_Time_Performance_1987_present_2015_4.zip\n",
      "download: s3://aws-tc-largeobjects/CUR-TF-200-ACMLFO-1/flight_delay_project/data/On_Time_Reporting_Carrier_On_Time_Performance_1987_present_2015_7.zip to project/data/FlightDelays/On_Time_Reporting_Carrier_On_Time_Performance_1987_present_2015_7.zip\n",
      "download: s3://aws-tc-largeobjects/CUR-TF-200-ACMLFO-1/flight_delay_project/data/On_Time_Reporting_Carrier_On_Time_Performance_1987_present_2015_6.zip to project/data/FlightDelays/On_Time_Reporting_Carrier_On_Time_Performance_1987_present_2015_6.zip\n",
      "download: s3://aws-tc-largeobjects/CUR-TF-200-ACMLFO-1/flight_delay_project/data/On_Time_Reporting_Carrier_On_Time_Performance_1987_present_2015_9.zip to project/data/FlightDelays/On_Time_Reporting_Carrier_On_Time_Performance_1987_present_2015_9.zip\n",
      "download: s3://aws-tc-largeobjects/CUR-TF-200-ACMLFO-1/flight_delay_project/data/On_Time_Reporting_Carrier_On_Time_Performance_1987_present_2015_8.zip to project/data/FlightDelays/On_Time_Reporting_Carrier_On_Time_Performance_1987_present_2015_8.zip\n",
      "download: s3://aws-tc-largeobjects/CUR-TF-200-ACMLFO-1/flight_delay_project/data/On_Time_Reporting_Carrier_On_Time_Performance_1987_present_2016_1.zip to project/data/FlightDelays/On_Time_Reporting_Carrier_On_Time_Performance_1987_present_2016_1.zip\n",
      "download: s3://aws-tc-largeobjects/CUR-TF-200-ACMLFO-1/flight_delay_project/data/On_Time_Reporting_Carrier_On_Time_Performance_1987_present_2016_10.zip to project/data/FlightDelays/On_Time_Reporting_Carrier_On_Time_Performance_1987_present_2016_10.zip\n",
      "download: s3://aws-tc-largeobjects/CUR-TF-200-ACMLFO-1/flight_delay_project/data/On_Time_Reporting_Carrier_On_Time_Performance_1987_present_2016_12.zip to project/data/FlightDelays/On_Time_Reporting_Carrier_On_Time_Performance_1987_present_2016_12.zip\n",
      "download: s3://aws-tc-largeobjects/CUR-TF-200-ACMLFO-1/flight_delay_project/data/On_Time_Reporting_Carrier_On_Time_Performance_1987_present_2016_11.zip to project/data/FlightDelays/On_Time_Reporting_Carrier_On_Time_Performance_1987_present_2016_11.zip\n",
      "download: s3://aws-tc-largeobjects/CUR-TF-200-ACMLFO-1/flight_delay_project/data/On_Time_Reporting_Carrier_On_Time_Performance_1987_present_2016_3.zip to project/data/FlightDelays/On_Time_Reporting_Carrier_On_Time_Performance_1987_present_2016_3.zip\n",
      "download: s3://aws-tc-largeobjects/CUR-TF-200-ACMLFO-1/flight_delay_project/data/On_Time_Reporting_Carrier_On_Time_Performance_1987_present_2016_4.zip to project/data/FlightDelays/On_Time_Reporting_Carrier_On_Time_Performance_1987_present_2016_4.zip\n",
      "download: s3://aws-tc-largeobjects/CUR-TF-200-ACMLFO-1/flight_delay_project/data/On_Time_Reporting_Carrier_On_Time_Performance_1987_present_2016_5.zip to project/data/FlightDelays/On_Time_Reporting_Carrier_On_Time_Performance_1987_present_2016_5.zip\n",
      "download: s3://aws-tc-largeobjects/CUR-TF-200-ACMLFO-1/flight_delay_project/data/On_Time_Reporting_Carrier_On_Time_Performance_1987_present_2016_2.zip to project/data/FlightDelays/On_Time_Reporting_Carrier_On_Time_Performance_1987_present_2016_2.zip\n",
      "download: s3://aws-tc-largeobjects/CUR-TF-200-ACMLFO-1/flight_delay_project/data/On_Time_Reporting_Carrier_On_Time_Performance_1987_present_2016_6.zip to project/data/FlightDelays/On_Time_Reporting_Carrier_On_Time_Performance_1987_present_2016_6.zip\n",
      "download: s3://aws-tc-largeobjects/CUR-TF-200-ACMLFO-1/flight_delay_project/data/On_Time_Reporting_Carrier_On_Time_Performance_1987_present_2016_8.zip to project/data/FlightDelays/On_Time_Reporting_Carrier_On_Time_Performance_1987_present_2016_8.zip\n",
      "download: s3://aws-tc-largeobjects/CUR-TF-200-ACMLFO-1/flight_delay_project/data/On_Time_Reporting_Carrier_On_Time_Performance_1987_present_2017_1.zip to project/data/FlightDelays/On_Time_Reporting_Carrier_On_Time_Performance_1987_present_2017_1.zip\n",
      "download: s3://aws-tc-largeobjects/CUR-TF-200-ACMLFO-1/flight_delay_project/data/On_Time_Reporting_Carrier_On_Time_Performance_1987_present_2016_7.zip to project/data/FlightDelays/On_Time_Reporting_Carrier_On_Time_Performance_1987_present_2016_7.zip\n",
      "download: s3://aws-tc-largeobjects/CUR-TF-200-ACMLFO-1/flight_delay_project/data/On_Time_Reporting_Carrier_On_Time_Performance_1987_present_2017_10.zip to project/data/FlightDelays/On_Time_Reporting_Carrier_On_Time_Performance_1987_present_2017_10.zip\n",
      "download: s3://aws-tc-largeobjects/CUR-TF-200-ACMLFO-1/flight_delay_project/data/On_Time_Reporting_Carrier_On_Time_Performance_1987_present_2016_9.zip to project/data/FlightDelays/On_Time_Reporting_Carrier_On_Time_Performance_1987_present_2016_9.zip\n",
      "download: s3://aws-tc-largeobjects/CUR-TF-200-ACMLFO-1/flight_delay_project/data/On_Time_Reporting_Carrier_On_Time_Performance_1987_present_2017_2.zip to project/data/FlightDelays/On_Time_Reporting_Carrier_On_Time_Performance_1987_present_2017_2.zip\n",
      "download: s3://aws-tc-largeobjects/CUR-TF-200-ACMLFO-1/flight_delay_project/data/On_Time_Reporting_Carrier_On_Time_Performance_1987_present_2017_11.zip to project/data/FlightDelays/On_Time_Reporting_Carrier_On_Time_Performance_1987_present_2017_11.zip\n",
      "download: s3://aws-tc-largeobjects/CUR-TF-200-ACMLFO-1/flight_delay_project/data/On_Time_Reporting_Carrier_On_Time_Performance_1987_present_2017_12.zip to project/data/FlightDelays/On_Time_Reporting_Carrier_On_Time_Performance_1987_present_2017_12.zip\n",
      "download: s3://aws-tc-largeobjects/CUR-TF-200-ACMLFO-1/flight_delay_project/data/On_Time_Reporting_Carrier_On_Time_Performance_1987_present_2017_4.zip to project/data/FlightDelays/On_Time_Reporting_Carrier_On_Time_Performance_1987_present_2017_4.zip\n",
      "download: s3://aws-tc-largeobjects/CUR-TF-200-ACMLFO-1/flight_delay_project/data/On_Time_Reporting_Carrier_On_Time_Performance_1987_present_2017_5.zip to project/data/FlightDelays/On_Time_Reporting_Carrier_On_Time_Performance_1987_present_2017_5.zip\n",
      "download: s3://aws-tc-largeobjects/CUR-TF-200-ACMLFO-1/flight_delay_project/data/On_Time_Reporting_Carrier_On_Time_Performance_1987_present_2017_3.zip to project/data/FlightDelays/On_Time_Reporting_Carrier_On_Time_Performance_1987_present_2017_3.zip\n",
      "download: s3://aws-tc-largeobjects/CUR-TF-200-ACMLFO-1/flight_delay_project/data/On_Time_Reporting_Carrier_On_Time_Performance_1987_present_2017_8.zip to project/data/FlightDelays/On_Time_Reporting_Carrier_On_Time_Performance_1987_present_2017_8.zip\n",
      "download: s3://aws-tc-largeobjects/CUR-TF-200-ACMLFO-1/flight_delay_project/data/On_Time_Reporting_Carrier_On_Time_Performance_1987_present_2017_7.zip to project/data/FlightDelays/On_Time_Reporting_Carrier_On_Time_Performance_1987_present_2017_7.zip\n",
      "download: s3://aws-tc-largeobjects/CUR-TF-200-ACMLFO-1/flight_delay_project/data/On_Time_Reporting_Carrier_On_Time_Performance_1987_present_2017_9.zip to project/data/FlightDelays/On_Time_Reporting_Carrier_On_Time_Performance_1987_present_2017_9.zip\n",
      "download: s3://aws-tc-largeobjects/CUR-TF-200-ACMLFO-1/flight_delay_project/data/On_Time_Reporting_Carrier_On_Time_Performance_1987_present_2017_6.zip to project/data/FlightDelays/On_Time_Reporting_Carrier_On_Time_Performance_1987_present_2017_6.zip\n",
      "download: s3://aws-tc-largeobjects/CUR-TF-200-ACMLFO-1/flight_delay_project/data/On_Time_Reporting_Carrier_On_Time_Performance_1987_present_2018_10.zip to project/data/FlightDelays/On_Time_Reporting_Carrier_On_Time_Performance_1987_present_2018_10.zip\n",
      "download: s3://aws-tc-largeobjects/CUR-TF-200-ACMLFO-1/flight_delay_project/data/On_Time_Reporting_Carrier_On_Time_Performance_1987_present_2018_12.zip to project/data/FlightDelays/On_Time_Reporting_Carrier_On_Time_Performance_1987_present_2018_12.zip\n",
      "download: s3://aws-tc-largeobjects/CUR-TF-200-ACMLFO-1/flight_delay_project/data/On_Time_Reporting_Carrier_On_Time_Performance_1987_present_2018_1.zip to project/data/FlightDelays/On_Time_Reporting_Carrier_On_Time_Performance_1987_present_2018_1.zip\n",
      "download: s3://aws-tc-largeobjects/CUR-TF-200-ACMLFO-1/flight_delay_project/data/On_Time_Reporting_Carrier_On_Time_Performance_1987_present_2018_11.zip to project/data/FlightDelays/On_Time_Reporting_Carrier_On_Time_Performance_1987_present_2018_11.zip\n",
      "download: s3://aws-tc-largeobjects/CUR-TF-200-ACMLFO-1/flight_delay_project/data/On_Time_Reporting_Carrier_On_Time_Performance_1987_present_2018_3.zip to project/data/FlightDelays/On_Time_Reporting_Carrier_On_Time_Performance_1987_present_2018_3.zip\n",
      "download: s3://aws-tc-largeobjects/CUR-TF-200-ACMLFO-1/flight_delay_project/data/On_Time_Reporting_Carrier_On_Time_Performance_1987_present_2018_6.zip to project/data/FlightDelays/On_Time_Reporting_Carrier_On_Time_Performance_1987_present_2018_6.zip\n",
      "download: s3://aws-tc-largeobjects/CUR-TF-200-ACMLFO-1/flight_delay_project/data/On_Time_Reporting_Carrier_On_Time_Performance_1987_present_2018_4.zip to project/data/FlightDelays/On_Time_Reporting_Carrier_On_Time_Performance_1987_present_2018_4.zip\n",
      "download: s3://aws-tc-largeobjects/CUR-TF-200-ACMLFO-1/flight_delay_project/data/On_Time_Reporting_Carrier_On_Time_Performance_1987_present_2018_9.zip to project/data/FlightDelays/On_Time_Reporting_Carrier_On_Time_Performance_1987_present_2018_9.zip\n",
      "download: s3://aws-tc-largeobjects/CUR-TF-200-ACMLFO-1/flight_delay_project/data/On_Time_Reporting_Carrier_On_Time_Performance_1987_present_2018_7.zip to project/data/FlightDelays/On_Time_Reporting_Carrier_On_Time_Performance_1987_present_2018_7.zip\n",
      "download: s3://aws-tc-largeobjects/CUR-TF-200-ACMLFO-1/flight_delay_project/data/On_Time_Reporting_Carrier_On_Time_Performance_1987_present_2018_8.zip to project/data/FlightDelays/On_Time_Reporting_Carrier_On_Time_Performance_1987_present_2018_8.zip\n",
      "download: s3://aws-tc-largeobjects/CUR-TF-200-ACMLFO-1/flight_delay_project/data/On_Time_Reporting_Carrier_On_Time_Performance_1987_present_2018_2.zip to project/data/FlightDelays/On_Time_Reporting_Carrier_On_Time_Performance_1987_present_2018_2.zip\n",
      "download: s3://aws-tc-largeobjects/CUR-TF-200-ACMLFO-1/flight_delay_project/data/On_Time_Reporting_Carrier_On_Time_Performance_1987_present_2018_5.zip to project/data/FlightDelays/On_Time_Reporting_Carrier_On_Time_Performance_1987_present_2018_5.zip\n"
     ]
    }
   ],
   "source": [
    "# download the files\n",
    "\n",
    "zip_path = '/home/ec2-user/SageMaker/project/data/FlightDelays/' # Project Zip File Location\n",
    "base_path = '/home/ec2-user/SageMaker/project/data/FlightDelays/' # Project Data File Location\n",
    "csv_base_path = '/home/ec2-user/SageMaker/project/data/csvFlightDelays/' # Location for Processed CSV Files\n",
    "\n",
    "!mkdir -p {zip_path} # -p -> Create Parent Directories if they Not Exits\n",
    "!mkdir -p {csv_base_path}\n",
    "!aws s3 cp s3://aws-tc-largeobjects/CUR-TF-200-ACMLFO-1/flight_delay_project/data/ {zip_path} --recursive # Copy All Files from AWS S3 to Zip Path , --recursive -> Copy All the Files"
   ]
  },
  {
   "cell_type": "code",
   "execution_count": 3,
   "metadata": {},
   "outputs": [
    {
     "data": {
      "text/plain": [
       "60"
      ]
     },
     "execution_count": 3,
     "metadata": {},
     "output_type": "execute_result"
    }
   ],
   "source": [
    "zip_files = [str(file) for file in list(Path(base_path).iterdir()) if '.zip' in str(file)] # .iterdir() - Generate an Iterator Over Files and Subdirectories\n",
    "len(zip_files)"
   ]
  },
  {
   "cell_type": "markdown",
   "metadata": {},
   "source": [
    "Extract comma-separated values (CSV) files from the .zip files."
   ]
  },
  {
   "cell_type": "code",
   "execution_count": 4,
   "metadata": {},
   "outputs": [
    {
     "name": "stdout",
     "output_type": "stream",
     "text": [
      "Extracting /home/ec2-user/SageMaker/project/data/FlightDelays/On_Time_Reporting_Carrier_On_Time_Performance_1987_present_2017_6.zip \n",
      "Extracting /home/ec2-user/SageMaker/project/data/FlightDelays/On_Time_Reporting_Carrier_On_Time_Performance_1987_present_2016_7.zip \n",
      "Extracting /home/ec2-user/SageMaker/project/data/FlightDelays/On_Time_Reporting_Carrier_On_Time_Performance_1987_present_2016_2.zip \n",
      "Extracting /home/ec2-user/SageMaker/project/data/FlightDelays/On_Time_Reporting_Carrier_On_Time_Performance_1987_present_2017_5.zip \n",
      "Extracting /home/ec2-user/SageMaker/project/data/FlightDelays/On_Time_Reporting_Carrier_On_Time_Performance_1987_present_2015_1.zip \n",
      "Extracting /home/ec2-user/SageMaker/project/data/FlightDelays/On_Time_Reporting_Carrier_On_Time_Performance_1987_present_2018_2.zip \n",
      "Extracting /home/ec2-user/SageMaker/project/data/FlightDelays/On_Time_Reporting_Carrier_On_Time_Performance_1987_present_2014_9.zip \n",
      "Extracting /home/ec2-user/SageMaker/project/data/FlightDelays/On_Time_Reporting_Carrier_On_Time_Performance_1987_present_2016_3.zip \n",
      "Extracting /home/ec2-user/SageMaker/project/data/FlightDelays/On_Time_Reporting_Carrier_On_Time_Performance_1987_present_2017_11.zip \n",
      "Extracting /home/ec2-user/SageMaker/project/data/FlightDelays/On_Time_Reporting_Carrier_On_Time_Performance_1987_present_2017_10.zip \n",
      "Extracting /home/ec2-user/SageMaker/project/data/FlightDelays/On_Time_Reporting_Carrier_On_Time_Performance_1987_present_2018_11.zip \n",
      "Extracting /home/ec2-user/SageMaker/project/data/FlightDelays/On_Time_Reporting_Carrier_On_Time_Performance_1987_present_2014_6.zip \n",
      "Extracting /home/ec2-user/SageMaker/project/data/FlightDelays/On_Time_Reporting_Carrier_On_Time_Performance_1987_present_2015_3.zip \n",
      "Extracting /home/ec2-user/SageMaker/project/data/FlightDelays/On_Time_Reporting_Carrier_On_Time_Performance_1987_present_2017_12.zip \n",
      "Extracting /home/ec2-user/SageMaker/project/data/FlightDelays/On_Time_Reporting_Carrier_On_Time_Performance_1987_present_2016_12.zip \n",
      "Extracting /home/ec2-user/SageMaker/project/data/FlightDelays/On_Time_Reporting_Carrier_On_Time_Performance_1987_present_2017_4.zip \n",
      "Extracting /home/ec2-user/SageMaker/project/data/FlightDelays/On_Time_Reporting_Carrier_On_Time_Performance_1987_present_2018_1.zip \n",
      "Extracting /home/ec2-user/SageMaker/project/data/FlightDelays/On_Time_Reporting_Carrier_On_Time_Performance_1987_present_2017_8.zip \n",
      "Extracting /home/ec2-user/SageMaker/project/data/FlightDelays/On_Time_Reporting_Carrier_On_Time_Performance_1987_present_2016_4.zip \n",
      "Extracting /home/ec2-user/SageMaker/project/data/FlightDelays/On_Time_Reporting_Carrier_On_Time_Performance_1987_present_2016_6.zip \n",
      "Extracting /home/ec2-user/SageMaker/project/data/FlightDelays/On_Time_Reporting_Carrier_On_Time_Performance_1987_present_2018_8.zip \n",
      "Extracting /home/ec2-user/SageMaker/project/data/FlightDelays/On_Time_Reporting_Carrier_On_Time_Performance_1987_present_2016_1.zip \n",
      "Extracting /home/ec2-user/SageMaker/project/data/FlightDelays/On_Time_Reporting_Carrier_On_Time_Performance_1987_present_2016_8.zip \n",
      "Extracting /home/ec2-user/SageMaker/project/data/FlightDelays/On_Time_Reporting_Carrier_On_Time_Performance_1987_present_2015_6.zip \n",
      "Extracting /home/ec2-user/SageMaker/project/data/FlightDelays/On_Time_Reporting_Carrier_On_Time_Performance_1987_present_2014_10.zip \n",
      "Extracting /home/ec2-user/SageMaker/project/data/FlightDelays/On_Time_Reporting_Carrier_On_Time_Performance_1987_present_2014_7.zip \n",
      "Extracting /home/ec2-user/SageMaker/project/data/FlightDelays/On_Time_Reporting_Carrier_On_Time_Performance_1987_present_2017_9.zip \n",
      "Extracting /home/ec2-user/SageMaker/project/data/FlightDelays/On_Time_Reporting_Carrier_On_Time_Performance_1987_present_2016_11.zip \n",
      "Extracting /home/ec2-user/SageMaker/project/data/FlightDelays/On_Time_Reporting_Carrier_On_Time_Performance_1987_present_2018_4.zip \n",
      "Extracting /home/ec2-user/SageMaker/project/data/FlightDelays/On_Time_Reporting_Carrier_On_Time_Performance_1987_present_2014_1.zip \n",
      "Extracting /home/ec2-user/SageMaker/project/data/FlightDelays/On_Time_Reporting_Carrier_On_Time_Performance_1987_present_2014_4.zip \n",
      "Extracting /home/ec2-user/SageMaker/project/data/FlightDelays/On_Time_Reporting_Carrier_On_Time_Performance_1987_present_2016_5.zip \n",
      "Extracting /home/ec2-user/SageMaker/project/data/FlightDelays/On_Time_Reporting_Carrier_On_Time_Performance_1987_present_2015_5.zip \n",
      "Extracting /home/ec2-user/SageMaker/project/data/FlightDelays/On_Time_Reporting_Carrier_On_Time_Performance_1987_present_2018_5.zip \n",
      "Extracting /home/ec2-user/SageMaker/project/data/FlightDelays/On_Time_Reporting_Carrier_On_Time_Performance_1987_present_2017_2.zip \n",
      "Extracting /home/ec2-user/SageMaker/project/data/FlightDelays/On_Time_Reporting_Carrier_On_Time_Performance_1987_present_2015_7.zip \n",
      "Extracting /home/ec2-user/SageMaker/project/data/FlightDelays/On_Time_Reporting_Carrier_On_Time_Performance_1987_present_2018_10.zip \n",
      "Extracting /home/ec2-user/SageMaker/project/data/FlightDelays/On_Time_Reporting_Carrier_On_Time_Performance_1987_present_2018_9.zip \n",
      "Extracting /home/ec2-user/SageMaker/project/data/FlightDelays/On_Time_Reporting_Carrier_On_Time_Performance_1987_present_2014_12.zip \n",
      "Extracting /home/ec2-user/SageMaker/project/data/FlightDelays/On_Time_Reporting_Carrier_On_Time_Performance_1987_present_2017_7.zip \n",
      "Extracting /home/ec2-user/SageMaker/project/data/FlightDelays/On_Time_Reporting_Carrier_On_Time_Performance_1987_present_2014_11.zip \n",
      "Extracting /home/ec2-user/SageMaker/project/data/FlightDelays/On_Time_Reporting_Carrier_On_Time_Performance_1987_present_2018_3.zip \n",
      "Extracting /home/ec2-user/SageMaker/project/data/FlightDelays/On_Time_Reporting_Carrier_On_Time_Performance_1987_present_2018_6.zip \n",
      "Extracting /home/ec2-user/SageMaker/project/data/FlightDelays/On_Time_Reporting_Carrier_On_Time_Performance_1987_present_2014_2.zip \n",
      "Extracting /home/ec2-user/SageMaker/project/data/FlightDelays/On_Time_Reporting_Carrier_On_Time_Performance_1987_present_2014_8.zip \n",
      "Extracting /home/ec2-user/SageMaker/project/data/FlightDelays/On_Time_Reporting_Carrier_On_Time_Performance_1987_present_2018_7.zip \n",
      "Extracting /home/ec2-user/SageMaker/project/data/FlightDelays/On_Time_Reporting_Carrier_On_Time_Performance_1987_present_2015_10.zip \n",
      "Extracting /home/ec2-user/SageMaker/project/data/FlightDelays/On_Time_Reporting_Carrier_On_Time_Performance_1987_present_2016_10.zip \n",
      "Extracting /home/ec2-user/SageMaker/project/data/FlightDelays/On_Time_Reporting_Carrier_On_Time_Performance_1987_present_2015_11.zip \n",
      "Extracting /home/ec2-user/SageMaker/project/data/FlightDelays/On_Time_Reporting_Carrier_On_Time_Performance_1987_present_2017_3.zip \n",
      "Extracting /home/ec2-user/SageMaker/project/data/FlightDelays/On_Time_Reporting_Carrier_On_Time_Performance_1987_present_2016_9.zip \n",
      "Extracting /home/ec2-user/SageMaker/project/data/FlightDelays/On_Time_Reporting_Carrier_On_Time_Performance_1987_present_2015_2.zip \n",
      "Extracting /home/ec2-user/SageMaker/project/data/FlightDelays/On_Time_Reporting_Carrier_On_Time_Performance_1987_present_2015_8.zip \n",
      "Extracting /home/ec2-user/SageMaker/project/data/FlightDelays/On_Time_Reporting_Carrier_On_Time_Performance_1987_present_2018_12.zip \n",
      "Extracting /home/ec2-user/SageMaker/project/data/FlightDelays/On_Time_Reporting_Carrier_On_Time_Performance_1987_present_2017_1.zip \n",
      "Extracting /home/ec2-user/SageMaker/project/data/FlightDelays/On_Time_Reporting_Carrier_On_Time_Performance_1987_present_2015_12.zip \n",
      "Extracting /home/ec2-user/SageMaker/project/data/FlightDelays/On_Time_Reporting_Carrier_On_Time_Performance_1987_present_2015_4.zip \n",
      "Extracting /home/ec2-user/SageMaker/project/data/FlightDelays/On_Time_Reporting_Carrier_On_Time_Performance_1987_present_2015_9.zip \n",
      "Extracting /home/ec2-user/SageMaker/project/data/FlightDelays/On_Time_Reporting_Carrier_On_Time_Performance_1987_present_2014_3.zip \n",
      "Extracting /home/ec2-user/SageMaker/project/data/FlightDelays/On_Time_Reporting_Carrier_On_Time_Performance_1987_present_2014_5.zip \n",
      "Files Extracted\n"
     ]
    }
   ],
   "source": [
    "def zip2csv(zipFile_name , file_path):\n",
    "    \"\"\"\n",
    "    Extract csv from zip files\n",
    "    zipFile_name: name of the zip file\n",
    "    file_path : name of the folder to store csv\n",
    "    \"\"\"\n",
    "\n",
    "    try:\n",
    "        with ZipFile(zipFile_name, 'r') as z: # Open the Zip Files in Read Mode\n",
    "            print(f'Extracting {zipFile_name} ') \n",
    "            z.extractall(path=file_path)  # Extract all the Files and Store in csv_base_path\n",
    "    except:\n",
    "        print(f'zip2csv failed for {zipFile_name}')\n",
    "\n",
    "for file in zip_files:\n",
    "    zip2csv(file, csv_base_path)\n",
    "\n",
    "print(\"Files Extracted\")"
   ]
  },
  {
   "cell_type": "code",
   "execution_count": 5,
   "metadata": {},
   "outputs": [
    {
     "data": {
      "text/plain": [
       "60"
      ]
     },
     "execution_count": 5,
     "metadata": {},
     "output_type": "execute_result"
    }
   ],
   "source": [
    "csv_files = [str(file) for file in list(Path(csv_base_path).iterdir()) if '.csv' in str(file)]\n",
    "len(csv_files)"
   ]
  },
  {
   "cell_type": "markdown",
   "metadata": {},
   "source": [
    "Before you load the CSV file, read the HTML file from the extracted folder. This HTML file includes the background and more information about the features that are included in the dataset."
   ]
  },
  {
   "cell_type": "code",
   "execution_count": 6,
   "metadata": {},
   "outputs": [
    {
     "data": {
      "text/html": [
       "\n",
       "        <iframe\n",
       "            width=\"1350\"\n",
       "            height=\"500\"\n",
       "            src=\"project/data/csvFlightDelays/readme.html\"\n",
       "            frameborder=\"0\"\n",
       "            allowfullscreen\n",
       "            \n",
       "        ></iframe>\n",
       "        "
      ],
      "text/plain": [
       "<IPython.lib.display.IFrame at 0x7f0381ddf6d0>"
      ]
     },
     "execution_count": 6,
     "metadata": {},
     "output_type": "execute_result"
    }
   ],
   "source": [
    "from IPython.display import IFrame # To Embed HTML Content Within Jupyter Notebook\n",
    "\n",
    "IFrame(src=os.path.relpath(f\"{csv_base_path}readme.html\"), width=1350, height=500) # os.path.relpath - Generate a Relative Path"
   ]
  },
  {
   "cell_type": "markdown",
   "metadata": {},
   "source": [
    "#### Load sample CSV file\n",
    "\n",
    "Before you combine all the CSV files, examine the data from a single CSV file. By using pandas, read the `On_Time_Reporting_Carrier_On_Time_Performance_(1987_present)_2018_9.csv` file first. You can use the built-in `read_csv` function in Python ([pandas.read_csv documentation](https://pandas.pydata.org/pandas-docs/stable/reference/api/pandas.read_csv.html))."
   ]
  },
  {
   "cell_type": "code",
   "execution_count": 7,
   "metadata": {},
   "outputs": [
    {
     "data": {
      "text/html": [
       "<div>\n",
       "<style scoped>\n",
       "    .dataframe tbody tr th:only-of-type {\n",
       "        vertical-align: middle;\n",
       "    }\n",
       "\n",
       "    .dataframe tbody tr th {\n",
       "        vertical-align: top;\n",
       "    }\n",
       "\n",
       "    .dataframe thead th {\n",
       "        text-align: right;\n",
       "    }\n",
       "</style>\n",
       "<table border=\"1\" class=\"dataframe\">\n",
       "  <thead>\n",
       "    <tr style=\"text-align: right;\">\n",
       "      <th></th>\n",
       "      <th>Year</th>\n",
       "      <th>Quarter</th>\n",
       "      <th>Month</th>\n",
       "      <th>DayofMonth</th>\n",
       "      <th>DayOfWeek</th>\n",
       "      <th>FlightDate</th>\n",
       "      <th>Reporting_Airline</th>\n",
       "      <th>DOT_ID_Reporting_Airline</th>\n",
       "      <th>IATA_CODE_Reporting_Airline</th>\n",
       "      <th>Tail_Number</th>\n",
       "      <th>...</th>\n",
       "      <th>Div4TailNum</th>\n",
       "      <th>Div5Airport</th>\n",
       "      <th>Div5AirportID</th>\n",
       "      <th>Div5AirportSeqID</th>\n",
       "      <th>Div5WheelsOn</th>\n",
       "      <th>Div5TotalGTime</th>\n",
       "      <th>Div5LongestGTime</th>\n",
       "      <th>Div5WheelsOff</th>\n",
       "      <th>Div5TailNum</th>\n",
       "      <th>Unnamed: 109</th>\n",
       "    </tr>\n",
       "  </thead>\n",
       "  <tbody>\n",
       "    <tr>\n",
       "      <th>0</th>\n",
       "      <td>2018</td>\n",
       "      <td>3</td>\n",
       "      <td>9</td>\n",
       "      <td>3</td>\n",
       "      <td>1</td>\n",
       "      <td>2018-09-03</td>\n",
       "      <td>9E</td>\n",
       "      <td>20363</td>\n",
       "      <td>9E</td>\n",
       "      <td>N908XJ</td>\n",
       "      <td>...</td>\n",
       "      <td>NaN</td>\n",
       "      <td>NaN</td>\n",
       "      <td>NaN</td>\n",
       "      <td>NaN</td>\n",
       "      <td>NaN</td>\n",
       "      <td>NaN</td>\n",
       "      <td>NaN</td>\n",
       "      <td>NaN</td>\n",
       "      <td>NaN</td>\n",
       "      <td>NaN</td>\n",
       "    </tr>\n",
       "    <tr>\n",
       "      <th>1</th>\n",
       "      <td>2018</td>\n",
       "      <td>3</td>\n",
       "      <td>9</td>\n",
       "      <td>9</td>\n",
       "      <td>7</td>\n",
       "      <td>2018-09-09</td>\n",
       "      <td>9E</td>\n",
       "      <td>20363</td>\n",
       "      <td>9E</td>\n",
       "      <td>N315PQ</td>\n",
       "      <td>...</td>\n",
       "      <td>NaN</td>\n",
       "      <td>NaN</td>\n",
       "      <td>NaN</td>\n",
       "      <td>NaN</td>\n",
       "      <td>NaN</td>\n",
       "      <td>NaN</td>\n",
       "      <td>NaN</td>\n",
       "      <td>NaN</td>\n",
       "      <td>NaN</td>\n",
       "      <td>NaN</td>\n",
       "    </tr>\n",
       "    <tr>\n",
       "      <th>2</th>\n",
       "      <td>2018</td>\n",
       "      <td>3</td>\n",
       "      <td>9</td>\n",
       "      <td>10</td>\n",
       "      <td>1</td>\n",
       "      <td>2018-09-10</td>\n",
       "      <td>9E</td>\n",
       "      <td>20363</td>\n",
       "      <td>9E</td>\n",
       "      <td>N582CA</td>\n",
       "      <td>...</td>\n",
       "      <td>NaN</td>\n",
       "      <td>NaN</td>\n",
       "      <td>NaN</td>\n",
       "      <td>NaN</td>\n",
       "      <td>NaN</td>\n",
       "      <td>NaN</td>\n",
       "      <td>NaN</td>\n",
       "      <td>NaN</td>\n",
       "      <td>NaN</td>\n",
       "      <td>NaN</td>\n",
       "    </tr>\n",
       "    <tr>\n",
       "      <th>3</th>\n",
       "      <td>2018</td>\n",
       "      <td>3</td>\n",
       "      <td>9</td>\n",
       "      <td>13</td>\n",
       "      <td>4</td>\n",
       "      <td>2018-09-13</td>\n",
       "      <td>9E</td>\n",
       "      <td>20363</td>\n",
       "      <td>9E</td>\n",
       "      <td>N292PQ</td>\n",
       "      <td>...</td>\n",
       "      <td>NaN</td>\n",
       "      <td>NaN</td>\n",
       "      <td>NaN</td>\n",
       "      <td>NaN</td>\n",
       "      <td>NaN</td>\n",
       "      <td>NaN</td>\n",
       "      <td>NaN</td>\n",
       "      <td>NaN</td>\n",
       "      <td>NaN</td>\n",
       "      <td>NaN</td>\n",
       "    </tr>\n",
       "    <tr>\n",
       "      <th>4</th>\n",
       "      <td>2018</td>\n",
       "      <td>3</td>\n",
       "      <td>9</td>\n",
       "      <td>14</td>\n",
       "      <td>5</td>\n",
       "      <td>2018-09-14</td>\n",
       "      <td>9E</td>\n",
       "      <td>20363</td>\n",
       "      <td>9E</td>\n",
       "      <td>N600LR</td>\n",
       "      <td>...</td>\n",
       "      <td>NaN</td>\n",
       "      <td>NaN</td>\n",
       "      <td>NaN</td>\n",
       "      <td>NaN</td>\n",
       "      <td>NaN</td>\n",
       "      <td>NaN</td>\n",
       "      <td>NaN</td>\n",
       "      <td>NaN</td>\n",
       "      <td>NaN</td>\n",
       "      <td>NaN</td>\n",
       "    </tr>\n",
       "  </tbody>\n",
       "</table>\n",
       "<p>5 rows × 110 columns</p>\n",
       "</div>"
      ],
      "text/plain": [
       "   Year  Quarter  Month  DayofMonth  DayOfWeek  FlightDate Reporting_Airline  \\\n",
       "0  2018        3      9           3          1  2018-09-03                9E   \n",
       "1  2018        3      9           9          7  2018-09-09                9E   \n",
       "2  2018        3      9          10          1  2018-09-10                9E   \n",
       "3  2018        3      9          13          4  2018-09-13                9E   \n",
       "4  2018        3      9          14          5  2018-09-14                9E   \n",
       "\n",
       "   DOT_ID_Reporting_Airline IATA_CODE_Reporting_Airline Tail_Number  ...  \\\n",
       "0                     20363                          9E      N908XJ  ...   \n",
       "1                     20363                          9E      N315PQ  ...   \n",
       "2                     20363                          9E      N582CA  ...   \n",
       "3                     20363                          9E      N292PQ  ...   \n",
       "4                     20363                          9E      N600LR  ...   \n",
       "\n",
       "   Div4TailNum  Div5Airport  Div5AirportID  Div5AirportSeqID Div5WheelsOn  \\\n",
       "0          NaN          NaN            NaN               NaN          NaN   \n",
       "1          NaN          NaN            NaN               NaN          NaN   \n",
       "2          NaN          NaN            NaN               NaN          NaN   \n",
       "3          NaN          NaN            NaN               NaN          NaN   \n",
       "4          NaN          NaN            NaN               NaN          NaN   \n",
       "\n",
       "  Div5TotalGTime Div5LongestGTime  Div5WheelsOff Div5TailNum  Unnamed: 109  \n",
       "0            NaN              NaN            NaN         NaN           NaN  \n",
       "1            NaN              NaN            NaN         NaN           NaN  \n",
       "2            NaN              NaN            NaN         NaN           NaN  \n",
       "3            NaN              NaN            NaN         NaN           NaN  \n",
       "4            NaN              NaN            NaN         NaN           NaN  \n",
       "\n",
       "[5 rows x 110 columns]"
      ]
     },
     "execution_count": 7,
     "metadata": {},
     "output_type": "execute_result"
    }
   ],
   "source": [
    "df_temp = pd.read_csv(f\"{csv_base_path}On_Time_Reporting_Carrier_On_Time_Performance_(1987_present)_2018_9.csv\")\n",
    "df_temp.head()"
   ]
  },
  {
   "cell_type": "markdown",
   "metadata": {},
   "source": [
    "**Question**: Print the row and column length in the dataset, and print the column names.\n",
    "\n",
    "**Hint**: To view the rows and columns of a DataFrame, use the `<DataFrame>.shape` function. To view the column names, use the `<DataFrame>.columns` function."
   ]
  },
  {
   "cell_type": "code",
   "execution_count": 8,
   "metadata": {},
   "outputs": [
    {
     "name": "stdout",
     "output_type": "stream",
     "text": [
      "Rows and columns in one CSV file is (585749, 110)\n"
     ]
    }
   ],
   "source": [
    "df_shape = df_temp.shape\n",
    "print(f'Rows and columns in one CSV file is {df_shape}')"
   ]
  },
  {
   "cell_type": "markdown",
   "metadata": {},
   "source": [
    "**Question**: Print the first 10 rows of the dataset.  \n",
    "\n",
    "**Hint**: To print `x` number of rows, use the built-in `head(x)` function in pandas."
   ]
  },
  {
   "cell_type": "code",
   "execution_count": 9,
   "metadata": {},
   "outputs": [
    {
     "data": {
      "text/html": [
       "<div>\n",
       "<style scoped>\n",
       "    .dataframe tbody tr th:only-of-type {\n",
       "        vertical-align: middle;\n",
       "    }\n",
       "\n",
       "    .dataframe tbody tr th {\n",
       "        vertical-align: top;\n",
       "    }\n",
       "\n",
       "    .dataframe thead th {\n",
       "        text-align: right;\n",
       "    }\n",
       "</style>\n",
       "<table border=\"1\" class=\"dataframe\">\n",
       "  <thead>\n",
       "    <tr style=\"text-align: right;\">\n",
       "      <th></th>\n",
       "      <th>Year</th>\n",
       "      <th>Quarter</th>\n",
       "      <th>Month</th>\n",
       "      <th>DayofMonth</th>\n",
       "      <th>DayOfWeek</th>\n",
       "      <th>FlightDate</th>\n",
       "      <th>Reporting_Airline</th>\n",
       "      <th>DOT_ID_Reporting_Airline</th>\n",
       "      <th>IATA_CODE_Reporting_Airline</th>\n",
       "      <th>Tail_Number</th>\n",
       "      <th>...</th>\n",
       "      <th>Div4TailNum</th>\n",
       "      <th>Div5Airport</th>\n",
       "      <th>Div5AirportID</th>\n",
       "      <th>Div5AirportSeqID</th>\n",
       "      <th>Div5WheelsOn</th>\n",
       "      <th>Div5TotalGTime</th>\n",
       "      <th>Div5LongestGTime</th>\n",
       "      <th>Div5WheelsOff</th>\n",
       "      <th>Div5TailNum</th>\n",
       "      <th>Unnamed: 109</th>\n",
       "    </tr>\n",
       "  </thead>\n",
       "  <tbody>\n",
       "    <tr>\n",
       "      <th>0</th>\n",
       "      <td>2018</td>\n",
       "      <td>3</td>\n",
       "      <td>9</td>\n",
       "      <td>3</td>\n",
       "      <td>1</td>\n",
       "      <td>2018-09-03</td>\n",
       "      <td>9E</td>\n",
       "      <td>20363</td>\n",
       "      <td>9E</td>\n",
       "      <td>N908XJ</td>\n",
       "      <td>...</td>\n",
       "      <td>NaN</td>\n",
       "      <td>NaN</td>\n",
       "      <td>NaN</td>\n",
       "      <td>NaN</td>\n",
       "      <td>NaN</td>\n",
       "      <td>NaN</td>\n",
       "      <td>NaN</td>\n",
       "      <td>NaN</td>\n",
       "      <td>NaN</td>\n",
       "      <td>NaN</td>\n",
       "    </tr>\n",
       "    <tr>\n",
       "      <th>1</th>\n",
       "      <td>2018</td>\n",
       "      <td>3</td>\n",
       "      <td>9</td>\n",
       "      <td>9</td>\n",
       "      <td>7</td>\n",
       "      <td>2018-09-09</td>\n",
       "      <td>9E</td>\n",
       "      <td>20363</td>\n",
       "      <td>9E</td>\n",
       "      <td>N315PQ</td>\n",
       "      <td>...</td>\n",
       "      <td>NaN</td>\n",
       "      <td>NaN</td>\n",
       "      <td>NaN</td>\n",
       "      <td>NaN</td>\n",
       "      <td>NaN</td>\n",
       "      <td>NaN</td>\n",
       "      <td>NaN</td>\n",
       "      <td>NaN</td>\n",
       "      <td>NaN</td>\n",
       "      <td>NaN</td>\n",
       "    </tr>\n",
       "    <tr>\n",
       "      <th>2</th>\n",
       "      <td>2018</td>\n",
       "      <td>3</td>\n",
       "      <td>9</td>\n",
       "      <td>10</td>\n",
       "      <td>1</td>\n",
       "      <td>2018-09-10</td>\n",
       "      <td>9E</td>\n",
       "      <td>20363</td>\n",
       "      <td>9E</td>\n",
       "      <td>N582CA</td>\n",
       "      <td>...</td>\n",
       "      <td>NaN</td>\n",
       "      <td>NaN</td>\n",
       "      <td>NaN</td>\n",
       "      <td>NaN</td>\n",
       "      <td>NaN</td>\n",
       "      <td>NaN</td>\n",
       "      <td>NaN</td>\n",
       "      <td>NaN</td>\n",
       "      <td>NaN</td>\n",
       "      <td>NaN</td>\n",
       "    </tr>\n",
       "    <tr>\n",
       "      <th>3</th>\n",
       "      <td>2018</td>\n",
       "      <td>3</td>\n",
       "      <td>9</td>\n",
       "      <td>13</td>\n",
       "      <td>4</td>\n",
       "      <td>2018-09-13</td>\n",
       "      <td>9E</td>\n",
       "      <td>20363</td>\n",
       "      <td>9E</td>\n",
       "      <td>N292PQ</td>\n",
       "      <td>...</td>\n",
       "      <td>NaN</td>\n",
       "      <td>NaN</td>\n",
       "      <td>NaN</td>\n",
       "      <td>NaN</td>\n",
       "      <td>NaN</td>\n",
       "      <td>NaN</td>\n",
       "      <td>NaN</td>\n",
       "      <td>NaN</td>\n",
       "      <td>NaN</td>\n",
       "      <td>NaN</td>\n",
       "    </tr>\n",
       "    <tr>\n",
       "      <th>4</th>\n",
       "      <td>2018</td>\n",
       "      <td>3</td>\n",
       "      <td>9</td>\n",
       "      <td>14</td>\n",
       "      <td>5</td>\n",
       "      <td>2018-09-14</td>\n",
       "      <td>9E</td>\n",
       "      <td>20363</td>\n",
       "      <td>9E</td>\n",
       "      <td>N600LR</td>\n",
       "      <td>...</td>\n",
       "      <td>NaN</td>\n",
       "      <td>NaN</td>\n",
       "      <td>NaN</td>\n",
       "      <td>NaN</td>\n",
       "      <td>NaN</td>\n",
       "      <td>NaN</td>\n",
       "      <td>NaN</td>\n",
       "      <td>NaN</td>\n",
       "      <td>NaN</td>\n",
       "      <td>NaN</td>\n",
       "    </tr>\n",
       "    <tr>\n",
       "      <th>5</th>\n",
       "      <td>2018</td>\n",
       "      <td>3</td>\n",
       "      <td>9</td>\n",
       "      <td>16</td>\n",
       "      <td>7</td>\n",
       "      <td>2018-09-16</td>\n",
       "      <td>9E</td>\n",
       "      <td>20363</td>\n",
       "      <td>9E</td>\n",
       "      <td>N316PQ</td>\n",
       "      <td>...</td>\n",
       "      <td>NaN</td>\n",
       "      <td>NaN</td>\n",
       "      <td>NaN</td>\n",
       "      <td>NaN</td>\n",
       "      <td>NaN</td>\n",
       "      <td>NaN</td>\n",
       "      <td>NaN</td>\n",
       "      <td>NaN</td>\n",
       "      <td>NaN</td>\n",
       "      <td>NaN</td>\n",
       "    </tr>\n",
       "    <tr>\n",
       "      <th>6</th>\n",
       "      <td>2018</td>\n",
       "      <td>3</td>\n",
       "      <td>9</td>\n",
       "      <td>17</td>\n",
       "      <td>1</td>\n",
       "      <td>2018-09-17</td>\n",
       "      <td>9E</td>\n",
       "      <td>20363</td>\n",
       "      <td>9E</td>\n",
       "      <td>N916XJ</td>\n",
       "      <td>...</td>\n",
       "      <td>NaN</td>\n",
       "      <td>NaN</td>\n",
       "      <td>NaN</td>\n",
       "      <td>NaN</td>\n",
       "      <td>NaN</td>\n",
       "      <td>NaN</td>\n",
       "      <td>NaN</td>\n",
       "      <td>NaN</td>\n",
       "      <td>NaN</td>\n",
       "      <td>NaN</td>\n",
       "    </tr>\n",
       "    <tr>\n",
       "      <th>7</th>\n",
       "      <td>2018</td>\n",
       "      <td>3</td>\n",
       "      <td>9</td>\n",
       "      <td>20</td>\n",
       "      <td>4</td>\n",
       "      <td>2018-09-20</td>\n",
       "      <td>9E</td>\n",
       "      <td>20363</td>\n",
       "      <td>9E</td>\n",
       "      <td>N371CA</td>\n",
       "      <td>...</td>\n",
       "      <td>NaN</td>\n",
       "      <td>NaN</td>\n",
       "      <td>NaN</td>\n",
       "      <td>NaN</td>\n",
       "      <td>NaN</td>\n",
       "      <td>NaN</td>\n",
       "      <td>NaN</td>\n",
       "      <td>NaN</td>\n",
       "      <td>NaN</td>\n",
       "      <td>NaN</td>\n",
       "    </tr>\n",
       "    <tr>\n",
       "      <th>8</th>\n",
       "      <td>2018</td>\n",
       "      <td>3</td>\n",
       "      <td>9</td>\n",
       "      <td>21</td>\n",
       "      <td>5</td>\n",
       "      <td>2018-09-21</td>\n",
       "      <td>9E</td>\n",
       "      <td>20363</td>\n",
       "      <td>9E</td>\n",
       "      <td>N601LR</td>\n",
       "      <td>...</td>\n",
       "      <td>NaN</td>\n",
       "      <td>NaN</td>\n",
       "      <td>NaN</td>\n",
       "      <td>NaN</td>\n",
       "      <td>NaN</td>\n",
       "      <td>NaN</td>\n",
       "      <td>NaN</td>\n",
       "      <td>NaN</td>\n",
       "      <td>NaN</td>\n",
       "      <td>NaN</td>\n",
       "    </tr>\n",
       "    <tr>\n",
       "      <th>9</th>\n",
       "      <td>2018</td>\n",
       "      <td>3</td>\n",
       "      <td>9</td>\n",
       "      <td>23</td>\n",
       "      <td>7</td>\n",
       "      <td>2018-09-23</td>\n",
       "      <td>9E</td>\n",
       "      <td>20363</td>\n",
       "      <td>9E</td>\n",
       "      <td>N906XJ</td>\n",
       "      <td>...</td>\n",
       "      <td>NaN</td>\n",
       "      <td>NaN</td>\n",
       "      <td>NaN</td>\n",
       "      <td>NaN</td>\n",
       "      <td>NaN</td>\n",
       "      <td>NaN</td>\n",
       "      <td>NaN</td>\n",
       "      <td>NaN</td>\n",
       "      <td>NaN</td>\n",
       "      <td>NaN</td>\n",
       "    </tr>\n",
       "  </tbody>\n",
       "</table>\n",
       "<p>10 rows × 110 columns</p>\n",
       "</div>"
      ],
      "text/plain": [
       "   Year  Quarter  Month  DayofMonth  DayOfWeek  FlightDate Reporting_Airline  \\\n",
       "0  2018        3      9           3          1  2018-09-03                9E   \n",
       "1  2018        3      9           9          7  2018-09-09                9E   \n",
       "2  2018        3      9          10          1  2018-09-10                9E   \n",
       "3  2018        3      9          13          4  2018-09-13                9E   \n",
       "4  2018        3      9          14          5  2018-09-14                9E   \n",
       "5  2018        3      9          16          7  2018-09-16                9E   \n",
       "6  2018        3      9          17          1  2018-09-17                9E   \n",
       "7  2018        3      9          20          4  2018-09-20                9E   \n",
       "8  2018        3      9          21          5  2018-09-21                9E   \n",
       "9  2018        3      9          23          7  2018-09-23                9E   \n",
       "\n",
       "   DOT_ID_Reporting_Airline IATA_CODE_Reporting_Airline Tail_Number  ...  \\\n",
       "0                     20363                          9E      N908XJ  ...   \n",
       "1                     20363                          9E      N315PQ  ...   \n",
       "2                     20363                          9E      N582CA  ...   \n",
       "3                     20363                          9E      N292PQ  ...   \n",
       "4                     20363                          9E      N600LR  ...   \n",
       "5                     20363                          9E      N316PQ  ...   \n",
       "6                     20363                          9E      N916XJ  ...   \n",
       "7                     20363                          9E      N371CA  ...   \n",
       "8                     20363                          9E      N601LR  ...   \n",
       "9                     20363                          9E      N906XJ  ...   \n",
       "\n",
       "   Div4TailNum  Div5Airport  Div5AirportID  Div5AirportSeqID Div5WheelsOn  \\\n",
       "0          NaN          NaN            NaN               NaN          NaN   \n",
       "1          NaN          NaN            NaN               NaN          NaN   \n",
       "2          NaN          NaN            NaN               NaN          NaN   \n",
       "3          NaN          NaN            NaN               NaN          NaN   \n",
       "4          NaN          NaN            NaN               NaN          NaN   \n",
       "5          NaN          NaN            NaN               NaN          NaN   \n",
       "6          NaN          NaN            NaN               NaN          NaN   \n",
       "7          NaN          NaN            NaN               NaN          NaN   \n",
       "8          NaN          NaN            NaN               NaN          NaN   \n",
       "9          NaN          NaN            NaN               NaN          NaN   \n",
       "\n",
       "  Div5TotalGTime Div5LongestGTime  Div5WheelsOff Div5TailNum  Unnamed: 109  \n",
       "0            NaN              NaN            NaN         NaN           NaN  \n",
       "1            NaN              NaN            NaN         NaN           NaN  \n",
       "2            NaN              NaN            NaN         NaN           NaN  \n",
       "3            NaN              NaN            NaN         NaN           NaN  \n",
       "4            NaN              NaN            NaN         NaN           NaN  \n",
       "5            NaN              NaN            NaN         NaN           NaN  \n",
       "6            NaN              NaN            NaN         NaN           NaN  \n",
       "7            NaN              NaN            NaN         NaN           NaN  \n",
       "8            NaN              NaN            NaN         NaN           NaN  \n",
       "9            NaN              NaN            NaN         NaN           NaN  \n",
       "\n",
       "[10 rows x 110 columns]"
      ]
     },
     "execution_count": 9,
     "metadata": {},
     "output_type": "execute_result"
    }
   ],
   "source": [
    "# Enter your code here\n",
    "df_temp.head(10)"
   ]
  },
  {
   "cell_type": "markdown",
   "metadata": {},
   "source": [
    "**Question**: Print all the columns in the dataset. To view the column names, use `<DataFrame>.columns`."
   ]
  },
  {
   "cell_type": "code",
   "execution_count": 10,
   "metadata": {},
   "outputs": [
    {
     "name": "stdout",
     "output_type": "stream",
     "text": [
      "The column names are :\n",
      "#########\n",
      "Year\n",
      "Quarter\n",
      "Month\n",
      "DayofMonth\n",
      "DayOfWeek\n",
      "FlightDate\n",
      "Reporting_Airline\n",
      "DOT_ID_Reporting_Airline\n",
      "IATA_CODE_Reporting_Airline\n",
      "Tail_Number\n",
      "Flight_Number_Reporting_Airline\n",
      "OriginAirportID\n",
      "OriginAirportSeqID\n",
      "OriginCityMarketID\n",
      "Origin\n",
      "OriginCityName\n",
      "OriginState\n",
      "OriginStateFips\n",
      "OriginStateName\n",
      "OriginWac\n",
      "DestAirportID\n",
      "DestAirportSeqID\n",
      "DestCityMarketID\n",
      "Dest\n",
      "DestCityName\n",
      "DestState\n",
      "DestStateFips\n",
      "DestStateName\n",
      "DestWac\n",
      "CRSDepTime\n",
      "DepTime\n",
      "DepDelay\n",
      "DepDelayMinutes\n",
      "DepDel15\n",
      "DepartureDelayGroups\n",
      "DepTimeBlk\n",
      "TaxiOut\n",
      "WheelsOff\n",
      "WheelsOn\n",
      "TaxiIn\n",
      "CRSArrTime\n",
      "ArrTime\n",
      "ArrDelay\n",
      "ArrDelayMinutes\n",
      "ArrDel15\n",
      "ArrivalDelayGroups\n",
      "ArrTimeBlk\n",
      "Cancelled\n",
      "CancellationCode\n",
      "Diverted\n",
      "CRSElapsedTime\n",
      "ActualElapsedTime\n",
      "AirTime\n",
      "Flights\n",
      "Distance\n",
      "DistanceGroup\n",
      "CarrierDelay\n",
      "WeatherDelay\n",
      "NASDelay\n",
      "SecurityDelay\n",
      "LateAircraftDelay\n",
      "FirstDepTime\n",
      "TotalAddGTime\n",
      "LongestAddGTime\n",
      "DivAirportLandings\n",
      "DivReachedDest\n",
      "DivActualElapsedTime\n",
      "DivArrDelay\n",
      "DivDistance\n",
      "Div1Airport\n",
      "Div1AirportID\n",
      "Div1AirportSeqID\n",
      "Div1WheelsOn\n",
      "Div1TotalGTime\n",
      "Div1LongestGTime\n",
      "Div1WheelsOff\n",
      "Div1TailNum\n",
      "Div2Airport\n",
      "Div2AirportID\n",
      "Div2AirportSeqID\n",
      "Div2WheelsOn\n",
      "Div2TotalGTime\n",
      "Div2LongestGTime\n",
      "Div2WheelsOff\n",
      "Div2TailNum\n",
      "Div3Airport\n",
      "Div3AirportID\n",
      "Div3AirportSeqID\n",
      "Div3WheelsOn\n",
      "Div3TotalGTime\n",
      "Div3LongestGTime\n",
      "Div3WheelsOff\n",
      "Div3TailNum\n",
      "Div4Airport\n",
      "Div4AirportID\n",
      "Div4AirportSeqID\n",
      "Div4WheelsOn\n",
      "Div4TotalGTime\n",
      "Div4LongestGTime\n",
      "Div4WheelsOff\n",
      "Div4TailNum\n",
      "Div5Airport\n",
      "Div5AirportID\n",
      "Div5AirportSeqID\n",
      "Div5WheelsOn\n",
      "Div5TotalGTime\n",
      "Div5LongestGTime\n",
      "Div5WheelsOff\n",
      "Div5TailNum\n",
      "Unnamed: 109\n"
     ]
    }
   ],
   "source": [
    "print(f'The column names are :')\n",
    "print('#########')\n",
    "for col in df_temp.columns:\n",
    "    print(col)"
   ]
  },
  {
   "cell_type": "markdown",
   "metadata": {},
   "source": [
    "**Question**: Print all the columns in the dataset that contain the word *Del*. This will help you see how many columns have *delay data* in them.\n",
    "\n",
    "**Hint**: To include values that pass certain `if` statement criteria, you can use a Python list comprehension.\n",
    "\n",
    "For example: `[x for x in [1,2,3,4,5] if x > 2]`  \n",
    "\n",
    "**Hint**: To check if the value is in a list, you can use the `in` keyword ([Python in Keyword documentation](https://www.w3schools.com/python/ref_keyword_in.asp)). \n",
    "\n",
    "For example: `5 in [1,2,3,4,5]`"
   ]
  },
  {
   "cell_type": "code",
   "execution_count": 11,
   "metadata": {},
   "outputs": [
    {
     "name": "stdout",
     "output_type": "stream",
     "text": [
      "DepDelay\n",
      "DepDelayMinutes\n",
      "DepDel15\n",
      "DepartureDelayGroups\n",
      "ArrDelay\n",
      "ArrDelayMinutes\n",
      "ArrDel15\n",
      "ArrivalDelayGroups\n",
      "CarrierDelay\n",
      "WeatherDelay\n",
      "NASDelay\n",
      "SecurityDelay\n",
      "LateAircraftDelay\n",
      "DivArrDelay\n"
     ]
    }
   ],
   "source": [
    "# Enter your code here\n",
    "for col in df_temp.columns:\n",
    "    if 'Del' in col:\n",
    "        print(col)"
   ]
  },
  {
   "cell_type": "markdown",
   "metadata": {},
   "source": [
    "Here are some more questions to help you learn more about your dataset.\n",
    "\n",
    "**Questions**   \n",
    "\n",
    "1. How many rows and columns does the dataset have?   \n",
    "2. How many years are included in the dataset?   \n",
    "3. What is the date range for the dataset?   \n",
    "4. Which airlines are included in the dataset?   \n",
    "5. Which origin and destination airports are covered?\n",
    "\n",
    "**Hints**\n",
    "- To show the dimensions of the DataFrame, use `df_temp.shape`.\n",
    "- To refer to a specific column, use `df_temp.columnName` (for example, `df_temp.CarrierDelay`).\n",
    "- To get unique values for a column, use `df_temp.column.unique()` (for, example `df_temp.Year.unique()`)."
   ]
  },
  {
   "cell_type": "code",
   "execution_count": 12,
   "metadata": {},
   "outputs": [
    {
     "name": "stdout",
     "output_type": "stream",
     "text": [
      "The #rows and #columns are  585749  and  110\n",
      "The years in this dataset are:  [2018]\n",
      "The months covered in this dataset are:  [9]\n",
      "The date range for data is : 2018  to  2018\n",
      "The airlines covered in this dataset are:  ['9E', 'B6', 'WN', 'YV', 'YX', 'EV', 'AA', 'AS', 'DL', 'HA', 'UA', 'F9', 'G4', 'MQ', 'NK', 'OH', 'OO']\n",
      "The Origin airports covered are:  ['DFW', 'LGA', 'MSN', 'MSP', 'ATL', 'BDL', 'VLD', 'JFK', 'RDU', 'CHS', 'DTW', 'GRB', 'PVD', 'SHV', 'FNT', 'PIT', 'RIC', 'RST', 'RSW', 'CVG', 'LIT', 'ORD', 'JAX', 'TRI', 'BOS', 'CWA', 'DCA', 'CHO', 'AVP', 'IND', 'GRR', 'BTR', 'MEM', 'TUL', 'CLE', 'STL', 'BTV', 'OMA', 'MGM', 'TVC', 'SAV', 'GSP', 'EWR', 'OAJ', 'BNA', 'MCI', 'TLH', 'ROC', 'LEX', 'PWM', 'BUF', 'AGS', 'CLT', 'GSO', 'BWI', 'SAT', 'PHL', 'TYS', 'ACK', 'DSM', 'GNV', 'AVL', 'BGR', 'MHT', 'ILM', 'MOT', 'IAH', 'SBN', 'SYR', 'ORF', 'MKE', 'XNA', 'MSY', 'PBI', 'ABE', 'HPN', 'EVV', 'ALB', 'LNK', 'AUS', 'PHF', 'CHA', 'GTR', 'BMI', 'BQK', 'CID', 'CAK', 'ATW', 'ABY', 'CAE', 'SRQ', 'MLI', 'BHM', 'IAD', 'CSG', 'CMH', 'MCO', 'MBS', 'FLL', 'SDF', 'TPA', 'MVY', 'LAS', 'LGB', 'SFO', 'SAN', 'LAX', 'RNO', 'PDX', 'ANC', 'ABQ', 'SLC', 'DEN', 'PHX', 'OAK', 'SMF', 'SJU', 'SEA', 'HOU', 'STX', 'BUR', 'SWF', 'SJC', 'DAB', 'BQN', 'PSE', 'ORH', 'HYA', 'STT', 'ONT', 'HRL', 'ICT', 'ISP', 'LBB', 'MAF', 'MDW', 'OKC', 'PNS', 'SNA', 'TUS', 'AMA', 'BOI', 'CRP', 'DAL', 'ECP', 'ELP', 'GEG', 'LFT', 'MFE', 'MDT', 'JAN', 'COS', 'MOB', 'VPS', 'MTJ', 'DRO', 'GPT', 'BFL', 'MRY', 'SBA', 'PSP', 'FSD', 'BRO', 'RAP', 'COU', 'STS', 'PIA', 'FAT', 'SBP', 'FSM', 'HSV', 'BIS', 'DAY', 'BZN', 'MIA', 'EYW', 'MYR', 'HHH', 'GJT', 'FAR', 'SGF', 'HOB', 'CLL', 'LRD', 'AEX', 'ERI', 'MLU', 'LCH', 'ROA', 'LAW', 'MHK', 'GRK', 'SAF', 'GRI', 'JLN', 'ROW', 'FWA', 'CRW', 'LAN', 'OGG', 'HNL', 'KOA', 'EGE', 'LIH', 'MLB', 'JAC', 'FAI', 'RDM', 'ADQ', 'BET', 'BRW', 'SCC', 'KTN', 'YAK', 'CDV', 'JNU', 'SIT', 'PSG', 'WRG', 'OME', 'OTZ', 'ADK', 'FCA', 'FAY', 'PSC', 'BIL', 'MSO', 'ITO', 'PPG', 'MFR', 'EUG', 'GUM', 'SPN', 'DLH', 'TTN', 'BKG', 'SFB', 'PIE', 'PGD', 'AZA', 'SMX', 'RFD', 'SCK', 'OWB', 'HTS', 'BLV', 'IAG', 'USA', 'GFK', 'BLI', 'ELM', 'PBG', 'LCK', 'GTF', 'OGD', 'IDA', 'PVU', 'TOL', 'PSM', 'CKB', 'HGR', 'SPI', 'STC', 'ACT', 'TYR', 'ABI', 'AZO', 'CMI', 'BPT', 'GCK', 'MQT', 'ALO', 'TXK', 'SPS', 'SWO', 'DBQ', 'SUX', 'SJT', 'GGG', 'LSE', 'LBE', 'ACY', 'LYH', 'PGV', 'HVN', 'EWN', 'DHN', 'PIH', 'IMT', 'WYS', 'CPR', 'SCE', 'HLN', 'SUN', 'ISN', 'CMX', 'EAU', 'LWB', 'SHD', 'LBF', 'HYS', 'SLN', 'EAR', 'VEL', 'CNY', 'GCC', 'RKS', 'PUB', 'LBL', 'MKG', 'PAH', 'CGI', 'UIN', 'BFF', 'DVL', 'JMS', 'LAR', 'SGU', 'PRC', 'ASE', 'RDD', 'ACV', 'OTH', 'COD', 'LWS', 'ABR', 'APN', 'ESC', 'PLN', 'BJI', 'BRD', 'BTM', 'CDC', 'CIU', 'EKO', 'TWF', 'HIB', 'BGM', 'RHI', 'ITH', 'INL', 'FLG', 'YUM', 'MEI', 'PIB', 'HDN']\n",
      "The Destinirloition airports covered are:  ['CVG', 'PWM', 'RDU', 'MSP', 'MSN', 'SHV', 'CLT', 'PIT', 'RIC', 'IAH', 'ATL', 'JFK', 'DCA', 'DTW', 'LGA', 'TYS', 'PVD', 'FNT', 'LIT', 'BUF', 'ORD', 'TRI', 'IND', 'BGR', 'AVP', 'BWI', 'LEX', 'BDL', 'GRR', 'CWA', 'TUL', 'MEM', 'AGS', 'EWR', 'MGM', 'PHL', 'SYR', 'OMA', 'STL', 'TVC', 'ORF', 'CLE', 'ABY', 'BOS', 'OAJ', 'TLH', 'BTR', 'SAT', 'JAX', 'BNA', 'CHO', 'VLD', 'ROC', 'DFW', 'GNV', 'ACK', 'PBI', 'CHS', 'GRB', 'MOT', 'MKE', 'DSM', 'ILM', 'GSO', 'MCI', 'SBN', 'BTV', 'MVY', 'XNA', 'RST', 'EVV', 'HPN', 'RSW', 'MDT', 'ROA', 'GSP', 'MCO', 'CSG', 'SAV', 'PHF', 'ALB', 'CHA', 'ABE', 'BMI', 'MSY', 'IAD', 'GTR', 'CID', 'CAK', 'ATW', 'AUS', 'BQK', 'MLI', 'CAE', 'CMH', 'AVL', 'MBS', 'FLL', 'SDF', 'TPA', 'LNK', 'SRQ', 'MHT', 'BHM', 'LAS', 'SFO', 'SAN', 'RNO', 'LGB', 'ANC', 'PDX', 'SJU', 'ABQ', 'SLC', 'DEN', 'LAX', 'PHX', 'OAK', 'SMF', 'SEA', 'STX', 'BUR', 'DAB', 'SJC', 'SWF', 'HOU', 'BQN', 'PSE', 'ORH', 'HYA', 'STT', 'ONT', 'DAL', 'ECP', 'ELP', 'HRL', 'MAF', 'MDW', 'OKC', 'PNS', 'SNA', 'AMA', 'BOI', 'GEG', 'ICT', 'LBB', 'TUS', 'ISP', 'CRP', 'MFE', 'LFT', 'VPS', 'JAN', 'COS', 'MOB', 'DRO', 'GPT', 'BFL', 'COU', 'SBP', 'MTJ', 'SBA', 'PSP', 'FSD', 'FSM', 'BRO', 'PIA', 'STS', 'FAT', 'RAP', 'MRY', 'HSV', 'BIS', 'DAY', 'BZN', 'MIA', 'EYW', 'MYR', 'HHH', 'GJT', 'FAR', 'MLU', 'LRD', 'CLL', 'LCH', 'FWA', 'GRK', 'SGF', 'HOB', 'LAW', 'MHK', 'SAF', 'JLN', 'ROW', 'GRI', 'AEX', 'CRW', 'LAN', 'ERI', 'HNL', 'KOA', 'OGG', 'EGE', 'LIH', 'JAC', 'MLB', 'RDM', 'BET', 'ADQ', 'BRW', 'SCC', 'FAI', 'JNU', 'CDV', 'YAK', 'SIT', 'KTN', 'WRG', 'PSG', 'OME', 'OTZ', 'ADK', 'FCA', 'BIL', 'PSC', 'FAY', 'MSO', 'ITO', 'PPG', 'MFR', 'DLH', 'EUG', 'GUM', 'SPN', 'TTN', 'BKG', 'AZA', 'SFB', 'LCK', 'BLI', 'SCK', 'PIE', 'RFD', 'PVU', 'PBG', 'BLV', 'PGD', 'SPI', 'USA', 'TOL', 'IDA', 'ELM', 'HTS', 'HGR', 'SMX', 'OGD', 'GFK', 'STC', 'GTF', 'IAG', 'CKB', 'OWB', 'PSM', 'ABI', 'TYR', 'ALO', 'SUX', 'AZO', 'ACT', 'CMI', 'BPT', 'TXK', 'SWO', 'SPS', 'DBQ', 'SJT', 'GGG', 'LSE', 'MQT', 'GCK', 'LBE', 'ACY', 'LYH', 'PGV', 'HVN', 'EWN', 'DHN', 'PIH', 'WYS', 'SCE', 'IMT', 'HLN', 'ASE', 'SUN', 'ISN', 'EAR', 'SGU', 'VEL', 'SHD', 'LWB', 'MKG', 'SLN', 'HYS', 'BFF', 'PUB', 'LBL', 'CMX', 'EAU', 'PAH', 'UIN', 'RKS', 'CGI', 'CNY', 'JMS', 'DVL', 'LAR', 'GCC', 'LBF', 'PRC', 'RDD', 'ACV', 'OTH', 'COD', 'LWS', 'ABR', 'APN', 'PLN', 'BJI', 'CPR', 'BRD', 'BTM', 'CDC', 'CIU', 'ESC', 'EKO', 'ITH', 'HIB', 'BGM', 'TWF', 'RHI', 'INL', 'FLG', 'YUM', 'MEI', 'PIB', 'HDN']\n"
     ]
    }
   ],
   "source": [
    "print(\"The #rows and #columns are \", len(df_temp) , \" and \", len(df_temp.columns)) # df_temp.shape[0/1]\n",
    "print(\"The years in this dataset are: \", list(df_temp[\"Year\"].unique()))\n",
    "print(\"The months covered in this dataset are: \", df_temp[\"Month\"].unique())\n",
    "print(\"The date range for data is :\" , min(df_temp[\"Year\"]), \" to \", max(df_temp[\"Year\"]))\n",
    "print(\"The airlines covered in this dataset are: \", list(df_temp[\"Reporting_Airline\"].unique()))\n",
    "print(\"The Origin airports covered are: \", list(df_temp[\"Origin\"].unique()))\n",
    "print(\"The Destinirloition airports covered are: \", list(df_temp[\"Dest\"].unique()))"
   ]
  },
  {
   "cell_type": "markdown",
   "metadata": {},
   "source": [
    "**Question**: What is the count of all the origin and destination airports?\n",
    "\n",
    "**Hint**: To find the values for each airport by using the **Origin** and **Dest** columns, you can use the `values_count` function in pandas ([pandas.Series.value_counts documentation](https://pandas.pydata.org/pandas-docs/stable/reference/api/pandas.Series.value_counts.html))."
   ]
  },
  {
   "cell_type": "code",
   "execution_count": 13,
   "metadata": {},
   "outputs": [
    {
     "data": {
      "text/html": [
       "<div>\n",
       "<style scoped>\n",
       "    .dataframe tbody tr th:only-of-type {\n",
       "        vertical-align: middle;\n",
       "    }\n",
       "\n",
       "    .dataframe tbody tr th {\n",
       "        vertical-align: top;\n",
       "    }\n",
       "\n",
       "    .dataframe thead th {\n",
       "        text-align: right;\n",
       "    }\n",
       "</style>\n",
       "<table border=\"1\" class=\"dataframe\">\n",
       "  <thead>\n",
       "    <tr style=\"text-align: right;\">\n",
       "      <th></th>\n",
       "      <th>Origin</th>\n",
       "      <th>Destination</th>\n",
       "    </tr>\n",
       "  </thead>\n",
       "  <tbody>\n",
       "    <tr>\n",
       "      <th>ABE</th>\n",
       "      <td>303</td>\n",
       "      <td>303</td>\n",
       "    </tr>\n",
       "    <tr>\n",
       "      <th>ABI</th>\n",
       "      <td>169</td>\n",
       "      <td>169</td>\n",
       "    </tr>\n",
       "    <tr>\n",
       "      <th>ABQ</th>\n",
       "      <td>2077</td>\n",
       "      <td>2076</td>\n",
       "    </tr>\n",
       "    <tr>\n",
       "      <th>ABR</th>\n",
       "      <td>60</td>\n",
       "      <td>60</td>\n",
       "    </tr>\n",
       "    <tr>\n",
       "      <th>ABY</th>\n",
       "      <td>79</td>\n",
       "      <td>79</td>\n",
       "    </tr>\n",
       "    <tr>\n",
       "      <th>...</th>\n",
       "      <td>...</td>\n",
       "      <td>...</td>\n",
       "    </tr>\n",
       "    <tr>\n",
       "      <th>WRG</th>\n",
       "      <td>60</td>\n",
       "      <td>60</td>\n",
       "    </tr>\n",
       "    <tr>\n",
       "      <th>WYS</th>\n",
       "      <td>52</td>\n",
       "      <td>52</td>\n",
       "    </tr>\n",
       "    <tr>\n",
       "      <th>XNA</th>\n",
       "      <td>1004</td>\n",
       "      <td>1004</td>\n",
       "    </tr>\n",
       "    <tr>\n",
       "      <th>YAK</th>\n",
       "      <td>60</td>\n",
       "      <td>60</td>\n",
       "    </tr>\n",
       "    <tr>\n",
       "      <th>YUM</th>\n",
       "      <td>96</td>\n",
       "      <td>96</td>\n",
       "    </tr>\n",
       "  </tbody>\n",
       "</table>\n",
       "<p>346 rows × 2 columns</p>\n",
       "</div>"
      ],
      "text/plain": [
       "     Origin  Destination\n",
       "ABE     303          303\n",
       "ABI     169          169\n",
       "ABQ    2077         2076\n",
       "ABR      60           60\n",
       "ABY      79           79\n",
       "..      ...          ...\n",
       "WRG      60           60\n",
       "WYS      52           52\n",
       "XNA    1004         1004\n",
       "YAK      60           60\n",
       "YUM      96           96\n",
       "\n",
       "[346 rows x 2 columns]"
      ]
     },
     "execution_count": 13,
     "metadata": {},
     "output_type": "execute_result"
    }
   ],
   "source": [
    "counts = pd.DataFrame({'Origin':df_temp[\"Origin\"].value_counts(), 'Destination':df_temp[\"Dest\"].value_counts()})\n",
    "counts"
   ]
  },
  {
   "cell_type": "markdown",
   "metadata": {},
   "source": [
    "**Question**: Print the top 15 origin and destination airports based on number of flights in the dataset.\n",
    "\n",
    "**Hint**: You can use the `sort_values` function in pandas ([pandas.DataFrame.sort_values documentation](https://pandas.pydata.org/pandas-docs/stable/reference/api/pandas.DataFrame.sort_values.html))."
   ]
  },
  {
   "cell_type": "code",
   "execution_count": 14,
   "metadata": {},
   "outputs": [
    {
     "data": {
      "text/html": [
       "<div>\n",
       "<style scoped>\n",
       "    .dataframe tbody tr th:only-of-type {\n",
       "        vertical-align: middle;\n",
       "    }\n",
       "\n",
       "    .dataframe tbody tr th {\n",
       "        vertical-align: top;\n",
       "    }\n",
       "\n",
       "    .dataframe thead th {\n",
       "        text-align: right;\n",
       "    }\n",
       "</style>\n",
       "<table border=\"1\" class=\"dataframe\">\n",
       "  <thead>\n",
       "    <tr style=\"text-align: right;\">\n",
       "      <th></th>\n",
       "      <th>Origin</th>\n",
       "      <th>Destination</th>\n",
       "    </tr>\n",
       "  </thead>\n",
       "  <tbody>\n",
       "    <tr>\n",
       "      <th>ATL</th>\n",
       "      <td>31525</td>\n",
       "      <td>31521</td>\n",
       "    </tr>\n",
       "    <tr>\n",
       "      <th>ORD</th>\n",
       "      <td>28257</td>\n",
       "      <td>28250</td>\n",
       "    </tr>\n",
       "    <tr>\n",
       "      <th>DFW</th>\n",
       "      <td>22802</td>\n",
       "      <td>22795</td>\n",
       "    </tr>\n",
       "    <tr>\n",
       "      <th>DEN</th>\n",
       "      <td>19807</td>\n",
       "      <td>19807</td>\n",
       "    </tr>\n",
       "    <tr>\n",
       "      <th>CLT</th>\n",
       "      <td>19655</td>\n",
       "      <td>19654</td>\n",
       "    </tr>\n",
       "    <tr>\n",
       "      <th>LAX</th>\n",
       "      <td>17875</td>\n",
       "      <td>17873</td>\n",
       "    </tr>\n",
       "    <tr>\n",
       "      <th>SFO</th>\n",
       "      <td>14332</td>\n",
       "      <td>14348</td>\n",
       "    </tr>\n",
       "    <tr>\n",
       "      <th>IAH</th>\n",
       "      <td>14210</td>\n",
       "      <td>14203</td>\n",
       "    </tr>\n",
       "    <tr>\n",
       "      <th>LGA</th>\n",
       "      <td>13850</td>\n",
       "      <td>13850</td>\n",
       "    </tr>\n",
       "    <tr>\n",
       "      <th>MSP</th>\n",
       "      <td>13349</td>\n",
       "      <td>13347</td>\n",
       "    </tr>\n",
       "    <tr>\n",
       "      <th>LAS</th>\n",
       "      <td>13318</td>\n",
       "      <td>13322</td>\n",
       "    </tr>\n",
       "    <tr>\n",
       "      <th>PHX</th>\n",
       "      <td>13126</td>\n",
       "      <td>13128</td>\n",
       "    </tr>\n",
       "    <tr>\n",
       "      <th>DTW</th>\n",
       "      <td>12725</td>\n",
       "      <td>12724</td>\n",
       "    </tr>\n",
       "    <tr>\n",
       "      <th>BOS</th>\n",
       "      <td>12223</td>\n",
       "      <td>12227</td>\n",
       "    </tr>\n",
       "    <tr>\n",
       "      <th>SEA</th>\n",
       "      <td>11872</td>\n",
       "      <td>11877</td>\n",
       "    </tr>\n",
       "  </tbody>\n",
       "</table>\n",
       "</div>"
      ],
      "text/plain": [
       "     Origin  Destination\n",
       "ATL   31525        31521\n",
       "ORD   28257        28250\n",
       "DFW   22802        22795\n",
       "DEN   19807        19807\n",
       "CLT   19655        19654\n",
       "LAX   17875        17873\n",
       "SFO   14332        14348\n",
       "IAH   14210        14203\n",
       "LGA   13850        13850\n",
       "MSP   13349        13347\n",
       "LAS   13318        13322\n",
       "PHX   13126        13128\n",
       "DTW   12725        12724\n",
       "BOS   12223        12227\n",
       "SEA   11872        11877"
      ]
     },
     "execution_count": 14,
     "metadata": {},
     "output_type": "execute_result"
    }
   ],
   "source": [
    "counts.sort_values(by=[\"Origin\"], ascending=False).head(15) # Enter your code here"
   ]
  },
  {
   "cell_type": "code",
   "execution_count": 15,
   "metadata": {},
   "outputs": [
    {
     "data": {
      "text/plain": [
       "array([1.])"
      ]
     },
     "execution_count": 15,
     "metadata": {},
     "output_type": "execute_result"
    }
   ],
   "source": [
    "df_temp[\"Flights\"].unique()"
   ]
  },
  {
   "cell_type": "markdown",
   "metadata": {},
   "source": [
    "**Given all the information about a flight trip, can you predict if it would be delayed?**"
   ]
  },
  {
   "cell_type": "markdown",
   "metadata": {},
   "source": [
    "The **ArrDel15** column is an indicator variable that takes the value *1* when the delay is more than 15 minutes. Otherwise, it takes a value of *0*.\n",
    "\n",
    "You could use this as a target column for the classification problem."
   ]
  },
  {
   "cell_type": "markdown",
   "metadata": {},
   "source": [
    "Now, assume that you are traveling from San Francisco to Los Angeles on a work trip. You want to better manage your reservations in Los Angeles. Thus, want to have an idea of whether your flight will be delayed, given a set of features. How many features from this dataset would you need to know before your flight?\n",
    "\n",
    "Columns such as `DepDelay`, `ArrDelay`, `CarrierDelay`, `WeatherDelay`, `NASDelay`, `SecurityDelay`, `LateAircraftDelay`, and `DivArrDelay` contain information about a delay. But this delay could have occured at the origin or the destination. If there were a sudden weather delay 10 minutes before landing, this data wouldn't be helpful to managing your Los Angeles reservations.\n",
    "\n",
    "So to simplify the problem statement, consider the following columns to predict an arrival delay:<br>\n",
    "\n",
    "`Year`, `Quarter`, `Month`, `DayofMonth`, `DayOfWeek`, `FlightDate`, `Reporting_Airline`, `Origin`, `OriginState`, `Dest`, `DestState`, `CRSDepTime`, `DepDelayMinutes`, `DepartureDelayGroups`, `Cancelled`, `Diverted`, `Distance`, `DistanceGroup`, `ArrDelay`, `ArrDelayMinutes`, `ArrDel15`, `AirTime`\n",
    "\n",
    "You will also filter the source and destination airports to be:\n",
    "- Top airports: ATL, ORD, DFW, DEN, CLT, LAX, IAH, PHX, SFO\n",
    "- Top five airlines: UA, OO, WN, AA, DL\n",
    "\n",
    "This information should help reduce the size of data across the CSV files that will be combined."
   ]
  },
  {
   "cell_type": "markdown",
   "metadata": {},
   "source": [
    "#### Combine all CSV files\n",
    " \n",
    "First, create an empy DataFrame that you will use to copy your individual DataFrames from each file. Then, for each file in the `csv_files` list:\n",
    "\n",
    "1. Read the CSV file into a dataframe \n",
    "2. Filter the columns based on the `filter_cols` variable\n",
    "\n",
    "```\n",
    "        columns = ['col1', 'col2']\n",
    "        df_filter = df[columns]\n",
    "```\n",
    "\n",
    "3. Keep only the `subset_vals` in each of the `subset_cols`. To check if the `val` is in the DataFrame column, use the `isin` function in pandas ([pandas.DataFram.isin documentation](https://pandas.pydata.org/pandas-docs/stable/reference/api/pandas.DataFrame.isin.html)). Then, choose the rows that include it.\n",
    "\n",
    "```\n",
    "        df_eg[df_eg['col1'].isin('5')]\n",
    "```\n",
    "\n",
    "4. Concatenate the DataFrame with the empty DataFrame "
   ]
  },
  {
   "cell_type": "code",
   "execution_count": 16,
   "metadata": {},
   "outputs": [],
   "source": [
    "def combine_csv(csv_files, filter_cols, subset_cols, subset_vals, file_name):\n",
    "\n",
    "    \"\"\"\n",
    "    Combine csv files into one Data Frame\n",
    "    csv_files: list of csv file paths\n",
    "    filter_cols: list of columns to filter\n",
    "    subset_cols: list of columns to subset rows\n",
    "    subset_vals: list of list of values to subset rows\n",
    "    \"\"\"\n",
    "\n",
    "    df = pd.DataFrame()\n",
    "    \n",
    "    for file in csv_files:\n",
    "        df_temp = pd.read_csv(file) # Convert Each File into Dataframe\n",
    "        df_temp = df_temp[filter_cols] # Filter the Columns\n",
    "        for col, val in zip(subset_cols,subset_vals): # zip(subset_cols,subset_vals) - Combining Origin , Destination and Airlines with its Values\n",
    "            df_temp = df_temp[df_temp[col].isin(val)] # Filtering Only Top Origin and Destination Airports And Top 5 Airlines to Reduce Data\n",
    "        df = pd.concat([df, df_temp], axis=0) # Adding the Current Content with Previous File\n",
    "      \n",
    "    df.to_csv(file_name, index=False) # Convert into CSV File\n",
    "    print(f'Combined csv stored at {file_name}')"
   ]
  },
  {
   "cell_type": "code",
   "execution_count": 17,
   "metadata": {},
   "outputs": [],
   "source": [
    "#cols is the list of columns to predict Arrival Delay \n",
    "cols = ['Year','Quarter','Month','DayofMonth','DayOfWeek','FlightDate',\n",
    "        'Reporting_Airline','Origin','OriginState','Dest','DestState',\n",
    "        'CRSDepTime','Cancelled','Diverted','Distance','DistanceGroup',\n",
    "        'ArrDelay','ArrDelayMinutes','ArrDel15','AirTime']\n",
    "\n",
    "subset_cols = ['Origin', 'Dest', 'Reporting_Airline']\n",
    "\n",
    "# subset_vals is a list collection of the top origin and destination airports and top 5 airlines\n",
    "subset_vals = [['ATL', 'ORD', 'DFW', 'DEN', 'CLT', 'LAX', 'IAH', 'PHX', 'SFO'], \n",
    "               ['ATL', 'ORD', 'DFW', 'DEN', 'CLT', 'LAX', 'IAH', 'PHX', 'SFO'], \n",
    "               ['UA', 'OO', 'WN', 'AA', 'DL']]"
   ]
  },
  {
   "cell_type": "markdown",
   "metadata": {},
   "source": [
    "Use the previous function to merge all the different files into a single file that you can read easily. \n",
    "\n",
    "**Note**: This process will take 5-7 minutes to complete."
   ]
  },
  {
   "cell_type": "code",
   "execution_count": 18,
   "metadata": {},
   "outputs": [
    {
     "name": "stdout",
     "output_type": "stream",
     "text": [
      "Combined csv stored at /home/ec2-user/SageMaker/project/data/FlightDelays/combined_files.csv\n",
      "CSVs merged in 4.72 minutes\n"
     ]
    }
   ],
   "source": [
    "start = time.time()\n",
    "combined_csv_filename = f\"{base_path}combined_files.csv\" # Creating a New CSV Files for Storing Merged and Filtered Data\n",
    "combine_csv(csv_files, cols, subset_cols, subset_vals, combined_csv_filename)\n",
    "print(f'CSVs merged in {round((time.time() - start)/60,2)} minutes')"
   ]
  },
  {
   "cell_type": "markdown",
   "metadata": {},
   "source": [
    "#### Load the dataset\n",
    "\n",
    "Load the combined dataset."
   ]
  },
  {
   "cell_type": "code",
   "execution_count": 19,
   "metadata": {},
   "outputs": [],
   "source": [
    "data = pd.read_csv(combined_csv_filename)"
   ]
  },
  {
   "cell_type": "markdown",
   "metadata": {},
   "source": [
    "Print the first five records."
   ]
  },
  {
   "cell_type": "code",
   "execution_count": 20,
   "metadata": {},
   "outputs": [
    {
     "data": {
      "text/html": [
       "<div>\n",
       "<style scoped>\n",
       "    .dataframe tbody tr th:only-of-type {\n",
       "        vertical-align: middle;\n",
       "    }\n",
       "\n",
       "    .dataframe tbody tr th {\n",
       "        vertical-align: top;\n",
       "    }\n",
       "\n",
       "    .dataframe thead th {\n",
       "        text-align: right;\n",
       "    }\n",
       "</style>\n",
       "<table border=\"1\" class=\"dataframe\">\n",
       "  <thead>\n",
       "    <tr style=\"text-align: right;\">\n",
       "      <th></th>\n",
       "      <th>Year</th>\n",
       "      <th>Quarter</th>\n",
       "      <th>Month</th>\n",
       "      <th>DayofMonth</th>\n",
       "      <th>DayOfWeek</th>\n",
       "      <th>FlightDate</th>\n",
       "      <th>Reporting_Airline</th>\n",
       "      <th>Origin</th>\n",
       "      <th>OriginState</th>\n",
       "      <th>Dest</th>\n",
       "      <th>DestState</th>\n",
       "      <th>CRSDepTime</th>\n",
       "      <th>Cancelled</th>\n",
       "      <th>Diverted</th>\n",
       "      <th>Distance</th>\n",
       "      <th>DistanceGroup</th>\n",
       "      <th>ArrDelay</th>\n",
       "      <th>ArrDelayMinutes</th>\n",
       "      <th>ArrDel15</th>\n",
       "      <th>AirTime</th>\n",
       "    </tr>\n",
       "  </thead>\n",
       "  <tbody>\n",
       "    <tr>\n",
       "      <th>0</th>\n",
       "      <td>2016</td>\n",
       "      <td>1</td>\n",
       "      <td>3</td>\n",
       "      <td>2</td>\n",
       "      <td>3</td>\n",
       "      <td>2016-03-02</td>\n",
       "      <td>UA</td>\n",
       "      <td>IAH</td>\n",
       "      <td>TX</td>\n",
       "      <td>ORD</td>\n",
       "      <td>IL</td>\n",
       "      <td>2134</td>\n",
       "      <td>0.0</td>\n",
       "      <td>0.0</td>\n",
       "      <td>925.0</td>\n",
       "      <td>4</td>\n",
       "      <td>-21.0</td>\n",
       "      <td>0.0</td>\n",
       "      <td>0.0</td>\n",
       "      <td>115.0</td>\n",
       "    </tr>\n",
       "    <tr>\n",
       "      <th>1</th>\n",
       "      <td>2016</td>\n",
       "      <td>1</td>\n",
       "      <td>3</td>\n",
       "      <td>2</td>\n",
       "      <td>3</td>\n",
       "      <td>2016-03-02</td>\n",
       "      <td>UA</td>\n",
       "      <td>IAH</td>\n",
       "      <td>TX</td>\n",
       "      <td>ORD</td>\n",
       "      <td>IL</td>\n",
       "      <td>1445</td>\n",
       "      <td>0.0</td>\n",
       "      <td>0.0</td>\n",
       "      <td>925.0</td>\n",
       "      <td>4</td>\n",
       "      <td>-16.0</td>\n",
       "      <td>0.0</td>\n",
       "      <td>0.0</td>\n",
       "      <td>117.0</td>\n",
       "    </tr>\n",
       "    <tr>\n",
       "      <th>2</th>\n",
       "      <td>2016</td>\n",
       "      <td>1</td>\n",
       "      <td>3</td>\n",
       "      <td>2</td>\n",
       "      <td>3</td>\n",
       "      <td>2016-03-02</td>\n",
       "      <td>UA</td>\n",
       "      <td>IAH</td>\n",
       "      <td>TX</td>\n",
       "      <td>LAX</td>\n",
       "      <td>CA</td>\n",
       "      <td>1932</td>\n",
       "      <td>0.0</td>\n",
       "      <td>0.0</td>\n",
       "      <td>1379.0</td>\n",
       "      <td>6</td>\n",
       "      <td>-19.0</td>\n",
       "      <td>0.0</td>\n",
       "      <td>0.0</td>\n",
       "      <td>187.0</td>\n",
       "    </tr>\n",
       "    <tr>\n",
       "      <th>3</th>\n",
       "      <td>2016</td>\n",
       "      <td>1</td>\n",
       "      <td>3</td>\n",
       "      <td>2</td>\n",
       "      <td>3</td>\n",
       "      <td>2016-03-02</td>\n",
       "      <td>UA</td>\n",
       "      <td>PHX</td>\n",
       "      <td>AZ</td>\n",
       "      <td>IAH</td>\n",
       "      <td>TX</td>\n",
       "      <td>1440</td>\n",
       "      <td>0.0</td>\n",
       "      <td>0.0</td>\n",
       "      <td>1009.0</td>\n",
       "      <td>5</td>\n",
       "      <td>-2.0</td>\n",
       "      <td>0.0</td>\n",
       "      <td>0.0</td>\n",
       "      <td>124.0</td>\n",
       "    </tr>\n",
       "    <tr>\n",
       "      <th>4</th>\n",
       "      <td>2016</td>\n",
       "      <td>1</td>\n",
       "      <td>3</td>\n",
       "      <td>2</td>\n",
       "      <td>3</td>\n",
       "      <td>2016-03-02</td>\n",
       "      <td>UA</td>\n",
       "      <td>IAH</td>\n",
       "      <td>TX</td>\n",
       "      <td>PHX</td>\n",
       "      <td>AZ</td>\n",
       "      <td>1530</td>\n",
       "      <td>0.0</td>\n",
       "      <td>0.0</td>\n",
       "      <td>1009.0</td>\n",
       "      <td>5</td>\n",
       "      <td>-23.0</td>\n",
       "      <td>0.0</td>\n",
       "      <td>0.0</td>\n",
       "      <td>142.0</td>\n",
       "    </tr>\n",
       "  </tbody>\n",
       "</table>\n",
       "</div>"
      ],
      "text/plain": [
       "   Year  Quarter  Month  DayofMonth  DayOfWeek  FlightDate Reporting_Airline  \\\n",
       "0  2016        1      3           2          3  2016-03-02                UA   \n",
       "1  2016        1      3           2          3  2016-03-02                UA   \n",
       "2  2016        1      3           2          3  2016-03-02                UA   \n",
       "3  2016        1      3           2          3  2016-03-02                UA   \n",
       "4  2016        1      3           2          3  2016-03-02                UA   \n",
       "\n",
       "  Origin OriginState Dest DestState  CRSDepTime  Cancelled  Diverted  \\\n",
       "0    IAH          TX  ORD        IL        2134        0.0       0.0   \n",
       "1    IAH          TX  ORD        IL        1445        0.0       0.0   \n",
       "2    IAH          TX  LAX        CA        1932        0.0       0.0   \n",
       "3    PHX          AZ  IAH        TX        1440        0.0       0.0   \n",
       "4    IAH          TX  PHX        AZ        1530        0.0       0.0   \n",
       "\n",
       "   Distance  DistanceGroup  ArrDelay  ArrDelayMinutes  ArrDel15  AirTime  \n",
       "0     925.0              4     -21.0              0.0       0.0    115.0  \n",
       "1     925.0              4     -16.0              0.0       0.0    117.0  \n",
       "2    1379.0              6     -19.0              0.0       0.0    187.0  \n",
       "3    1009.0              5      -2.0              0.0       0.0    124.0  \n",
       "4    1009.0              5     -23.0              0.0       0.0    142.0  "
      ]
     },
     "execution_count": 20,
     "metadata": {},
     "output_type": "execute_result"
    }
   ],
   "source": [
    "# Enter your code here \n",
    "data.head()"
   ]
  },
  {
   "cell_type": "markdown",
   "metadata": {},
   "source": [
    "Here are some more questions to help you learn more about your dataset.\n",
    "\n",
    "**Questions**   \n",
    "\n",
    "1. How many rows and columns does the dataset have?   \n",
    "2. How many years are included in the dataset?   \n",
    "3. What is the date range for the dataset?   \n",
    "4. Which airlines are included in the dataset?   \n",
    "5. Which origin and destination airports are covered?"
   ]
  },
  {
   "cell_type": "code",
   "execution_count": 21,
   "metadata": {},
   "outputs": [
    {
     "name": "stdout",
     "output_type": "stream",
     "text": [
      "The #rows and #columns are  1658130  and  20\n",
      "The years in this dataset are:  [2016, 2018, 2017, 2015, 2014]\n",
      "The months covered in this dataset are:  [ 3  6  2  4  9  7  8  5 12 11 10  1]\n",
      "The date range for data is : 2014  to  2018\n",
      "The airlines covered in this dataset are:  ['UA', 'WN', 'AA', 'DL', 'OO']\n",
      "The Origin airports covered are:  ['IAH', 'PHX', 'LAX', 'DEN', 'SFO', 'ORD', 'DFW', 'ATL', 'CLT']\n",
      "The Destinirloition airports covered are:  ['ORD', 'LAX', 'IAH', 'PHX', 'SFO', 'ATL', 'DEN', 'DFW', 'CLT']\n"
     ]
    }
   ],
   "source": [
    "print(\"The #rows and #columns are \", len(data) , \" and \", len(data.columns)) # df_temp.shape[0/1]\n",
    "print(\"The years in this dataset are: \", list(data[\"Year\"].unique()))\n",
    "print(\"The months covered in this dataset are: \", data[\"Month\"].unique())\n",
    "print(\"The date range for data is :\" , min(data[\"Year\"]), \" to \", max(data[\"Year\"]))\n",
    "print(\"The airlines covered in this dataset are: \", list(data[\"Reporting_Airline\"].unique()))\n",
    "print(\"The Origin airports covered are: \", list(data[\"Origin\"].unique()))\n",
    "print(\"The Destinirloition airports covered are: \", list(data[\"Dest\"].unique()))"
   ]
  },
  {
   "cell_type": "markdown",
   "metadata": {},
   "source": [
    "Define your target column: **is_delay** (*1* means that the arrival time delayed more than 15 minutes, and *0* means all other cases). To rename the column from **ArrDel15** to *is_delay*, use the `rename` method .\n",
    "\n",
    "**Hint**: You can use the `rename` function in pandas ([pandas.DataFrame.rename documentation](https://pandas.pydata.org/pandas-docs/stable/reference/api/pandas.DataFrame.rename.html)).\n",
    "\n",
    "For example:\n",
    "```\n",
    "data.rename(columns={'col1':'column1'}, inplace=True)\n",
    "```"
   ]
  },
  {
   "cell_type": "code",
   "execution_count": 22,
   "metadata": {},
   "outputs": [],
   "source": [
    "data.rename(columns={\"ArrDel15\" : \"is_delay\"}, inplace=True) # Enter your code here"
   ]
  },
  {
   "cell_type": "markdown",
   "metadata": {},
   "source": [
    "Look for nulls across columns. You can use the `isnull()` function ([pandas.isnull documentation](https://pandas.pydata.org/pandas-docs/version/0.17.0/generated/pandas.isnull.html)).\n",
    "\n",
    "**Hint**: `isnull()` detects whether the particular value is null or not. It returns a boolean (*True* or *False*) in its place. To sum the number of columns, use the `sum(axis=0)` function (for example, `df.isnull().sum(axis=0)`)."
   ]
  },
  {
   "cell_type": "code",
   "execution_count": 23,
   "metadata": {},
   "outputs": [
    {
     "data": {
      "text/plain": [
       "Year                     0\n",
       "Quarter                  0\n",
       "Month                    0\n",
       "DayofMonth               0\n",
       "DayOfWeek                0\n",
       "FlightDate               0\n",
       "Reporting_Airline        0\n",
       "Origin                   0\n",
       "OriginState              0\n",
       "Dest                     0\n",
       "DestState                0\n",
       "CRSDepTime               0\n",
       "Cancelled                0\n",
       "Diverted                 0\n",
       "Distance                 0\n",
       "DistanceGroup            0\n",
       "ArrDelay             22540\n",
       "ArrDelayMinutes      22540\n",
       "is_delay             22540\n",
       "AirTime              22540\n",
       "dtype: int64"
      ]
     },
     "execution_count": 23,
     "metadata": {},
     "output_type": "execute_result"
    }
   ],
   "source": [
    "# Enter your code here\n",
    "data.isnull().sum(axis=0) # axis= 0 - Column wise / 1 - Row wise"
   ]
  },
  {
   "cell_type": "markdown",
   "metadata": {},
   "source": [
    "The arrival delay details and airtime are missing for 22,540 out of 1,658,130 rows, which is 1.3 percent. You can either remove or impute these rows. The documentation doesn't mention any information about missing rows.\n"
   ]
  },
  {
   "cell_type": "code",
   "execution_count": 24,
   "metadata": {},
   "outputs": [
    {
     "data": {
      "text/plain": [
       "Year                 0\n",
       "Quarter              0\n",
       "Month                0\n",
       "DayofMonth           0\n",
       "DayOfWeek            0\n",
       "FlightDate           0\n",
       "Reporting_Airline    0\n",
       "Origin               0\n",
       "OriginState          0\n",
       "Dest                 0\n",
       "DestState            0\n",
       "CRSDepTime           0\n",
       "Cancelled            0\n",
       "Diverted             0\n",
       "Distance             0\n",
       "DistanceGroup        0\n",
       "ArrDelay             0\n",
       "ArrDelayMinutes      0\n",
       "is_delay             0\n",
       "AirTime              0\n",
       "dtype: int64"
      ]
     },
     "execution_count": 24,
     "metadata": {},
     "output_type": "execute_result"
    }
   ],
   "source": [
    "### Remove null columns\n",
    "data = data[~data.is_delay.isnull()]\n",
    "data.isnull().sum(axis = 0)"
   ]
  },
  {
   "cell_type": "markdown",
   "metadata": {},
   "source": [
    "Get the hour of the day in 24-hour-time format from CRSDepTime."
   ]
  },
  {
   "cell_type": "code",
   "execution_count": 25,
   "metadata": {},
   "outputs": [],
   "source": [
    "data['DepHourofDay'] = (data['CRSDepTime']//100) # CRS - Scheduled Departure Time ( 1530 - 3:30 PM )"
   ]
  },
  {
   "cell_type": "markdown",
   "metadata": {},
   "source": [
    "## **The ML problem statement**\n",
    "- Given a set of features, can you predict if a flight is going to be delayed more than 15 minutes?\n",
    "- Because the target variable takes only a value of *0* or *1*, you could use a classification algorithm. \n",
    "\n",
    "Before you start modeling, it's a good practice to look at feature distribution, correlations, and others.\n",
    "- This will give you an idea of any non-linearity or patterns in the data\n",
    "    - Linear models: Add power, exponential, or interaction features\n",
    "    - Try a non-linear model\n",
    "- Data imbalance \n",
    "    - Choose metrics that won't give biased model performance (accuracy versus the area under the curve, or AUC)\n",
    "    - Use weighted or custom loss functions\n",
    "- Missing data\n",
    "    - Do imputation based on simple statistics -- mean, median, mode (numerical variables), frequent class (categorical variables)\n",
    "    - Clustering-based imputation (k-nearest neighbors, or KNNs, to predict column value)\n",
    "    - Drop column"
   ]
  },
  {
   "cell_type": "markdown",
   "metadata": {},
   "source": [
    "### Data exploration\n",
    "\n",
    "Check the classes *delay* versus *no delay*.\n"
   ]
  },
  {
   "cell_type": "code",
   "execution_count": 26,
   "metadata": {},
   "outputs": [
    {
     "data": {
      "image/png": "[encoded data removed]",
      "text/plain": [
       "<Figure size 640x480 with 1 Axes>"
      ]
     },
     "metadata": {},
     "output_type": "display_data"
    }
   ],
   "source": [
    "(data.groupby('is_delay').size()/len(data) ).plot(kind='bar') # /len(data) - Convert into Percentage\n",
    "plt.ylabel('Frequency')\n",
    "plt.title('Distribution of classes')\n",
    "plt.show()"
   ]
  },
  {
   "cell_type": "markdown",
   "metadata": {},
   "source": [
    "**Question**: What can you deduce from the bar plot about the ratio of *delay* versus *no delay*?"
   ]
  },
  {
   "cell_type": "markdown",
   "metadata": {},
   "source": [
    "# Enter your answer here\n",
    "* No. of Data for Delay is Unfortunately More than the No Delay.\n",
    "* This Shows that there is a Imbalance in Target Classes in Datasets"
   ]
  },
  {
   "cell_type": "markdown",
   "metadata": {},
   "source": [
    "Run the following two cells and answer the questions."
   ]
  },
  {
   "cell_type": "code",
   "execution_count": 27,
   "metadata": {},
   "outputs": [
    {
     "data": {
      "image/png": "[encoded data removed]",
      "text/plain": [
       "<Figure size 2000x2000 with 6 Axes>"
      ]
     },
     "metadata": {},
     "output_type": "display_data"
    }
   ],
   "source": [
    "viz_columns = ['Month', 'DepHourofDay', 'DayOfWeek', 'Reporting_Airline', 'Origin', 'Dest']\n",
    "fig, axes = plt.subplots(3, 2, figsize=(20,20), squeeze=False) # squeeze = False - Subplots (rows , cols) / True - Subplots(0,1,2,......)\n",
    "# fig.autofmt_xdate(rotation=90)\n",
    "\n",
    "for idx, column in enumerate(viz_columns):\n",
    "    ax = axes[idx//2, idx%2] # Accessing Each Axes\n",
    "    temp = data.groupby(column)['is_delay'].value_counts(normalize=True).rename('percentage').mul(100).reset_index().sort_values(column) # normalize=True - Convert into Percentage , .\\ - Line Continuation , .mul(100) - Convert into 100% , .reset_index() - Convert Index Back to Orginal Form\n",
    "    sns.barplot(x=column, y=\"percentage\", hue=\"is_delay\", data=temp, ax=ax) # hue=\"is_delay\" - Adding Categorical Information\n",
    "    plt.ylabel('% delay/no-delay')\n",
    "plt.show()"
   ]
  },
  {
   "cell_type": "code",
   "execution_count": 28,
   "metadata": {},
   "outputs": [
    {
     "data": {
      "image/png": "[encoded data removed]",
      "text/plain": [
       "<Figure size 500x500 with 1 Axes>"
      ]
     },
     "metadata": {},
     "output_type": "display_data"
    }
   ],
   "source": [
    "sns.lmplot( x=\"is_delay\", y=\"Distance\", data=data, fit_reg=False, hue='is_delay', legend=False) # lmplot - Linear Model Plot , fit_reg=False - Not Show BFL\n",
    "plt.legend(loc='center')\n",
    "plt.xlabel('is_delay')\n",
    "plt.ylabel('Distance')\n",
    "plt.show()"
   ]
  },
  {
   "cell_type": "markdown",
   "metadata": {},
   "source": [
    "**Questions**\n",
    "\n",
    "Using the data from the previous charts, answer these questions:\n",
    "\n",
    "- Which months have the most delays?\n",
    "- What time of the day has the most delays?\n",
    "- What day of the week has the most delays?\n",
    "- Which airline has the most delays?\n",
    "- Which origin and destination airports have the most delays?\n",
    "- Is flight distance a factor in the delays?"
   ]
  },
  {
   "cell_type": "markdown",
   "metadata": {},
   "source": [
    "# Enter your answers here\n",
    "* June Month has More Delays on Flights\n",
    "* Delays on Flights can be happened More at 8 PM\n",
    "* Sunday , Wednesday and Thursday occur More Delays on Flights\n",
    "* WN Airline Make More Delay on Flights\n",
    "* Yes , Flight Distance will also Make Delay on Flights"
   ]
  },
  {
   "cell_type": "markdown",
   "metadata": {},
   "source": [
    "### Features\n",
    "\n",
    "Look at all the columns and what their specific types are."
   ]
  },
  {
   "cell_type": "code",
   "execution_count": 29,
   "metadata": {},
   "outputs": [
    {
     "data": {
      "text/plain": [
       "Index(['Year', 'Quarter', 'Month', 'DayofMonth', 'DayOfWeek', 'FlightDate',\n",
       "       'Reporting_Airline', 'Origin', 'OriginState', 'Dest', 'DestState',\n",
       "       'CRSDepTime', 'Cancelled', 'Diverted', 'Distance', 'DistanceGroup',\n",
       "       'ArrDelay', 'ArrDelayMinutes', 'is_delay', 'AirTime', 'DepHourofDay'],\n",
       "      dtype='object')"
      ]
     },
     "execution_count": 29,
     "metadata": {},
     "output_type": "execute_result"
    }
   ],
   "source": [
    "data.columns"
   ]
  },
  {
   "cell_type": "code",
   "execution_count": 30,
   "metadata": {},
   "outputs": [
    {
     "data": {
      "text/plain": [
       "Year                   int64\n",
       "Quarter                int64\n",
       "Month                  int64\n",
       "DayofMonth             int64\n",
       "DayOfWeek              int64\n",
       "FlightDate            object\n",
       "Reporting_Airline     object\n",
       "Origin                object\n",
       "OriginState           object\n",
       "Dest                  object\n",
       "DestState             object\n",
       "CRSDepTime             int64\n",
       "Cancelled            float64\n",
       "Diverted             float64\n",
       "Distance             float64\n",
       "DistanceGroup          int64\n",
       "ArrDelay             float64\n",
       "ArrDelayMinutes      float64\n",
       "is_delay             float64\n",
       "AirTime              float64\n",
       "DepHourofDay           int64\n",
       "dtype: object"
      ]
     },
     "execution_count": 30,
     "metadata": {},
     "output_type": "execute_result"
    }
   ],
   "source": [
    "data.dtypes"
   ]
  },
  {
   "cell_type": "markdown",
   "metadata": {},
   "source": [
    "Filtering the required columns:\n",
    "- *Date* is redundant, because you have *Year*, *Quarter*, *Month*, *DayofMonth*, and *DayOfWeek* to describe the date.\n",
    "- Use *Origin* and *Dest* codes instead of *OriginState* and *DestState*.\n",
    "- Because you are only classifying whether the flight is delayed or not, you don't need *TotalDelayMinutes*, *DepDelayMinutes*, and *ArrDelayMinutes*.\n",
    "\n",
    "Treat *DepHourofDay* as a categorical variable because it doesn't have any quantitative relation with the target.\n",
    "- If you needed to do a one-hot encoding of this variable, it would result in 23 more columns.\n",
    "- Other alternatives to handling categorical variables include hash encoding, regularized mean encoding, and bucketizing the values, among others.\n",
    "- In this case, you only need to split into buckets.\n",
    "\n",
    "To change a column type to category, use the `astype` function ([pandas.DataFrame.astype documentation](https://pandas.pydata.org/pandas-docs/stable/reference/api/pandas.DataFrame.astype.html))."
   ]
  },
  {
   "cell_type": "code",
   "execution_count": 31,
   "metadata": {},
   "outputs": [
    {
     "data": {
      "text/html": [
       "<div>\n",
       "<style scoped>\n",
       "    .dataframe tbody tr th:only-of-type {\n",
       "        vertical-align: middle;\n",
       "    }\n",
       "\n",
       "    .dataframe tbody tr th {\n",
       "        vertical-align: top;\n",
       "    }\n",
       "\n",
       "    .dataframe thead th {\n",
       "        text-align: right;\n",
       "    }\n",
       "</style>\n",
       "<table border=\"1\" class=\"dataframe\">\n",
       "  <thead>\n",
       "    <tr style=\"text-align: right;\">\n",
       "      <th></th>\n",
       "      <th>Year</th>\n",
       "      <th>Quarter</th>\n",
       "      <th>Month</th>\n",
       "      <th>DayofMonth</th>\n",
       "      <th>DayOfWeek</th>\n",
       "      <th>FlightDate</th>\n",
       "      <th>Reporting_Airline</th>\n",
       "      <th>Origin</th>\n",
       "      <th>OriginState</th>\n",
       "      <th>Dest</th>\n",
       "      <th>...</th>\n",
       "      <th>CRSDepTime</th>\n",
       "      <th>Cancelled</th>\n",
       "      <th>Diverted</th>\n",
       "      <th>Distance</th>\n",
       "      <th>DistanceGroup</th>\n",
       "      <th>ArrDelay</th>\n",
       "      <th>ArrDelayMinutes</th>\n",
       "      <th>is_delay</th>\n",
       "      <th>AirTime</th>\n",
       "      <th>DepHourofDay</th>\n",
       "    </tr>\n",
       "  </thead>\n",
       "  <tbody>\n",
       "    <tr>\n",
       "      <th>0</th>\n",
       "      <td>2016</td>\n",
       "      <td>1</td>\n",
       "      <td>3</td>\n",
       "      <td>2</td>\n",
       "      <td>3</td>\n",
       "      <td>2016-03-02</td>\n",
       "      <td>UA</td>\n",
       "      <td>IAH</td>\n",
       "      <td>TX</td>\n",
       "      <td>ORD</td>\n",
       "      <td>...</td>\n",
       "      <td>2134</td>\n",
       "      <td>0.0</td>\n",
       "      <td>0.0</td>\n",
       "      <td>925.0</td>\n",
       "      <td>4</td>\n",
       "      <td>-21.0</td>\n",
       "      <td>0.0</td>\n",
       "      <td>0.0</td>\n",
       "      <td>115.0</td>\n",
       "      <td>21</td>\n",
       "    </tr>\n",
       "    <tr>\n",
       "      <th>1</th>\n",
       "      <td>2016</td>\n",
       "      <td>1</td>\n",
       "      <td>3</td>\n",
       "      <td>2</td>\n",
       "      <td>3</td>\n",
       "      <td>2016-03-02</td>\n",
       "      <td>UA</td>\n",
       "      <td>IAH</td>\n",
       "      <td>TX</td>\n",
       "      <td>ORD</td>\n",
       "      <td>...</td>\n",
       "      <td>1445</td>\n",
       "      <td>0.0</td>\n",
       "      <td>0.0</td>\n",
       "      <td>925.0</td>\n",
       "      <td>4</td>\n",
       "      <td>-16.0</td>\n",
       "      <td>0.0</td>\n",
       "      <td>0.0</td>\n",
       "      <td>117.0</td>\n",
       "      <td>14</td>\n",
       "    </tr>\n",
       "    <tr>\n",
       "      <th>2</th>\n",
       "      <td>2016</td>\n",
       "      <td>1</td>\n",
       "      <td>3</td>\n",
       "      <td>2</td>\n",
       "      <td>3</td>\n",
       "      <td>2016-03-02</td>\n",
       "      <td>UA</td>\n",
       "      <td>IAH</td>\n",
       "      <td>TX</td>\n",
       "      <td>LAX</td>\n",
       "      <td>...</td>\n",
       "      <td>1932</td>\n",
       "      <td>0.0</td>\n",
       "      <td>0.0</td>\n",
       "      <td>1379.0</td>\n",
       "      <td>6</td>\n",
       "      <td>-19.0</td>\n",
       "      <td>0.0</td>\n",
       "      <td>0.0</td>\n",
       "      <td>187.0</td>\n",
       "      <td>19</td>\n",
       "    </tr>\n",
       "    <tr>\n",
       "      <th>3</th>\n",
       "      <td>2016</td>\n",
       "      <td>1</td>\n",
       "      <td>3</td>\n",
       "      <td>2</td>\n",
       "      <td>3</td>\n",
       "      <td>2016-03-02</td>\n",
       "      <td>UA</td>\n",
       "      <td>PHX</td>\n",
       "      <td>AZ</td>\n",
       "      <td>IAH</td>\n",
       "      <td>...</td>\n",
       "      <td>1440</td>\n",
       "      <td>0.0</td>\n",
       "      <td>0.0</td>\n",
       "      <td>1009.0</td>\n",
       "      <td>5</td>\n",
       "      <td>-2.0</td>\n",
       "      <td>0.0</td>\n",
       "      <td>0.0</td>\n",
       "      <td>124.0</td>\n",
       "      <td>14</td>\n",
       "    </tr>\n",
       "    <tr>\n",
       "      <th>4</th>\n",
       "      <td>2016</td>\n",
       "      <td>1</td>\n",
       "      <td>3</td>\n",
       "      <td>2</td>\n",
       "      <td>3</td>\n",
       "      <td>2016-03-02</td>\n",
       "      <td>UA</td>\n",
       "      <td>IAH</td>\n",
       "      <td>TX</td>\n",
       "      <td>PHX</td>\n",
       "      <td>...</td>\n",
       "      <td>1530</td>\n",
       "      <td>0.0</td>\n",
       "      <td>0.0</td>\n",
       "      <td>1009.0</td>\n",
       "      <td>5</td>\n",
       "      <td>-23.0</td>\n",
       "      <td>0.0</td>\n",
       "      <td>0.0</td>\n",
       "      <td>142.0</td>\n",
       "      <td>15</td>\n",
       "    </tr>\n",
       "  </tbody>\n",
       "</table>\n",
       "<p>5 rows × 21 columns</p>\n",
       "</div>"
      ],
      "text/plain": [
       "   Year  Quarter  Month  DayofMonth  DayOfWeek  FlightDate Reporting_Airline  \\\n",
       "0  2016        1      3           2          3  2016-03-02                UA   \n",
       "1  2016        1      3           2          3  2016-03-02                UA   \n",
       "2  2016        1      3           2          3  2016-03-02                UA   \n",
       "3  2016        1      3           2          3  2016-03-02                UA   \n",
       "4  2016        1      3           2          3  2016-03-02                UA   \n",
       "\n",
       "  Origin OriginState Dest  ... CRSDepTime  Cancelled  Diverted  Distance  \\\n",
       "0    IAH          TX  ORD  ...       2134        0.0       0.0     925.0   \n",
       "1    IAH          TX  ORD  ...       1445        0.0       0.0     925.0   \n",
       "2    IAH          TX  LAX  ...       1932        0.0       0.0    1379.0   \n",
       "3    PHX          AZ  IAH  ...       1440        0.0       0.0    1009.0   \n",
       "4    IAH          TX  PHX  ...       1530        0.0       0.0    1009.0   \n",
       "\n",
       "   DistanceGroup  ArrDelay  ArrDelayMinutes  is_delay  AirTime  DepHourofDay  \n",
       "0              4     -21.0              0.0       0.0    115.0            21  \n",
       "1              4     -16.0              0.0       0.0    117.0            14  \n",
       "2              6     -19.0              0.0       0.0    187.0            19  \n",
       "3              5      -2.0              0.0       0.0    124.0            14  \n",
       "4              5     -23.0              0.0       0.0    142.0            15  \n",
       "\n",
       "[5 rows x 21 columns]"
      ]
     },
     "execution_count": 31,
     "metadata": {},
     "output_type": "execute_result"
    }
   ],
   "source": [
    "data.head()"
   ]
  },
  {
   "cell_type": "code",
   "execution_count": 32,
   "metadata": {},
   "outputs": [],
   "source": [
    "data_orig = data\n",
    "data = data[[ 'is_delay', 'Quarter', 'Month', 'DayofMonth', 'DayOfWeek', \n",
    "       'Reporting_Airline', 'Origin', 'Dest','Distance','DepHourofDay']] # Filtering Only Categorical Columns and Some Important Features\n",
    "categorical_columns  = ['Quarter', 'Month', 'DayofMonth', 'DayOfWeek', \n",
    "       'Reporting_Airline', 'Origin', 'Dest', 'DepHourofDay']\n",
    "for c in categorical_columns:\n",
    "    data[c] = data[c].astype('category') # Convert Object Type into Category Type"
   ]
  },
  {
   "cell_type": "markdown",
   "metadata": {},
   "source": [
    "To use one-hot encoding, use the `get_dummies` function in pandas for the categorical columns that you selected. Then, you can concatenate those generated features to your original dataset by using the `concat` function in pandas. For encoding categorical variables, you can also use *dummy encoding* by using a keyword `drop_first=True`. For more information about dummy encoding, see [Dummy variable (statistics)](https://en.wikiversity.org/wiki/Dummy_variable_(statistics)).\n",
    "\n",
    "For example:\n",
    "```\n",
    "pd.get_dummies(df[['column1','columns2']], drop_first=True)\n",
    "```"
   ]
  },
  {
   "cell_type": "code",
   "execution_count": 33,
   "metadata": {},
   "outputs": [],
   "source": [
    "categorical_columns  = ['Quarter', 'Month', 'DayofMonth', 'DayOfWeek', \n",
    "       'Reporting_Airline', 'Origin', 'Dest', 'DepHourofDay']\n",
    "data_dummies = pd.get_dummies(data[categorical_columns], drop_first=True) # Enter your code here\n",
    "data_dummies = data_dummies.replace({True: 1, False: 0})\n",
    "data = pd.concat([data_orig, data_dummies], axis = 1)\n",
    "data.drop(categorical_columns,axis=1, inplace=True)"
   ]
  },
  {
   "cell_type": "code",
   "execution_count": 34,
   "metadata": {},
   "outputs": [],
   "source": [
    "categorical_columns  = ['OriginState','DestState']\n",
    "data_dummies = pd.get_dummies(data[categorical_columns], drop_first=True) # Enter your code here\n",
    "data_dummies = data_dummies.replace({True: 1, False: 0})\n",
    "data = pd.concat([data, data_dummies], axis = 1)\n",
    "data.drop(categorical_columns,axis=1, inplace=True)"
   ]
  },
  {
   "cell_type": "markdown",
   "metadata": {},
   "source": [
    "Check the length of the dataset and the new columns.\n",
    "\n",
    "**Hint**: Use the `shape` and `columns` properties."
   ]
  },
  {
   "cell_type": "code",
   "execution_count": 35,
   "metadata": {},
   "outputs": [
    {
     "data": {
      "text/plain": [
       "(1635590, 115)"
      ]
     },
     "execution_count": 35,
     "metadata": {},
     "output_type": "execute_result"
    }
   ],
   "source": [
    "# Enter your code here\n",
    "data.shape"
   ]
  },
  {
   "cell_type": "code",
   "execution_count": 36,
   "metadata": {},
   "outputs": [
    {
     "data": {
      "text/plain": [
       "Index(['Year', 'FlightDate', 'CRSDepTime', 'Cancelled', 'Diverted', 'Distance',\n",
       "       'DistanceGroup', 'ArrDelay', 'ArrDelayMinutes', 'is_delay',\n",
       "       ...\n",
       "       'OriginState_GA', 'OriginState_IL', 'OriginState_NC', 'OriginState_TX',\n",
       "       'DestState_CA', 'DestState_CO', 'DestState_GA', 'DestState_IL',\n",
       "       'DestState_NC', 'DestState_TX'],\n",
       "      dtype='object', length=115)"
      ]
     },
     "execution_count": 36,
     "metadata": {},
     "output_type": "execute_result"
    }
   ],
   "source": [
    "# Enter your code here\n",
    "data.columns"
   ]
  },
  {
   "cell_type": "code",
   "execution_count": 37,
   "metadata": {},
   "outputs": [],
   "source": [
    "# Seperating Date into Year , Month and Date\n",
    "year=[]\n",
    "month=[]\n",
    "date=[]\n",
    "for val in data[\"FlightDate\"]:\n",
    "    ye,mo,da=val.split(\"-\")\n",
    "    year.append(int(ye))\n",
    "    month.append(int(mo))\n",
    "    date.append(int(da))\n",
    "data[\"Flight Date\"]=date\n",
    "data[\"Flight Month\"]=month\n",
    "data[\"Flight Year\"]=year"
   ]
  },
  {
   "cell_type": "code",
   "execution_count": 38,
   "metadata": {},
   "outputs": [],
   "source": [
    "# Droping Date Column \n",
    "data.drop(\"FlightDate\" , inplace=True , axis=1)"
   ]
  },
  {
   "cell_type": "markdown",
   "metadata": {},
   "source": [
    "You are now ready to train the model. Before you split the data, rename the **is_delay** column to *target*.\n",
    "\n",
    "**Hint**: You can use the `rename` function in pandas ([pandas.DataFrame.rename documentation](https://pandas.pydata.org/pandas-docs/stable/reference/api/pandas.DataFrame.rename.html))."
   ]
  },
  {
   "cell_type": "code",
   "execution_count": 39,
   "metadata": {},
   "outputs": [],
   "source": [
    "data.rename(columns = {\"is_delay\":\"target\"}, inplace=True )# Enter your code here"
   ]
  },
  {
   "cell_type": "code",
   "execution_count": 40,
   "metadata": {},
   "outputs": [],
   "source": [
    "data[\"target\"]=data[\"target\"].astype(int)"
   ]
  },
  {
   "cell_type": "code",
   "execution_count": 41,
   "metadata": {},
   "outputs": [],
   "source": [
    "data[\"Year\"] , data[\"target\"] = data[\"target\"] , data[\"Year\"] "
   ]
  },
  {
   "cell_type": "code",
   "execution_count": 42,
   "metadata": {},
   "outputs": [],
   "source": [
    "data.rename(columns = {\"Year\":\"target\" , \"target\" : \"Year\"}, inplace=True )"
   ]
  },
  {
   "cell_type": "markdown",
   "metadata": {},
   "source": [
    "## <span style=\"color:red\"> End of Step 2 </span>\n",
    "\n",
    "Save the project file to your local computer. Follow these steps:\n",
    "\n",
    "1. In the file explorer on the left, right-click the notebook that you're working on. \n",
    "\n",
    "2. Choose **Download**, and save the file locally.  \n",
    "\n",
    "This action downloads the current notebook to the default download folder on your computer."
   ]
  },
  {
   "cell_type": "markdown",
   "metadata": {},
   "source": [
    "# Step 3: Model training and evaluation\n",
    "\n",
    "You must include some preliminary steps when you convert the dataset from a DataFrame to a format that a machine learning algorithm can use. For Amazon SageMaker, you must perform these steps:\n",
    "\n",
    "1. Split the data into `train_data`, `validation_data`, and `test_data` by using `sklearn.model_selection.train_test_split`.  \n",
    "\n",
    "2. Convert the dataset to an appropriate file format that the Amazon SageMaker training job can use. This can be either a CSV file or record protobuf. For more information, see [Common Data Formats for Training](https://docs.aws.amazon.com/sagemaker/latest/dg/cdf-training.html).  \n",
    "\n",
    "3. Upload the data to your S3 bucket. If you haven't created one before, see [Create a Bucket](https://docs.aws.amazon.com/AmazonS3/latest/gsg/CreatingABucket.html).  \n",
    "\n",
    "Use the following cells to complete these steps. Insert and delete cells where needed.\n",
    "\n",
    "#### <span style=\"color: blue;\">Project presentation: In your project presentation, write down the key decisions that you made in this phase.</span>"
   ]
  },
  {
   "cell_type": "markdown",
   "metadata": {},
   "source": [
    "### Train-test split"
   ]
  },
  {
   "cell_type": "code",
   "execution_count": 43,
   "metadata": {},
   "outputs": [],
   "source": [
    "from sklearn.model_selection import train_test_split\n",
    "def split_data(data):\n",
    "    train, test_and_validate = train_test_split(data, test_size=0.2, random_state=30, stratify=data['target'])\n",
    "    test, validate = train_test_split(test_and_validate, test_size=0.5, random_state=30, stratify=test_and_validate['target'])\n",
    "    return train, validate, test"
   ]
  },
  {
   "cell_type": "code",
   "execution_count": 44,
   "metadata": {},
   "outputs": [
    {
     "name": "stdout",
     "output_type": "stream",
     "text": [
      "0    1033806\n",
      "1     274666\n",
      "Name: target, dtype: int64\n",
      "0    129226\n",
      "1     34333\n",
      "Name: target, dtype: int64\n",
      "0    129226\n",
      "1     34333\n",
      "Name: target, dtype: int64\n"
     ]
    }
   ],
   "source": [
    "train, validate, test = split_data(data)\n",
    "print(train['target'].value_counts())\n",
    "print(test['target'].value_counts())\n",
    "print(validate['target'].value_counts())"
   ]
  },
  {
   "cell_type": "markdown",
   "metadata": {},
   "source": [
    "**Sample answer**\n",
    "```\n",
    "0.0    1033570\n",
    "1.0     274902\n",
    "Name: target, dtype: int64\n",
    "0.0    129076\n",
    "1.0     34483\n",
    "Name: target, dtype: int64\n",
    "0.0    129612\n",
    "1.0     33947\n",
    "Name: target, dtype: int64\n",
    "```"
   ]
  },
  {
   "cell_type": "markdown",
   "metadata": {},
   "source": [
    "### Baseline classification model"
   ]
  },
  {
   "cell_type": "code",
   "execution_count": 45,
   "metadata": {},
   "outputs": [
    {
     "name": "stdout",
     "output_type": "stream",
     "text": [
      "sagemaker.config INFO - Not applying SDK defaults from location: /etc/xdg/sagemaker/config.yaml\n",
      "sagemaker.config INFO - Not applying SDK defaults from location: /home/ec2-user/.config/sagemaker/config.yaml\n"
     ]
    }
   ],
   "source": [
    "import sagemaker\n",
    "from sagemaker.serializers import CSVSerializer\n",
    "from sagemaker.amazon.amazon_estimator import RecordSet # Convert Data into Format which Sagemaker can Understand\n",
    "import boto3\n",
    "\n",
    "# Instantiate the LinearLearner estimator object with 1 ml.m4.xlarge\n",
    "classifier_estimator = sagemaker.LinearLearner(role=sagemaker.get_execution_role(),\n",
    "                                               instance_count=1,\n",
    "                                               instance_type=\"ml.m4.xlarge\",\n",
    "                                               predictor_type='binary_classifier',\n",
    "                                               binary_classifier_model_selection_criteria=\"f1\") # Due to Imbalanced Classes in Dataset"
   ]
  },
  {
   "cell_type": "markdown",
   "metadata": {},
   "source": [
    "### Sample code\n",
    "```\n",
    "num_classes = len(pd.unique(train_labels))\n",
    "classifier_estimator = sagemaker.LinearLearner(role=sagemaker.get_execution_role(),\n",
    "                                              instance_count=1,\n",
    "                                              instance_type='ml.m4.xlarge',\n",
    "                                              predictor_type='binary_classifier',\n",
    "                                              binary_classifier_model_selection_criteria = 'cross_entropy_loss')\n",
    "                                              \n",
    "```"
   ]
  },
  {
   "cell_type": "markdown",
   "metadata": {},
   "source": [
    "Linear learner accepts training data in protobuf or CSV content types. It also accepts inference requests in protobuf, CSV, or JavaScript Object Notation (JSON) content types. Training data has features and ground-truth labels, but the data in an inference request has only features.\n",
    "\n",
    "In a production pipeline, AWS recommends converting the data to the Amazon SageMaker protobuf format and storing it in Amazon S3. To get up and running quickly, AWS provides the `record_set` operation for converting and uploading the dataset when it's small enough to fit in local memory. It accepts NumPy arrays like the ones you already have, so you will use it for this step. The `RecordSet` object will track the temporary Amazon S3 location of your data. Create train, validation, and test records by using the `estimator.record_set` function. Then, start your training job by using the `estimator.fit` function."
   ]
  },
  {
   "cell_type": "code",
   "execution_count": 46,
   "metadata": {},
   "outputs": [],
   "source": [
    "### Create train, validate, and test records\n",
    "train_records = classifier_estimator.record_set(train.values[:, 1:].astype(np.float32), train.values[:, 0].astype(np.float32), channel='train') # Training Channel\n",
    "val_records = classifier_estimator.record_set(validate.values[:, 1:].astype(np.float32), validate.values[:, 0].astype(np.float32), channel='validation') # Validation Channel\n",
    "test_records = classifier_estimator.record_set(test.values[:, 1:].astype(np.float32), test.values[:, 0].astype(np.float32), channel='test') # Testing Channel\n",
    "# Record Set - Convert Input into Specific Format that Sagemaker Algorithm can Understand"
   ]
  },
  {
   "cell_type": "markdown",
   "metadata": {},
   "source": [
    "Now, train your model on the dataset that you just uploaded.\n",
    "\n",
    "### Sample code\n",
    "```\n",
    "linear.fit([train_records,val_records,test_records])\n",
    "```"
   ]
  },
  {
   "cell_type": "code",
   "execution_count": null,
   "metadata": {},
   "outputs": [
    {
     "name": "stderr",
     "output_type": "stream",
     "text": [
      "INFO:sagemaker.image_uris:Same images used for training and inference. Defaulting to image scope: inference.\n",
      "INFO:sagemaker.image_uris:Ignoring unnecessary instance type: None.\n",
      "INFO:sagemaker:Creating training-job with name: linear-learner-2024-10-31-12-42-58-350\n"
     ]
    },
    {
     "name": "stdout",
     "output_type": "stream",
     "text": [
      "2024-10-31 12:42:58 Starting - Starting the training job...\n",
      "2024-10-31 12:43:19 Starting - Preparing the instances for training...\n",
      "2024-10-31 12:43:50 Downloading - Downloading input data......\n",
      "2024-10-31 12:44:40 Downloading - Downloading the training image......\n",
      "2024-10-31 12:45:46 Training - Training image download completed. Training in progress..\u001b[34mDocker entrypoint called with argument(s): train\u001b[0m\n",
      "\u001b[34mRunning default environment configuration script\u001b[0m\n",
      "\u001b[34m[10/31/2024 12:46:06 INFO 140292085315392] Reading default configuration from /opt/amazon/lib/python3.8/site-packages/algorithm/resources/default-input.json: {'mini_batch_size': '1000', 'epochs': '15', 'feature_dim': 'auto', 'use_bias': 'true', 'binary_classifier_model_selection_criteria': 'accuracy', 'f_beta': '1.0', 'target_recall': '0.8', 'target_precision': '0.8', 'num_models': 'auto', 'num_calibration_samples': '10000000', 'init_method': 'uniform', 'init_scale': '0.07', 'init_sigma': '0.01', 'init_bias': '0.0', 'optimizer': 'auto', 'loss': 'auto', 'margin': '1.0', 'quantile': '0.5', 'loss_insensitivity': '0.01', 'huber_delta': '1.0', 'num_classes': '1', 'accuracy_top_k': '3', 'wd': 'auto', 'l1': 'auto', 'momentum': 'auto', 'learning_rate': 'auto', 'beta_1': 'auto', 'beta_2': 'auto', 'bias_lr_mult': 'auto', 'bias_wd_mult': 'auto', 'use_lr_scheduler': 'true', 'lr_scheduler_step': 'auto', 'lr_scheduler_factor': 'auto', 'lr_scheduler_minimum_lr': 'auto', 'positive_example_weight_mult': '1.0', 'balance_multiclass_weights': 'false', 'normalize_data': 'true', 'normalize_label': 'auto', 'unbias_data': 'auto', 'unbias_label': 'auto', 'num_point_for_scaler': '10000', '_kvstore': 'auto', '_num_gpus': 'auto', '_num_kv_servers': 'auto', '_log_level': 'info', '_tuning_objective_metric': '', 'early_stopping_patience': '3', 'early_stopping_tolerance': '0.001', '_enable_profiler': 'false'}\u001b[0m\n",
      "\u001b[34m[10/31/2024 12:46:06 INFO 140292085315392] Merging with provided configuration from /opt/ml/input/config/hyperparameters.json: {'binary_classifier_model_selection_criteria': 'f1', 'feature_dim': '116', 'mini_batch_size': '1000', 'predictor_type': 'binary_classifier'}\u001b[0m\n",
      "\u001b[34m[10/31/2024 12:46:06 INFO 140292085315392] Final configuration: {'mini_batch_size': '1000', 'epochs': '15', 'feature_dim': '116', 'use_bias': 'true', 'binary_classifier_model_selection_criteria': 'f1', 'f_beta': '1.0', 'target_recall': '0.8', 'target_precision': '0.8', 'num_models': 'auto', 'num_calibration_samples': '10000000', 'init_method': 'uniform', 'init_scale': '0.07', 'init_sigma': '0.01', 'init_bias': '0.0', 'optimizer': 'auto', 'loss': 'auto', 'margin': '1.0', 'quantile': '0.5', 'loss_insensitivity': '0.01', 'huber_delta': '1.0', 'num_classes': '1', 'accuracy_top_k': '3', 'wd': 'auto', 'l1': 'auto', 'momentum': 'auto', 'learning_rate': 'auto', 'beta_1': 'auto', 'beta_2': 'auto', 'bias_lr_mult': 'auto', 'bias_wd_mult': 'auto', 'use_lr_scheduler': 'true', 'lr_scheduler_step': 'auto', 'lr_scheduler_factor': 'auto', 'lr_scheduler_minimum_lr': 'auto', 'positive_example_weight_mult': '1.0', 'balance_multiclass_weights': 'false', 'normalize_data': 'true', 'normalize_label': 'auto', 'unbias_data': 'auto', 'unbias_label': 'auto', 'num_point_for_scaler': '10000', '_kvstore': 'auto', '_num_gpus': 'auto', '_num_kv_servers': 'auto', '_log_level': 'info', '_tuning_objective_metric': '', 'early_stopping_patience': '3', 'early_stopping_tolerance': '0.001', '_enable_profiler': 'false', 'predictor_type': 'binary_classifier'}\u001b[0m\n",
      "\u001b[34m/opt/amazon/lib/python3.8/site-packages/mxnet/model.py:97: SyntaxWarning: \"is\" with a literal. Did you mean \"==\"?\n",
      "  if num_device is 1 and 'dist' not in kvstore:\u001b[0m\n",
      "\u001b[34m/opt/amazon/lib/python3.8/site-packages/scipy/optimize/_shgo.py:495: SyntaxWarning: \"is\" with a literal. Did you mean \"==\"?\n",
      "  if cons['type'] is 'ineq':\u001b[0m\n",
      "\u001b[34m/opt/amazon/lib/python3.8/site-packages/scipy/optimize/_shgo.py:743: SyntaxWarning: \"is not\" with a literal. Did you mean \"!=\"?\n",
      "  if len(self.X_min) is not 0:\u001b[0m\n",
      "\u001b[34m[10/31/2024 12:46:09 WARNING 140292085315392] Loggers have already been setup.\u001b[0m\n",
      "\u001b[34m[10/31/2024 12:46:09 INFO 140292085315392] Final configuration: {'mini_batch_size': '1000', 'epochs': '15', 'feature_dim': '116', 'use_bias': 'true', 'binary_classifier_model_selection_criteria': 'f1', 'f_beta': '1.0', 'target_recall': '0.8', 'target_precision': '0.8', 'num_models': 'auto', 'num_calibration_samples': '10000000', 'init_method': 'uniform', 'init_scale': '0.07', 'init_sigma': '0.01', 'init_bias': '0.0', 'optimizer': 'auto', 'loss': 'auto', 'margin': '1.0', 'quantile': '0.5', 'loss_insensitivity': '0.01', 'huber_delta': '1.0', 'num_classes': '1', 'accuracy_top_k': '3', 'wd': 'auto', 'l1': 'auto', 'momentum': 'auto', 'learning_rate': 'auto', 'beta_1': 'auto', 'beta_2': 'auto', 'bias_lr_mult': 'auto', 'bias_wd_mult': 'auto', 'use_lr_scheduler': 'true', 'lr_scheduler_step': 'auto', 'lr_scheduler_factor': 'auto', 'lr_scheduler_minimum_lr': 'auto', 'positive_example_weight_mult': '1.0', 'balance_multiclass_weights': 'false', 'normalize_data': 'true', 'normalize_label': 'auto', 'unbias_data': 'auto', 'unbias_label': 'auto', 'num_point_for_scaler': '10000', '_kvstore': 'auto', '_num_gpus': 'auto', '_num_kv_servers': 'auto', '_log_level': 'info', '_tuning_objective_metric': '', 'early_stopping_patience': '3', 'early_stopping_tolerance': '0.001', '_enable_profiler': 'false', 'predictor_type': 'binary_classifier'}\u001b[0m\n",
      "\u001b[34m[10/31/2024 12:46:09 WARNING 140292085315392] Loggers have already been setup.\u001b[0m\n",
      "\u001b[34mProcess 8 is a worker.\u001b[0m\n",
      "\u001b[34m[10/31/2024 12:46:09 INFO 140292085315392] Using default worker.\u001b[0m\n",
      "\u001b[34m[10/31/2024 12:46:09 INFO 140292085315392] Checkpoint loading and saving are disabled.\u001b[0m\n",
      "\u001b[34m[2024-10-31 12:46:09.753] [tensorio] [warning] TensorIO is already initialized; ignoring the initialization routine.\u001b[0m\n",
      "\u001b[34m[2024-10-31 12:46:09.757] [tensorio] [warning] TensorIO is already initialized; ignoring the initialization routine.\u001b[0m\n",
      "\u001b[34m[2024-10-31 12:46:09.792] [tensorio] [info] epoch_stats={\"data_pipeline\": \"/opt/ml/input/data/train\", \"epoch\": 0, \"duration\": 43, \"num_examples\": 1, \"num_bytes\": 512000}\u001b[0m\n",
      "\u001b[34m[10/31/2024 12:46:09 INFO 140292085315392] Create Store: local\u001b[0m\n",
      "\u001b[34m[2024-10-31 12:46:09.917] [tensorio] [info] epoch_stats={\"data_pipeline\": \"/opt/ml/input/data/train\", \"epoch\": 1, \"duration\": 124, \"num_examples\": 11, \"num_bytes\": 5632000}\u001b[0m\n",
      "\u001b[34m[10/31/2024 12:46:09 INFO 140292085315392] Scaler algorithm parameters\n",
      " <algorithm.scaler.ScalerAlgorithmStable object at 0x7f97bbec6d90>\u001b[0m\n",
      "\u001b[34m[10/31/2024 12:46:09 INFO 140292085315392] Scaling model computed with parameters:\n",
      " {'stdev_label': None, 'stdev_weight': \u001b[0m\n",
      "\u001b[34m[4.96716370e+02 1.00000000e+00 1.00000000e+00 5.38134766e+02\n",
      " 2.14234018e+00 4.15920372e+01 3.78991318e+01 1.38109732e+00\n",
      " 6.33669090e+01 4.31851834e-01 4.38185632e-01 4.38335359e-01\n",
      " 2.56672889e-01 2.74503201e-01 2.76568025e-01 2.77251422e-01\n",
      " 2.72275835e-01 2.83691138e-01 2.84349680e-01 2.74641514e-01\n",
      " 2.83427089e-01 2.81434953e-01 2.78339833e-01 1.81462735e-01\n",
      " 1.80995196e-01 1.67295232e-01 1.80055991e-01 1.73563451e-01\n",
      " 1.81695953e-01 1.84468344e-01 1.78160459e-01 1.77443668e-01\n",
      " 1.75999999e-01 1.81462720e-01 1.79347873e-01 1.79347843e-01\n",
      " 1.80291340e-01 1.76963910e-01 1.75030008e-01 1.86063483e-01\n",
      " 1.72824830e-01 1.69329643e-01 1.80995211e-01 1.76723525e-01\n",
      " 1.86063513e-01 1.73808843e-01 1.78160474e-01 1.81695968e-01\n",
      " 1.73808843e-01 1.74298480e-01 1.65750951e-01 1.74786553e-01\n",
      " 1.33608535e-01 3.51550072e-01 3.55190039e-01 3.54377627e-01\n",
      " 3.55998844e-01 3.24429274e-01 3.46703857e-01 3.73300195e-01\n",
      " 2.36811891e-01 4.60561275e-01 3.14469606e-01 2.37823397e-01\n",
      " 3.19241226e-01 3.29788893e-01 2.76978374e-01 3.54287088e-01\n",
      " 3.36403459e-01 2.97805697e-01 3.30821991e-01 2.43778720e-01\n",
      " 3.14132124e-01 3.25704217e-01 2.72275805e-01 3.62164468e-01\n",
      " 3.39574754e-01 2.97437549e-01 3.28958273e-01 5.21520376e-02\n",
      " 1.34827709e-02 1.00000000e+00 1.53331459e-01 2.22759277e-01\n",
      " 2.47964010e-01 2.56672889e-01 2.43941441e-01 2.44752958e-01\n",
      " 2.43452847e-01 2.43941456e-01 2.36980855e-01 2.41320595e-01\n",
      " 2.40990371e-01 2.39663512e-01 2.41979331e-01 2.22941831e-01\n",
      " 2.11638853e-01 2.05297142e-01 1.61551744e-01 1.74053878e-01\n",
      " 1.06827706e-01 4.45129573e-01 3.19241226e-01 3.20224911e-01\n",
      " 3.36403459e-01 2.37823397e-01 4.05811429e-01 4.48373079e-01\n",
      " 3.14132124e-01 3.18362534e-01 3.39574754e-01 2.43778720e-01\n",
      " 4.00951385e-01 8.80284786e+00 3.42326379e+00 1.38109732e+00]\u001b[0m\n",
      "\u001b[34m<NDArray 116 @cpu(0)>, 'mean_label': None, 'mean_weight': \u001b[0m\n",
      "\u001b[34m[1.32538306e+03 0.00000000e+00 0.00000000e+00 1.01574548e+03\n",
      " 4.47272730e+00 6.23618221e+00 1.39186382e+01 2.01608875e+03\n",
      " 1.35040176e+02 2.48000041e-01 2.59181857e-01 2.59454548e-01\u001b[0m\n",
      "\u001b[34m/opt/amazon/python3.8/lib/python3.8/subprocess.py:848: RuntimeWarning: line buffering (buffering=1) isn't supported in binary mode, the default buffer size will be used\n",
      "  self.stdout = io.open(c2pread, 'rb', bufsize)\n",
      " 7.09090903e-02 8.20909068e-02 8.34545493e-02 8.39090943e-02\n",
      " 8.06363672e-02 8.82727280e-02 8.87272805e-02 8.21818188e-02\n",
      " 8.80909264e-02 8.67272764e-02 8.46363753e-02 3.40909101e-02\n",
      " 3.39090936e-02 2.88181826e-02 3.35454568e-02 3.10909115e-02\n",
      " 3.41818258e-02 3.52727287e-02 3.28181833e-02 3.25454585e-02\n",
      " 3.20000052e-02 3.40909138e-02 3.32727283e-02 3.32727283e-02\n",
      " 3.36363651e-02 3.23636420e-02 3.16363685e-02 3.59090939e-02\n",
      " 3.08181848e-02 2.95454562e-02 3.39090899e-02 3.22727337e-02\n",
      " 3.59090939e-02 3.11818216e-02 3.28181833e-02 3.41818221e-02\n",
      " 3.11818197e-02 3.13636400e-02 2.82727294e-02 3.15454565e-02\n",
      " 1.81818195e-02 1.44454554e-01 1.48090929e-01 1.47272736e-01\n",
      " 1.48909092e-01 1.19545475e-01 1.39727280e-01 1.67363644e-01\n",
      " 5.96363731e-02 3.05363685e-01 1.11272737e-01 6.01818189e-02\n",
      " 1.15181826e-01 1.24181837e-01 8.37272704e-02 1.47181809e-01\n",
      " 1.30090922e-01 9.83636528e-02 1.25090927e-01 6.34545460e-02\n",
      " 1.11000001e-01 1.20636374e-01 8.06363672e-02 1.55272722e-01\n",
      " 1.33000001e-01 9.80909243e-02 1.23454563e-01 2.72727292e-03\n",
      " 1.81818163e-04 0.00000000e+00 2.40909122e-02 5.23636378e-02\n",
      " 6.58181906e-02 7.09090978e-02 6.35454729e-02 6.40000030e-02\n",
      " 6.32727295e-02 6.35454580e-02 5.97272776e-02 6.20909110e-02\n",
      " 6.19090982e-02 6.11818284e-02 6.24545515e-02 5.24545461e-02\n",
      " 4.70000021e-02 4.40909117e-02 2.68181842e-02 3.12727280e-02\n",
      " 1.15454569e-02 2.72272736e-01 1.15181826e-01 1.16000004e-01\n",
      " 1.30090922e-01 6.01818189e-02 2.07909107e-01 2.78727293e-01\n",
      " 1.11000001e-01 1.14454553e-01 1.33000001e-01 6.34545460e-02\n",
      " 2.01272741e-01 1.56160898e+01 6.62354565e+00 2.01608875e+03]\u001b[0m\n",
      "\u001b[34m<NDArray 116 @cpu(0)>}\u001b[0m\n",
      "\u001b[34m[10/31/2024 12:46:09 INFO 140292085315392] nvidia-smi: took 0.042 seconds to run.\u001b[0m\n",
      "\u001b[34m[10/31/2024 12:46:09 INFO 140292085315392] nvidia-smi identified 0 GPUs.\u001b[0m\n",
      "\u001b[34m[10/31/2024 12:46:09 INFO 140292085315392] Number of GPUs being used: 0\u001b[0m\n",
      "\u001b[34m#metrics {\"StartTime\": 1730378770.031126, \"EndTime\": 1730378770.0311651, \"Dimensions\": {\"Algorithm\": \"Linear Learner\", \"Host\": \"algo-1\", \"Operation\": \"training\", \"Meta\": \"init_train_data_iter\"}, \"Metrics\": {\"Total Records Seen\": {\"sum\": 12000.0, \"count\": 1, \"min\": 12000, \"max\": 12000}, \"Total Batches Seen\": {\"sum\": 12.0, \"count\": 1, \"min\": 12, \"max\": 12}, \"Max Records Seen Between Resets\": {\"sum\": 11000.0, \"count\": 1, \"min\": 11000, \"max\": 11000}, \"Max Batches Seen Between Resets\": {\"sum\": 11.0, \"count\": 1, \"min\": 11, \"max\": 11}, \"Reset Count\": {\"sum\": 2.0, \"count\": 1, \"min\": 2, \"max\": 2}, \"Number of Records Since Last Reset\": {\"sum\": 0.0, \"count\": 1, \"min\": 0, \"max\": 0}, \"Number of Batches Since Last Reset\": {\"sum\": 0.0, \"count\": 1, \"min\": 0, \"max\": 0}}}\u001b[0m\n",
      "\u001b[34m[2024-10-31 12:46:40.305] [tensorio] [info] epoch_stats={\"data_pipeline\": \"/opt/ml/input/data/train\", \"epoch\": 3, \"duration\": 30273, \"num_examples\": 1309, \"num_bytes\": 669937664}\u001b[0m\n",
      "\u001b[34m#metrics {\"StartTime\": 1730378800.305172, \"EndTime\": 1730378800.3052464, \"Dimensions\": {\"Algorithm\": \"Linear Learner\", \"Host\": \"algo-1\", \"Operation\": \"training\", \"epoch\": 0, \"model\": 0}, \"Metrics\": {\"train_binary_classification_cross_entropy_objective\": {\"sum\": 0.2011669577560658, \"count\": 1, \"min\": 0.2011669577560658, \"max\": 0.2011669577560658}}}\u001b[0m\n",
      "\u001b[34m#metrics {\"StartTime\": 1730378800.3053353, \"EndTime\": 1730378800.3053513, \"Dimensions\": {\"Algorithm\": \"Linear Learner\", \"Host\": \"algo-1\", \"Operation\": \"training\", \"epoch\": 0, \"model\": 1}, \"Metrics\": {\"train_binary_classification_cross_entropy_objective\": {\"sum\": 0.18697238982780992, \"count\": 1, \"min\": 0.18697238982780992, \"max\": 0.18697238982780992}}}\u001b[0m\n",
      "\u001b[34m#metrics {\"StartTime\": 1730378800.3054206, \"EndTime\": 1730378800.305433, \"Dimensions\": {\"Algorithm\": \"Linear Learner\", \"Host\": \"algo-1\", \"Operation\": \"training\", \"epoch\": 0, \"model\": 2}, \"Metrics\": {\"train_binary_classification_cross_entropy_objective\": {\"sum\": 0.2058764271400755, \"count\": 1, \"min\": 0.2058764271400755, \"max\": 0.2058764271400755}}}\u001b[0m\n",
      "\u001b[34m#metrics {\"StartTime\": 1730378800.3054686, \"EndTime\": 1730378800.3054798, \"Dimensions\": {\"Algorithm\": \"Linear Learner\", \"Host\": \"algo-1\", \"Operation\": \"training\", \"epoch\": 0, \"model\": 3}, \"Metrics\": {\"train_binary_classification_cross_entropy_objective\": {\"sum\": 0.17794579737485366, \"count\": 1, \"min\": 0.17794579737485366, \"max\": 0.17794579737485366}}}\u001b[0m\n",
      "\u001b[34m#metrics {\"StartTime\": 1730378800.305515, \"EndTime\": 1730378800.3055265, \"Dimensions\": {\"Algorithm\": \"Linear Learner\", \"Host\": \"algo-1\", \"Operation\": \"training\", \"epoch\": 0, \"model\": 4}, \"Metrics\": {\"train_binary_classification_cross_entropy_objective\": {\"sum\": 0.04742795776664664, \"count\": 1, \"min\": 0.04742795776664664, \"max\": 0.04742795776664664}}}\u001b[0m\n",
      "\u001b[34m#metrics {\"StartTime\": 1730378800.3055623, \"EndTime\": 1730378800.3055742, \"Dimensions\": {\"Algorithm\": \"Linear Learner\", \"Host\": \"algo-1\", \"Operation\": \"training\", \"epoch\": 0, \"model\": 5}, \"Metrics\": {\"train_binary_classification_cross_entropy_objective\": {\"sum\": 0.04605076408532052, \"count\": 1, \"min\": 0.04605076408532052, \"max\": 0.04605076408532052}}}\u001b[0m\n",
      "\u001b[34m#metrics {\"StartTime\": 1730378800.305608, \"EndTime\": 1730378800.3056197, \"Dimensions\": {\"Algorithm\": \"Linear Learner\", \"Host\": \"algo-1\", \"Operation\": \"training\", \"epoch\": 0, \"model\": 6}, \"Metrics\": {\"train_binary_classification_cross_entropy_objective\": {\"sum\": 0.047596178833497774, \"count\": 1, \"min\": 0.047596178833497774, \"max\": 0.047596178833497774}}}\u001b[0m\n",
      "\u001b[34m#metrics {\"StartTime\": 1730378800.305651, \"EndTime\": 1730378800.3056626, \"Dimensions\": {\"Algorithm\": \"Linear Learner\", \"Host\": \"algo-1\", \"Operation\": \"training\", \"epoch\": 0, \"model\": 7}, \"Metrics\": {\"train_binary_classification_cross_entropy_objective\": {\"sum\": 0.046079595177910014, \"count\": 1, \"min\": 0.046079595177910014, \"max\": 0.046079595177910014}}}\u001b[0m\n",
      "\u001b[34m#metrics {\"StartTime\": 1730378800.3056955, \"EndTime\": 1730378800.305707, \"Dimensions\": {\"Algorithm\": \"Linear Learner\", \"Host\": \"algo-1\", \"Operation\": \"training\", \"epoch\": 0, \"model\": 8}, \"Metrics\": {\"train_binary_classification_cross_entropy_objective\": {\"sum\": 0.2151320282239068, \"count\": 1, \"min\": 0.2151320282239068, \"max\": 0.2151320282239068}}}\u001b[0m\n",
      "\u001b[34m#metrics {\"StartTime\": 1730378800.3057384, \"EndTime\": 1730378800.3057504, \"Dimensions\": {\"Algorithm\": \"Linear Learner\", \"Host\": \"algo-1\", \"Operation\": \"training\", \"epoch\": 0, \"model\": 9}, \"Metrics\": {\"train_binary_classification_cross_entropy_objective\": {\"sum\": 0.20062372149312896, \"count\": 1, \"min\": 0.20062372149312896, \"max\": 0.20062372149312896}}}\u001b[0m\n",
      "\u001b[34m#metrics {\"StartTime\": 1730378800.305781, \"EndTime\": 1730378800.3057919, \"Dimensions\": {\"Algorithm\": \"Linear Learner\", \"Host\": \"algo-1\", \"Operation\": \"training\", \"epoch\": 0, \"model\": 10}, \"Metrics\": {\"train_binary_classification_cross_entropy_objective\": {\"sum\": 0.21255254904137474, \"count\": 1, \"min\": 0.21255254904137474, \"max\": 0.21255254904137474}}}\u001b[0m\n",
      "\u001b[34m#metrics {\"StartTime\": 1730378800.3058317, \"EndTime\": 1730378800.3058429, \"Dimensions\": {\"Algorithm\": \"Linear Learner\", \"Host\": \"algo-1\", \"Operation\": \"training\", \"epoch\": 0, \"model\": 11}, \"Metrics\": {\"train_binary_classification_cross_entropy_objective\": {\"sum\": 0.20261106311436458, \"count\": 1, \"min\": 0.20261106311436458, \"max\": 0.20261106311436458}}}\u001b[0m\n",
      "\u001b[34m#metrics {\"StartTime\": 1730378800.3058822, \"EndTime\": 1730378800.3058937, \"Dimensions\": {\"Algorithm\": \"Linear Learner\", \"Host\": \"algo-1\", \"Operation\": \"training\", \"epoch\": 0, \"model\": 12}, \"Metrics\": {\"train_binary_classification_cross_entropy_objective\": {\"sum\": 0.12742305303567775, \"count\": 1, \"min\": 0.12742305303567775, \"max\": 0.12742305303567775}}}\u001b[0m\n",
      "\u001b[34m#metrics {\"StartTime\": 1730378800.3059313, \"EndTime\": 1730378800.3059425, \"Dimensions\": {\"Algorithm\": \"Linear Learner\", \"Host\": \"algo-1\", \"Operation\": \"training\", \"epoch\": 0, \"model\": 13}, \"Metrics\": {\"train_binary_classification_cross_entropy_objective\": {\"sum\": 0.13012230367398042, \"count\": 1, \"min\": 0.13012230367398042, \"max\": 0.13012230367398042}}}\u001b[0m\n",
      "\u001b[34m#metrics {\"StartTime\": 1730378800.3059793, \"EndTime\": 1730378800.305991, \"Dimensions\": {\"Algorithm\": \"Linear Learner\", \"Host\": \"algo-1\", \"Operation\": \"training\", \"epoch\": 0, \"model\": 14}, \"Metrics\": {\"train_binary_classification_cross_entropy_objective\": {\"sum\": 0.12732559383753972, \"count\": 1, \"min\": 0.12732559383753972, \"max\": 0.12732559383753972}}}\u001b[0m\n",
      "\u001b[34m#metrics {\"StartTime\": 1730378800.306029, \"EndTime\": 1730378800.3060396, \"Dimensions\": {\"Algorithm\": \"Linear Learner\", \"Host\": \"algo-1\", \"Operation\": \"training\", \"epoch\": 0, \"model\": 15}, \"Metrics\": {\"train_binary_classification_cross_entropy_objective\": {\"sum\": 0.13009991473160024, \"count\": 1, \"min\": 0.13009991473160024, \"max\": 0.13009991473160024}}}\u001b[0m\n",
      "\u001b[34m#metrics {\"StartTime\": 1730378800.3060756, \"EndTime\": 1730378800.3060858, \"Dimensions\": {\"Algorithm\": \"Linear Learner\", \"Host\": \"algo-1\", \"Operation\": \"training\", \"epoch\": 0, \"model\": 16}, \"Metrics\": {\"train_binary_classification_cross_entropy_objective\": {\"sum\": 0.4240004467512125, \"count\": 1, \"min\": 0.4240004467512125, \"max\": 0.4240004467512125}}}\u001b[0m\n",
      "\u001b[34m#metrics {\"StartTime\": 1730378800.3061202, \"EndTime\": 1730378800.3061306, \"Dimensions\": {\"Algorithm\": \"Linear Learner\", \"Host\": \"algo-1\", \"Operation\": \"training\", \"epoch\": 0, \"model\": 17}, \"Metrics\": {\"train_binary_classification_cross_entropy_objective\": {\"sum\": 0.4250180882911799, \"count\": 1, \"min\": 0.4250180882911799, \"max\": 0.4250180882911799}}}\u001b[0m\n",
      "\u001b[34m#metrics {\"StartTime\": 1730378800.306168, \"EndTime\": 1730378800.3061795, \"Dimensions\": {\"Algorithm\": \"Linear Learner\", \"Host\": \"algo-1\", \"Operation\": \"training\", \"epoch\": 0, \"model\": 18}, \"Metrics\": {\"train_binary_classification_cross_entropy_objective\": {\"sum\": 0.4249477720114798, \"count\": 1, \"min\": 0.4249477720114798, \"max\": 0.4249477720114798}}}\u001b[0m\n",
      "\u001b[34m#metrics {\"StartTime\": 1730378800.3062108, \"EndTime\": 1730378800.306222, \"Dimensions\": {\"Algorithm\": \"Linear Learner\", \"Host\": \"algo-1\", \"Operation\": \"training\", \"epoch\": 0, \"model\": 19}, \"Metrics\": {\"train_binary_classification_cross_entropy_objective\": {\"sum\": 0.4251237649713452, \"count\": 1, \"min\": 0.4251237649713452, \"max\": 0.4251237649713452}}}\u001b[0m\n",
      "\u001b[34m#metrics {\"StartTime\": 1730378800.30625, \"EndTime\": 1730378800.3062596, \"Dimensions\": {\"Algorithm\": \"Linear Learner\", \"Host\": \"algo-1\", \"Operation\": \"training\", \"epoch\": 0, \"model\": 20}, \"Metrics\": {\"train_binary_classification_cross_entropy_objective\": {\"sum\": 0.4247667057142345, \"count\": 1, \"min\": 0.4247667057142345, \"max\": 0.4247667057142345}}}\u001b[0m\n",
      "\u001b[34m#metrics {\"StartTime\": 1730378800.306301, \"EndTime\": 1730378800.3063114, \"Dimensions\": {\"Algorithm\": \"Linear Learner\", \"Host\": \"algo-1\", \"Operation\": \"training\", \"epoch\": 0, \"model\": 21}, \"Metrics\": {\"train_binary_classification_cross_entropy_objective\": {\"sum\": 0.42644774417702214, \"count\": 1, \"min\": 0.42644774417702214, \"max\": 0.42644774417702214}}}\u001b[0m\n",
      "\u001b[34m#metrics {\"StartTime\": 1730378800.3063498, \"EndTime\": 1730378800.3063612, \"Dimensions\": {\"Algorithm\": \"Linear Learner\", \"Host\": \"algo-1\", \"Operation\": \"training\", \"epoch\": 0, \"model\": 22}, \"Metrics\": {\"train_binary_classification_cross_entropy_objective\": {\"sum\": 0.4247476339077731, \"count\": 1, \"min\": 0.4247476339077731, \"max\": 0.4247476339077731}}}\u001b[0m\n",
      "\u001b[34m#metrics {\"StartTime\": 1730378800.3063982, \"EndTime\": 1730378800.3064086, \"Dimensions\": {\"Algorithm\": \"Linear Learner\", \"Host\": \"algo-1\", \"Operation\": \"training\", \"epoch\": 0, \"model\": 23}, \"Metrics\": {\"train_binary_classification_cross_entropy_objective\": {\"sum\": 0.42640606292817934, \"count\": 1, \"min\": 0.42640606292817934, \"max\": 0.42640606292817934}}}\u001b[0m\n",
      "\u001b[34m#metrics {\"StartTime\": 1730378800.306445, \"EndTime\": 1730378800.306455, \"Dimensions\": {\"Algorithm\": \"Linear Learner\", \"Host\": \"algo-1\", \"Operation\": \"training\", \"epoch\": 0, \"model\": 24}, \"Metrics\": {\"train_binary_classification_cross_entropy_objective\": {\"sum\": 0.5137942452153664, \"count\": 1, \"min\": 0.5137942452153664, \"max\": 0.5137942452153664}}}\u001b[0m\n",
      "\u001b[34m#metrics {\"StartTime\": 1730378800.306493, \"EndTime\": 1730378800.3065035, \"Dimensions\": {\"Algorithm\": \"Linear Learner\", \"Host\": \"algo-1\", \"Operation\": \"training\", \"epoch\": 0, \"model\": 25}, \"Metrics\": {\"train_binary_classification_cross_entropy_objective\": {\"sum\": 0.5138312472655503, \"count\": 1, \"min\": 0.5138312472655503, \"max\": 0.5138312472655503}}}\u001b[0m\n",
      "\u001b[34m#metrics {\"StartTime\": 1730378800.3065503, \"EndTime\": 1730378800.3065622, \"Dimensions\": {\"Algorithm\": \"Linear Learner\", \"Host\": \"algo-1\", \"Operation\": \"training\", \"epoch\": 0, \"model\": 26}, \"Metrics\": {\"train_binary_classification_cross_entropy_objective\": {\"sum\": 0.5137745218072827, \"count\": 1, \"min\": 0.5137745218072827, \"max\": 0.5137745218072827}}}\u001b[0m\n",
      "\u001b[34m#metrics {\"StartTime\": 1730378800.3066015, \"EndTime\": 1730378800.3066118, \"Dimensions\": {\"Algorithm\": \"Linear Learner\", \"Host\": \"algo-1\", \"Operation\": \"training\", \"epoch\": 0, \"model\": 27}, \"Metrics\": {\"train_binary_classification_cross_entropy_objective\": {\"sum\": 0.513800893077792, \"count\": 1, \"min\": 0.513800893077792, \"max\": 0.513800893077792}}}\u001b[0m\n",
      "\u001b[34m#metrics {\"StartTime\": 1730378800.3066475, \"EndTime\": 1730378800.306659, \"Dimensions\": {\"Algorithm\": \"Linear Learner\", \"Host\": \"algo-1\", \"Operation\": \"training\", \"epoch\": 0, \"model\": 28}, \"Metrics\": {\"train_binary_classification_cross_entropy_objective\": {\"sum\": 0.5139240812482455, \"count\": 1, \"min\": 0.5139240812482455, \"max\": 0.5139240812482455}}}\u001b[0m\n",
      "\u001b[34m#metrics {\"StartTime\": 1730378800.306697, \"EndTime\": 1730378800.3067079, \"Dimensions\": {\"Algorithm\": \"Linear Learner\", \"Host\": \"algo-1\", \"Operation\": \"training\", \"epoch\": 0, \"model\": 29}, \"Metrics\": {\"train_binary_classification_cross_entropy_objective\": {\"sum\": 0.5144996750157907, \"count\": 1, \"min\": 0.5144996750157907, \"max\": 0.5144996750157907}}}\u001b[0m\n",
      "\u001b[34m#metrics {\"StartTime\": 1730378800.3067434, \"EndTime\": 1730378800.3067536, \"Dimensions\": {\"Algorithm\": \"Linear Learner\", \"Host\": \"algo-1\", \"Operation\": \"training\", \"epoch\": 0, \"model\": 30}, \"Metrics\": {\"train_binary_classification_cross_entropy_objective\": {\"sum\": 0.5139288800674112, \"count\": 1, \"min\": 0.5139288800674112, \"max\": 0.5139288800674112}}}\u001b[0m\n",
      "\u001b[34m#metrics {\"StartTime\": 1730378800.3067935, \"EndTime\": 1730378800.306804, \"Dimensions\": {\"Algorithm\": \"Linear Learner\", \"Host\": \"algo-1\", \"Operation\": \"training\", \"epoch\": 0, \"model\": 31}, \"Metrics\": {\"train_binary_classification_cross_entropy_objective\": {\"sum\": 0.5144894696623543, \"count\": 1, \"min\": 0.5144894696623543, \"max\": 0.5144894696623543}}}\u001b[0m\n",
      "\u001b[34m[10/31/2024 12:46:40 INFO 140292085315392] #quality_metric: host=algo-1, epoch=0, train binary_classification_cross_entropy_objective <loss>=0.2011669577560658\u001b[0m\n",
      "\u001b[34m[2024-10-31 12:46:40.327] [tensorio] [info] epoch_stats={\"data_pipeline\": \"/opt/ml/input/data/validation\", \"epoch\": 0, \"duration\": 30574, \"num_examples\": 1, \"num_bytes\": 512000}\u001b[0m\n",
      "\u001b[34m[2024-10-31 12:46:43.641] [tensorio] [info] epoch_stats={\"data_pipeline\": \"/opt/ml/input/data/validation\", \"epoch\": 2, \"duration\": 3314, \"num_examples\": 164, \"num_bytes\": 83742208}\u001b[0m\n",
      "\u001b[34m#metrics {\"StartTime\": 1730378805.379997, \"EndTime\": 1730378805.380056, \"Dimensions\": {\"Algorithm\": \"Linear Learner\", \"Host\": \"algo-1\", \"Operation\": \"training\", \"epoch\": 0, \"model\": 0}, \"Metrics\": {\"validation_binary_classification_cross_entropy_objective\": {\"sum\": 0.13070419479729387, \"count\": 1, \"min\": 0.13070419479729387, \"max\": 0.13070419479729387}}}\u001b[0m\n",
      "\u001b[34m#metrics {\"StartTime\": 1730378805.38013, \"EndTime\": 1730378805.3801403, \"Dimensions\": {\"Algorithm\": \"Linear Learner\", \"Host\": \"algo-1\", \"Operation\": \"training\", \"epoch\": 0, \"model\": 1}, \"Metrics\": {\"validation_binary_classification_cross_entropy_objective\": {\"sum\": 0.10003014201613092, \"count\": 1, \"min\": 0.10003014201613092, \"max\": 0.10003014201613092}}}\u001b[0m\n",
      "\u001b[34m#metrics {\"StartTime\": 1730378805.380166, \"EndTime\": 1730378805.3801746, \"Dimensions\": {\"Algorithm\": \"Linear Learner\", \"Host\": \"algo-1\", \"Operation\": \"training\", \"epoch\": 0, \"model\": 2}, \"Metrics\": {\"validation_binary_classification_cross_entropy_objective\": {\"sum\": 0.13338687615382377, \"count\": 1, \"min\": 0.13338687615382377, \"max\": 0.13338687615382377}}}\u001b[0m\n",
      "\u001b[34m#metrics {\"StartTime\": 1730378805.3802085, \"EndTime\": 1730378805.3802173, \"Dimensions\": {\"Algorithm\": \"Linear Learner\", \"Host\": \"algo-1\", \"Operation\": \"training\", \"epoch\": 0, \"model\": 3}, \"Metrics\": {\"validation_binary_classification_cross_entropy_objective\": {\"sum\": 0.09561079306533063, \"count\": 1, \"min\": 0.09561079306533063, \"max\": 0.09561079306533063}}}\u001b[0m\n",
      "\u001b[34m#metrics {\"StartTime\": 1730378805.3802512, \"EndTime\": 1730378805.3802595, \"Dimensions\": {\"Algorithm\": \"Linear Learner\", \"Host\": \"algo-1\", \"Operation\": \"training\", \"epoch\": 0, \"model\": 4}, \"Metrics\": {\"validation_binary_classification_cross_entropy_objective\": {\"sum\": 0.029414428404379127, \"count\": 1, \"min\": 0.029414428404379127, \"max\": 0.029414428404379127}}}\u001b[0m\n",
      "\u001b[34m#metrics {\"StartTime\": 1730378805.3802898, \"EndTime\": 1730378805.3802981, \"Dimensions\": {\"Algorithm\": \"Linear Learner\", \"Host\": \"algo-1\", \"Operation\": \"training\", \"epoch\": 0, \"model\": 5}, \"Metrics\": {\"validation_binary_classification_cross_entropy_objective\": {\"sum\": 0.028592768690883008, \"count\": 1, \"min\": 0.028592768690883008, \"max\": 0.028592768690883008}}}\u001b[0m\n",
      "\u001b[34m#metrics {\"StartTime\": 1730378805.3803306, \"EndTime\": 1730378805.3803387, \"Dimensions\": {\"Algorithm\": \"Linear Learner\", \"Host\": \"algo-1\", \"Operation\": \"training\", \"epoch\": 0, \"model\": 6}, \"Metrics\": {\"validation_binary_classification_cross_entropy_objective\": {\"sum\": 0.02943010225071478, \"count\": 1, \"min\": 0.02943010225071478, \"max\": 0.02943010225071478}}}\u001b[0m\n",
      "\u001b[34m#metrics {\"StartTime\": 1730378805.380371, \"EndTime\": 1730378805.3803809, \"Dimensions\": {\"Algorithm\": \"Linear Learner\", \"Host\": \"algo-1\", \"Operation\": \"training\", \"epoch\": 0, \"model\": 7}, \"Metrics\": {\"validation_binary_classification_cross_entropy_objective\": {\"sum\": 0.028646033406363312, \"count\": 1, \"min\": 0.028646033406363312, \"max\": 0.028646033406363312}}}\u001b[0m\n",
      "\u001b[34m#metrics {\"StartTime\": 1730378805.3804145, \"EndTime\": 1730378805.3804238, \"Dimensions\": {\"Algorithm\": \"Linear Learner\", \"Host\": \"algo-1\", \"Operation\": \"training\", \"epoch\": 0, \"model\": 8}, \"Metrics\": {\"validation_binary_classification_cross_entropy_objective\": {\"sum\": 0.15078232842123054, \"count\": 1, \"min\": 0.15078232842123054, \"max\": 0.15078232842123054}}}\u001b[0m\n",
      "\u001b[34m#metrics {\"StartTime\": 1730378805.380457, \"EndTime\": 1730378805.3804667, \"Dimensions\": {\"Algorithm\": \"Linear Learner\", \"Host\": \"algo-1\", \"Operation\": \"training\", \"epoch\": 0, \"model\": 9}, \"Metrics\": {\"validation_binary_classification_cross_entropy_objective\": {\"sum\": 0.12992530591249157, \"count\": 1, \"min\": 0.12992530591249157, \"max\": 0.12992530591249157}}}\u001b[0m\n",
      "\u001b[34m#metrics {\"StartTime\": 1730378805.380505, \"EndTime\": 1730378805.3805158, \"Dimensions\": {\"Algorithm\": \"Linear Learner\", \"Host\": \"algo-1\", \"Operation\": \"training\", \"epoch\": 0, \"model\": 10}, \"Metrics\": {\"validation_binary_classification_cross_entropy_objective\": {\"sum\": 0.1494595850189429, \"count\": 1, \"min\": 0.1494595850189429, \"max\": 0.1494595850189429}}}\u001b[0m\n",
      "\u001b[34m#metrics {\"StartTime\": 1730378805.380549, \"EndTime\": 1730378805.380558, \"Dimensions\": {\"Algorithm\": \"Linear Learner\", \"Host\": \"algo-1\", \"Operation\": \"training\", \"epoch\": 0, \"model\": 11}, \"Metrics\": {\"validation_binary_classification_cross_entropy_objective\": {\"sum\": 0.13053209772215463, \"count\": 1, \"min\": 0.13053209772215463, \"max\": 0.13053209772215463}}}\u001b[0m\n",
      "\u001b[34m#metrics {\"StartTime\": 1730378805.380592, \"EndTime\": 1730378805.3806024, \"Dimensions\": {\"Algorithm\": \"Linear Learner\", \"Host\": \"algo-1\", \"Operation\": \"training\", \"epoch\": 0, \"model\": 12}, \"Metrics\": {\"validation_binary_classification_cross_entropy_objective\": {\"sum\": 0.12197521475296544, \"count\": 1, \"min\": 0.12197521475296544, \"max\": 0.12197521475296544}}}\u001b[0m\n",
      "\u001b[34m#metrics {\"StartTime\": 1730378805.3806336, \"EndTime\": 1730378805.380644, \"Dimensions\": {\"Algorithm\": \"Linear Learner\", \"Host\": \"algo-1\", \"Operation\": \"training\", \"epoch\": 0, \"model\": 13}, \"Metrics\": {\"validation_binary_classification_cross_entropy_objective\": {\"sum\": 0.12977013718473365, \"count\": 1, \"min\": 0.12977013718473365, \"max\": 0.12977013718473365}}}\u001b[0m\n",
      "\u001b[34m#metrics {\"StartTime\": 1730378805.3806825, \"EndTime\": 1730378805.380692, \"Dimensions\": {\"Algorithm\": \"Linear Learner\", \"Host\": \"algo-1\", \"Operation\": \"training\", \"epoch\": 0, \"model\": 14}, \"Metrics\": {\"validation_binary_classification_cross_entropy_objective\": {\"sum\": 0.12197949276292668, \"count\": 1, \"min\": 0.12197949276292668, \"max\": 0.12197949276292668}}}\u001b[0m\n",
      "\u001b[34m#metrics {\"StartTime\": 1730378805.38073, \"EndTime\": 1730378805.3807406, \"Dimensions\": {\"Algorithm\": \"Linear Learner\", \"Host\": \"algo-1\", \"Operation\": \"training\", \"epoch\": 0, \"model\": 15}, \"Metrics\": {\"validation_binary_classification_cross_entropy_objective\": {\"sum\": 0.12974040676006834, \"count\": 1, \"min\": 0.12974040676006834, \"max\": 0.12974040676006834}}}\u001b[0m\n",
      "\u001b[34m#metrics {\"StartTime\": 1730378805.3807762, \"EndTime\": 1730378805.3807855, \"Dimensions\": {\"Algorithm\": \"Linear Learner\", \"Host\": \"algo-1\", \"Operation\": \"training\", \"epoch\": 0, \"model\": 16}, \"Metrics\": {\"validation_binary_classification_cross_entropy_objective\": {\"sum\": 0.42128517049610154, \"count\": 1, \"min\": 0.42128517049610154, \"max\": 0.42128517049610154}}}\u001b[0m\n",
      "\u001b[34m#metrics {\"StartTime\": 1730378805.3808198, \"EndTime\": 1730378805.380827, \"Dimensions\": {\"Algorithm\": \"Linear Learner\", \"Host\": \"algo-1\", \"Operation\": \"training\", \"epoch\": 0, \"model\": 17}, \"Metrics\": {\"validation_binary_classification_cross_entropy_objective\": {\"sum\": 0.4218172046974209, \"count\": 1, \"min\": 0.4218172046974209, \"max\": 0.4218172046974209}}}\u001b[0m\n",
      "\u001b[34m#metrics {\"StartTime\": 1730378805.3808622, \"EndTime\": 1730378805.380871, \"Dimensions\": {\"Algorithm\": \"Linear Learner\", \"Host\": \"algo-1\", \"Operation\": \"training\", \"epoch\": 0, \"model\": 18}, \"Metrics\": {\"validation_binary_classification_cross_entropy_objective\": {\"sum\": 0.4214114081739402, \"count\": 1, \"min\": 0.4214114081739402, \"max\": 0.4214114081739402}}}\u001b[0m\n",
      "\u001b[34m#metrics {\"StartTime\": 1730378805.3809035, \"EndTime\": 1730378805.3809123, \"Dimensions\": {\"Algorithm\": \"Linear Learner\", \"Host\": \"algo-1\", \"Operation\": \"training\", \"epoch\": 0, \"model\": 19}, \"Metrics\": {\"validation_binary_classification_cross_entropy_objective\": {\"sum\": 0.42187669437406045, \"count\": 1, \"min\": 0.42187669437406045, \"max\": 0.42187669437406045}}}\u001b[0m\n",
      "\u001b[34m#metrics {\"StartTime\": 1730378805.3809776, \"EndTime\": 1730378805.3809888, \"Dimensions\": {\"Algorithm\": \"Linear Learner\", \"Host\": \"algo-1\", \"Operation\": \"training\", \"epoch\": 0, \"model\": 20}, \"Metrics\": {\"validation_binary_classification_cross_entropy_objective\": {\"sum\": 0.42338644024946176, \"count\": 1, \"min\": 0.42338644024946176, \"max\": 0.42338644024946176}}}\u001b[0m\n",
      "\u001b[34m#metrics {\"StartTime\": 1730378805.3810177, \"EndTime\": 1730378805.3810263, \"Dimensions\": {\"Algorithm\": \"Linear Learner\", \"Host\": \"algo-1\", \"Operation\": \"training\", \"epoch\": 0, \"model\": 21}, \"Metrics\": {\"validation_binary_classification_cross_entropy_objective\": {\"sum\": 0.44046384748790596, \"count\": 1, \"min\": 0.44046384748790596, \"max\": 0.44046384748790596}}}\u001b[0m\n",
      "\u001b[34m#metrics {\"StartTime\": 1730378805.381056, \"EndTime\": 1730378805.381065, \"Dimensions\": {\"Algorithm\": \"Linear Learner\", \"Host\": \"algo-1\", \"Operation\": \"training\", \"epoch\": 0, \"model\": 22}, \"Metrics\": {\"validation_binary_classification_cross_entropy_objective\": {\"sum\": 0.4234292652226521, \"count\": 1, \"min\": 0.4234292652226521, \"max\": 0.4234292652226521}}}\u001b[0m\n",
      "\u001b[34m#metrics {\"StartTime\": 1730378805.3811016, \"EndTime\": 1730378805.3811104, \"Dimensions\": {\"Algorithm\": \"Linear Learner\", \"Host\": \"algo-1\", \"Operation\": \"training\", \"epoch\": 0, \"model\": 23}, \"Metrics\": {\"validation_binary_classification_cross_entropy_objective\": {\"sum\": 0.44052324209973065, \"count\": 1, \"min\": 0.44052324209973065, \"max\": 0.44052324209973065}}}\u001b[0m\n",
      "\u001b[34m#metrics {\"StartTime\": 1730378805.381144, \"EndTime\": 1730378805.3811533, \"Dimensions\": {\"Algorithm\": \"Linear Learner\", \"Host\": \"algo-1\", \"Operation\": \"training\", \"epoch\": 0, \"model\": 24}, \"Metrics\": {\"validation_binary_classification_cross_entropy_objective\": {\"sum\": 0.5122510185514813, \"count\": 1, \"min\": 0.5122510185514813, \"max\": 0.5122510185514813}}}\u001b[0m\n",
      "\u001b[34m#metrics {\"StartTime\": 1730378805.3811882, \"EndTime\": 1730378805.3811972, \"Dimensions\": {\"Algorithm\": \"Linear Learner\", \"Host\": \"algo-1\", \"Operation\": \"training\", \"epoch\": 0, \"model\": 25}, \"Metrics\": {\"validation_binary_classification_cross_entropy_objective\": {\"sum\": 0.5125005762849602, \"count\": 1, \"min\": 0.5125005762849602, \"max\": 0.5125005762849602}}}\u001b[0m\n",
      "\u001b[34m#metrics {\"StartTime\": 1730378805.3812351, \"EndTime\": 1730378805.3812456, \"Dimensions\": {\"Algorithm\": \"Linear Learner\", \"Host\": \"algo-1\", \"Operation\": \"training\", \"epoch\": 0, \"model\": 26}, \"Metrics\": {\"validation_binary_classification_cross_entropy_objective\": {\"sum\": 0.5123814517689216, \"count\": 1, \"min\": 0.5123814517689216, \"max\": 0.5123814517689216}}}\u001b[0m\n",
      "\u001b[34m#metrics {\"StartTime\": 1730378805.3812826, \"EndTime\": 1730378805.381293, \"Dimensions\": {\"Algorithm\": \"Linear Learner\", \"Host\": \"algo-1\", \"Operation\": \"training\", \"epoch\": 0, \"model\": 27}, \"Metrics\": {\"validation_binary_classification_cross_entropy_objective\": {\"sum\": 0.5127984002628041, \"count\": 1, \"min\": 0.5127984002628041, \"max\": 0.5127984002628041}}}\u001b[0m\n",
      "\u001b[34m#metrics {\"StartTime\": 1730378805.3813589, \"EndTime\": 1730378805.3813868, \"Dimensions\": {\"Algorithm\": \"Linear Learner\", \"Host\": \"algo-1\", \"Operation\": \"training\", \"epoch\": 0, \"model\": 28}, \"Metrics\": {\"validation_binary_classification_cross_entropy_objective\": {\"sum\": 0.5125356252548297, \"count\": 1, \"min\": 0.5125356252548297, \"max\": 0.5125356252548297}}}\u001b[0m\n",
      "\u001b[34m#metrics {\"StartTime\": 1730378805.3814278, \"EndTime\": 1730378805.3814354, \"Dimensions\": {\"Algorithm\": \"Linear Learner\", \"Host\": \"algo-1\", \"Operation\": \"training\", \"epoch\": 0, \"model\": 29}, \"Metrics\": {\"validation_binary_classification_cross_entropy_objective\": {\"sum\": 0.5156300536418266, \"count\": 1, \"min\": 0.5156300536418266, \"max\": 0.5156300536418266}}}\u001b[0m\n",
      "\u001b[34m#metrics {\"StartTime\": 1730378805.381461, \"EndTime\": 1730378805.381467, \"Dimensions\": {\"Algorithm\": \"Linear Learner\", \"Host\": \"algo-1\", \"Operation\": \"training\", \"epoch\": 0, \"model\": 30}, \"Metrics\": {\"validation_binary_classification_cross_entropy_objective\": {\"sum\": 0.5123207123491418, \"count\": 1, \"min\": 0.5123207123491418, \"max\": 0.5123207123491418}}}\u001b[0m\n",
      "\u001b[34m#metrics {\"StartTime\": 1730378805.3814995, \"EndTime\": 1730378805.3815084, \"Dimensions\": {\"Algorithm\": \"Linear Learner\", \"Host\": \"algo-1\", \"Operation\": \"training\", \"epoch\": 0, \"model\": 31}, \"Metrics\": {\"validation_binary_classification_cross_entropy_objective\": {\"sum\": 0.5153458402586543, \"count\": 1, \"min\": 0.5153458402586543, \"max\": 0.5153458402586543}}}\u001b[0m\n",
      "\u001b[34m[10/31/2024 12:46:45 INFO 140292085315392] #quality_metric: host=algo-1, epoch=0, validation binary_classification_cross_entropy_objective <loss>=0.13070419479729387\u001b[0m\n",
      "\u001b[34m[10/31/2024 12:46:45 INFO 140292085315392] #early_stopping_criteria_metric: host=algo-1, epoch=0, criteria=sampled_f_beta, value=0.9851759713177728\u001b[0m\n",
      "\u001b[34m[10/31/2024 12:46:45 INFO 140292085315392] Epoch 0: Loss improved. Updating best model\u001b[0m\n",
      "\u001b[34m[10/31/2024 12:46:45 INFO 140292085315392] Saving model for epoch: 0\u001b[0m\n",
      "\u001b[34m[10/31/2024 12:46:45 INFO 140292085315392] Saved checkpoint to \"/tmp/tmp_j8ndxse/mx-mod-0000.params\"\u001b[0m\n",
      "\u001b[34m[10/31/2024 12:46:45 INFO 140292085315392] #progress_metric: host=algo-1, completed 6.666666666666667 % of epochs\u001b[0m\n",
      "\u001b[34m#metrics {\"StartTime\": 1730378770.031407, \"EndTime\": 1730378805.387774, \"Dimensions\": {\"Algorithm\": \"Linear Learner\", \"Host\": \"algo-1\", \"Operation\": \"training\", \"epoch\": 0, \"Meta\": \"training_data_iter\"}, \"Metrics\": {\"Total Records Seen\": {\"sum\": 1320472.0, \"count\": 1, \"min\": 1320472, \"max\": 1320472}, \"Total Batches Seen\": {\"sum\": 1321.0, \"count\": 1, \"min\": 1321, \"max\": 1321}, \"Max Records Seen Between Resets\": {\"sum\": 1308472.0, \"count\": 1, \"min\": 1308472, \"max\": 1308472}, \"Max Batches Seen Between Resets\": {\"sum\": 1309.0, \"count\": 1, \"min\": 1309, \"max\": 1309}, \"Reset Count\": {\"sum\": 3.0, \"count\": 1, \"min\": 3, \"max\": 3}, \"Number of Records Since Last Reset\": {\"sum\": 1308472.0, \"count\": 1, \"min\": 1308472, \"max\": 1308472}, \"Number of Batches Since Last Reset\": {\"sum\": 1309.0, \"count\": 1, \"min\": 1309, \"max\": 1309}}}\u001b[0m\n",
      "\u001b[34m[10/31/2024 12:46:45 INFO 140292085315392] #throughput_metric: host=algo-1, train throughput=37007.984813813055 records/second\u001b[0m\n",
      "\u001b[34m[2024-10-31 12:47:17.547] [tensorio] [info] epoch_stats={\"data_pipeline\": \"/opt/ml/input/data/train\", \"epoch\": 5, \"duration\": 32159, \"num_examples\": 1309, \"num_bytes\": 669937664}\u001b[0m\n",
      "\u001b[34m#metrics {\"StartTime\": 1730378837.5472634, \"EndTime\": 1730378837.5473225, \"Dimensions\": {\"Algorithm\": \"Linear Learner\", \"Host\": \"algo-1\", \"Operation\": \"training\", \"epoch\": 1, \"model\": 0}, \"Metrics\": {\"train_binary_classification_cross_entropy_objective\": {\"sum\": 0.11528337900937514, \"count\": 1, \"min\": 0.11528337900937514, \"max\": 0.11528337900937514}}}\u001b[0m\n",
      "\u001b[34m#metrics {\"StartTime\": 1730378837.5473948, \"EndTime\": 1730378837.5474062, \"Dimensions\": {\"Algorithm\": \"Linear Learner\", \"Host\": \"algo-1\", \"Operation\": \"training\", \"epoch\": 1, \"model\": 1}, \"Metrics\": {\"train_binary_classification_cross_entropy_objective\": {\"sum\": 0.07721071488849979, \"count\": 1, \"min\": 0.07721071488849979, \"max\": 0.07721071488849979}}}\u001b[0m\n",
      "\u001b[34m#metrics {\"StartTime\": 1730378837.5474336, \"EndTime\": 1730378837.547441, \"Dimensions\": {\"Algorithm\": \"Linear Learner\", \"Host\": \"algo-1\", \"Operation\": \"training\", \"epoch\": 1, \"model\": 2}, \"Metrics\": {\"train_binary_classification_cross_entropy_objective\": {\"sum\": 0.11756437034490276, \"count\": 1, \"min\": 0.11756437034490276, \"max\": 0.11756437034490276}}}\u001b[0m\n",
      "\u001b[34m#metrics {\"StartTime\": 1730378837.5474677, \"EndTime\": 1730378837.5474744, \"Dimensions\": {\"Algorithm\": \"Linear Learner\", \"Host\": \"algo-1\", \"Operation\": \"training\", \"epoch\": 1, \"model\": 3}, \"Metrics\": {\"train_binary_classification_cross_entropy_objective\": {\"sum\": 0.07401447380427556, \"count\": 1, \"min\": 0.07401447380427556, \"max\": 0.07401447380427556}}}\u001b[0m\n",
      "\u001b[34m#metrics {\"StartTime\": 1730378837.547497, \"EndTime\": 1730378837.5475035, \"Dimensions\": {\"Algorithm\": \"Linear Learner\", \"Host\": \"algo-1\", \"Operation\": \"training\", \"epoch\": 1, \"model\": 4}, \"Metrics\": {\"train_binary_classification_cross_entropy_objective\": {\"sum\": 0.0262451086000565, \"count\": 1, \"min\": 0.0262451086000565, \"max\": 0.0262451086000565}}}\u001b[0m\n",
      "\u001b[34m#metrics {\"StartTime\": 1730378837.5475256, \"EndTime\": 1730378837.547532, \"Dimensions\": {\"Algorithm\": \"Linear Learner\", \"Host\": \"algo-1\", \"Operation\": \"training\", \"epoch\": 1, \"model\": 5}, \"Metrics\": {\"train_binary_classification_cross_entropy_objective\": {\"sum\": 0.027380040902974773, \"count\": 1, \"min\": 0.027380040902974773, \"max\": 0.027380040902974773}}}\u001b[0m\n",
      "\u001b[34m#metrics {\"StartTime\": 1730378837.5475535, \"EndTime\": 1730378837.5475597, \"Dimensions\": {\"Algorithm\": \"Linear Learner\", \"Host\": \"algo-1\", \"Operation\": \"training\", \"epoch\": 1, \"model\": 6}, \"Metrics\": {\"train_binary_classification_cross_entropy_objective\": {\"sum\": 0.026271624885203276, \"count\": 1, \"min\": 0.026271624885203276, \"max\": 0.026271624885203276}}}\u001b[0m\n",
      "\u001b[34m#metrics {\"StartTime\": 1730378837.5475812, \"EndTime\": 1730378837.5475872, \"Dimensions\": {\"Algorithm\": \"Linear Learner\", \"Host\": \"algo-1\", \"Operation\": \"training\", \"epoch\": 1, \"model\": 7}, \"Metrics\": {\"train_binary_classification_cross_entropy_objective\": {\"sum\": 0.02742302747822683, \"count\": 1, \"min\": 0.02742302747822683, \"max\": 0.02742302747822683}}}\u001b[0m\n",
      "\u001b[34m#metrics {\"StartTime\": 1730378837.5476131, \"EndTime\": 1730378837.5476196, \"Dimensions\": {\"Algorithm\": \"Linear Learner\", \"Host\": \"algo-1\", \"Operation\": \"training\", \"epoch\": 1, \"model\": 8}, \"Metrics\": {\"train_binary_classification_cross_entropy_objective\": {\"sum\": 0.13932043462280833, \"count\": 1, \"min\": 0.13932043462280833, \"max\": 0.13932043462280833}}}\u001b[0m\n",
      "\u001b[34m#metrics {\"StartTime\": 1730378837.5476434, \"EndTime\": 1730378837.5476496, \"Dimensions\": {\"Algorithm\": \"Linear Learner\", \"Host\": \"algo-1\", \"Operation\": \"training\", \"epoch\": 1, \"model\": 9}, \"Metrics\": {\"train_binary_classification_cross_entropy_objective\": {\"sum\": 0.122091647005227, \"count\": 1, \"min\": 0.122091647005227, \"max\": 0.122091647005227}}}\u001b[0m\n",
      "\u001b[34m#metrics {\"StartTime\": 1730378837.5476706, \"EndTime\": 1730378837.5476763, \"Dimensions\": {\"Algorithm\": \"Linear Learner\", \"Host\": \"algo-1\", \"Operation\": \"training\", \"epoch\": 1, \"model\": 10}, \"Metrics\": {\"train_binary_classification_cross_entropy_objective\": {\"sum\": 0.1383050492371259, \"count\": 1, \"min\": 0.1383050492371259, \"max\": 0.1383050492371259}}}\u001b[0m\n",
      "\u001b[34m#metrics {\"StartTime\": 1730378837.5476978, \"EndTime\": 1730378837.5477035, \"Dimensions\": {\"Algorithm\": \"Linear Learner\", \"Host\": \"algo-1\", \"Operation\": \"training\", \"epoch\": 1, \"model\": 11}, \"Metrics\": {\"train_binary_classification_cross_entropy_objective\": {\"sum\": 0.12230447416859665, \"count\": 1, \"min\": 0.12230447416859665, \"max\": 0.12230447416859665}}}\u001b[0m\n",
      "\u001b[34m#metrics {\"StartTime\": 1730378837.5477245, \"EndTime\": 1730378837.5477307, \"Dimensions\": {\"Algorithm\": \"Linear Learner\", \"Host\": \"algo-1\", \"Operation\": \"training\", \"epoch\": 1, \"model\": 12}, \"Metrics\": {\"train_binary_classification_cross_entropy_objective\": {\"sum\": 0.12048136422976806, \"count\": 1, \"min\": 0.12048136422976806, \"max\": 0.12048136422976806}}}\u001b[0m\n",
      "\u001b[34m#metrics {\"StartTime\": 1730378837.5477517, \"EndTime\": 1730378837.5477579, \"Dimensions\": {\"Algorithm\": \"Linear Learner\", \"Host\": \"algo-1\", \"Operation\": \"training\", \"epoch\": 1, \"model\": 13}, \"Metrics\": {\"train_binary_classification_cross_entropy_objective\": {\"sum\": 0.12602705492375457, \"count\": 1, \"min\": 0.12602705492375457, \"max\": 0.12602705492375457}}}\u001b[0m\n",
      "\u001b[34m#metrics {\"StartTime\": 1730378837.5477834, \"EndTime\": 1730378837.54779, \"Dimensions\": {\"Algorithm\": \"Linear Learner\", \"Host\": \"algo-1\", \"Operation\": \"training\", \"epoch\": 1, \"model\": 14}, \"Metrics\": {\"train_binary_classification_cross_entropy_objective\": {\"sum\": 0.12048139259501699, \"count\": 1, \"min\": 0.12048139259501699, \"max\": 0.12048139259501699}}}\u001b[0m\n",
      "\u001b[34m#metrics {\"StartTime\": 1730378837.547816, \"EndTime\": 1730378837.5478222, \"Dimensions\": {\"Algorithm\": \"Linear Learner\", \"Host\": \"algo-1\", \"Operation\": \"training\", \"epoch\": 1, \"model\": 15}, \"Metrics\": {\"train_binary_classification_cross_entropy_objective\": {\"sum\": 0.12602953918410367, \"count\": 1, \"min\": 0.12602953918410367, \"max\": 0.12602953918410367}}}\u001b[0m\n",
      "\u001b[34m#metrics {\"StartTime\": 1730378837.5478482, \"EndTime\": 1730378837.5478547, \"Dimensions\": {\"Algorithm\": \"Linear Learner\", \"Host\": \"algo-1\", \"Operation\": \"training\", \"epoch\": 1, \"model\": 16}, \"Metrics\": {\"train_binary_classification_cross_entropy_objective\": {\"sum\": 0.4215676981374758, \"count\": 1, \"min\": 0.4215676981374758, \"max\": 0.4215676981374758}}}\u001b[0m\n",
      "\u001b[34m#metrics {\"StartTime\": 1730378837.5478761, \"EndTime\": 1730378837.547882, \"Dimensions\": {\"Algorithm\": \"Linear Learner\", \"Host\": \"algo-1\", \"Operation\": \"training\", \"epoch\": 1, \"model\": 17}, \"Metrics\": {\"train_binary_classification_cross_entropy_objective\": {\"sum\": 0.42179335446605626, \"count\": 1, \"min\": 0.42179335446605626, \"max\": 0.42179335446605626}}}\u001b[0m\n",
      "\u001b[34m#metrics {\"StartTime\": 1730378837.5479074, \"EndTime\": 1730378837.5479138, \"Dimensions\": {\"Algorithm\": \"Linear Learner\", \"Host\": \"algo-1\", \"Operation\": \"training\", \"epoch\": 1, \"model\": 18}, \"Metrics\": {\"train_binary_classification_cross_entropy_objective\": {\"sum\": 0.4215663262230176, \"count\": 1, \"min\": 0.4215663262230176, \"max\": 0.4215663262230176}}}\u001b[0m\n",
      "\u001b[34m#metrics {\"StartTime\": 1730378837.5479395, \"EndTime\": 1730378837.5479465, \"Dimensions\": {\"Algorithm\": \"Linear Learner\", \"Host\": \"algo-1\", \"Operation\": \"training\", \"epoch\": 1, \"model\": 19}, \"Metrics\": {\"train_binary_classification_cross_entropy_objective\": {\"sum\": 0.4217936160352981, \"count\": 1, \"min\": 0.4217936160352981, \"max\": 0.4217936160352981}}}\u001b[0m\n",
      "\u001b[34m#metrics {\"StartTime\": 1730378837.5479722, \"EndTime\": 1730378837.5479786, \"Dimensions\": {\"Algorithm\": \"Linear Learner\", \"Host\": \"algo-1\", \"Operation\": \"training\", \"epoch\": 1, \"model\": 20}, \"Metrics\": {\"train_binary_classification_cross_entropy_objective\": {\"sum\": 0.4223420962179108, \"count\": 1, \"min\": 0.4223420962179108, \"max\": 0.4223420962179108}}}\u001b[0m\n",
      "\u001b[34m#metrics {\"StartTime\": 1730378837.5480006, \"EndTime\": 1730378837.5480068, \"Dimensions\": {\"Algorithm\": \"Linear Learner\", \"Host\": \"algo-1\", \"Operation\": \"training\", \"epoch\": 1, \"model\": 21}, \"Metrics\": {\"train_binary_classification_cross_entropy_objective\": {\"sum\": 0.4256216558053953, \"count\": 1, \"min\": 0.4256216558053953, \"max\": 0.4256216558053953}}}\u001b[0m\n",
      "\u001b[34m#metrics {\"StartTime\": 1730378837.548032, \"EndTime\": 1730378837.5480385, \"Dimensions\": {\"Algorithm\": \"Linear Learner\", \"Host\": \"algo-1\", \"Operation\": \"training\", \"epoch\": 1, \"model\": 22}, \"Metrics\": {\"train_binary_classification_cross_entropy_objective\": {\"sum\": 0.4223417261339473, \"count\": 1, \"min\": 0.4223417261339473, \"max\": 0.4223417261339473}}}\u001b[0m\n",
      "\u001b[34m#metrics {\"StartTime\": 1730378837.5480642, \"EndTime\": 1730378837.5480711, \"Dimensions\": {\"Algorithm\": \"Linear Learner\", \"Host\": \"algo-1\", \"Operation\": \"training\", \"epoch\": 1, \"model\": 23}, \"Metrics\": {\"train_binary_classification_cross_entropy_objective\": {\"sum\": 0.4256217546608834, \"count\": 1, \"min\": 0.4256217546608834, \"max\": 0.4256217546608834}}}\u001b[0m\n",
      "\u001b[34m#metrics {\"StartTime\": 1730378837.5481043, \"EndTime\": 1730378837.548111, \"Dimensions\": {\"Algorithm\": \"Linear Learner\", \"Host\": \"algo-1\", \"Operation\": \"training\", \"epoch\": 1, \"model\": 24}, \"Metrics\": {\"train_binary_classification_cross_entropy_objective\": {\"sum\": 0.5123572228341292, \"count\": 1, \"min\": 0.5123572228341292, \"max\": 0.5123572228341292}}}\u001b[0m\n",
      "\u001b[34m#metrics {\"StartTime\": 1730378837.5481324, \"EndTime\": 1730378837.5481381, \"Dimensions\": {\"Algorithm\": \"Linear Learner\", \"Host\": \"algo-1\", \"Operation\": \"training\", \"epoch\": 1, \"model\": 25}, \"Metrics\": {\"train_binary_classification_cross_entropy_objective\": {\"sum\": 0.5124338278580879, \"count\": 1, \"min\": 0.5124338278580879, \"max\": 0.5124338278580879}}}\u001b[0m\n",
      "\u001b[34m#metrics {\"StartTime\": 1730378837.548159, \"EndTime\": 1730378837.5481648, \"Dimensions\": {\"Algorithm\": \"Linear Learner\", \"Host\": \"algo-1\", \"Operation\": \"training\", \"epoch\": 1, \"model\": 26}, \"Metrics\": {\"train_binary_classification_cross_entropy_objective\": {\"sum\": 0.5123573810449069, \"count\": 1, \"min\": 0.5123573810449069, \"max\": 0.5123573810449069}}}\u001b[0m\n",
      "\u001b[34m#metrics {\"StartTime\": 1730378837.5481858, \"EndTime\": 1730378837.5481918, \"Dimensions\": {\"Algorithm\": \"Linear Learner\", \"Host\": \"algo-1\", \"Operation\": \"training\", \"epoch\": 1, \"model\": 27}, \"Metrics\": {\"train_binary_classification_cross_entropy_objective\": {\"sum\": 0.5124347185140721, \"count\": 1, \"min\": 0.5124347185140721, \"max\": 0.5124347185140721}}}\u001b[0m\n",
      "\u001b[34m#metrics {\"StartTime\": 1730378837.5482125, \"EndTime\": 1730378837.5482183, \"Dimensions\": {\"Algorithm\": \"Linear Learner\", \"Host\": \"algo-1\", \"Operation\": \"training\", \"epoch\": 1, \"model\": 28}, \"Metrics\": {\"train_binary_classification_cross_entropy_objective\": {\"sum\": 0.5126305095894257, \"count\": 1, \"min\": 0.5126305095894257, \"max\": 0.5126305095894257}}}\u001b[0m\n",
      "\u001b[34m#metrics {\"StartTime\": 1730378837.548239, \"EndTime\": 1730378837.548245, \"Dimensions\": {\"Algorithm\": \"Linear Learner\", \"Host\": \"algo-1\", \"Operation\": \"training\", \"epoch\": 1, \"model\": 29}, \"Metrics\": {\"train_binary_classification_cross_entropy_objective\": {\"sum\": 0.5138943879480391, \"count\": 1, \"min\": 0.5138943879480391, \"max\": 0.5138943879480391}}}\u001b[0m\n",
      "\u001b[34m#metrics {\"StartTime\": 1730378837.5482657, \"EndTime\": 1730378837.5482717, \"Dimensions\": {\"Algorithm\": \"Linear Learner\", \"Host\": \"algo-1\", \"Operation\": \"training\", \"epoch\": 1, \"model\": 30}, \"Metrics\": {\"train_binary_classification_cross_entropy_objective\": {\"sum\": 0.5126295251408848, \"count\": 1, \"min\": 0.5126295251408848, \"max\": 0.5126295251408848}}}\u001b[0m\n",
      "\u001b[34m#metrics {\"StartTime\": 1730378837.5482922, \"EndTime\": 1730378837.5482984, \"Dimensions\": {\"Algorithm\": \"Linear Learner\", \"Host\": \"algo-1\", \"Operation\": \"training\", \"epoch\": 1, \"model\": 31}, \"Metrics\": {\"train_binary_classification_cross_entropy_objective\": {\"sum\": 0.5139077488843818, \"count\": 1, \"min\": 0.5139077488843818, \"max\": 0.5139077488843818}}}\u001b[0m\n",
      "\u001b[34m[10/31/2024 12:47:17 INFO 140292085315392] #quality_metric: host=algo-1, epoch=1, train binary_classification_cross_entropy_objective <loss>=0.11528337900937514\u001b[0m\n",
      "\u001b[34m[2024-10-31 12:47:20.635] [tensorio] [info] epoch_stats={\"data_pipeline\": \"/opt/ml/input/data/validation\", \"epoch\": 5, \"duration\": 3072, \"num_examples\": 164, \"num_bytes\": 83742208}\u001b[0m\n",
      "\u001b[34m#metrics {\"StartTime\": 1730378842.3405957, \"EndTime\": 1730378842.3406525, \"Dimensions\": {\"Algorithm\": \"Linear Learner\", \"Host\": \"algo-1\", \"Operation\": \"training\", \"epoch\": 1, \"model\": 0}, \"Metrics\": {\"validation_binary_classification_cross_entropy_objective\": {\"sum\": 0.10658392698234682, \"count\": 1, \"min\": 0.10658392698234682, \"max\": 0.10658392698234682}}}\u001b[0m\n",
      "\u001b[34m#metrics {\"StartTime\": 1730378842.340726, \"EndTime\": 1730378842.340739, \"Dimensions\": {\"Algorithm\": \"Linear Learner\", \"Host\": \"algo-1\", \"Operation\": \"training\", \"epoch\": 1, \"model\": 1}, \"Metrics\": {\"validation_binary_classification_cross_entropy_objective\": {\"sum\": 0.06251159844384417, \"count\": 1, \"min\": 0.06251159844384417, \"max\": 0.06251159844384417}}}\u001b[0m\n",
      "\u001b[34m#metrics {\"StartTime\": 1730378842.3407733, \"EndTime\": 1730378842.340784, \"Dimensions\": {\"Algorithm\": \"Linear Learner\", \"Host\": \"algo-1\", \"Operation\": \"training\", \"epoch\": 1, \"model\": 2}, \"Metrics\": {\"validation_binary_classification_cross_entropy_objective\": {\"sum\": 0.10860997527823724, \"count\": 1, \"min\": 0.10860997527823724, \"max\": 0.10860997527823724}}}\u001b[0m\n",
      "\u001b[34m#metrics {\"StartTime\": 1730378842.340814, \"EndTime\": 1730378842.3408248, \"Dimensions\": {\"Algorithm\": \"Linear Learner\", \"Host\": \"algo-1\", \"Operation\": \"training\", \"epoch\": 1, \"model\": 3}, \"Metrics\": {\"validation_binary_classification_cross_entropy_objective\": {\"sum\": 0.06016714685338247, \"count\": 1, \"min\": 0.06016714685338247, \"max\": 0.06016714685338247}}}\u001b[0m\n",
      "\u001b[34m#metrics {\"StartTime\": 1730378842.340853, \"EndTime\": 1730378842.340863, \"Dimensions\": {\"Algorithm\": \"Linear Learner\", \"Host\": \"algo-1\", \"Operation\": \"training\", \"epoch\": 1, \"model\": 4}, \"Metrics\": {\"validation_binary_classification_cross_entropy_objective\": {\"sum\": 0.025587416093723312, \"count\": 1, \"min\": 0.025587416093723312, \"max\": 0.025587416093723312}}}\u001b[0m\n",
      "\u001b[34m#metrics {\"StartTime\": 1730378842.3408935, \"EndTime\": 1730378842.3409014, \"Dimensions\": {\"Algorithm\": \"Linear Learner\", \"Host\": \"algo-1\", \"Operation\": \"training\", \"epoch\": 1, \"model\": 5}, \"Metrics\": {\"validation_binary_classification_cross_entropy_objective\": {\"sum\": 0.02683206531324383, \"count\": 1, \"min\": 0.02683206531324383, \"max\": 0.02683206531324383}}}\u001b[0m\n",
      "\u001b[34m#metrics {\"StartTime\": 1730378842.3409262, \"EndTime\": 1730378842.3409333, \"Dimensions\": {\"Algorithm\": \"Linear Learner\", \"Host\": \"algo-1\", \"Operation\": \"training\", \"epoch\": 1, \"model\": 6}, \"Metrics\": {\"validation_binary_classification_cross_entropy_objective\": {\"sum\": 0.02561240529485479, \"count\": 1, \"min\": 0.02561240529485479, \"max\": 0.02561240529485479}}}\u001b[0m\n",
      "\u001b[34m#metrics {\"StartTime\": 1730378842.340961, \"EndTime\": 1730378842.3409698, \"Dimensions\": {\"Algorithm\": \"Linear Learner\", \"Host\": \"algo-1\", \"Operation\": \"training\", \"epoch\": 1, \"model\": 7}, \"Metrics\": {\"validation_binary_classification_cross_entropy_objective\": {\"sum\": 0.02679213826592305, \"count\": 1, \"min\": 0.02679213826592305, \"max\": 0.02679213826592305}}}\u001b[0m\n",
      "\u001b[34m#metrics {\"StartTime\": 1730378842.341005, \"EndTime\": 1730378842.341016, \"Dimensions\": {\"Algorithm\": \"Linear Learner\", \"Host\": \"algo-1\", \"Operation\": \"training\", \"epoch\": 1, \"model\": 8}, \"Metrics\": {\"validation_binary_classification_cross_entropy_objective\": {\"sum\": 0.1334783292987092, \"count\": 1, \"min\": 0.1334783292987092, \"max\": 0.1334783292987092}}}\u001b[0m\n",
      "\u001b[34m#metrics {\"StartTime\": 1730378842.341052, \"EndTime\": 1730378842.3410614, \"Dimensions\": {\"Algorithm\": \"Linear Learner\", \"Host\": \"algo-1\", \"Operation\": \"training\", \"epoch\": 1, \"model\": 9}, \"Metrics\": {\"validation_binary_classification_cross_entropy_objective\": {\"sum\": 0.12029113129546333, \"count\": 1, \"min\": 0.12029113129546333, \"max\": 0.12029113129546333}}}\u001b[0m\n",
      "\u001b[34m#metrics {\"StartTime\": 1730378842.3410933, \"EndTime\": 1730378842.3410997, \"Dimensions\": {\"Algorithm\": \"Linear Learner\", \"Host\": \"algo-1\", \"Operation\": \"training\", \"epoch\": 1, \"model\": 10}, \"Metrics\": {\"validation_binary_classification_cross_entropy_objective\": {\"sum\": 0.13266606156210975, \"count\": 1, \"min\": 0.13266606156210975, \"max\": 0.13266606156210975}}}\u001b[0m\n",
      "\u001b[34m#metrics {\"StartTime\": 1730378842.341131, \"EndTime\": 1730378842.341141, \"Dimensions\": {\"Algorithm\": \"Linear Learner\", \"Host\": \"algo-1\", \"Operation\": \"training\", \"epoch\": 1, \"model\": 11}, \"Metrics\": {\"validation_binary_classification_cross_entropy_objective\": {\"sum\": 0.1203132906799072, \"count\": 1, \"min\": 0.1203132906799072, \"max\": 0.1203132906799072}}}\u001b[0m\n",
      "\u001b[34m#metrics {\"StartTime\": 1730378842.341172, \"EndTime\": 1730378842.3411806, \"Dimensions\": {\"Algorithm\": \"Linear Learner\", \"Host\": \"algo-1\", \"Operation\": \"training\", \"epoch\": 1, \"model\": 12}, \"Metrics\": {\"validation_binary_classification_cross_entropy_objective\": {\"sum\": 0.12059888805378466, \"count\": 1, \"min\": 0.12059888805378466, \"max\": 0.12059888805378466}}}\u001b[0m\n",
      "\u001b[34m#metrics {\"StartTime\": 1730378842.34121, \"EndTime\": 1730378842.3412185, \"Dimensions\": {\"Algorithm\": \"Linear Learner\", \"Host\": \"algo-1\", \"Operation\": \"training\", \"epoch\": 1, \"model\": 13}, \"Metrics\": {\"validation_binary_classification_cross_entropy_objective\": {\"sum\": 0.12662714229222677, \"count\": 1, \"min\": 0.12662714229222677, \"max\": 0.12662714229222677}}}\u001b[0m\n",
      "\u001b[34m#metrics {\"StartTime\": 1730378842.3412526, \"EndTime\": 1730378842.341262, \"Dimensions\": {\"Algorithm\": \"Linear Learner\", \"Host\": \"algo-1\", \"Operation\": \"training\", \"epoch\": 1, \"model\": 14}, \"Metrics\": {\"validation_binary_classification_cross_entropy_objective\": {\"sum\": 0.12060181738416188, \"count\": 1, \"min\": 0.12060181738416188, \"max\": 0.12060181738416188}}}\u001b[0m\n",
      "\u001b[34m#metrics {\"StartTime\": 1730378842.3412983, \"EndTime\": 1730378842.3413084, \"Dimensions\": {\"Algorithm\": \"Linear Learner\", \"Host\": \"algo-1\", \"Operation\": \"training\", \"epoch\": 1, \"model\": 15}, \"Metrics\": {\"validation_binary_classification_cross_entropy_objective\": {\"sum\": 0.12661889488310663, \"count\": 1, \"min\": 0.12661889488310663, \"max\": 0.12661889488310663}}}\u001b[0m\n",
      "\u001b[34m#metrics {\"StartTime\": 1730378842.3413363, \"EndTime\": 1730378842.3413453, \"Dimensions\": {\"Algorithm\": \"Linear Learner\", \"Host\": \"algo-1\", \"Operation\": \"training\", \"epoch\": 1, \"model\": 16}, \"Metrics\": {\"validation_binary_classification_cross_entropy_objective\": {\"sum\": 0.4215550498964035, \"count\": 1, \"min\": 0.4215550498964035, \"max\": 0.4215550498964035}}}\u001b[0m\n",
      "\u001b[34m#metrics {\"StartTime\": 1730378842.341397, \"EndTime\": 1730378842.3414075, \"Dimensions\": {\"Algorithm\": \"Linear Learner\", \"Host\": \"algo-1\", \"Operation\": \"training\", \"epoch\": 1, \"model\": 17}, \"Metrics\": {\"validation_binary_classification_cross_entropy_objective\": {\"sum\": 0.4215853633510595, \"count\": 1, \"min\": 0.4215853633510595, \"max\": 0.4215853633510595}}}\u001b[0m\n",
      "\u001b[34m#metrics {\"StartTime\": 1730378842.3414404, \"EndTime\": 1730378842.3414502, \"Dimensions\": {\"Algorithm\": \"Linear Learner\", \"Host\": \"algo-1\", \"Operation\": \"training\", \"epoch\": 1, \"model\": 18}, \"Metrics\": {\"validation_binary_classification_cross_entropy_objective\": {\"sum\": 0.42160791936755476, \"count\": 1, \"min\": 0.42160791936755476, \"max\": 0.42160791936755476}}}\u001b[0m\n",
      "\u001b[34m#metrics {\"StartTime\": 1730378842.3414795, \"EndTime\": 1730378842.3414884, \"Dimensions\": {\"Algorithm\": \"Linear Learner\", \"Host\": \"algo-1\", \"Operation\": \"training\", \"epoch\": 1, \"model\": 19}, \"Metrics\": {\"validation_binary_classification_cross_entropy_objective\": {\"sum\": 0.4215624384569607, \"count\": 1, \"min\": 0.4215624384569607, \"max\": 0.4215624384569607}}}\u001b[0m\n",
      "\u001b[34m#metrics {\"StartTime\": 1730378842.3415222, \"EndTime\": 1730378842.341531, \"Dimensions\": {\"Algorithm\": \"Linear Learner\", \"Host\": \"algo-1\", \"Operation\": \"training\", \"epoch\": 1, \"model\": 20}, \"Metrics\": {\"validation_binary_classification_cross_entropy_objective\": {\"sum\": 0.4227568923114017, \"count\": 1, \"min\": 0.4227568923114017, \"max\": 0.4227568923114017}}}\u001b[0m\n",
      "\u001b[34m#metrics {\"StartTime\": 1730378842.3415616, \"EndTime\": 1730378842.3415709, \"Dimensions\": {\"Algorithm\": \"Linear Learner\", \"Host\": \"algo-1\", \"Operation\": \"training\", \"epoch\": 1, \"model\": 21}, \"Metrics\": {\"validation_binary_classification_cross_entropy_objective\": {\"sum\": 0.4370768249006821, \"count\": 1, \"min\": 0.4370768249006821, \"max\": 0.4370768249006821}}}\u001b[0m\n",
      "\u001b[34m#metrics {\"StartTime\": 1730378842.3416033, \"EndTime\": 1730378842.3416135, \"Dimensions\": {\"Algorithm\": \"Linear Learner\", \"Host\": \"algo-1\", \"Operation\": \"training\", \"epoch\": 1, \"model\": 22}, \"Metrics\": {\"validation_binary_classification_cross_entropy_objective\": {\"sum\": 0.42277047967630016, \"count\": 1, \"min\": 0.42277047967630016, \"max\": 0.42277047967630016}}}\u001b[0m\n",
      "\u001b[34m#metrics {\"StartTime\": 1730378842.3416433, \"EndTime\": 1730378842.3416524, \"Dimensions\": {\"Algorithm\": \"Linear Learner\", \"Host\": \"algo-1\", \"Operation\": \"training\", \"epoch\": 1, \"model\": 23}, \"Metrics\": {\"validation_binary_classification_cross_entropy_objective\": {\"sum\": 0.43708636944541157, \"count\": 1, \"min\": 0.43708636944541157, \"max\": 0.43708636944541157}}}\u001b[0m\n",
      "\u001b[34m#metrics {\"StartTime\": 1730378842.3416822, \"EndTime\": 1730378842.3416915, \"Dimensions\": {\"Algorithm\": \"Linear Learner\", \"Host\": \"algo-1\", \"Operation\": \"training\", \"epoch\": 1, \"model\": 24}, \"Metrics\": {\"validation_binary_classification_cross_entropy_objective\": {\"sum\": 0.5123267496645777, \"count\": 1, \"min\": 0.5123267496645777, \"max\": 0.5123267496645777}}}\u001b[0m\n",
      "\u001b[34m#metrics {\"StartTime\": 1730378842.3417215, \"EndTime\": 1730378842.3417308, \"Dimensions\": {\"Algorithm\": \"Linear Learner\", \"Host\": \"algo-1\", \"Operation\": \"training\", \"epoch\": 1, \"model\": 25}, \"Metrics\": {\"validation_binary_classification_cross_entropy_objective\": {\"sum\": 0.5126501881524308, \"count\": 1, \"min\": 0.5126501881524308, \"max\": 0.5126501881524308}}}\u001b[0m\n",
      "\u001b[34m#metrics {\"StartTime\": 1730378842.3417635, \"EndTime\": 1730378842.341773, \"Dimensions\": {\"Algorithm\": \"Linear Learner\", \"Host\": \"algo-1\", \"Operation\": \"training\", \"epoch\": 1, \"model\": 26}, \"Metrics\": {\"validation_binary_classification_cross_entropy_objective\": {\"sum\": 0.5122841826444915, \"count\": 1, \"min\": 0.5122841826444915, \"max\": 0.5122841826444915}}}\u001b[0m\n",
      "\u001b[34m#metrics {\"StartTime\": 1730378842.3418016, \"EndTime\": 1730378842.3418117, \"Dimensions\": {\"Algorithm\": \"Linear Learner\", \"Host\": \"algo-1\", \"Operation\": \"training\", \"epoch\": 1, \"model\": 27}, \"Metrics\": {\"validation_binary_classification_cross_entropy_objective\": {\"sum\": 0.5125517435455009, \"count\": 1, \"min\": 0.5125517435455009, \"max\": 0.5125517435455009}}}\u001b[0m\n",
      "\u001b[34m#metrics {\"StartTime\": 1730378842.3421826, \"EndTime\": 1730378842.3421903, \"Dimensions\": {\"Algorithm\": \"Linear Learner\", \"Host\": \"algo-1\", \"Operation\": \"training\", \"epoch\": 1, \"model\": 28}, \"Metrics\": {\"validation_binary_classification_cross_entropy_objective\": {\"sum\": 0.5127312270354754, \"count\": 1, \"min\": 0.5127312270354754, \"max\": 0.5127312270354754}}}\u001b[0m\n",
      "\u001b[34m#metrics {\"StartTime\": 1730378842.3422186, \"EndTime\": 1730378842.3422284, \"Dimensions\": {\"Algorithm\": \"Linear Learner\", \"Host\": \"algo-1\", \"Operation\": \"training\", \"epoch\": 1, \"model\": 29}, \"Metrics\": {\"validation_binary_classification_cross_entropy_objective\": {\"sum\": 0.5157389133968739, \"count\": 1, \"min\": 0.5157389133968739, \"max\": 0.5157389133968739}}}\u001b[0m\n",
      "\u001b[34m#metrics {\"StartTime\": 1730378842.34226, \"EndTime\": 1730378842.34227, \"Dimensions\": {\"Algorithm\": \"Linear Learner\", \"Host\": \"algo-1\", \"Operation\": \"training\", \"epoch\": 1, \"model\": 30}, \"Metrics\": {\"validation_binary_classification_cross_entropy_objective\": {\"sum\": 0.5127776216504824, \"count\": 1, \"min\": 0.5127776216504824, \"max\": 0.5127776216504824}}}\u001b[0m\n",
      "\u001b[34m#metrics {\"StartTime\": 1730378842.3422968, \"EndTime\": 1730378842.3423061, \"Dimensions\": {\"Algorithm\": \"Linear Learner\", \"Host\": \"algo-1\", \"Operation\": \"training\", \"epoch\": 1, \"model\": 31}, \"Metrics\": {\"validation_binary_classification_cross_entropy_objective\": {\"sum\": 0.5154986442141578, \"count\": 1, \"min\": 0.5154986442141578, \"max\": 0.5154986442141578}}}\u001b[0m\n",
      "\u001b[34m[10/31/2024 12:47:22 INFO 140292085315392] #quality_metric: host=algo-1, epoch=1, validation binary_classification_cross_entropy_objective <loss>=0.10658392698234682\u001b[0m\n",
      "\u001b[34m[10/31/2024 12:47:22 INFO 140292085315392] #early_stopping_criteria_metric: host=algo-1, epoch=1, criteria=sampled_f_beta, value=0.9936448055716773\u001b[0m\n",
      "\u001b[34m[10/31/2024 12:47:22 INFO 140292085315392] Epoch 1: Loss improved. Updating best model\u001b[0m\n",
      "\u001b[34m[10/31/2024 12:47:22 INFO 140292085315392] Saving model for epoch: 1\u001b[0m\n",
      "\u001b[34m[10/31/2024 12:47:22 INFO 140292085315392] Saved checkpoint to \"/tmp/tmpv6ry1fcm/mx-mod-0000.params\"\u001b[0m\n",
      "\u001b[34m[10/31/2024 12:47:22 INFO 140292085315392] #progress_metric: host=algo-1, completed 13.333333333333334 % of epochs\u001b[0m\n",
      "\u001b[34m#metrics {\"StartTime\": 1730378805.3880308, \"EndTime\": 1730378842.3481402, \"Dimensions\": {\"Algorithm\": \"Linear Learner\", \"Host\": \"algo-1\", \"Operation\": \"training\", \"epoch\": 1, \"Meta\": \"training_data_iter\"}, \"Metrics\": {\"Total Records Seen\": {\"sum\": 2628944.0, \"count\": 1, \"min\": 2628944, \"max\": 2628944}, \"Total Batches Seen\": {\"sum\": 2630.0, \"count\": 1, \"min\": 2630, \"max\": 2630}, \"Max Records Seen Between Resets\": {\"sum\": 1308472.0, \"count\": 1, \"min\": 1308472, \"max\": 1308472}, \"Max Batches Seen Between Resets\": {\"sum\": 1309.0, \"count\": 1, \"min\": 1309, \"max\": 1309}, \"Reset Count\": {\"sum\": 4.0, \"count\": 1, \"min\": 4, \"max\": 4}, \"Number of Records Since Last Reset\": {\"sum\": 1308472.0, \"count\": 1, \"min\": 1308472, \"max\": 1308472}, \"Number of Batches Since Last Reset\": {\"sum\": 1309.0, \"count\": 1, \"min\": 1309, \"max\": 1309}}}\u001b[0m\n",
      "\u001b[34m[10/31/2024 12:47:22 INFO 140292085315392] #throughput_metric: host=algo-1, train throughput=35402.17241451491 records/second\u001b[0m\n",
      "\u001b[34m[2024-10-31 12:47:53.947] [tensorio] [info] epoch_stats={\"data_pipeline\": \"/opt/ml/input/data/train\", \"epoch\": 7, \"duration\": 31596, \"num_examples\": 1309, \"num_bytes\": 669937664}\u001b[0m\n",
      "\u001b[34m#metrics {\"StartTime\": 1730378873.9474728, \"EndTime\": 1730378873.947537, \"Dimensions\": {\"Algorithm\": \"Linear Learner\", \"Host\": \"algo-1\", \"Operation\": \"training\", \"epoch\": 2, \"model\": 0}, \"Metrics\": {\"train_binary_classification_cross_entropy_objective\": {\"sum\": 0.10201957143264444, \"count\": 1, \"min\": 0.10201957143264444, \"max\": 0.10201957143264444}}}\u001b[0m\n",
      "\u001b[34m#metrics {\"StartTime\": 1730378873.9476, \"EndTime\": 1730378873.947612, \"Dimensions\": {\"Algorithm\": \"Linear Learner\", \"Host\": \"algo-1\", \"Operation\": \"training\", \"epoch\": 2, \"model\": 1}, \"Metrics\": {\"train_binary_classification_cross_entropy_objective\": {\"sum\": 0.05342340651929196, \"count\": 1, \"min\": 0.05342340651929196, \"max\": 0.05342340651929196}}}\u001b[0m\n",
      "\u001b[34m#metrics {\"StartTime\": 1730378873.9476461, \"EndTime\": 1730378873.947655, \"Dimensions\": {\"Algorithm\": \"Linear Learner\", \"Host\": \"algo-1\", \"Operation\": \"training\", \"epoch\": 2, \"model\": 2}, \"Metrics\": {\"train_binary_classification_cross_entropy_objective\": {\"sum\": 0.1039345794467751, \"count\": 1, \"min\": 0.1039345794467751, \"max\": 0.1039345794467751}}}\u001b[0m\n",
      "\u001b[34m#metrics {\"StartTime\": 1730378873.947688, \"EndTime\": 1730378873.9476972, \"Dimensions\": {\"Algorithm\": \"Linear Learner\", \"Host\": \"algo-1\", \"Operation\": \"training\", \"epoch\": 2, \"model\": 3}, \"Metrics\": {\"train_binary_classification_cross_entropy_objective\": {\"sum\": 0.051545618197239865, \"count\": 1, \"min\": 0.051545618197239865, \"max\": 0.051545618197239865}}}\u001b[0m\n",
      "\u001b[34m#metrics {\"StartTime\": 1730378873.9477193, \"EndTime\": 1730378873.9477253, \"Dimensions\": {\"Algorithm\": \"Linear Learner\", \"Host\": \"algo-1\", \"Operation\": \"training\", \"epoch\": 2, \"model\": 4}, \"Metrics\": {\"train_binary_classification_cross_entropy_objective\": {\"sum\": 0.024539975966882267, \"count\": 1, \"min\": 0.024539975966882267, \"max\": 0.024539975966882267}}}\u001b[0m\n",
      "\u001b[34m#metrics {\"StartTime\": 1730378873.94775, \"EndTime\": 1730378873.9477577, \"Dimensions\": {\"Algorithm\": \"Linear Learner\", \"Host\": \"algo-1\", \"Operation\": \"training\", \"epoch\": 2, \"model\": 5}, \"Metrics\": {\"train_binary_classification_cross_entropy_objective\": {\"sum\": 0.026826808743520614, \"count\": 1, \"min\": 0.026826808743520614, \"max\": 0.026826808743520614}}}\u001b[0m\n",
      "\u001b[34m#metrics {\"StartTime\": 1730378873.9477887, \"EndTime\": 1730378873.947797, \"Dimensions\": {\"Algorithm\": \"Linear Learner\", \"Host\": \"algo-1\", \"Operation\": \"training\", \"epoch\": 2, \"model\": 6}, \"Metrics\": {\"train_binary_classification_cross_entropy_objective\": {\"sum\": 0.024560287958985075, \"count\": 1, \"min\": 0.024560287958985075, \"max\": 0.024560287958985075}}}\u001b[0m\n",
      "\u001b[34m#metrics {\"StartTime\": 1730378873.9478245, \"EndTime\": 1730378873.9478326, \"Dimensions\": {\"Algorithm\": \"Linear Learner\", \"Host\": \"algo-1\", \"Operation\": \"training\", \"epoch\": 2, \"model\": 7}, \"Metrics\": {\"train_binary_classification_cross_entropy_objective\": {\"sum\": 0.026800777331769284, \"count\": 1, \"min\": 0.026800777331769284, \"max\": 0.026800777331769284}}}\u001b[0m\n",
      "\u001b[34m#metrics {\"StartTime\": 1730378873.9478662, \"EndTime\": 1730378873.947875, \"Dimensions\": {\"Algorithm\": \"Linear Learner\", \"Host\": \"algo-1\", \"Operation\": \"training\", \"epoch\": 2, \"model\": 8}, \"Metrics\": {\"train_binary_classification_cross_entropy_objective\": {\"sum\": 0.1303031556890645, \"count\": 1, \"min\": 0.1303031556890645, \"max\": 0.1303031556890645}}}\u001b[0m\n",
      "\u001b[34m#metrics {\"StartTime\": 1730378873.947907, \"EndTime\": 1730378873.9479167, \"Dimensions\": {\"Algorithm\": \"Linear Learner\", \"Host\": \"algo-1\", \"Operation\": \"training\", \"epoch\": 2, \"model\": 9}, \"Metrics\": {\"train_binary_classification_cross_entropy_objective\": {\"sum\": 0.11954827024593995, \"count\": 1, \"min\": 0.11954827024593995, \"max\": 0.11954827024593995}}}\u001b[0m\n",
      "\u001b[34m#metrics {\"StartTime\": 1730378873.9479427, \"EndTime\": 1730378873.9479508, \"Dimensions\": {\"Algorithm\": \"Linear Learner\", \"Host\": \"algo-1\", \"Operation\": \"training\", \"epoch\": 2, \"model\": 10}, \"Metrics\": {\"train_binary_classification_cross_entropy_objective\": {\"sum\": 0.1295895085757661, \"count\": 1, \"min\": 0.1295895085757661, \"max\": 0.1295895085757661}}}\u001b[0m\n",
      "\u001b[34m#metrics {\"StartTime\": 1730378873.9479787, \"EndTime\": 1730378873.9479876, \"Dimensions\": {\"Algorithm\": \"Linear Learner\", \"Host\": \"algo-1\", \"Operation\": \"training\", \"epoch\": 2, \"model\": 11}, \"Metrics\": {\"train_binary_classification_cross_entropy_objective\": {\"sum\": 0.11955205933107149, \"count\": 1, \"min\": 0.11955205933107149, \"max\": 0.11955205933107149}}}\u001b[0m\n",
      "\u001b[34m#metrics {\"StartTime\": 1730378873.9480233, \"EndTime\": 1730378873.948033, \"Dimensions\": {\"Algorithm\": \"Linear Learner\", \"Host\": \"algo-1\", \"Operation\": \"training\", \"epoch\": 2, \"model\": 12}, \"Metrics\": {\"train_binary_classification_cross_entropy_objective\": {\"sum\": 0.11956997527842857, \"count\": 1, \"min\": 0.11956997527842857, \"max\": 0.11956997527842857}}}\u001b[0m\n",
      "\u001b[34m#metrics {\"StartTime\": 1730378873.948076, \"EndTime\": 1730378873.948086, \"Dimensions\": {\"Algorithm\": \"Linear Learner\", \"Host\": \"algo-1\", \"Operation\": \"training\", \"epoch\": 2, \"model\": 13}, \"Metrics\": {\"train_binary_classification_cross_entropy_objective\": {\"sum\": 0.1252271447137955, \"count\": 1, \"min\": 0.1252271447137955, \"max\": 0.1252271447137955}}}\u001b[0m\n",
      "\u001b[34m#metrics {\"StartTime\": 1730378873.9481184, \"EndTime\": 1730378873.948127, \"Dimensions\": {\"Algorithm\": \"Linear Learner\", \"Host\": \"algo-1\", \"Operation\": \"training\", \"epoch\": 2, \"model\": 14}, \"Metrics\": {\"train_binary_classification_cross_entropy_objective\": {\"sum\": 0.11957013486576372, \"count\": 1, \"min\": 0.11957013486576372, \"max\": 0.11957013486576372}}}\u001b[0m\n",
      "\u001b[34m#metrics {\"StartTime\": 1730378873.9481583, \"EndTime\": 1730378873.9481676, \"Dimensions\": {\"Algorithm\": \"Linear Learner\", \"Host\": \"algo-1\", \"Operation\": \"training\", \"epoch\": 2, \"model\": 15}, \"Metrics\": {\"train_binary_classification_cross_entropy_objective\": {\"sum\": 0.12522746998381543, \"count\": 1, \"min\": 0.12522746998381543, \"max\": 0.12522746998381543}}}\u001b[0m\n",
      "\u001b[34m#metrics {\"StartTime\": 1730378873.9481988, \"EndTime\": 1730378873.9482098, \"Dimensions\": {\"Algorithm\": \"Linear Learner\", \"Host\": \"algo-1\", \"Operation\": \"training\", \"epoch\": 2, \"model\": 16}, \"Metrics\": {\"train_binary_classification_cross_entropy_objective\": {\"sum\": 0.4215266076884138, \"count\": 1, \"min\": 0.4215266076884138, \"max\": 0.4215266076884138}}}\u001b[0m\n",
      "\u001b[34m#metrics {\"StartTime\": 1730378873.9482384, \"EndTime\": 1730378873.948247, \"Dimensions\": {\"Algorithm\": \"Linear Learner\", \"Host\": \"algo-1\", \"Operation\": \"training\", \"epoch\": 2, \"model\": 17}, \"Metrics\": {\"train_binary_classification_cross_entropy_objective\": {\"sum\": 0.4217774028019803, \"count\": 1, \"min\": 0.4217774028019803, \"max\": 0.4217774028019803}}}\u001b[0m\n",
      "\u001b[34m#metrics {\"StartTime\": 1730378873.9482772, \"EndTime\": 1730378873.9482863, \"Dimensions\": {\"Algorithm\": \"Linear Learner\", \"Host\": \"algo-1\", \"Operation\": \"training\", \"epoch\": 2, \"model\": 18}, \"Metrics\": {\"train_binary_classification_cross_entropy_objective\": {\"sum\": 0.42152664527543093, \"count\": 1, \"min\": 0.42152664527543093, \"max\": 0.42152664527543093}}}\u001b[0m\n",
      "\u001b[34m#metrics {\"StartTime\": 1730378873.9483154, \"EndTime\": 1730378873.9483237, \"Dimensions\": {\"Algorithm\": \"Linear Learner\", \"Host\": \"algo-1\", \"Operation\": \"training\", \"epoch\": 2, \"model\": 19}, \"Metrics\": {\"train_binary_classification_cross_entropy_objective\": {\"sum\": 0.4217772100606096, \"count\": 1, \"min\": 0.4217772100606096, \"max\": 0.4217772100606096}}}\u001b[0m\n",
      "\u001b[34m#metrics {\"StartTime\": 1730378873.9483538, \"EndTime\": 1730378873.9483635, \"Dimensions\": {\"Algorithm\": \"Linear Learner\", \"Host\": \"algo-1\", \"Operation\": \"training\", \"epoch\": 2, \"model\": 20}, \"Metrics\": {\"train_binary_classification_cross_entropy_objective\": {\"sum\": 0.42177280943984286, \"count\": 1, \"min\": 0.42177280943984286, \"max\": 0.42177280943984286}}}\u001b[0m\n",
      "\u001b[34m#metrics {\"StartTime\": 1730378873.9483905, \"EndTime\": 1730378873.9483986, \"Dimensions\": {\"Algorithm\": \"Linear Learner\", \"Host\": \"algo-1\", \"Operation\": \"training\", \"epoch\": 2, \"model\": 21}, \"Metrics\": {\"train_binary_classification_cross_entropy_objective\": {\"sum\": 0.4251984684328785, \"count\": 1, \"min\": 0.4251984684328785, \"max\": 0.4251984684328785}}}\u001b[0m\n",
      "\u001b[34m#metrics {\"StartTime\": 1730378873.9484284, \"EndTime\": 1730378873.9484372, \"Dimensions\": {\"Algorithm\": \"Linear Learner\", \"Host\": \"algo-1\", \"Operation\": \"training\", \"epoch\": 2, \"model\": 22}, \"Metrics\": {\"train_binary_classification_cross_entropy_objective\": {\"sum\": 0.42177274544158844, \"count\": 1, \"min\": 0.42177274544158844, \"max\": 0.42177274544158844}}}\u001b[0m\n",
      "\u001b[34m#metrics {\"StartTime\": 1730378873.9484665, \"EndTime\": 1730378873.9484751, \"Dimensions\": {\"Algorithm\": \"Linear Learner\", \"Host\": \"algo-1\", \"Operation\": \"training\", \"epoch\": 2, \"model\": 23}, \"Metrics\": {\"train_binary_classification_cross_entropy_objective\": {\"sum\": 0.42519860592530045, \"count\": 1, \"min\": 0.42519860592530045, \"max\": 0.42519860592530045}}}\u001b[0m\n",
      "\u001b[34m#metrics {\"StartTime\": 1730378873.9485052, \"EndTime\": 1730378873.9485147, \"Dimensions\": {\"Algorithm\": \"Linear Learner\", \"Host\": \"algo-1\", \"Operation\": \"training\", \"epoch\": 2, \"model\": 24}, \"Metrics\": {\"train_binary_classification_cross_entropy_objective\": {\"sum\": 0.5123423211800578, \"count\": 1, \"min\": 0.5123423211800578, \"max\": 0.5123423211800578}}}\u001b[0m\n",
      "\u001b[34m#metrics {\"StartTime\": 1730378873.94854, \"EndTime\": 1730378873.9485486, \"Dimensions\": {\"Algorithm\": \"Linear Learner\", \"Host\": \"algo-1\", \"Operation\": \"training\", \"epoch\": 2, \"model\": 25}, \"Metrics\": {\"train_binary_classification_cross_entropy_objective\": {\"sum\": 0.5124388441733264, \"count\": 1, \"min\": 0.5124388441733264, \"max\": 0.5124388441733264}}}\u001b[0m\n",
      "\u001b[34m#metrics {\"StartTime\": 1730378873.9485784, \"EndTime\": 1730378873.9485872, \"Dimensions\": {\"Algorithm\": \"Linear Learner\", \"Host\": \"algo-1\", \"Operation\": \"training\", \"epoch\": 2, \"model\": 26}, \"Metrics\": {\"train_binary_classification_cross_entropy_objective\": {\"sum\": 0.5123423918744475, \"count\": 1, \"min\": 0.5123423918744475, \"max\": 0.5123423918744475}}}\u001b[0m\n",
      "\u001b[34m#metrics {\"StartTime\": 1730378873.9486172, \"EndTime\": 1730378873.9486268, \"Dimensions\": {\"Algorithm\": \"Linear Learner\", \"Host\": \"algo-1\", \"Operation\": \"training\", \"epoch\": 2, \"model\": 27}, \"Metrics\": {\"train_binary_classification_cross_entropy_objective\": {\"sum\": 0.5124368578242964, \"count\": 1, \"min\": 0.5124368578242964, \"max\": 0.5124368578242964}}}\u001b[0m\n",
      "\u001b[34m#metrics {\"StartTime\": 1730378873.9486609, \"EndTime\": 1730378873.94867, \"Dimensions\": {\"Algorithm\": \"Linear Learner\", \"Host\": \"algo-1\", \"Operation\": \"training\", \"epoch\": 2, \"model\": 28}, \"Metrics\": {\"train_binary_classification_cross_entropy_objective\": {\"sum\": 0.5124333884562922, \"count\": 1, \"min\": 0.5124333884562922, \"max\": 0.5124333884562922}}}\u001b[0m\n",
      "\u001b[34m#metrics {\"StartTime\": 1730378873.9487007, \"EndTime\": 1730378873.94871, \"Dimensions\": {\"Algorithm\": \"Linear Learner\", \"Host\": \"algo-1\", \"Operation\": \"training\", \"epoch\": 2, \"model\": 29}, \"Metrics\": {\"train_binary_classification_cross_entropy_objective\": {\"sum\": 0.5136630096202232, \"count\": 1, \"min\": 0.5136630096202232, \"max\": 0.5136630096202232}}}\u001b[0m\n",
      "\u001b[34m#metrics {\"StartTime\": 1730378873.9487412, \"EndTime\": 1730378873.9487512, \"Dimensions\": {\"Algorithm\": \"Linear Learner\", \"Host\": \"algo-1\", \"Operation\": \"training\", \"epoch\": 2, \"model\": 30}, \"Metrics\": {\"train_binary_classification_cross_entropy_objective\": {\"sum\": 0.5124336624145508, \"count\": 1, \"min\": 0.5124336624145508, \"max\": 0.5124336624145508}}}\u001b[0m\n",
      "\u001b[34m#metrics {\"StartTime\": 1730378873.9487813, \"EndTime\": 1730378873.9487906, \"Dimensions\": {\"Algorithm\": \"Linear Learner\", \"Host\": \"algo-1\", \"Operation\": \"training\", \"epoch\": 2, \"model\": 31}, \"Metrics\": {\"train_binary_classification_cross_entropy_objective\": {\"sum\": 0.513663313559436, \"count\": 1, \"min\": 0.513663313559436, \"max\": 0.513663313559436}}}\u001b[0m\n",
      "\u001b[34m[10/31/2024 12:47:53 INFO 140292085315392] #quality_metric: host=algo-1, epoch=2, train binary_classification_cross_entropy_objective <loss>=0.10201957143264444\u001b[0m\n",
      "\u001b[34m[2024-10-31 12:47:56.941] [tensorio] [info] epoch_stats={\"data_pipeline\": \"/opt/ml/input/data/validation\", \"epoch\": 8, \"duration\": 2977, \"num_examples\": 164, \"num_bytes\": 83742208}\u001b[0m\n",
      "\u001b[34m#metrics {\"StartTime\": 1730378878.7830987, \"EndTime\": 1730378878.783156, \"Dimensions\": {\"Algorithm\": \"Linear Learner\", \"Host\": \"algo-1\", \"Operation\": \"training\", \"epoch\": 2, \"model\": 0}, \"Metrics\": {\"validation_binary_classification_cross_entropy_objective\": {\"sum\": 0.09991347076005716, \"count\": 1, \"min\": 0.09991347076005716, \"max\": 0.09991347076005716}}}\u001b[0m\n",
      "\u001b[34m#metrics {\"StartTime\": 1730378878.783225, \"EndTime\": 1730378878.783236, \"Dimensions\": {\"Algorithm\": \"Linear Learner\", \"Host\": \"algo-1\", \"Operation\": \"training\", \"epoch\": 2, \"model\": 1}, \"Metrics\": {\"validation_binary_classification_cross_entropy_objective\": {\"sum\": 0.047214212541739554, \"count\": 1, \"min\": 0.047214212541739554, \"max\": 0.047214212541739554}}}\u001b[0m\n",
      "\u001b[34m#metrics {\"StartTime\": 1730378878.7832627, \"EndTime\": 1730378878.7832713, \"Dimensions\": {\"Algorithm\": \"Linear Learner\", \"Host\": \"algo-1\", \"Operation\": \"training\", \"epoch\": 2, \"model\": 2}, \"Metrics\": {\"validation_binary_classification_cross_entropy_objective\": {\"sum\": 0.10174871811842183, \"count\": 1, \"min\": 0.10174871811842183, \"max\": 0.10174871811842183}}}\u001b[0m\n",
      "\u001b[34m#metrics {\"StartTime\": 1730378878.7833078, \"EndTime\": 1730378878.7833176, \"Dimensions\": {\"Algorithm\": \"Linear Learner\", \"Host\": \"algo-1\", \"Operation\": \"training\", \"epoch\": 2, \"model\": 3}, \"Metrics\": {\"validation_binary_classification_cross_entropy_objective\": {\"sum\": 0.045701290274728454, \"count\": 1, \"min\": 0.045701290274728454, \"max\": 0.045701290274728454}}}\u001b[0m\n",
      "\u001b[34m#metrics {\"StartTime\": 1730378878.7833524, \"EndTime\": 1730378878.7833617, \"Dimensions\": {\"Algorithm\": \"Linear Learner\", \"Host\": \"algo-1\", \"Operation\": \"training\", \"epoch\": 2, \"model\": 4}, \"Metrics\": {\"validation_binary_classification_cross_entropy_objective\": {\"sum\": 0.024659918268250255, \"count\": 1, \"min\": 0.024659918268250255, \"max\": 0.024659918268250255}}}\u001b[0m\n",
      "\u001b[34m#metrics {\"StartTime\": 1730378878.783394, \"EndTime\": 1730378878.783403, \"Dimensions\": {\"Algorithm\": \"Linear Learner\", \"Host\": \"algo-1\", \"Operation\": \"training\", \"epoch\": 2, \"model\": 5}, \"Metrics\": {\"validation_binary_classification_cross_entropy_objective\": {\"sum\": 0.026521869335443125, \"count\": 1, \"min\": 0.026521869335443125, \"max\": 0.026521869335443125}}}\u001b[0m\n",
      "\u001b[34m#metrics {\"StartTime\": 1730378878.783433, \"EndTime\": 1730378878.783442, \"Dimensions\": {\"Algorithm\": \"Linear Learner\", \"Host\": \"algo-1\", \"Operation\": \"training\", \"epoch\": 2, \"model\": 6}, \"Metrics\": {\"validation_binary_classification_cross_entropy_objective\": {\"sum\": 0.024678300709640725, \"count\": 1, \"min\": 0.024678300709640725, \"max\": 0.024678300709640725}}}\u001b[0m\n",
      "\u001b[34m#metrics {\"StartTime\": 1730378878.7834792, \"EndTime\": 1730378878.7834892, \"Dimensions\": {\"Algorithm\": \"Linear Learner\", \"Host\": \"algo-1\", \"Operation\": \"training\", \"epoch\": 2, \"model\": 7}, \"Metrics\": {\"validation_binary_classification_cross_entropy_objective\": {\"sum\": 0.026512489941340273, \"count\": 1, \"min\": 0.026512489941340273, \"max\": 0.026512489941340273}}}\u001b[0m\n",
      "\u001b[34m#metrics {\"StartTime\": 1730378878.783524, \"EndTime\": 1730378878.7835338, \"Dimensions\": {\"Algorithm\": \"Linear Learner\", \"Host\": \"algo-1\", \"Operation\": \"training\", \"epoch\": 2, \"model\": 8}, \"Metrics\": {\"validation_binary_classification_cross_entropy_objective\": {\"sum\": 0.12912532793871997, \"count\": 1, \"min\": 0.12912532793871997, \"max\": 0.12912532793871997}}}\u001b[0m\n",
      "\u001b[34m#metrics {\"StartTime\": 1730378878.7835689, \"EndTime\": 1730378878.7835784, \"Dimensions\": {\"Algorithm\": \"Linear Learner\", \"Host\": \"algo-1\", \"Operation\": \"training\", \"epoch\": 2, \"model\": 9}, \"Metrics\": {\"validation_binary_classification_cross_entropy_objective\": {\"sum\": 0.12016551079258324, \"count\": 1, \"min\": 0.12016551079258324, \"max\": 0.12016551079258324}}}\u001b[0m\n",
      "\u001b[34m#metrics {\"StartTime\": 1730378878.7836185, \"EndTime\": 1730378878.783628, \"Dimensions\": {\"Algorithm\": \"Linear Learner\", \"Host\": \"algo-1\", \"Operation\": \"training\", \"epoch\": 2, \"model\": 10}, \"Metrics\": {\"validation_binary_classification_cross_entropy_objective\": {\"sum\": 0.12848098128238689, \"count\": 1, \"min\": 0.12848098128238689, \"max\": 0.12848098128238689}}}\u001b[0m\n",
      "\u001b[34m#metrics {\"StartTime\": 1730378878.7836635, \"EndTime\": 1730378878.7836738, \"Dimensions\": {\"Algorithm\": \"Linear Learner\", \"Host\": \"algo-1\", \"Operation\": \"training\", \"epoch\": 2, \"model\": 11}, \"Metrics\": {\"validation_binary_classification_cross_entropy_objective\": {\"sum\": 0.12016547338238621, \"count\": 1, \"min\": 0.12016547338238621, \"max\": 0.12016547338238621}}}\u001b[0m\n",
      "\u001b[34m#metrics {\"StartTime\": 1730378878.783707, \"EndTime\": 1730378878.7837162, \"Dimensions\": {\"Algorithm\": \"Linear Learner\", \"Host\": \"algo-1\", \"Operation\": \"training\", \"epoch\": 2, \"model\": 12}, \"Metrics\": {\"validation_binary_classification_cross_entropy_objective\": {\"sum\": 0.11996398663256826, \"count\": 1, \"min\": 0.11996398663256826, \"max\": 0.11996398663256826}}}\u001b[0m\n",
      "\u001b[34m#metrics {\"StartTime\": 1730378878.7837508, \"EndTime\": 1730378878.7837608, \"Dimensions\": {\"Algorithm\": \"Linear Learner\", \"Host\": \"algo-1\", \"Operation\": \"training\", \"epoch\": 2, \"model\": 13}, \"Metrics\": {\"validation_binary_classification_cross_entropy_objective\": {\"sum\": 0.12539071778848368, \"count\": 1, \"min\": 0.12539071778848368, \"max\": 0.12539071778848368}}}\u001b[0m\n",
      "\u001b[34m#metrics {\"StartTime\": 1730378878.7837994, \"EndTime\": 1730378878.7838092, \"Dimensions\": {\"Algorithm\": \"Linear Learner\", \"Host\": \"algo-1\", \"Operation\": \"training\", \"epoch\": 2, \"model\": 14}, \"Metrics\": {\"validation_binary_classification_cross_entropy_objective\": {\"sum\": 0.11996720796772518, \"count\": 1, \"min\": 0.11996720796772518, \"max\": 0.11996720796772518}}}\u001b[0m\n",
      "\u001b[34m#metrics {\"StartTime\": 1730378878.783844, \"EndTime\": 1730378878.783854, \"Dimensions\": {\"Algorithm\": \"Linear Learner\", \"Host\": \"algo-1\", \"Operation\": \"training\", \"epoch\": 2, \"model\": 15}, \"Metrics\": {\"validation_binary_classification_cross_entropy_objective\": {\"sum\": 0.1253961754790965, \"count\": 1, \"min\": 0.1253961754790965, \"max\": 0.1253961754790965}}}\u001b[0m\n",
      "\u001b[34m#metrics {\"StartTime\": 1730378878.7838886, \"EndTime\": 1730378878.7838986, \"Dimensions\": {\"Algorithm\": \"Linear Learner\", \"Host\": \"algo-1\", \"Operation\": \"training\", \"epoch\": 2, \"model\": 16}, \"Metrics\": {\"validation_binary_classification_cross_entropy_objective\": {\"sum\": 0.42182755594033894, \"count\": 1, \"min\": 0.42182755594033894, \"max\": 0.42182755594033894}}}\u001b[0m\n",
      "\u001b[34m#metrics {\"StartTime\": 1730378878.7839384, \"EndTime\": 1730378878.7839482, \"Dimensions\": {\"Algorithm\": \"Linear Learner\", \"Host\": \"algo-1\", \"Operation\": \"training\", \"epoch\": 2, \"model\": 17}, \"Metrics\": {\"validation_binary_classification_cross_entropy_objective\": {\"sum\": 0.42156766888762354, \"count\": 1, \"min\": 0.42156766888762354, \"max\": 0.42156766888762354}}}\u001b[0m\n",
      "\u001b[34m#metrics {\"StartTime\": 1730378878.783984, \"EndTime\": 1730378878.7839942, \"Dimensions\": {\"Algorithm\": \"Linear Learner\", \"Host\": \"algo-1\", \"Operation\": \"training\", \"epoch\": 2, \"model\": 18}, \"Metrics\": {\"validation_binary_classification_cross_entropy_objective\": {\"sum\": 0.42182963617119457, \"count\": 1, \"min\": 0.42182963617119457, \"max\": 0.42182963617119457}}}\u001b[0m\n",
      "\u001b[34m#metrics {\"StartTime\": 1730378878.784028, \"EndTime\": 1730378878.7840383, \"Dimensions\": {\"Algorithm\": \"Linear Learner\", \"Host\": \"algo-1\", \"Operation\": \"training\", \"epoch\": 2, \"model\": 19}, \"Metrics\": {\"validation_binary_classification_cross_entropy_objective\": {\"sum\": 0.4215575340827531, \"count\": 1, \"min\": 0.4215575340827531, \"max\": 0.4215575340827531}}}\u001b[0m\n",
      "\u001b[34m#metrics {\"StartTime\": 1730378878.7840774, \"EndTime\": 1730378878.7840872, \"Dimensions\": {\"Algorithm\": \"Linear Learner\", \"Host\": \"algo-1\", \"Operation\": \"training\", \"epoch\": 2, \"model\": 20}, \"Metrics\": {\"validation_binary_classification_cross_entropy_objective\": {\"sum\": 0.42130491160517886, \"count\": 1, \"min\": 0.42130491160517886, \"max\": 0.42130491160517886}}}\u001b[0m\n",
      "\u001b[34m#metrics {\"StartTime\": 1730378878.7841225, \"EndTime\": 1730378878.7841327, \"Dimensions\": {\"Algorithm\": \"Linear Learner\", \"Host\": \"algo-1\", \"Operation\": \"training\", \"epoch\": 2, \"model\": 21}, \"Metrics\": {\"validation_binary_classification_cross_entropy_objective\": {\"sum\": 0.43368172665539223, \"count\": 1, \"min\": 0.43368172665539223, \"max\": 0.43368172665539223}}}\u001b[0m\n",
      "\u001b[34m#metrics {\"StartTime\": 1730378878.7841666, \"EndTime\": 1730378878.7841759, \"Dimensions\": {\"Algorithm\": \"Linear Learner\", \"Host\": \"algo-1\", \"Operation\": \"training\", \"epoch\": 2, \"model\": 22}, \"Metrics\": {\"validation_binary_classification_cross_entropy_objective\": {\"sum\": 0.42130281607439224, \"count\": 1, \"min\": 0.42130281607439224, \"max\": 0.42130281607439224}}}\u001b[0m\n",
      "\u001b[34m#metrics {\"StartTime\": 1730378878.7842095, \"EndTime\": 1730378878.7842197, \"Dimensions\": {\"Algorithm\": \"Linear Learner\", \"Host\": \"algo-1\", \"Operation\": \"training\", \"epoch\": 2, \"model\": 23}, \"Metrics\": {\"validation_binary_classification_cross_entropy_objective\": {\"sum\": 0.4336826058416683, \"count\": 1, \"min\": 0.4336826058416683, \"max\": 0.4336826058416683}}}\u001b[0m\n",
      "\u001b[34m#metrics {\"StartTime\": 1730378878.784241, \"EndTime\": 1730378878.7842464, \"Dimensions\": {\"Algorithm\": \"Linear Learner\", \"Host\": \"algo-1\", \"Operation\": \"training\", \"epoch\": 2, \"model\": 24}, \"Metrics\": {\"validation_binary_classification_cross_entropy_objective\": {\"sum\": 0.5123197661790216, \"count\": 1, \"min\": 0.5123197661790216, \"max\": 0.5123197661790216}}}\u001b[0m\n",
      "\u001b[34m#metrics {\"StartTime\": 1730378878.784271, \"EndTime\": 1730378878.7842772, \"Dimensions\": {\"Algorithm\": \"Linear Learner\", \"Host\": \"algo-1\", \"Operation\": \"training\", \"epoch\": 2, \"model\": 25}, \"Metrics\": {\"validation_binary_classification_cross_entropy_objective\": {\"sum\": 0.5125891772521689, \"count\": 1, \"min\": 0.5125891772521689, \"max\": 0.5125891772521689}}}\u001b[0m\n",
      "\u001b[34m#metrics {\"StartTime\": 1730378878.7843056, \"EndTime\": 1730378878.7843125, \"Dimensions\": {\"Algorithm\": \"Linear Learner\", \"Host\": \"algo-1\", \"Operation\": \"training\", \"epoch\": 2, \"model\": 26}, \"Metrics\": {\"validation_binary_classification_cross_entropy_objective\": {\"sum\": 0.5123048897949407, \"count\": 1, \"min\": 0.5123048897949407, \"max\": 0.5123048897949407}}}\u001b[0m\n",
      "\u001b[34m#metrics {\"StartTime\": 1730378878.7843466, \"EndTime\": 1730378878.784353, \"Dimensions\": {\"Algorithm\": \"Linear Learner\", \"Host\": \"algo-1\", \"Operation\": \"training\", \"epoch\": 2, \"model\": 27}, \"Metrics\": {\"validation_binary_classification_cross_entropy_objective\": {\"sum\": 0.512570755015798, \"count\": 1, \"min\": 0.512570755015798, \"max\": 0.512570755015798}}}\u001b[0m\n",
      "\u001b[34m#metrics {\"StartTime\": 1730378878.7843828, \"EndTime\": 1730378878.7843893, \"Dimensions\": {\"Algorithm\": \"Linear Learner\", \"Host\": \"algo-1\", \"Operation\": \"training\", \"epoch\": 2, \"model\": 28}, \"Metrics\": {\"validation_binary_classification_cross_entropy_objective\": {\"sum\": 0.5124822020008118, \"count\": 1, \"min\": 0.5124822020008118, \"max\": 0.5124822020008118}}}\u001b[0m\n",
      "\u001b[34m#metrics {\"StartTime\": 1730378878.784413, \"EndTime\": 1730378878.7844217, \"Dimensions\": {\"Algorithm\": \"Linear Learner\", \"Host\": \"algo-1\", \"Operation\": \"training\", \"epoch\": 2, \"model\": 29}, \"Metrics\": {\"validation_binary_classification_cross_entropy_objective\": {\"sum\": 0.5147242971698334, \"count\": 1, \"min\": 0.5147242971698334, \"max\": 0.5147242971698334}}}\u001b[0m\n",
      "\u001b[34m#metrics {\"StartTime\": 1730378878.7844582, \"EndTime\": 1730378878.784467, \"Dimensions\": {\"Algorithm\": \"Linear Learner\", \"Host\": \"algo-1\", \"Operation\": \"training\", \"epoch\": 2, \"model\": 30}, \"Metrics\": {\"validation_binary_classification_cross_entropy_objective\": {\"sum\": 0.5124533314042783, \"count\": 1, \"min\": 0.5124533314042783, \"max\": 0.5124533314042783}}}\u001b[0m\n",
      "\u001b[34m#metrics {\"StartTime\": 1730378878.7844925, \"EndTime\": 1730378878.7845013, \"Dimensions\": {\"Algorithm\": \"Linear Learner\", \"Host\": \"algo-1\", \"Operation\": \"training\", \"epoch\": 2, \"model\": 31}, \"Metrics\": {\"validation_binary_classification_cross_entropy_objective\": {\"sum\": 0.5147242548151465, \"count\": 1, \"min\": 0.5147242548151465, \"max\": 0.5147242548151465}}}\u001b[0m\n",
      "\u001b[34m[10/31/2024 12:47:58 INFO 140292085315392] #quality_metric: host=algo-1, epoch=2, validation binary_classification_cross_entropy_objective <loss>=0.09991347076005716\u001b[0m\n",
      "\u001b[34m[10/31/2024 12:47:58 INFO 140292085315392] #early_stopping_criteria_metric: host=algo-1, epoch=2, criteria=sampled_f_beta, value=0.9985745869211078\u001b[0m\n",
      "\u001b[34m[10/31/2024 12:47:58 INFO 140292085315392] Epoch 2: Loss improved. Updating best model\u001b[0m\n",
      "\u001b[34m[10/31/2024 12:47:58 INFO 140292085315392] Saving model for epoch: 2\u001b[0m\n",
      "\u001b[34m[10/31/2024 12:47:58 INFO 140292085315392] Saved checkpoint to \"/tmp/tmp3ut0qe9n/mx-mod-0000.params\"\u001b[0m\n",
      "\u001b[34m[10/31/2024 12:47:58 INFO 140292085315392] #progress_metric: host=algo-1, completed 20.0 % of epochs\u001b[0m\n",
      "\u001b[34m#metrics {\"StartTime\": 1730378842.351135, \"EndTime\": 1730378878.7907655, \"Dimensions\": {\"Algorithm\": \"Linear Learner\", \"Host\": \"algo-1\", \"Operation\": \"training\", \"epoch\": 2, \"Meta\": \"training_data_iter\"}, \"Metrics\": {\"Total Records Seen\": {\"sum\": 3937416.0, \"count\": 1, \"min\": 3937416, \"max\": 3937416}, \"Total Batches Seen\": {\"sum\": 3939.0, \"count\": 1, \"min\": 3939, \"max\": 3939}, \"Max Records Seen Between Resets\": {\"sum\": 1308472.0, \"count\": 1, \"min\": 1308472, \"max\": 1308472}, \"Max Batches Seen Between Resets\": {\"sum\": 1309.0, \"count\": 1, \"min\": 1309, \"max\": 1309}, \"Reset Count\": {\"sum\": 5.0, \"count\": 1, \"min\": 5, \"max\": 5}, \"Number of Records Since Last Reset\": {\"sum\": 1308472.0, \"count\": 1, \"min\": 1308472, \"max\": 1308472}, \"Number of Batches Since Last Reset\": {\"sum\": 1309.0, \"count\": 1, \"min\": 1309, \"max\": 1309}}}\u001b[0m\n",
      "\u001b[34m[10/31/2024 12:47:58 INFO 140292085315392] #throughput_metric: host=algo-1, train throughput=35907.840691265126 records/second\u001b[0m\n",
      "\u001b[34m[2024-10-31 12:48:30.755] [tensorio] [info] epoch_stats={\"data_pipeline\": \"/opt/ml/input/data/train\", \"epoch\": 9, \"duration\": 31963, \"num_examples\": 1309, \"num_bytes\": 669937664}\u001b[0m\n",
      "\u001b[34m#metrics {\"StartTime\": 1730378910.7557793, \"EndTime\": 1730378910.755852, \"Dimensions\": {\"Algorithm\": \"Linear Learner\", \"Host\": \"algo-1\", \"Operation\": \"training\", \"epoch\": 3, \"model\": 0}, \"Metrics\": {\"train_binary_classification_cross_entropy_objective\": {\"sum\": 0.098072476541595, \"count\": 1, \"min\": 0.098072476541595, \"max\": 0.098072476541595}}}\u001b[0m\n",
      "\u001b[34m#metrics {\"StartTime\": 1730378910.755924, \"EndTime\": 1730378910.7559397, \"Dimensions\": {\"Algorithm\": \"Linear Learner\", \"Host\": \"algo-1\", \"Operation\": \"training\", \"epoch\": 3, \"model\": 1}, \"Metrics\": {\"train_binary_classification_cross_entropy_objective\": {\"sum\": 0.041992024439190506, \"count\": 1, \"min\": 0.041992024439190506, \"max\": 0.041992024439190506}}}\u001b[0m\n",
      "\u001b[34m#metrics {\"StartTime\": 1730378910.7559783, \"EndTime\": 1730378910.7559896, \"Dimensions\": {\"Algorithm\": \"Linear Learner\", \"Host\": \"algo-1\", \"Operation\": \"training\", \"epoch\": 3, \"model\": 2}, \"Metrics\": {\"train_binary_classification_cross_entropy_objective\": {\"sum\": 0.09922530052348379, \"count\": 1, \"min\": 0.09922530052348379, \"max\": 0.09922530052348379}}}\u001b[0m\n",
      "\u001b[34m#metrics {\"StartTime\": 1730378910.7560263, \"EndTime\": 1730378910.7560363, \"Dimensions\": {\"Algorithm\": \"Linear Learner\", \"Host\": \"algo-1\", \"Operation\": \"training\", \"epoch\": 3, \"model\": 3}, \"Metrics\": {\"train_binary_classification_cross_entropy_objective\": {\"sum\": 0.04072349595148629, \"count\": 1, \"min\": 0.04072349595148629, \"max\": 0.04072349595148629}}}\u001b[0m\n",
      "\u001b[34m#metrics {\"StartTime\": 1730378910.7560685, \"EndTime\": 1730378910.7560785, \"Dimensions\": {\"Algorithm\": \"Linear Learner\", \"Host\": \"algo-1\", \"Operation\": \"training\", \"epoch\": 3, \"model\": 4}, \"Metrics\": {\"train_binary_classification_cross_entropy_objective\": {\"sum\": 0.0240624707182613, \"count\": 1, \"min\": 0.0240624707182613, \"max\": 0.0240624707182613}}}\u001b[0m\n",
      "\u001b[34m#metrics {\"StartTime\": 1730378910.7561114, \"EndTime\": 1730378910.7561214, \"Dimensions\": {\"Algorithm\": \"Linear Learner\", \"Host\": \"algo-1\", \"Operation\": \"training\", \"epoch\": 3, \"model\": 5}, \"Metrics\": {\"train_binary_classification_cross_entropy_objective\": {\"sum\": 0.026352928472950555, \"count\": 1, \"min\": 0.026352928472950555, \"max\": 0.026352928472950555}}}\u001b[0m\n",
      "\u001b[34m#metrics {\"StartTime\": 1730378910.7561555, \"EndTime\": 1730378910.756166, \"Dimensions\": {\"Algorithm\": \"Linear Learner\", \"Host\": \"algo-1\", \"Operation\": \"training\", \"epoch\": 3, \"model\": 6}, \"Metrics\": {\"train_binary_classification_cross_entropy_objective\": {\"sum\": 0.024079294442401384, \"count\": 1, \"min\": 0.024079294442401384, \"max\": 0.024079294442401384}}}\u001b[0m\n",
      "\u001b[34m#metrics {\"StartTime\": 1730378910.7561984, \"EndTime\": 1730378910.756208, \"Dimensions\": {\"Algorithm\": \"Linear Learner\", \"Host\": \"algo-1\", \"Operation\": \"training\", \"epoch\": 3, \"model\": 7}, \"Metrics\": {\"train_binary_classification_cross_entropy_objective\": {\"sum\": 0.026355563523207965, \"count\": 1, \"min\": 0.026355563523207965, \"max\": 0.026355563523207965}}}\u001b[0m\n",
      "\u001b[34m#metrics {\"StartTime\": 1730378910.7562478, \"EndTime\": 1730378910.7562582, \"Dimensions\": {\"Algorithm\": \"Linear Learner\", \"Host\": \"algo-1\", \"Operation\": \"training\", \"epoch\": 3, \"model\": 8}, \"Metrics\": {\"train_binary_classification_cross_entropy_objective\": {\"sum\": 0.12762658529252452, \"count\": 1, \"min\": 0.12762658529252452, \"max\": 0.12762658529252452}}}\u001b[0m\n",
      "\u001b[34m#metrics {\"StartTime\": 1730378910.7562964, \"EndTime\": 1730378910.756308, \"Dimensions\": {\"Algorithm\": \"Linear Learner\", \"Host\": \"algo-1\", \"Operation\": \"training\", \"epoch\": 3, \"model\": 9}, \"Metrics\": {\"train_binary_classification_cross_entropy_objective\": {\"sum\": 0.11949961433643959, \"count\": 1, \"min\": 0.11949961433643959, \"max\": 0.11949961433643959}}}\u001b[0m\n",
      "\u001b[34m#metrics {\"StartTime\": 1730378910.7563481, \"EndTime\": 1730378910.7563584, \"Dimensions\": {\"Algorithm\": \"Linear Learner\", \"Host\": \"algo-1\", \"Operation\": \"training\", \"epoch\": 3, \"model\": 10}, \"Metrics\": {\"train_binary_classification_cross_entropy_objective\": {\"sum\": 0.12660230311705797, \"count\": 1, \"min\": 0.12660230311705797, \"max\": 0.12660230311705797}}}\u001b[0m\n",
      "\u001b[34m#metrics {\"StartTime\": 1730378910.7563975, \"EndTime\": 1730378910.7564082, \"Dimensions\": {\"Algorithm\": \"Linear Learner\", \"Host\": \"algo-1\", \"Operation\": \"training\", \"epoch\": 3, \"model\": 11}, \"Metrics\": {\"train_binary_classification_cross_entropy_objective\": {\"sum\": 0.11949951795992136, \"count\": 1, \"min\": 0.11949951795992136, \"max\": 0.11949951795992136}}}\u001b[0m\n",
      "\u001b[34m#metrics {\"StartTime\": 1730378910.7564468, \"EndTime\": 1730378910.756458, \"Dimensions\": {\"Algorithm\": \"Linear Learner\", \"Host\": \"algo-1\", \"Operation\": \"training\", \"epoch\": 3, \"model\": 12}, \"Metrics\": {\"train_binary_classification_cross_entropy_objective\": {\"sum\": 0.11930910078976133, \"count\": 1, \"min\": 0.11930910078976133, \"max\": 0.11930910078976133}}}\u001b[0m\n",
      "\u001b[34m#metrics {\"StartTime\": 1730378910.756497, \"EndTime\": 1730378910.756506, \"Dimensions\": {\"Algorithm\": \"Linear Learner\", \"Host\": \"algo-1\", \"Operation\": \"training\", \"epoch\": 3, \"model\": 13}, \"Metrics\": {\"train_binary_classification_cross_entropy_objective\": {\"sum\": 0.12455581076502435, \"count\": 1, \"min\": 0.12455581076502435, \"max\": 0.12455581076502435}}}\u001b[0m\n",
      "\u001b[34m#metrics {\"StartTime\": 1730378910.7565367, \"EndTime\": 1730378910.7565458, \"Dimensions\": {\"Algorithm\": \"Linear Learner\", \"Host\": \"algo-1\", \"Operation\": \"training\", \"epoch\": 3, \"model\": 14}, \"Metrics\": {\"train_binary_classification_cross_entropy_objective\": {\"sum\": 0.11930920647554077, \"count\": 1, \"min\": 0.11930920647554077, \"max\": 0.11930920647554077}}}\u001b[0m\n",
      "\u001b[34m#metrics {\"StartTime\": 1730378910.7565756, \"EndTime\": 1730378910.7565835, \"Dimensions\": {\"Algorithm\": \"Linear Learner\", \"Host\": \"algo-1\", \"Operation\": \"training\", \"epoch\": 3, \"model\": 15}, \"Metrics\": {\"train_binary_classification_cross_entropy_objective\": {\"sum\": 0.12455580731779793, \"count\": 1, \"min\": 0.12455580731779793, \"max\": 0.12455580731779793}}}\u001b[0m\n",
      "\u001b[34m#metrics {\"StartTime\": 1730378910.756612, \"EndTime\": 1730378910.7566206, \"Dimensions\": {\"Algorithm\": \"Linear Learner\", \"Host\": \"algo-1\", \"Operation\": \"training\", \"epoch\": 3, \"model\": 16}, \"Metrics\": {\"train_binary_classification_cross_entropy_objective\": {\"sum\": 0.4215341904433131, \"count\": 1, \"min\": 0.4215341904433131, \"max\": 0.4215341904433131}}}\u001b[0m\n",
      "\u001b[34m#metrics {\"StartTime\": 1730378910.75665, \"EndTime\": 1730378910.756658, \"Dimensions\": {\"Algorithm\": \"Linear Learner\", \"Host\": \"algo-1\", \"Operation\": \"training\", \"epoch\": 3, \"model\": 17}, \"Metrics\": {\"train_binary_classification_cross_entropy_objective\": {\"sum\": 0.4217518441203173, \"count\": 1, \"min\": 0.4217518441203173, \"max\": 0.4217518441203173}}}\u001b[0m\n",
      "\u001b[34m#metrics {\"StartTime\": 1730378910.7566855, \"EndTime\": 1730378910.756694, \"Dimensions\": {\"Algorithm\": \"Linear Learner\", \"Host\": \"algo-1\", \"Operation\": \"training\", \"epoch\": 3, \"model\": 18}, \"Metrics\": {\"train_binary_classification_cross_entropy_objective\": {\"sum\": 0.4215113370936216, \"count\": 1, \"min\": 0.4215113370936216, \"max\": 0.4215113370936216}}}\u001b[0m\n",
      "\u001b[34m#metrics {\"StartTime\": 1730378910.756725, \"EndTime\": 1730378910.7567344, \"Dimensions\": {\"Algorithm\": \"Linear Learner\", \"Host\": \"algo-1\", \"Operation\": \"training\", \"epoch\": 3, \"model\": 19}, \"Metrics\": {\"train_binary_classification_cross_entropy_objective\": {\"sum\": 0.42175178705151295, \"count\": 1, \"min\": 0.42175178705151295, \"max\": 0.42175178705151295}}}\u001b[0m\n",
      "\u001b[34m#metrics {\"StartTime\": 1730378910.75676, \"EndTime\": 1730378910.756768, \"Dimensions\": {\"Algorithm\": \"Linear Learner\", \"Host\": \"algo-1\", \"Operation\": \"training\", \"epoch\": 3, \"model\": 20}, \"Metrics\": {\"train_binary_classification_cross_entropy_objective\": {\"sum\": 0.4216011667280751, \"count\": 1, \"min\": 0.4216011667280751, \"max\": 0.4216011667280751}}}\u001b[0m\n",
      "\u001b[34m#metrics {\"StartTime\": 1730378910.7567964, \"EndTime\": 1730378910.7568047, \"Dimensions\": {\"Algorithm\": \"Linear Learner\", \"Host\": \"algo-1\", \"Operation\": \"training\", \"epoch\": 3, \"model\": 21}, \"Metrics\": {\"train_binary_classification_cross_entropy_objective\": {\"sum\": 0.4247704539867716, \"count\": 1, \"min\": 0.4247704539867716, \"max\": 0.4247704539867716}}}\u001b[0m\n",
      "\u001b[34m#metrics {\"StartTime\": 1730378910.7568345, \"EndTime\": 1730378910.7568438, \"Dimensions\": {\"Algorithm\": \"Linear Learner\", \"Host\": \"algo-1\", \"Operation\": \"training\", \"epoch\": 3, \"model\": 22}, \"Metrics\": {\"train_binary_classification_cross_entropy_objective\": {\"sum\": 0.4216011615018232, \"count\": 1, \"min\": 0.4216011615018232, \"max\": 0.4216011615018232}}}\u001b[0m\n",
      "\u001b[34m#metrics {\"StartTime\": 1730378910.7568805, \"EndTime\": 1730378910.7568908, \"Dimensions\": {\"Algorithm\": \"Linear Learner\", \"Host\": \"algo-1\", \"Operation\": \"training\", \"epoch\": 3, \"model\": 23}, \"Metrics\": {\"train_binary_classification_cross_entropy_objective\": {\"sum\": 0.42477048081797564, \"count\": 1, \"min\": 0.42477048081797564, \"max\": 0.42477048081797564}}}\u001b[0m\n",
      "\u001b[34m#metrics {\"StartTime\": 1730378910.7569275, \"EndTime\": 1730378910.7569373, \"Dimensions\": {\"Algorithm\": \"Linear Learner\", \"Host\": \"algo-1\", \"Operation\": \"training\", \"epoch\": 3, \"model\": 24}, \"Metrics\": {\"train_binary_classification_cross_entropy_objective\": {\"sum\": 0.5123378006821379, \"count\": 1, \"min\": 0.5123378006821379, \"max\": 0.5123378006821379}}}\u001b[0m\n",
      "\u001b[34m#metrics {\"StartTime\": 1730378910.7569754, \"EndTime\": 1730378910.7569854, \"Dimensions\": {\"Algorithm\": \"Linear Learner\", \"Host\": \"algo-1\", \"Operation\": \"training\", \"epoch\": 3, \"model\": 25}, \"Metrics\": {\"train_binary_classification_cross_entropy_objective\": {\"sum\": 0.5124311756752318, \"count\": 1, \"min\": 0.5124311756752318, \"max\": 0.5124311756752318}}}\u001b[0m\n",
      "\u001b[34m#metrics {\"StartTime\": 1730378910.757019, \"EndTime\": 1730378910.7570288, \"Dimensions\": {\"Algorithm\": \"Linear Learner\", \"Host\": \"algo-1\", \"Operation\": \"training\", \"epoch\": 3, \"model\": 26}, \"Metrics\": {\"train_binary_classification_cross_entropy_objective\": {\"sum\": 0.5123388097687234, \"count\": 1, \"min\": 0.5123388097687234, \"max\": 0.5123388097687234}}}\u001b[0m\n",
      "\u001b[34m#metrics {\"StartTime\": 1730378910.7570672, \"EndTime\": 1730378910.7570772, \"Dimensions\": {\"Algorithm\": \"Linear Learner\", \"Host\": \"algo-1\", \"Operation\": \"training\", \"epoch\": 3, \"model\": 27}, \"Metrics\": {\"train_binary_classification_cross_entropy_objective\": {\"sum\": 0.5124302835726957, \"count\": 1, \"min\": 0.5124302835726957, \"max\": 0.5124302835726957}}}\u001b[0m\n",
      "\u001b[34m#metrics {\"StartTime\": 1730378910.7571146, \"EndTime\": 1730378910.757125, \"Dimensions\": {\"Algorithm\": \"Linear Learner\", \"Host\": \"algo-1\", \"Operation\": \"training\", \"epoch\": 3, \"model\": 28}, \"Metrics\": {\"train_binary_classification_cross_entropy_objective\": {\"sum\": 0.51237336588635, \"count\": 1, \"min\": 0.51237336588635, \"max\": 0.51237336588635}}}\u001b[0m\n",
      "\u001b[34m#metrics {\"StartTime\": 1730378910.7571588, \"EndTime\": 1730378910.7571678, \"Dimensions\": {\"Algorithm\": \"Linear Learner\", \"Host\": \"algo-1\", \"Operation\": \"training\", \"epoch\": 3, \"model\": 29}, \"Metrics\": {\"train_binary_classification_cross_entropy_objective\": {\"sum\": 0.5134646173646326, \"count\": 1, \"min\": 0.5134646173646326, \"max\": 0.5134646173646326}}}\u001b[0m\n",
      "\u001b[34m#metrics {\"StartTime\": 1730378910.757204, \"EndTime\": 1730378910.757213, \"Dimensions\": {\"Algorithm\": \"Linear Learner\", \"Host\": \"algo-1\", \"Operation\": \"training\", \"epoch\": 3, \"model\": 30}, \"Metrics\": {\"train_binary_classification_cross_entropy_objective\": {\"sum\": 0.5123731554363846, \"count\": 1, \"min\": 0.5123731554363846, \"max\": 0.5123731554363846}}}\u001b[0m\n",
      "\u001b[34m#metrics {\"StartTime\": 1730378910.7572484, \"EndTime\": 1730378910.7572582, \"Dimensions\": {\"Algorithm\": \"Linear Learner\", \"Host\": \"algo-1\", \"Operation\": \"training\", \"epoch\": 3, \"model\": 31}, \"Metrics\": {\"train_binary_classification_cross_entropy_objective\": {\"sum\": 0.5134645979761713, \"count\": 1, \"min\": 0.5134645979761713, \"max\": 0.5134645979761713}}}\u001b[0m\n",
      "\u001b[34m[10/31/2024 12:48:30 INFO 140292085315392] #quality_metric: host=algo-1, epoch=3, train binary_classification_cross_entropy_objective <loss>=0.098072476541595\u001b[0m\n",
      "\u001b[34m[2024-10-31 12:48:33.690] [tensorio] [info] epoch_stats={\"data_pipeline\": \"/opt/ml/input/data/validation\", \"epoch\": 11, \"duration\": 2919, \"num_examples\": 164, \"num_bytes\": 83742208}\u001b[0m\n",
      "\u001b[34m#metrics {\"StartTime\": 1730378915.3946347, \"EndTime\": 1730378915.3946934, \"Dimensions\": {\"Algorithm\": \"Linear Learner\", \"Host\": \"algo-1\", \"Operation\": \"training\", \"epoch\": 3, \"model\": 0}, \"Metrics\": {\"validation_binary_classification_cross_entropy_objective\": {\"sum\": 0.09784701854178779, \"count\": 1, \"min\": 0.09784701854178779, \"max\": 0.09784701854178779}}}\u001b[0m\n",
      "\u001b[34m#metrics {\"StartTime\": 1730378915.394764, \"EndTime\": 1730378915.3947737, \"Dimensions\": {\"Algorithm\": \"Linear Learner\", \"Host\": \"algo-1\", \"Operation\": \"training\", \"epoch\": 3, \"model\": 1}, \"Metrics\": {\"validation_binary_classification_cross_entropy_objective\": {\"sum\": 0.03858109913594513, \"count\": 1, \"min\": 0.03858109913594513, \"max\": 0.03858109913594513}}}\u001b[0m\n",
      "\u001b[34m#metrics {\"StartTime\": 1730378915.3947983, \"EndTime\": 1730378915.3948069, \"Dimensions\": {\"Algorithm\": \"Linear Learner\", \"Host\": \"algo-1\", \"Operation\": \"training\", \"epoch\": 3, \"model\": 2}, \"Metrics\": {\"validation_binary_classification_cross_entropy_objective\": {\"sum\": 0.09786177901023341, \"count\": 1, \"min\": 0.09786177901023341, \"max\": 0.09786177901023341}}}\u001b[0m\n",
      "\u001b[34m#metrics {\"StartTime\": 1730378915.3948407, \"EndTime\": 1730378915.3948495, \"Dimensions\": {\"Algorithm\": \"Linear Learner\", \"Host\": \"algo-1\", \"Operation\": \"training\", \"epoch\": 3, \"model\": 3}, \"Metrics\": {\"validation_binary_classification_cross_entropy_objective\": {\"sum\": 0.037513220059269575, \"count\": 1, \"min\": 0.037513220059269575, \"max\": 0.037513220059269575}}}\u001b[0m\n",
      "\u001b[34m#metrics {\"StartTime\": 1730378915.3948848, \"EndTime\": 1730378915.3948934, \"Dimensions\": {\"Algorithm\": \"Linear Learner\", \"Host\": \"algo-1\", \"Operation\": \"training\", \"epoch\": 3, \"model\": 4}, \"Metrics\": {\"validation_binary_classification_cross_entropy_objective\": {\"sum\": 0.024410855840882012, \"count\": 1, \"min\": 0.024410855840882012, \"max\": 0.024410855840882012}}}\u001b[0m\n",
      "\u001b[34m#metrics {\"StartTime\": 1730378915.3949218, \"EndTime\": 1730378915.3949294, \"Dimensions\": {\"Algorithm\": \"Linear Learner\", \"Host\": \"algo-1\", \"Operation\": \"training\", \"epoch\": 3, \"model\": 5}, \"Metrics\": {\"validation_binary_classification_cross_entropy_objective\": {\"sum\": 0.026389775410787325, \"count\": 1, \"min\": 0.026389775410787325, \"max\": 0.026389775410787325}}}\u001b[0m\n",
      "\u001b[34m#metrics {\"StartTime\": 1730378915.394973, \"EndTime\": 1730378915.3949804, \"Dimensions\": {\"Algorithm\": \"Linear Learner\", \"Host\": \"algo-1\", \"Operation\": \"training\", \"epoch\": 3, \"model\": 6}, \"Metrics\": {\"validation_binary_classification_cross_entropy_objective\": {\"sum\": 0.02442684726573867, \"count\": 1, \"min\": 0.02442684726573867, \"max\": 0.02442684726573867}}}\u001b[0m\n",
      "\u001b[34m#metrics {\"StartTime\": 1730378915.395, \"EndTime\": 1730378915.3950057, \"Dimensions\": {\"Algorithm\": \"Linear Learner\", \"Host\": \"algo-1\", \"Operation\": \"training\", \"epoch\": 3, \"model\": 7}, \"Metrics\": {\"validation_binary_classification_cross_entropy_objective\": {\"sum\": 0.02641993591277994, \"count\": 1, \"min\": 0.02641993591277994, \"max\": 0.02641993591277994}}}\u001b[0m\n",
      "\u001b[34m#metrics {\"StartTime\": 1730378915.3950288, \"EndTime\": 1730378915.3950346, \"Dimensions\": {\"Algorithm\": \"Linear Learner\", \"Host\": \"algo-1\", \"Operation\": \"training\", \"epoch\": 3, \"model\": 8}, \"Metrics\": {\"validation_binary_classification_cross_entropy_objective\": {\"sum\": 0.12760313463656822, \"count\": 1, \"min\": 0.12760313463656822, \"max\": 0.12760313463656822}}}\u001b[0m\n",
      "\u001b[34m#metrics {\"StartTime\": 1730378915.3950534, \"EndTime\": 1730378915.3950586, \"Dimensions\": {\"Algorithm\": \"Linear Learner\", \"Host\": \"algo-1\", \"Operation\": \"training\", \"epoch\": 3, \"model\": 9}, \"Metrics\": {\"validation_binary_classification_cross_entropy_objective\": {\"sum\": 0.12013344451626473, \"count\": 1, \"min\": 0.12013344451626473, \"max\": 0.12013344451626473}}}\u001b[0m\n",
      "\u001b[34m#metrics {\"StartTime\": 1730378915.3950818, \"EndTime\": 1730378915.3950877, \"Dimensions\": {\"Algorithm\": \"Linear Learner\", \"Host\": \"algo-1\", \"Operation\": \"training\", \"epoch\": 3, \"model\": 10}, \"Metrics\": {\"validation_binary_classification_cross_entropy_objective\": {\"sum\": 0.12586588517846042, \"count\": 1, \"min\": 0.12586588517846042, \"max\": 0.12586588517846042}}}\u001b[0m\n",
      "\u001b[34m#metrics {\"StartTime\": 1730378915.3951137, \"EndTime\": 1730378915.39512, \"Dimensions\": {\"Algorithm\": \"Linear Learner\", \"Host\": \"algo-1\", \"Operation\": \"training\", \"epoch\": 3, \"model\": 11}, \"Metrics\": {\"validation_binary_classification_cross_entropy_objective\": {\"sum\": 0.12013204326649113, \"count\": 1, \"min\": 0.12013204326649113, \"max\": 0.12013204326649113}}}\u001b[0m\n",
      "\u001b[34m#metrics {\"StartTime\": 1730378915.3951435, \"EndTime\": 1730378915.395149, \"Dimensions\": {\"Algorithm\": \"Linear Learner\", \"Host\": \"algo-1\", \"Operation\": \"training\", \"epoch\": 3, \"model\": 12}, \"Metrics\": {\"validation_binary_classification_cross_entropy_objective\": {\"sum\": 0.119760506693575, \"count\": 1, \"min\": 0.119760506693575, \"max\": 0.119760506693575}}}\u001b[0m\n",
      "\u001b[34m#metrics {\"StartTime\": 1730378915.3951697, \"EndTime\": 1730378915.3951752, \"Dimensions\": {\"Algorithm\": \"Linear Learner\", \"Host\": \"algo-1\", \"Operation\": \"training\", \"epoch\": 3, \"model\": 13}, \"Metrics\": {\"validation_binary_classification_cross_entropy_objective\": {\"sum\": 0.12401893167033523, \"count\": 1, \"min\": 0.12401893167033523, \"max\": 0.12401893167033523}}}\u001b[0m\n",
      "\u001b[34m#metrics {\"StartTime\": 1730378915.3951972, \"EndTime\": 1730378915.3952029, \"Dimensions\": {\"Algorithm\": \"Linear Learner\", \"Host\": \"algo-1\", \"Operation\": \"training\", \"epoch\": 3, \"model\": 14}, \"Metrics\": {\"validation_binary_classification_cross_entropy_objective\": {\"sum\": 0.11976075125923955, \"count\": 1, \"min\": 0.11976075125923955, \"max\": 0.11976075125923955}}}\u001b[0m\n",
      "\u001b[34m#metrics {\"StartTime\": 1730378915.3952253, \"EndTime\": 1730378915.395231, \"Dimensions\": {\"Algorithm\": \"Linear Learner\", \"Host\": \"algo-1\", \"Operation\": \"training\", \"epoch\": 3, \"model\": 15}, \"Metrics\": {\"validation_binary_classification_cross_entropy_objective\": {\"sum\": 0.12402640923171025, \"count\": 1, \"min\": 0.12402640923171025, \"max\": 0.12402640923171025}}}\u001b[0m\n",
      "\u001b[34m#metrics {\"StartTime\": 1730378915.3952544, \"EndTime\": 1730378915.3952622, \"Dimensions\": {\"Algorithm\": \"Linear Learner\", \"Host\": \"algo-1\", \"Operation\": \"training\", \"epoch\": 3, \"model\": 16}, \"Metrics\": {\"validation_binary_classification_cross_entropy_objective\": {\"sum\": 0.42192071152906546, \"count\": 1, \"min\": 0.42192071152906546, \"max\": 0.42192071152906546}}}\u001b[0m\n",
      "\u001b[34m#metrics {\"StartTime\": 1730378915.395293, \"EndTime\": 1730378915.3953023, \"Dimensions\": {\"Algorithm\": \"Linear Learner\", \"Host\": \"algo-1\", \"Operation\": \"training\", \"epoch\": 3, \"model\": 17}, \"Metrics\": {\"validation_binary_classification_cross_entropy_objective\": {\"sum\": 0.4214322074971441, \"count\": 1, \"min\": 0.4214322074971441, \"max\": 0.4214322074971441}}}\u001b[0m\n",
      "\u001b[34m#metrics {\"StartTime\": 1730378915.3953357, \"EndTime\": 1730378915.3953454, \"Dimensions\": {\"Algorithm\": \"Linear Learner\", \"Host\": \"algo-1\", \"Operation\": \"training\", \"epoch\": 3, \"model\": 18}, \"Metrics\": {\"validation_binary_classification_cross_entropy_objective\": {\"sum\": 0.4218206225527275, \"count\": 1, \"min\": 0.4218206225527275, \"max\": 0.4218206225527275}}}\u001b[0m\n",
      "\u001b[34m#metrics {\"StartTime\": 1730378915.3953788, \"EndTime\": 1730378915.3953888, \"Dimensions\": {\"Algorithm\": \"Linear Learner\", \"Host\": \"algo-1\", \"Operation\": \"training\", \"epoch\": 3, \"model\": 19}, \"Metrics\": {\"validation_binary_classification_cross_entropy_objective\": {\"sum\": 0.42143083171615797, \"count\": 1, \"min\": 0.42143083171615797, \"max\": 0.42143083171615797}}}\u001b[0m\n",
      "\u001b[34m#metrics {\"StartTime\": 1730378915.3954237, \"EndTime\": 1730378915.3954337, \"Dimensions\": {\"Algorithm\": \"Linear Learner\", \"Host\": \"algo-1\", \"Operation\": \"training\", \"epoch\": 3, \"model\": 20}, \"Metrics\": {\"validation_binary_classification_cross_entropy_objective\": {\"sum\": 0.42137140305265774, \"count\": 1, \"min\": 0.42137140305265774, \"max\": 0.42137140305265774}}}\u001b[0m\n",
      "\u001b[34m#metrics {\"StartTime\": 1730378915.3954718, \"EndTime\": 1730378915.3954816, \"Dimensions\": {\"Algorithm\": \"Linear Learner\", \"Host\": \"algo-1\", \"Operation\": \"training\", \"epoch\": 3, \"model\": 21}, \"Metrics\": {\"validation_binary_classification_cross_entropy_objective\": {\"sum\": 0.4294177681880564, \"count\": 1, \"min\": 0.4294177681880564, \"max\": 0.4294177681880564}}}\u001b[0m\n",
      "\u001b[34m#metrics {\"StartTime\": 1730378915.3955207, \"EndTime\": 1730378915.395531, \"Dimensions\": {\"Algorithm\": \"Linear Learner\", \"Host\": \"algo-1\", \"Operation\": \"training\", \"epoch\": 3, \"model\": 22}, \"Metrics\": {\"validation_binary_classification_cross_entropy_objective\": {\"sum\": 0.421371077555956, \"count\": 1, \"min\": 0.421371077555956, \"max\": 0.421371077555956}}}\u001b[0m\n",
      "\u001b[34m#metrics {\"StartTime\": 1730378915.395569, \"EndTime\": 1730378915.395579, \"Dimensions\": {\"Algorithm\": \"Linear Learner\", \"Host\": \"algo-1\", \"Operation\": \"training\", \"epoch\": 3, \"model\": 23}, \"Metrics\": {\"validation_binary_classification_cross_entropy_objective\": {\"sum\": 0.4294177718264546, \"count\": 1, \"min\": 0.4294177718264546, \"max\": 0.4294177718264546}}}\u001b[0m\n",
      "\u001b[34m#metrics {\"StartTime\": 1730378915.3956177, \"EndTime\": 1730378915.3956275, \"Dimensions\": {\"Algorithm\": \"Linear Learner\", \"Host\": \"algo-1\", \"Operation\": \"training\", \"epoch\": 3, \"model\": 24}, \"Metrics\": {\"validation_binary_classification_cross_entropy_objective\": {\"sum\": 0.5123179925065386, \"count\": 1, \"min\": 0.5123179925065386, \"max\": 0.5123179925065386}}}\u001b[0m\n",
      "\u001b[34m#metrics {\"StartTime\": 1730378915.3956676, \"EndTime\": 1730378915.395677, \"Dimensions\": {\"Algorithm\": \"Linear Learner\", \"Host\": \"algo-1\", \"Operation\": \"training\", \"epoch\": 3, \"model\": 25}, \"Metrics\": {\"validation_binary_classification_cross_entropy_objective\": {\"sum\": 0.5126454522640482, \"count\": 1, \"min\": 0.5126454522640482, \"max\": 0.5126454522640482}}}\u001b[0m\n",
      "\u001b[34m#metrics {\"StartTime\": 1730378915.3957174, \"EndTime\": 1730378915.3957267, \"Dimensions\": {\"Algorithm\": \"Linear Learner\", \"Host\": \"algo-1\", \"Operation\": \"training\", \"epoch\": 3, \"model\": 26}, \"Metrics\": {\"validation_binary_classification_cross_entropy_objective\": {\"sum\": 0.5123151851557939, \"count\": 1, \"min\": 0.5123151851557939, \"max\": 0.5123151851557939}}}\u001b[0m\n",
      "\u001b[34m#metrics {\"StartTime\": 1730378915.3957653, \"EndTime\": 1730378915.3957746, \"Dimensions\": {\"Algorithm\": \"Linear Learner\", \"Host\": \"algo-1\", \"Operation\": \"training\", \"epoch\": 3, \"model\": 27}, \"Metrics\": {\"validation_binary_classification_cross_entropy_objective\": {\"sum\": 0.5126681635188673, \"count\": 1, \"min\": 0.5126681635188673, \"max\": 0.5126681635188673}}}\u001b[0m\n",
      "\u001b[34m#metrics {\"StartTime\": 1730378915.3958137, \"EndTime\": 1730378915.3958228, \"Dimensions\": {\"Algorithm\": \"Linear Learner\", \"Host\": \"algo-1\", \"Operation\": \"training\", \"epoch\": 3, \"model\": 28}, \"Metrics\": {\"validation_binary_classification_cross_entropy_objective\": {\"sum\": 0.5122536753285153, \"count\": 1, \"min\": 0.5122536753285153, \"max\": 0.5122536753285153}}}\u001b[0m\n",
      "\u001b[34m#metrics {\"StartTime\": 1730378915.3958561, \"EndTime\": 1730378915.3958652, \"Dimensions\": {\"Algorithm\": \"Linear Learner\", \"Host\": \"algo-1\", \"Operation\": \"training\", \"epoch\": 3, \"model\": 29}, \"Metrics\": {\"validation_binary_classification_cross_entropy_objective\": {\"sum\": 0.5134223064446187, \"count\": 1, \"min\": 0.5134223064446187, \"max\": 0.5134223064446187}}}\u001b[0m\n",
      "\u001b[34m#metrics {\"StartTime\": 1730378915.3959012, \"EndTime\": 1730378915.3959098, \"Dimensions\": {\"Algorithm\": \"Linear Learner\", \"Host\": \"algo-1\", \"Operation\": \"training\", \"epoch\": 3, \"model\": 30}, \"Metrics\": {\"validation_binary_classification_cross_entropy_objective\": {\"sum\": 0.5122574893027659, \"count\": 1, \"min\": 0.5122574893027659, \"max\": 0.5122574893027659}}}\u001b[0m\n",
      "\u001b[34m#metrics {\"StartTime\": 1730378915.395945, \"EndTime\": 1730378915.3959537, \"Dimensions\": {\"Algorithm\": \"Linear Learner\", \"Host\": \"algo-1\", \"Operation\": \"training\", \"epoch\": 3, \"model\": 31}, \"Metrics\": {\"validation_binary_classification_cross_entropy_objective\": {\"sum\": 0.5134222849873985, \"count\": 1, \"min\": 0.5134222849873985, \"max\": 0.5134222849873985}}}\u001b[0m\n",
      "\u001b[34m[10/31/2024 12:48:35 INFO 140292085315392] #quality_metric: host=algo-1, epoch=3, validation binary_classification_cross_entropy_objective <loss>=0.09784701854178779\u001b[0m\n",
      "\u001b[34m[10/31/2024 12:48:35 INFO 140292085315392] #early_stopping_criteria_metric: host=algo-1, epoch=3, criteria=sampled_f_beta, value=0.9989961446133702\u001b[0m\n",
      "\u001b[34m[10/31/2024 12:48:35 INFO 140292085315392] Epoch 3: Loss improved. Updating best model\u001b[0m\n",
      "\u001b[34m[10/31/2024 12:48:35 INFO 140292085315392] Saving model for epoch: 3\u001b[0m\n",
      "\u001b[34m[10/31/2024 12:48:35 INFO 140292085315392] Saved checkpoint to \"/tmp/tmp4od1x834/mx-mod-0000.params\"\u001b[0m\n",
      "\u001b[34m[10/31/2024 12:48:35 INFO 140292085315392] #progress_metric: host=algo-1, completed 26.666666666666668 % of epochs\u001b[0m\n",
      "\u001b[34m#metrics {\"StartTime\": 1730378878.7925887, \"EndTime\": 1730378915.4024072, \"Dimensions\": {\"Algorithm\": \"Linear Learner\", \"Host\": \"algo-1\", \"Operation\": \"training\", \"epoch\": 3, \"Meta\": \"training_data_iter\"}, \"Metrics\": {\"Total Records Seen\": {\"sum\": 5245888.0, \"count\": 1, \"min\": 5245888, \"max\": 5245888}, \"Total Batches Seen\": {\"sum\": 5248.0, \"count\": 1, \"min\": 5248, \"max\": 5248}, \"Max Records Seen Between Resets\": {\"sum\": 1308472.0, \"count\": 1, \"min\": 1308472, \"max\": 1308472}, \"Max Batches Seen Between Resets\": {\"sum\": 1309.0, \"count\": 1, \"min\": 1309, \"max\": 1309}, \"Reset Count\": {\"sum\": 6.0, \"count\": 1, \"min\": 6, \"max\": 6}, \"Number of Records Since Last Reset\": {\"sum\": 1308472.0, \"count\": 1, \"min\": 1308472, \"max\": 1308472}, \"Number of Batches Since Last Reset\": {\"sum\": 1309.0, \"count\": 1, \"min\": 1309, \"max\": 1309}}}\u001b[0m\n",
      "\u001b[34m[10/31/2024 12:48:35 INFO 140292085315392] #throughput_metric: host=algo-1, train throughput=35740.88388787935 records/second\u001b[0m\n",
      "\u001b[34m[2024-10-31 12:49:07.022] [tensorio] [info] epoch_stats={\"data_pipeline\": \"/opt/ml/input/data/train\", \"epoch\": 11, \"duration\": 31619, \"num_examples\": 1309, \"num_bytes\": 669937664}\u001b[0m\n",
      "\u001b[34m#metrics {\"StartTime\": 1730378947.0225613, \"EndTime\": 1730378947.022629, \"Dimensions\": {\"Algorithm\": \"Linear Learner\", \"Host\": \"algo-1\", \"Operation\": \"training\", \"epoch\": 4, \"model\": 0}, \"Metrics\": {\"train_binary_classification_cross_entropy_objective\": {\"sum\": 0.09686630439175013, \"count\": 1, \"min\": 0.09686630439175013, \"max\": 0.09686630439175013}}}\u001b[0m\n",
      "\u001b[34m#metrics {\"StartTime\": 1730378947.0227013, \"EndTime\": 1730378947.0227156, \"Dimensions\": {\"Algorithm\": \"Linear Learner\", \"Host\": \"algo-1\", \"Operation\": \"training\", \"epoch\": 4, \"model\": 1}, \"Metrics\": {\"train_binary_classification_cross_entropy_objective\": {\"sum\": 0.03505748365559709, \"count\": 1, \"min\": 0.03505748365559709, \"max\": 0.03505748365559709}}}\u001b[0m\n",
      "\u001b[34m#metrics {\"StartTime\": 1730378947.0227497, \"EndTime\": 1730378947.0227597, \"Dimensions\": {\"Algorithm\": \"Linear Learner\", \"Host\": \"algo-1\", \"Operation\": \"training\", \"epoch\": 4, \"model\": 2}, \"Metrics\": {\"train_binary_classification_cross_entropy_objective\": {\"sum\": 0.09528331143557114, \"count\": 1, \"min\": 0.09528331143557114, \"max\": 0.09528331143557114}}}\u001b[0m\n",
      "\u001b[34m#metrics {\"StartTime\": 1730378947.0227952, \"EndTime\": 1730378947.022805, \"Dimensions\": {\"Algorithm\": \"Linear Learner\", \"Host\": \"algo-1\", \"Operation\": \"training\", \"epoch\": 4, \"model\": 3}, \"Metrics\": {\"train_binary_classification_cross_entropy_objective\": {\"sum\": 0.03414593539981667, \"count\": 1, \"min\": 0.03414593539981667, \"max\": 0.03414593539981667}}}\u001b[0m\n",
      "\u001b[34m#metrics {\"StartTime\": 1730378947.022845, \"EndTime\": 1730378947.0228548, \"Dimensions\": {\"Algorithm\": \"Linear Learner\", \"Host\": \"algo-1\", \"Operation\": \"training\", \"epoch\": 4, \"model\": 4}, \"Metrics\": {\"train_binary_classification_cross_entropy_objective\": {\"sum\": 0.023898223536459314, \"count\": 1, \"min\": 0.023898223536459314, \"max\": 0.023898223536459314}}}\u001b[0m\n",
      "\u001b[34m#metrics {\"StartTime\": 1730378947.0228934, \"EndTime\": 1730378947.0229053, \"Dimensions\": {\"Algorithm\": \"Linear Learner\", \"Host\": \"algo-1\", \"Operation\": \"training\", \"epoch\": 4, \"model\": 5}, \"Metrics\": {\"train_binary_classification_cross_entropy_objective\": {\"sum\": 0.025948894580205283, \"count\": 1, \"min\": 0.025948894580205283, \"max\": 0.025948894580205283}}}\u001b[0m\n",
      "\u001b[34m#metrics {\"StartTime\": 1730378947.0229356, \"EndTime\": 1730378947.0229554, \"Dimensions\": {\"Algorithm\": \"Linear Learner\", \"Host\": \"algo-1\", \"Operation\": \"training\", \"epoch\": 4, \"model\": 6}, \"Metrics\": {\"train_binary_classification_cross_entropy_objective\": {\"sum\": 0.02391348467543949, \"count\": 1, \"min\": 0.02391348467543949, \"max\": 0.02391348467543949}}}\u001b[0m\n",
      "\u001b[34m#metrics {\"StartTime\": 1730378947.022984, \"EndTime\": 1730378947.022993, \"Dimensions\": {\"Algorithm\": \"Linear Learner\", \"Host\": \"algo-1\", \"Operation\": \"training\", \"epoch\": 4, \"model\": 7}, \"Metrics\": {\"train_binary_classification_cross_entropy_objective\": {\"sum\": 0.025973335702849456, \"count\": 1, \"min\": 0.025973335702849456, \"max\": 0.025973335702849456}}}\u001b[0m\n",
      "\u001b[34m#metrics {\"StartTime\": 1730378947.0230234, \"EndTime\": 1730378947.0230315, \"Dimensions\": {\"Algorithm\": \"Linear Learner\", \"Host\": \"algo-1\", \"Operation\": \"training\", \"epoch\": 4, \"model\": 8}, \"Metrics\": {\"train_binary_classification_cross_entropy_objective\": {\"sum\": 0.1266437429550591, \"count\": 1, \"min\": 0.1266437429550591, \"max\": 0.1266437429550591}}}\u001b[0m\n",
      "\u001b[34m#metrics {\"StartTime\": 1730378947.023542, \"EndTime\": 1730378947.0235565, \"Dimensions\": {\"Algorithm\": \"Linear Learner\", \"Host\": \"algo-1\", \"Operation\": \"training\", \"epoch\": 4, \"model\": 9}, \"Metrics\": {\"train_binary_classification_cross_entropy_objective\": {\"sum\": 0.11946730266652705, \"count\": 1, \"min\": 0.11946730266652705, \"max\": 0.11946730266652705}}}\u001b[0m\n",
      "\u001b[34m#metrics {\"StartTime\": 1730378947.0235844, \"EndTime\": 1730378947.0235949, \"Dimensions\": {\"Algorithm\": \"Linear Learner\", \"Host\": \"algo-1\", \"Operation\": \"training\", \"epoch\": 4, \"model\": 10}, \"Metrics\": {\"train_binary_classification_cross_entropy_objective\": {\"sum\": 0.12389124086945794, \"count\": 1, \"min\": 0.12389124086945794, \"max\": 0.12389124086945794}}}\u001b[0m\n",
      "\u001b[34m#metrics {\"StartTime\": 1730378947.0236213, \"EndTime\": 1730378947.0236301, \"Dimensions\": {\"Algorithm\": \"Linear Learner\", \"Host\": \"algo-1\", \"Operation\": \"training\", \"epoch\": 4, \"model\": 11}, \"Metrics\": {\"train_binary_classification_cross_entropy_objective\": {\"sum\": 0.11946716635234494, \"count\": 1, \"min\": 0.11946716635234494, \"max\": 0.11946716635234494}}}\u001b[0m\n",
      "\u001b[34m#metrics {\"StartTime\": 1730378947.0236638, \"EndTime\": 1730378947.023674, \"Dimensions\": {\"Algorithm\": \"Linear Learner\", \"Host\": \"algo-1\", \"Operation\": \"training\", \"epoch\": 4, \"model\": 12}, \"Metrics\": {\"train_binary_classification_cross_entropy_objective\": {\"sum\": 0.1192274938810856, \"count\": 1, \"min\": 0.1192274938810856, \"max\": 0.1192274938810856}}}\u001b[0m\n",
      "\u001b[34m#metrics {\"StartTime\": 1730378947.0236998, \"EndTime\": 1730378947.0237095, \"Dimensions\": {\"Algorithm\": \"Linear Learner\", \"Host\": \"algo-1\", \"Operation\": \"training\", \"epoch\": 4, \"model\": 13}, \"Metrics\": {\"train_binary_classification_cross_entropy_objective\": {\"sum\": 0.1239593506442662, \"count\": 1, \"min\": 0.1239593506442662, \"max\": 0.1239593506442662}}}\u001b[0m\n",
      "\u001b[34m#metrics {\"StartTime\": 1730378947.0237353, \"EndTime\": 1730378947.0237436, \"Dimensions\": {\"Algorithm\": \"Linear Learner\", \"Host\": \"algo-1\", \"Operation\": \"training\", \"epoch\": 4, \"model\": 14}, \"Metrics\": {\"train_binary_classification_cross_entropy_objective\": {\"sum\": 0.11922774160309305, \"count\": 1, \"min\": 0.11922774160309305, \"max\": 0.11922774160309305}}}\u001b[0m\n",
      "\u001b[34m#metrics {\"StartTime\": 1730378947.0237775, \"EndTime\": 1730378947.0237868, \"Dimensions\": {\"Algorithm\": \"Linear Learner\", \"Host\": \"algo-1\", \"Operation\": \"training\", \"epoch\": 4, \"model\": 15}, \"Metrics\": {\"train_binary_classification_cross_entropy_objective\": {\"sum\": 0.1239593786420443, \"count\": 1, \"min\": 0.1239593786420443, \"max\": 0.1239593786420443}}}\u001b[0m\n",
      "\u001b[34m#metrics {\"StartTime\": 1730378947.0238147, \"EndTime\": 1730378947.0238247, \"Dimensions\": {\"Algorithm\": \"Linear Learner\", \"Host\": \"algo-1\", \"Operation\": \"training\", \"epoch\": 4, \"model\": 16}, \"Metrics\": {\"train_binary_classification_cross_entropy_objective\": {\"sum\": 0.42152003595661314, \"count\": 1, \"min\": 0.42152003595661314, \"max\": 0.42152003595661314}}}\u001b[0m\n",
      "\u001b[34m#metrics {\"StartTime\": 1730378947.0238502, \"EndTime\": 1730378947.0238595, \"Dimensions\": {\"Algorithm\": \"Linear Learner\", \"Host\": \"algo-1\", \"Operation\": \"training\", \"epoch\": 4, \"model\": 17}, \"Metrics\": {\"train_binary_classification_cross_entropy_objective\": {\"sum\": 0.4217254722898524, \"count\": 1, \"min\": 0.4217254722898524, \"max\": 0.4217254722898524}}}\u001b[0m\n",
      "\u001b[34m#metrics {\"StartTime\": 1730378947.0238917, \"EndTime\": 1730378947.0239005, \"Dimensions\": {\"Algorithm\": \"Linear Learner\", \"Host\": \"algo-1\", \"Operation\": \"training\", \"epoch\": 4, \"model\": 18}, \"Metrics\": {\"train_binary_classification_cross_entropy_objective\": {\"sum\": 0.42151214597276226, \"count\": 1, \"min\": 0.42151214597276226, \"max\": 0.42151214597276226}}}\u001b[0m\n",
      "\u001b[34m#metrics {\"StartTime\": 1730378947.0239267, \"EndTime\": 1730378947.0239353, \"Dimensions\": {\"Algorithm\": \"Linear Learner\", \"Host\": \"algo-1\", \"Operation\": \"training\", \"epoch\": 4, \"model\": 19}, \"Metrics\": {\"train_binary_classification_cross_entropy_objective\": {\"sum\": 0.4217254555378485, \"count\": 1, \"min\": 0.4217254555378485, \"max\": 0.4217254555378485}}}\u001b[0m\n",
      "\u001b[34m#metrics {\"StartTime\": 1730378947.0239627, \"EndTime\": 1730378947.0239716, \"Dimensions\": {\"Algorithm\": \"Linear Learner\", \"Host\": \"algo-1\", \"Operation\": \"training\", \"epoch\": 4, \"model\": 20}, \"Metrics\": {\"train_binary_classification_cross_entropy_objective\": {\"sum\": 0.42153421347148556, \"count\": 1, \"min\": 0.42153421347148556, \"max\": 0.42153421347148556}}}\u001b[0m\n",
      "\u001b[34m#metrics {\"StartTime\": 1730378947.0240011, \"EndTime\": 1730378947.02401, \"Dimensions\": {\"Algorithm\": \"Linear Learner\", \"Host\": \"algo-1\", \"Operation\": \"training\", \"epoch\": 4, \"model\": 21}, \"Metrics\": {\"train_binary_classification_cross_entropy_objective\": {\"sum\": 0.4244148317856162, \"count\": 1, \"min\": 0.4244148317856162, \"max\": 0.4244148317856162}}}\u001b[0m\n",
      "\u001b[34m#metrics {\"StartTime\": 1730378947.02404, \"EndTime\": 1730378947.0240495, \"Dimensions\": {\"Algorithm\": \"Linear Learner\", \"Host\": \"algo-1\", \"Operation\": \"training\", \"epoch\": 4, \"model\": 22}, \"Metrics\": {\"train_binary_classification_cross_entropy_objective\": {\"sum\": 0.42153421477804853, \"count\": 1, \"min\": 0.42153421477804853, \"max\": 0.42153421477804853}}}\u001b[0m\n",
      "\u001b[34m#metrics {\"StartTime\": 1730378947.024074, \"EndTime\": 1730378947.0240824, \"Dimensions\": {\"Algorithm\": \"Linear Learner\", \"Host\": \"algo-1\", \"Operation\": \"training\", \"epoch\": 4, \"model\": 23}, \"Metrics\": {\"train_binary_classification_cross_entropy_objective\": {\"sum\": 0.4244148359852829, \"count\": 1, \"min\": 0.4244148359852829, \"max\": 0.4244148359852829}}}\u001b[0m\n",
      "\u001b[34m#metrics {\"StartTime\": 1730378947.024112, \"EndTime\": 1730378947.024121, \"Dimensions\": {\"Algorithm\": \"Linear Learner\", \"Host\": \"algo-1\", \"Operation\": \"training\", \"epoch\": 4, \"model\": 24}, \"Metrics\": {\"train_binary_classification_cross_entropy_objective\": {\"sum\": 0.5123378011487675, \"count\": 1, \"min\": 0.5123378011487675, \"max\": 0.5123378011487675}}}\u001b[0m\n",
      "\u001b[34m#metrics {\"StartTime\": 1730378947.0241537, \"EndTime\": 1730378947.0241628, \"Dimensions\": {\"Algorithm\": \"Linear Learner\", \"Host\": \"algo-1\", \"Operation\": \"training\", \"epoch\": 4, \"model\": 25}, \"Metrics\": {\"train_binary_classification_cross_entropy_objective\": {\"sum\": 0.5124207547155725, \"count\": 1, \"min\": 0.5124207547155725, \"max\": 0.5124207547155725}}}\u001b[0m\n",
      "\u001b[34m#metrics {\"StartTime\": 1730378947.024193, \"EndTime\": 1730378947.0242014, \"Dimensions\": {\"Algorithm\": \"Linear Learner\", \"Host\": \"algo-1\", \"Operation\": \"training\", \"epoch\": 4, \"model\": 26}, \"Metrics\": {\"train_binary_classification_cross_entropy_objective\": {\"sum\": 0.5123390310678277, \"count\": 1, \"min\": 0.5123390310678277, \"max\": 0.5123390310678277}}}\u001b[0m\n",
      "\u001b[34m#metrics {\"StartTime\": 1730378947.024232, \"EndTime\": 1730378947.024241, \"Dimensions\": {\"Algorithm\": \"Linear Learner\", \"Host\": \"algo-1\", \"Operation\": \"training\", \"epoch\": 4, \"model\": 27}, \"Metrics\": {\"train_binary_classification_cross_entropy_objective\": {\"sum\": 0.5124205707001759, \"count\": 1, \"min\": 0.5124205707001759, \"max\": 0.5124205707001759}}}\u001b[0m\n",
      "\u001b[34m#metrics {\"StartTime\": 1730378947.0242739, \"EndTime\": 1730378947.0242844, \"Dimensions\": {\"Algorithm\": \"Linear Learner\", \"Host\": \"algo-1\", \"Operation\": \"training\", \"epoch\": 4, \"model\": 28}, \"Metrics\": {\"train_binary_classification_cross_entropy_objective\": {\"sum\": 0.5123461335441752, \"count\": 1, \"min\": 0.5123461335441752, \"max\": 0.5123461335441752}}}\u001b[0m\n",
      "\u001b[34m#metrics {\"StartTime\": 1730378947.024312, \"EndTime\": 1730378947.0243216, \"Dimensions\": {\"Algorithm\": \"Linear Learner\", \"Host\": \"algo-1\", \"Operation\": \"training\", \"epoch\": 4, \"model\": 29}, \"Metrics\": {\"train_binary_classification_cross_entropy_objective\": {\"sum\": 0.5133252276032707, \"count\": 1, \"min\": 0.5133252276032707, \"max\": 0.5133252276032707}}}\u001b[0m\n",
      "\u001b[34m#metrics {\"StartTime\": 1730378947.024353, \"EndTime\": 1730378947.024362, \"Dimensions\": {\"Algorithm\": \"Linear Learner\", \"Host\": \"algo-1\", \"Operation\": \"training\", \"epoch\": 4, \"model\": 30}, \"Metrics\": {\"train_binary_classification_cross_entropy_objective\": {\"sum\": 0.5123461328208994, \"count\": 1, \"min\": 0.5123461328208994, \"max\": 0.5123461328208994}}}\u001b[0m\n",
      "\u001b[34m#metrics {\"StartTime\": 1730378947.0243924, \"EndTime\": 1730378947.0244012, \"Dimensions\": {\"Algorithm\": \"Linear Learner\", \"Host\": \"algo-1\", \"Operation\": \"training\", \"epoch\": 4, \"model\": 31}, \"Metrics\": {\"train_binary_classification_cross_entropy_objective\": {\"sum\": 0.5133252264600281, \"count\": 1, \"min\": 0.5133252264600281, \"max\": 0.5133252264600281}}}\u001b[0m\n",
      "\u001b[34m[10/31/2024 12:49:07 INFO 140292085315392] #quality_metric: host=algo-1, epoch=4, train binary_classification_cross_entropy_objective <loss>=0.09686630439175013\u001b[0m\n",
      "\u001b[34m[2024-10-31 12:49:10.100] [tensorio] [info] epoch_stats={\"data_pipeline\": \"/opt/ml/input/data/validation\", \"epoch\": 14, \"duration\": 3061, \"num_examples\": 164, \"num_bytes\": 83742208}\u001b[0m\n",
      "\u001b[34m#metrics {\"StartTime\": 1730378951.9095764, \"EndTime\": 1730378951.9096358, \"Dimensions\": {\"Algorithm\": \"Linear Learner\", \"Host\": \"algo-1\", \"Operation\": \"training\", \"epoch\": 4, \"model\": 0}, \"Metrics\": {\"validation_binary_classification_cross_entropy_objective\": {\"sum\": 0.09722063052925324, \"count\": 1, \"min\": 0.09722063052925324, \"max\": 0.09722063052925324}}}\u001b[0m\n",
      "\u001b[34m#metrics {\"StartTime\": 1730378951.9097068, \"EndTime\": 1730378951.909717, \"Dimensions\": {\"Algorithm\": \"Linear Learner\", \"Host\": \"algo-1\", \"Operation\": \"training\", \"epoch\": 4, \"model\": 1}, \"Metrics\": {\"validation_binary_classification_cross_entropy_objective\": {\"sum\": 0.032964194339672924, \"count\": 1, \"min\": 0.032964194339672924, \"max\": 0.032964194339672924}}}\u001b[0m\n",
      "\u001b[34m#metrics {\"StartTime\": 1730378951.9097445, \"EndTime\": 1730378951.909753, \"Dimensions\": {\"Algorithm\": \"Linear Learner\", \"Host\": \"algo-1\", \"Operation\": \"training\", \"epoch\": 4, \"model\": 2}, \"Metrics\": {\"validation_binary_classification_cross_entropy_objective\": {\"sum\": 0.09391643838634814, \"count\": 1, \"min\": 0.09391643838634814, \"max\": 0.09391643838634814}}}\u001b[0m\n",
      "\u001b[34m#metrics {\"StartTime\": 1730378951.9097881, \"EndTime\": 1730378951.9097974, \"Dimensions\": {\"Algorithm\": \"Linear Learner\", \"Host\": \"algo-1\", \"Operation\": \"training\", \"epoch\": 4, \"model\": 3}, \"Metrics\": {\"validation_binary_classification_cross_entropy_objective\": {\"sum\": 0.03218460926136629, \"count\": 1, \"min\": 0.03218460926136629, \"max\": 0.03218460926136629}}}\u001b[0m\n",
      "\u001b[34m#metrics {\"StartTime\": 1730378951.9098327, \"EndTime\": 1730378951.9098408, \"Dimensions\": {\"Algorithm\": \"Linear Learner\", \"Host\": \"algo-1\", \"Operation\": \"training\", \"epoch\": 4, \"model\": 4}, \"Metrics\": {\"validation_binary_classification_cross_entropy_objective\": {\"sum\": 0.02432321465280201, \"count\": 1, \"min\": 0.02432321465280201, \"max\": 0.02432321465280201}}}\u001b[0m\n",
      "\u001b[34m#metrics {\"StartTime\": 1730378951.9098725, \"EndTime\": 1730378951.9098814, \"Dimensions\": {\"Algorithm\": \"Linear Learner\", \"Host\": \"algo-1\", \"Operation\": \"training\", \"epoch\": 4, \"model\": 5}, \"Metrics\": {\"validation_binary_classification_cross_entropy_objective\": {\"sum\": 0.02624942245046324, \"count\": 1, \"min\": 0.02624942245046324, \"max\": 0.02624942245046324}}}\u001b[0m\n",
      "\u001b[34m#metrics {\"StartTime\": 1730378951.9099126, \"EndTime\": 1730378951.9099207, \"Dimensions\": {\"Algorithm\": \"Linear Learner\", \"Host\": \"algo-1\", \"Operation\": \"training\", \"epoch\": 4, \"model\": 6}, \"Metrics\": {\"validation_binary_classification_cross_entropy_objective\": {\"sum\": 0.02433818932611169, \"count\": 1, \"min\": 0.02433818932611169, \"max\": 0.02433818932611169}}}\u001b[0m\n",
      "\u001b[34m#metrics {\"StartTime\": 1730378951.9099543, \"EndTime\": 1730378951.9099634, \"Dimensions\": {\"Algorithm\": \"Linear Learner\", \"Host\": \"algo-1\", \"Operation\": \"training\", \"epoch\": 4, \"model\": 7}, \"Metrics\": {\"validation_binary_classification_cross_entropy_objective\": {\"sum\": 0.026134452886061723, \"count\": 1, \"min\": 0.026134452886061723, \"max\": 0.026134452886061723}}}\u001b[0m\n",
      "\u001b[34m#metrics {\"StartTime\": 1730378951.9100022, \"EndTime\": 1730378951.910013, \"Dimensions\": {\"Algorithm\": \"Linear Learner\", \"Host\": \"algo-1\", \"Operation\": \"training\", \"epoch\": 4, \"model\": 8}, \"Metrics\": {\"validation_binary_classification_cross_entropy_objective\": {\"sum\": 0.12701011075897653, \"count\": 1, \"min\": 0.12701011075897653, \"max\": 0.12701011075897653}}}\u001b[0m\n",
      "\u001b[34m#metrics {\"StartTime\": 1730378951.9100506, \"EndTime\": 1730378951.910061, \"Dimensions\": {\"Algorithm\": \"Linear Learner\", \"Host\": \"algo-1\", \"Operation\": \"training\", \"epoch\": 4, \"model\": 9}, \"Metrics\": {\"validation_binary_classification_cross_entropy_objective\": {\"sum\": 0.12010518978859801, \"count\": 1, \"min\": 0.12010518978859801, \"max\": 0.12010518978859801}}}\u001b[0m\n",
      "\u001b[34m#metrics {\"StartTime\": 1730378951.9100966, \"EndTime\": 1730378951.910106, \"Dimensions\": {\"Algorithm\": \"Linear Learner\", \"Host\": \"algo-1\", \"Operation\": \"training\", \"epoch\": 4, \"model\": 10}, \"Metrics\": {\"validation_binary_classification_cross_entropy_objective\": {\"sum\": 0.123168459772923, \"count\": 1, \"min\": 0.123168459772923, \"max\": 0.123168459772923}}}\u001b[0m\n",
      "\u001b[34m#metrics {\"StartTime\": 1730378951.9101434, \"EndTime\": 1730378951.9101534, \"Dimensions\": {\"Algorithm\": \"Linear Learner\", \"Host\": \"algo-1\", \"Operation\": \"training\", \"epoch\": 4, \"model\": 11}, \"Metrics\": {\"validation_binary_classification_cross_entropy_objective\": {\"sum\": 0.12010330813032181, \"count\": 1, \"min\": 0.12010330813032181, \"max\": 0.12010330813032181}}}\u001b[0m\n",
      "\u001b[34m#metrics {\"StartTime\": 1730378951.9101882, \"EndTime\": 1730378951.9101982, \"Dimensions\": {\"Algorithm\": \"Linear Learner\", \"Host\": \"algo-1\", \"Operation\": \"training\", \"epoch\": 4, \"model\": 12}, \"Metrics\": {\"validation_binary_classification_cross_entropy_objective\": {\"sum\": 0.11977223087206514, \"count\": 1, \"min\": 0.11977223087206514, \"max\": 0.11977223087206514}}}\u001b[0m\n",
      "\u001b[34m#metrics {\"StartTime\": 1730378951.9102354, \"EndTime\": 1730378951.910246, \"Dimensions\": {\"Algorithm\": \"Linear Learner\", \"Host\": \"algo-1\", \"Operation\": \"training\", \"epoch\": 4, \"model\": 13}, \"Metrics\": {\"validation_binary_classification_cross_entropy_objective\": {\"sum\": 0.12269963121897264, \"count\": 1, \"min\": 0.12269963121897264, \"max\": 0.12269963121897264}}}\u001b[0m\n",
      "\u001b[34m#metrics {\"StartTime\": 1730378951.9102836, \"EndTime\": 1730378951.9102924, \"Dimensions\": {\"Algorithm\": \"Linear Learner\", \"Host\": \"algo-1\", \"Operation\": \"training\", \"epoch\": 4, \"model\": 14}, \"Metrics\": {\"validation_binary_classification_cross_entropy_objective\": {\"sum\": 0.11977177443967384, \"count\": 1, \"min\": 0.11977177443967384, \"max\": 0.11977177443967384}}}\u001b[0m\n",
      "\u001b[34m#metrics {\"StartTime\": 1730378951.910326, \"EndTime\": 1730378951.910336, \"Dimensions\": {\"Algorithm\": \"Linear Learner\", \"Host\": \"algo-1\", \"Operation\": \"training\", \"epoch\": 4, \"model\": 15}, \"Metrics\": {\"validation_binary_classification_cross_entropy_objective\": {\"sum\": 0.12270227838690377, \"count\": 1, \"min\": 0.12270227838690377, \"max\": 0.12270227838690377}}}\u001b[0m\n",
      "\u001b[34m#metrics {\"StartTime\": 1730378951.9103746, \"EndTime\": 1730378951.9103851, \"Dimensions\": {\"Algorithm\": \"Linear Learner\", \"Host\": \"algo-1\", \"Operation\": \"training\", \"epoch\": 4, \"model\": 16}, \"Metrics\": {\"validation_binary_classification_cross_entropy_objective\": {\"sum\": 0.4220489945464538, \"count\": 1, \"min\": 0.4220489945464538, \"max\": 0.4220489945464538}}}\u001b[0m\n",
      "\u001b[34m#metrics {\"StartTime\": 1730378951.9104242, \"EndTime\": 1730378951.910434, \"Dimensions\": {\"Algorithm\": \"Linear Learner\", \"Host\": \"algo-1\", \"Operation\": \"training\", \"epoch\": 4, \"model\": 17}, \"Metrics\": {\"validation_binary_classification_cross_entropy_objective\": {\"sum\": 0.42131013457246075, \"count\": 1, \"min\": 0.42131013457246075, \"max\": 0.42131013457246075}}}\u001b[0m\n",
      "\u001b[34m#metrics {\"StartTime\": 1730378951.9104714, \"EndTime\": 1730378951.910482, \"Dimensions\": {\"Algorithm\": \"Linear Learner\", \"Host\": \"algo-1\", \"Operation\": \"training\", \"epoch\": 4, \"model\": 18}, \"Metrics\": {\"validation_binary_classification_cross_entropy_objective\": {\"sum\": 0.42181842794555885, \"count\": 1, \"min\": 0.42181842794555885, \"max\": 0.42181842794555885}}}\u001b[0m\n",
      "\u001b[34m#metrics {\"StartTime\": 1730378951.9105284, \"EndTime\": 1730378951.910539, \"Dimensions\": {\"Algorithm\": \"Linear Learner\", \"Host\": \"algo-1\", \"Operation\": \"training\", \"epoch\": 4, \"model\": 19}, \"Metrics\": {\"validation_binary_classification_cross_entropy_objective\": {\"sum\": 0.42131013168040066, \"count\": 1, \"min\": 0.42131013168040066, \"max\": 0.42131013168040066}}}\u001b[0m\n",
      "\u001b[34m#metrics {\"StartTime\": 1730378951.9111373, \"EndTime\": 1730378951.9111507, \"Dimensions\": {\"Algorithm\": \"Linear Learner\", \"Host\": \"algo-1\", \"Operation\": \"training\", \"epoch\": 4, \"model\": 20}, \"Metrics\": {\"validation_binary_classification_cross_entropy_objective\": {\"sum\": 0.42176222700773547, \"count\": 1, \"min\": 0.42176222700773547, \"max\": 0.42176222700773547}}}\u001b[0m\n",
      "\u001b[34m#metrics {\"StartTime\": 1730378951.9111881, \"EndTime\": 1730378951.911199, \"Dimensions\": {\"Algorithm\": \"Linear Learner\", \"Host\": \"algo-1\", \"Operation\": \"training\", \"epoch\": 4, \"model\": 21}, \"Metrics\": {\"validation_binary_classification_cross_entropy_objective\": {\"sum\": 0.4271373278469682, \"count\": 1, \"min\": 0.4271373278469682, \"max\": 0.4271373278469682}}}\u001b[0m\n",
      "\u001b[34m#metrics {\"StartTime\": 1730378951.911237, \"EndTime\": 1730378951.9112477, \"Dimensions\": {\"Algorithm\": \"Linear Learner\", \"Host\": \"algo-1\", \"Operation\": \"training\", \"epoch\": 4, \"model\": 22}, \"Metrics\": {\"validation_binary_classification_cross_entropy_objective\": {\"sum\": 0.42176220480417714, \"count\": 1, \"min\": 0.42176220480417714, \"max\": 0.42176220480417714}}}\u001b[0m\n",
      "\u001b[34m#metrics {\"StartTime\": 1730378951.9112842, \"EndTime\": 1730378951.9112937, \"Dimensions\": {\"Algorithm\": \"Linear Learner\", \"Host\": \"algo-1\", \"Operation\": \"training\", \"epoch\": 4, \"model\": 23}, \"Metrics\": {\"validation_binary_classification_cross_entropy_objective\": {\"sum\": 0.4271372846526509, \"count\": 1, \"min\": 0.4271372846526509, \"max\": 0.4271372846526509}}}\u001b[0m\n",
      "\u001b[34m#metrics {\"StartTime\": 1730378951.9113238, \"EndTime\": 1730378951.9113336, \"Dimensions\": {\"Algorithm\": \"Linear Learner\", \"Host\": \"algo-1\", \"Operation\": \"training\", \"epoch\": 4, \"model\": 24}, \"Metrics\": {\"validation_binary_classification_cross_entropy_objective\": {\"sum\": 0.5123212982245464, \"count\": 1, \"min\": 0.5123212982245464, \"max\": 0.5123212982245464}}}\u001b[0m\n",
      "\u001b[34m#metrics {\"StartTime\": 1730378951.9113696, \"EndTime\": 1730378951.9113808, \"Dimensions\": {\"Algorithm\": \"Linear Learner\", \"Host\": \"algo-1\", \"Operation\": \"training\", \"epoch\": 4, \"model\": 25}, \"Metrics\": {\"validation_binary_classification_cross_entropy_objective\": {\"sum\": 0.5127616199751385, \"count\": 1, \"min\": 0.5127616199751385, \"max\": 0.5127616199751385}}}\u001b[0m\n",
      "\u001b[34m#metrics {\"StartTime\": 1730378951.911416, \"EndTime\": 1730378951.911427, \"Dimensions\": {\"Algorithm\": \"Linear Learner\", \"Host\": \"algo-1\", \"Operation\": \"training\", \"epoch\": 4, \"model\": 26}, \"Metrics\": {\"validation_binary_classification_cross_entropy_objective\": {\"sum\": 0.5123193424455682, \"count\": 1, \"min\": 0.5123193424455682, \"max\": 0.5123193424455682}}}\u001b[0m\n",
      "\u001b[34m#metrics {\"StartTime\": 1730378951.9114668, \"EndTime\": 1730378951.911477, \"Dimensions\": {\"Algorithm\": \"Linear Learner\", \"Host\": \"algo-1\", \"Operation\": \"training\", \"epoch\": 4, \"model\": 27}, \"Metrics\": {\"validation_binary_classification_cross_entropy_objective\": {\"sum\": 0.5127678442482673, \"count\": 1, \"min\": 0.5127678442482673, \"max\": 0.5127678442482673}}}\u001b[0m\n",
      "\u001b[34m#metrics {\"StartTime\": 1730378951.9115164, \"EndTime\": 1730378951.9115272, \"Dimensions\": {\"Algorithm\": \"Linear Learner\", \"Host\": \"algo-1\", \"Operation\": \"training\", \"epoch\": 4, \"model\": 28}, \"Metrics\": {\"validation_binary_classification_cross_entropy_objective\": {\"sum\": 0.5123178012574018, \"count\": 1, \"min\": 0.5123178012574018, \"max\": 0.5123178012574018}}}\u001b[0m\n",
      "\u001b[34m#metrics {\"StartTime\": 1730378951.9115589, \"EndTime\": 1730378951.9115677, \"Dimensions\": {\"Algorithm\": \"Linear Learner\", \"Host\": \"algo-1\", \"Operation\": \"training\", \"epoch\": 4, \"model\": 29}, \"Metrics\": {\"validation_binary_classification_cross_entropy_objective\": {\"sum\": 0.5126179972842966, \"count\": 1, \"min\": 0.5126179972842966, \"max\": 0.5126179972842966}}}\u001b[0m\n",
      "\u001b[34m#metrics {\"StartTime\": 1730378951.9115999, \"EndTime\": 1730378951.9116066, \"Dimensions\": {\"Algorithm\": \"Linear Learner\", \"Host\": \"algo-1\", \"Operation\": \"training\", \"epoch\": 4, \"model\": 30}, \"Metrics\": {\"validation_binary_classification_cross_entropy_objective\": {\"sum\": 0.5123194752937491, \"count\": 1, \"min\": 0.5123194752937491, \"max\": 0.5123194752937491}}}\u001b[0m\n",
      "\u001b[34m#metrics {\"StartTime\": 1730378951.9116316, \"EndTime\": 1730378951.9116402, \"Dimensions\": {\"Algorithm\": \"Linear Learner\", \"Host\": \"algo-1\", \"Operation\": \"training\", \"epoch\": 4, \"model\": 31}, \"Metrics\": {\"validation_binary_classification_cross_entropy_objective\": {\"sum\": 0.5126179957916204, \"count\": 1, \"min\": 0.5126179957916204, \"max\": 0.5126179957916204}}}\u001b[0m\n",
      "\u001b[34m[10/31/2024 12:49:11 INFO 140292085315392] #quality_metric: host=algo-1, epoch=4, validation binary_classification_cross_entropy_objective <loss>=0.09722063052925324\u001b[0m\n",
      "\u001b[34m[10/31/2024 12:49:11 INFO 140292085315392] #early_stopping_criteria_metric: host=algo-1, epoch=4, criteria=sampled_f_beta, value=0.9989961446133702\u001b[0m\n",
      "\u001b[34m[10/31/2024 12:49:11 INFO 140292085315392] Epoch 4: Loss improved. Updating best model\u001b[0m\n",
      "\u001b[34m[10/31/2024 12:49:11 INFO 140292085315392] Saving model for epoch: 4\u001b[0m\n",
      "\u001b[34m[10/31/2024 12:49:11 INFO 140292085315392] Saved checkpoint to \"/tmp/tmpakdfu1fz/mx-mod-0000.params\"\u001b[0m\n",
      "\u001b[34m[10/31/2024 12:49:11 INFO 140292085315392] #progress_metric: host=algo-1, completed 33.333333333333336 % of epochs\u001b[0m\n",
      "\u001b[34m#metrics {\"StartTime\": 1730378915.4026573, \"EndTime\": 1730378951.9176924, \"Dimensions\": {\"Algorithm\": \"Linear Learner\", \"Host\": \"algo-1\", \"Operation\": \"training\", \"epoch\": 4, \"Meta\": \"training_data_iter\"}, \"Metrics\": {\"Total Records Seen\": {\"sum\": 6554360.0, \"count\": 1, \"min\": 6554360, \"max\": 6554360}, \"Total Batches Seen\": {\"sum\": 6557.0, \"count\": 1, \"min\": 6557, \"max\": 6557}, \"Max Records Seen Between Resets\": {\"sum\": 1308472.0, \"count\": 1, \"min\": 1308472, \"max\": 1308472}, \"Max Batches Seen Between Resets\": {\"sum\": 1309.0, \"count\": 1, \"min\": 1309, \"max\": 1309}, \"Reset Count\": {\"sum\": 7.0, \"count\": 1, \"min\": 7, \"max\": 7}, \"Number of Records Since Last Reset\": {\"sum\": 1308472.0, \"count\": 1, \"min\": 1308472, \"max\": 1308472}, \"Number of Batches Since Last Reset\": {\"sum\": 1309.0, \"count\": 1, \"min\": 1309, \"max\": 1309}}}\u001b[0m\n",
      "\u001b[34m[10/31/2024 12:49:11 INFO 140292085315392] #throughput_metric: host=algo-1, train throughput=35833.67561688475 records/second\u001b[0m\n",
      "\u001b[34m[2024-10-31 12:49:43.567] [tensorio] [info] epoch_stats={\"data_pipeline\": \"/opt/ml/input/data/train\", \"epoch\": 13, \"duration\": 31648, \"num_examples\": 1309, \"num_bytes\": 669937664}\u001b[0m\n",
      "\u001b[34m#metrics {\"StartTime\": 1730378983.5674348, \"EndTime\": 1730378983.5675073, \"Dimensions\": {\"Algorithm\": \"Linear Learner\", \"Host\": \"algo-1\", \"Operation\": \"training\", \"epoch\": 5, \"model\": 0}, \"Metrics\": {\"train_binary_classification_cross_entropy_objective\": {\"sum\": 0.09639128974891219, \"count\": 1, \"min\": 0.09639128974891219, \"max\": 0.09639128974891219}}}\u001b[0m\n",
      "\u001b[34m#metrics {\"StartTime\": 1730378983.5675755, \"EndTime\": 1730378983.5675905, \"Dimensions\": {\"Algorithm\": \"Linear Learner\", \"Host\": \"algo-1\", \"Operation\": \"training\", \"epoch\": 5, \"model\": 1}, \"Metrics\": {\"train_binary_classification_cross_entropy_objective\": {\"sum\": 0.03041846866928474, \"count\": 1, \"min\": 0.03041846866928474, \"max\": 0.03041846866928474}}}\u001b[0m\n",
      "\u001b[34m#metrics {\"StartTime\": 1730378983.5676281, \"EndTime\": 1730378983.5676389, \"Dimensions\": {\"Algorithm\": \"Linear Learner\", \"Host\": \"algo-1\", \"Operation\": \"training\", \"epoch\": 5, \"model\": 2}, \"Metrics\": {\"train_binary_classification_cross_entropy_objective\": {\"sum\": 0.09141187710426633, \"count\": 1, \"min\": 0.09141187710426633, \"max\": 0.09141187710426633}}}\u001b[0m\n",
      "\u001b[34m#metrics {\"StartTime\": 1730378983.5676944, \"EndTime\": 1730378983.567706, \"Dimensions\": {\"Algorithm\": \"Linear Learner\", \"Host\": \"algo-1\", \"Operation\": \"training\", \"epoch\": 5, \"model\": 3}, \"Metrics\": {\"train_binary_classification_cross_entropy_objective\": {\"sum\": 0.029755345668267767, \"count\": 1, \"min\": 0.029755345668267767, \"max\": 0.029755345668267767}}}\u001b[0m\n",
      "\u001b[34m#metrics {\"StartTime\": 1730378983.567744, \"EndTime\": 1730378983.5677547, \"Dimensions\": {\"Algorithm\": \"Linear Learner\", \"Host\": \"algo-1\", \"Operation\": \"training\", \"epoch\": 5, \"model\": 4}, \"Metrics\": {\"train_binary_classification_cross_entropy_objective\": {\"sum\": 0.023828086369628205, \"count\": 1, \"min\": 0.023828086369628205, \"max\": 0.023828086369628205}}}\u001b[0m\n",
      "\u001b[34m#metrics {\"StartTime\": 1730378983.5677881, \"EndTime\": 1730378983.567797, \"Dimensions\": {\"Algorithm\": \"Linear Learner\", \"Host\": \"algo-1\", \"Operation\": \"training\", \"epoch\": 5, \"model\": 5}, \"Metrics\": {\"train_binary_classification_cross_entropy_objective\": {\"sum\": 0.02562342434410655, \"count\": 1, \"min\": 0.02562342434410655, \"max\": 0.02562342434410655}}}\u001b[0m\n",
      "\u001b[34m#metrics {\"StartTime\": 1730378983.5678298, \"EndTime\": 1730378983.56784, \"Dimensions\": {\"Algorithm\": \"Linear Learner\", \"Host\": \"algo-1\", \"Operation\": \"training\", \"epoch\": 5, \"model\": 6}, \"Metrics\": {\"train_binary_classification_cross_entropy_objective\": {\"sum\": 0.023841407854622656, \"count\": 1, \"min\": 0.023841407854622656, \"max\": 0.023841407854622656}}}\u001b[0m\n",
      "\u001b[34m#metrics {\"StartTime\": 1730378983.5678828, \"EndTime\": 1730378983.567892, \"Dimensions\": {\"Algorithm\": \"Linear Learner\", \"Host\": \"algo-1\", \"Operation\": \"training\", \"epoch\": 5, \"model\": 7}, \"Metrics\": {\"train_binary_classification_cross_entropy_objective\": {\"sum\": 0.025600892470881844, \"count\": 1, \"min\": 0.025600892470881844, \"max\": 0.025600892470881844}}}\u001b[0m\n",
      "\u001b[34m#metrics {\"StartTime\": 1730378983.5679297, \"EndTime\": 1730378983.5679395, \"Dimensions\": {\"Algorithm\": \"Linear Learner\", \"Host\": \"algo-1\", \"Operation\": \"training\", \"epoch\": 5, \"model\": 8}, \"Metrics\": {\"train_binary_classification_cross_entropy_objective\": {\"sum\": 0.12613515854465124, \"count\": 1, \"min\": 0.12613515854465124, \"max\": 0.12613515854465124}}}\u001b[0m\n",
      "\u001b[34m#metrics {\"StartTime\": 1730378983.5679727, \"EndTime\": 1730378983.5679815, \"Dimensions\": {\"Algorithm\": \"Linear Learner\", \"Host\": \"algo-1\", \"Operation\": \"training\", \"epoch\": 5, \"model\": 9}, \"Metrics\": {\"train_binary_classification_cross_entropy_objective\": {\"sum\": 0.11943707663859796, \"count\": 1, \"min\": 0.11943707663859796, \"max\": 0.11943707663859796}}}\u001b[0m\n",
      "\u001b[34m#metrics {\"StartTime\": 1730378983.5680146, \"EndTime\": 1730378983.5680244, \"Dimensions\": {\"Algorithm\": \"Linear Learner\", \"Host\": \"algo-1\", \"Operation\": \"training\", \"epoch\": 5, \"model\": 10}, \"Metrics\": {\"train_binary_classification_cross_entropy_objective\": {\"sum\": 0.12146480225495972, \"count\": 1, \"min\": 0.12146480225495972, \"max\": 0.12146480225495972}}}\u001b[0m\n",
      "\u001b[34m#metrics {\"StartTime\": 1730378983.568059, \"EndTime\": 1730378983.5680685, \"Dimensions\": {\"Algorithm\": \"Linear Learner\", \"Host\": \"algo-1\", \"Operation\": \"training\", \"epoch\": 5, \"model\": 11}, \"Metrics\": {\"train_binary_classification_cross_entropy_objective\": {\"sum\": 0.11943700179703738, \"count\": 1, \"min\": 0.11943700179703738, \"max\": 0.11943700179703738}}}\u001b[0m\n",
      "\u001b[34m#metrics {\"StartTime\": 1730378983.5681026, \"EndTime\": 1730378983.5681121, \"Dimensions\": {\"Algorithm\": \"Linear Learner\", \"Host\": \"algo-1\", \"Operation\": \"training\", \"epoch\": 5, \"model\": 12}, \"Metrics\": {\"train_binary_classification_cross_entropy_objective\": {\"sum\": 0.11919346763307531, \"count\": 1, \"min\": 0.11919346763307531, \"max\": 0.11919346763307531}}}\u001b[0m\n",
      "\u001b[34m#metrics {\"StartTime\": 1730378983.5681512, \"EndTime\": 1730378983.568162, \"Dimensions\": {\"Algorithm\": \"Linear Learner\", \"Host\": \"algo-1\", \"Operation\": \"training\", \"epoch\": 5, \"model\": 13}, \"Metrics\": {\"train_binary_classification_cross_entropy_objective\": {\"sum\": 0.12343782441258795, \"count\": 1, \"min\": 0.12343782441258795, \"max\": 0.12343782441258795}}}\u001b[0m\n",
      "\u001b[34m#metrics {\"StartTime\": 1730378983.568197, \"EndTime\": 1730378983.5682075, \"Dimensions\": {\"Algorithm\": \"Linear Learner\", \"Host\": \"algo-1\", \"Operation\": \"training\", \"epoch\": 5, \"model\": 14}, \"Metrics\": {\"train_binary_classification_cross_entropy_objective\": {\"sum\": 0.11919696514467945, \"count\": 1, \"min\": 0.11919696514467945, \"max\": 0.11919696514467945}}}\u001b[0m\n",
      "\u001b[34m#metrics {\"StartTime\": 1730378983.5682447, \"EndTime\": 1730378983.568255, \"Dimensions\": {\"Algorithm\": \"Linear Learner\", \"Host\": \"algo-1\", \"Operation\": \"training\", \"epoch\": 5, \"model\": 15}, \"Metrics\": {\"train_binary_classification_cross_entropy_objective\": {\"sum\": 0.12343783672577745, \"count\": 1, \"min\": 0.12343783672577745, \"max\": 0.12343783672577745}}}\u001b[0m\n",
      "\u001b[34m#metrics {\"StartTime\": 1730378983.5682952, \"EndTime\": 1730378983.5683057, \"Dimensions\": {\"Algorithm\": \"Linear Learner\", \"Host\": \"algo-1\", \"Operation\": \"training\", \"epoch\": 5, \"model\": 16}, \"Metrics\": {\"train_binary_classification_cross_entropy_objective\": {\"sum\": 0.4215068612754892, \"count\": 1, \"min\": 0.4215068612754892, \"max\": 0.4215068612754892}}}\u001b[0m\n",
      "\u001b[34m#metrics {\"StartTime\": 1730378983.56834, \"EndTime\": 1730378983.5683498, \"Dimensions\": {\"Algorithm\": \"Linear Learner\", \"Host\": \"algo-1\", \"Operation\": \"training\", \"epoch\": 5, \"model\": 17}, \"Metrics\": {\"train_binary_classification_cross_entropy_objective\": {\"sum\": 0.4217017477892954, \"count\": 1, \"min\": 0.4217017477892954, \"max\": 0.4217017477892954}}}\u001b[0m\n",
      "\u001b[34m#metrics {\"StartTime\": 1730378983.5683858, \"EndTime\": 1730378983.568396, \"Dimensions\": {\"Algorithm\": \"Linear Learner\", \"Host\": \"algo-1\", \"Operation\": \"training\", \"epoch\": 5, \"model\": 18}, \"Metrics\": {\"train_binary_classification_cross_entropy_objective\": {\"sum\": 0.4215124212142524, \"count\": 1, \"min\": 0.4215124212142524, \"max\": 0.4215124212142524}}}\u001b[0m\n",
      "\u001b[34m#metrics {\"StartTime\": 1730378983.5684357, \"EndTime\": 1730378983.5684464, \"Dimensions\": {\"Algorithm\": \"Linear Learner\", \"Host\": \"algo-1\", \"Operation\": \"training\", \"epoch\": 5, \"model\": 19}, \"Metrics\": {\"train_binary_classification_cross_entropy_objective\": {\"sum\": 0.42170174433623614, \"count\": 1, \"min\": 0.42170174433623614, \"max\": 0.42170174433623614}}}\u001b[0m\n",
      "\u001b[34m#metrics {\"StartTime\": 1730378983.5684814, \"EndTime\": 1730378983.5684912, \"Dimensions\": {\"Algorithm\": \"Linear Learner\", \"Host\": \"algo-1\", \"Operation\": \"training\", \"epoch\": 5, \"model\": 20}, \"Metrics\": {\"train_binary_classification_cross_entropy_objective\": {\"sum\": 0.4215281069927624, \"count\": 1, \"min\": 0.4215281069927624, \"max\": 0.4215281069927624}}}\u001b[0m\n",
      "\u001b[34m#metrics {\"StartTime\": 1730378983.568531, \"EndTime\": 1730378983.568542, \"Dimensions\": {\"Algorithm\": \"Linear Learner\", \"Host\": \"algo-1\", \"Operation\": \"training\", \"epoch\": 5, \"model\": 21}, \"Metrics\": {\"train_binary_classification_cross_entropy_objective\": {\"sum\": 0.42415203857421874, \"count\": 1, \"min\": 0.42415203857421874, \"max\": 0.42415203857421874}}}\u001b[0m\n",
      "\u001b[34m#metrics {\"StartTime\": 1730378983.5685785, \"EndTime\": 1730378983.5685887, \"Dimensions\": {\"Algorithm\": \"Linear Learner\", \"Host\": \"algo-1\", \"Operation\": \"training\", \"epoch\": 5, \"model\": 22}, \"Metrics\": {\"train_binary_classification_cross_entropy_objective\": {\"sum\": 0.42151762369138385, \"count\": 1, \"min\": 0.42151762369138385, \"max\": 0.42151762369138385}}}\u001b[0m\n",
      "\u001b[34m#metrics {\"StartTime\": 1730378983.5686285, \"EndTime\": 1730378983.568639, \"Dimensions\": {\"Algorithm\": \"Linear Learner\", \"Host\": \"algo-1\", \"Operation\": \"training\", \"epoch\": 5, \"model\": 23}, \"Metrics\": {\"train_binary_classification_cross_entropy_objective\": {\"sum\": 0.42415203904084836, \"count\": 1, \"min\": 0.42415203904084836, \"max\": 0.42415203904084836}}}\u001b[0m\n",
      "\u001b[34m#metrics {\"StartTime\": 1730378983.5686994, \"EndTime\": 1730378983.5687108, \"Dimensions\": {\"Algorithm\": \"Linear Learner\", \"Host\": \"algo-1\", \"Operation\": \"training\", \"epoch\": 5, \"model\": 24}, \"Metrics\": {\"train_binary_classification_cross_entropy_objective\": {\"sum\": 0.5123368822850218, \"count\": 1, \"min\": 0.5123368822850218, \"max\": 0.5123368822850218}}}\u001b[0m\n",
      "\u001b[34m#metrics {\"StartTime\": 1730378983.5687482, \"EndTime\": 1730378983.568759, \"Dimensions\": {\"Algorithm\": \"Linear Learner\", \"Host\": \"algo-1\", \"Operation\": \"training\", \"epoch\": 5, \"model\": 25}, \"Metrics\": {\"train_binary_classification_cross_entropy_objective\": {\"sum\": 0.5124114873343651, \"count\": 1, \"min\": 0.5124114873343651, \"max\": 0.5124114873343651}}}\u001b[0m\n",
      "\u001b[34m#metrics {\"StartTime\": 1730378983.568798, \"EndTime\": 1730378983.5688086, \"Dimensions\": {\"Algorithm\": \"Linear Learner\", \"Host\": \"algo-1\", \"Operation\": \"training\", \"epoch\": 5, \"model\": 26}, \"Metrics\": {\"train_binary_classification_cross_entropy_objective\": {\"sum\": 0.5123389968872071, \"count\": 1, \"min\": 0.5123389968872071, \"max\": 0.5123389968872071}}}\u001b[0m\n",
      "\u001b[34m#metrics {\"StartTime\": 1730378983.5688455, \"EndTime\": 1730378983.568856, \"Dimensions\": {\"Algorithm\": \"Linear Learner\", \"Host\": \"algo-1\", \"Operation\": \"training\", \"epoch\": 5, \"model\": 27}, \"Metrics\": {\"train_binary_classification_cross_entropy_objective\": {\"sum\": 0.5124115657748067, \"count\": 1, \"min\": 0.5124115657748067, \"max\": 0.5124115657748067}}}\u001b[0m\n",
      "\u001b[34m#metrics {\"StartTime\": 1730378983.5688963, \"EndTime\": 1730378983.568907, \"Dimensions\": {\"Algorithm\": \"Linear Learner\", \"Host\": \"algo-1\", \"Operation\": \"training\", \"epoch\": 5, \"model\": 28}, \"Metrics\": {\"train_binary_classification_cross_entropy_objective\": {\"sum\": 0.5123383732600314, \"count\": 1, \"min\": 0.5123383732600314, \"max\": 0.5123383732600314}}}\u001b[0m\n",
      "\u001b[34m#metrics {\"StartTime\": 1730378983.5689473, \"EndTime\": 1730378983.568958, \"Dimensions\": {\"Algorithm\": \"Linear Learner\", \"Host\": \"algo-1\", \"Operation\": \"training\", \"epoch\": 5, \"model\": 29}, \"Metrics\": {\"train_binary_classification_cross_entropy_objective\": {\"sum\": 0.5132621033228136, \"count\": 1, \"min\": 0.5132621033228136, \"max\": 0.5132621033228136}}}\u001b[0m\n",
      "\u001b[34m#metrics {\"StartTime\": 1730378983.5689943, \"EndTime\": 1730378983.5690048, \"Dimensions\": {\"Algorithm\": \"Linear Learner\", \"Host\": \"algo-1\", \"Operation\": \"training\", \"epoch\": 5, \"model\": 30}, \"Metrics\": {\"train_binary_classification_cross_entropy_objective\": {\"sum\": 0.5123392050506872, \"count\": 1, \"min\": 0.5123392050506872, \"max\": 0.5123392050506872}}}\u001b[0m\n",
      "\u001b[34m#metrics {\"StartTime\": 1730378983.5690439, \"EndTime\": 1730378983.569055, \"Dimensions\": {\"Algorithm\": \"Linear Learner\", \"Host\": \"algo-1\", \"Operation\": \"training\", \"epoch\": 5, \"model\": 31}, \"Metrics\": {\"train_binary_classification_cross_entropy_objective\": {\"sum\": 0.5132621039760952, \"count\": 1, \"min\": 0.5132621039760952, \"max\": 0.5132621039760952}}}\u001b[0m\n",
      "\u001b[34m[10/31/2024 12:49:43 INFO 140292085315392] #quality_metric: host=algo-1, epoch=5, train binary_classification_cross_entropy_objective <loss>=0.09639128974891219\u001b[0m\n",
      "\u001b[34m[2024-10-31 12:49:46.674] [tensorio] [info] epoch_stats={\"data_pipeline\": \"/opt/ml/input/data/validation\", \"epoch\": 17, \"duration\": 3090, \"num_examples\": 164, \"num_bytes\": 83742208}\u001b[0m\n",
      "\u001b[34m#metrics {\"StartTime\": 1730378988.4650064, \"EndTime\": 1730378988.4650629, \"Dimensions\": {\"Algorithm\": \"Linear Learner\", \"Host\": \"algo-1\", \"Operation\": \"training\", \"epoch\": 5, \"model\": 0}, \"Metrics\": {\"validation_binary_classification_cross_entropy_objective\": {\"sum\": 0.09678821681385569, \"count\": 1, \"min\": 0.09678821681385569, \"max\": 0.09678821681385569}}}\u001b[0m\n",
      "\u001b[34m#metrics {\"StartTime\": 1730378988.4651318, \"EndTime\": 1730378988.4651425, \"Dimensions\": {\"Algorithm\": \"Linear Learner\", \"Host\": \"algo-1\", \"Operation\": \"training\", \"epoch\": 5, \"model\": 1}, \"Metrics\": {\"validation_binary_classification_cross_entropy_objective\": {\"sum\": 0.029116097756260798, \"count\": 1, \"min\": 0.029116097756260798, \"max\": 0.029116097756260798}}}\u001b[0m\n",
      "\u001b[34m#metrics {\"StartTime\": 1730378988.4651685, \"EndTime\": 1730378988.4651768, \"Dimensions\": {\"Algorithm\": \"Linear Learner\", \"Host\": \"algo-1\", \"Operation\": \"training\", \"epoch\": 5, \"model\": 2}, \"Metrics\": {\"validation_binary_classification_cross_entropy_objective\": {\"sum\": 0.0901335693151893, \"count\": 1, \"min\": 0.0901335693151893, \"max\": 0.0901335693151893}}}\u001b[0m\n",
      "\u001b[34m#metrics {\"StartTime\": 1730378988.4652126, \"EndTime\": 1730378988.465222, \"Dimensions\": {\"Algorithm\": \"Linear Learner\", \"Host\": \"algo-1\", \"Operation\": \"training\", \"epoch\": 5, \"model\": 3}, \"Metrics\": {\"validation_binary_classification_cross_entropy_objective\": {\"sum\": 0.028553739115121612, \"count\": 1, \"min\": 0.028553739115121612, \"max\": 0.028553739115121612}}}\u001b[0m\n",
      "\u001b[34m#metrics {\"StartTime\": 1730378988.4652562, \"EndTime\": 1730378988.4652643, \"Dimensions\": {\"Algorithm\": \"Linear Learner\", \"Host\": \"algo-1\", \"Operation\": \"training\", \"epoch\": 5, \"model\": 4}, \"Metrics\": {\"validation_binary_classification_cross_entropy_objective\": {\"sum\": 0.024286449175282897, \"count\": 1, \"min\": 0.024286449175282897, \"max\": 0.024286449175282897}}}\u001b[0m\n",
      "\u001b[34m#metrics {\"StartTime\": 1730378988.465295, \"EndTime\": 1730378988.4653037, \"Dimensions\": {\"Algorithm\": \"Linear Learner\", \"Host\": \"algo-1\", \"Operation\": \"training\", \"epoch\": 5, \"model\": 5}, \"Metrics\": {\"validation_binary_classification_cross_entropy_objective\": {\"sum\": 0.026115415789546504, \"count\": 1, \"min\": 0.026115415789546504, \"max\": 0.026115415789546504}}}\u001b[0m\n",
      "\u001b[34m#metrics {\"StartTime\": 1730378988.4653375, \"EndTime\": 1730378988.4653475, \"Dimensions\": {\"Algorithm\": \"Linear Learner\", \"Host\": \"algo-1\", \"Operation\": \"training\", \"epoch\": 5, \"model\": 6}, \"Metrics\": {\"validation_binary_classification_cross_entropy_objective\": {\"sum\": 0.024291957080455697, \"count\": 1, \"min\": 0.024291957080455697, \"max\": 0.024291957080455697}}}\u001b[0m\n",
      "\u001b[34m#metrics {\"StartTime\": 1730378988.4653993, \"EndTime\": 1730378988.4654107, \"Dimensions\": {\"Algorithm\": \"Linear Learner\", \"Host\": \"algo-1\", \"Operation\": \"training\", \"epoch\": 5, \"model\": 7}, \"Metrics\": {\"validation_binary_classification_cross_entropy_objective\": {\"sum\": 0.026019499781913664, \"count\": 1, \"min\": 0.026019499781913664, \"max\": 0.026019499781913664}}}\u001b[0m\n",
      "\u001b[34m#metrics {\"StartTime\": 1730378988.4654438, \"EndTime\": 1730378988.465454, \"Dimensions\": {\"Algorithm\": \"Linear Learner\", \"Host\": \"algo-1\", \"Operation\": \"training\", \"epoch\": 5, \"model\": 8}, \"Metrics\": {\"validation_binary_classification_cross_entropy_objective\": {\"sum\": 0.12649641035296383, \"count\": 1, \"min\": 0.12649641035296383, \"max\": 0.12649641035296383}}}\u001b[0m\n",
      "\u001b[34m#metrics {\"StartTime\": 1730378988.4654853, \"EndTime\": 1730378988.4654942, \"Dimensions\": {\"Algorithm\": \"Linear Learner\", \"Host\": \"algo-1\", \"Operation\": \"training\", \"epoch\": 5, \"model\": 9}, \"Metrics\": {\"validation_binary_classification_cross_entropy_objective\": {\"sum\": 0.12007736639770412, \"count\": 1, \"min\": 0.12007736639770412, \"max\": 0.12007736639770412}}}\u001b[0m\n",
      "\u001b[34m#metrics {\"StartTime\": 1730378988.4655223, \"EndTime\": 1730378988.4655309, \"Dimensions\": {\"Algorithm\": \"Linear Learner\", \"Host\": \"algo-1\", \"Operation\": \"training\", \"epoch\": 5, \"model\": 10}, \"Metrics\": {\"validation_binary_classification_cross_entropy_objective\": {\"sum\": 0.12111756490227724, \"count\": 1, \"min\": 0.12111756490227724, \"max\": 0.12111756490227724}}}\u001b[0m\n",
      "\u001b[34m#metrics {\"StartTime\": 1730378988.4655585, \"EndTime\": 1730378988.4655674, \"Dimensions\": {\"Algorithm\": \"Linear Learner\", \"Host\": \"algo-1\", \"Operation\": \"training\", \"epoch\": 5, \"model\": 11}, \"Metrics\": {\"validation_binary_classification_cross_entropy_objective\": {\"sum\": 0.12007575500711064, \"count\": 1, \"min\": 0.12007575500711064, \"max\": 0.12007575500711064}}}\u001b[0m\n",
      "\u001b[34m#metrics {\"StartTime\": 1730378988.465592, \"EndTime\": 1730378988.4655976, \"Dimensions\": {\"Algorithm\": \"Linear Learner\", \"Host\": \"algo-1\", \"Operation\": \"training\", \"epoch\": 5, \"model\": 12}, \"Metrics\": {\"validation_binary_classification_cross_entropy_objective\": {\"sum\": 0.11980000696378224, \"count\": 1, \"min\": 0.11980000696378224, \"max\": 0.11980000696378224}}}\u001b[0m\n",
      "\u001b[34m#metrics {\"StartTime\": 1730378988.4656243, \"EndTime\": 1730378988.4656334, \"Dimensions\": {\"Algorithm\": \"Linear Learner\", \"Host\": \"algo-1\", \"Operation\": \"training\", \"epoch\": 5, \"model\": 13}, \"Metrics\": {\"validation_binary_classification_cross_entropy_objective\": {\"sum\": 0.12150023273471307, \"count\": 1, \"min\": 0.12150023273471307, \"max\": 0.12150023273471307}}}\u001b[0m\n",
      "\u001b[34m#metrics {\"StartTime\": 1730378988.4656703, \"EndTime\": 1730378988.4656806, \"Dimensions\": {\"Algorithm\": \"Linear Learner\", \"Host\": \"algo-1\", \"Operation\": \"training\", \"epoch\": 5, \"model\": 14}, \"Metrics\": {\"validation_binary_classification_cross_entropy_objective\": {\"sum\": 0.11978404143918978, \"count\": 1, \"min\": 0.11978404143918978, \"max\": 0.11978404143918978}}}\u001b[0m\n",
      "\u001b[34m#metrics {\"StartTime\": 1730378988.465721, \"EndTime\": 1730378988.4657316, \"Dimensions\": {\"Algorithm\": \"Linear Learner\", \"Host\": \"algo-1\", \"Operation\": \"training\", \"epoch\": 5, \"model\": 15}, \"Metrics\": {\"validation_binary_classification_cross_entropy_objective\": {\"sum\": 0.12150052389986242, \"count\": 1, \"min\": 0.12150052389986242, \"max\": 0.12150052389986242}}}\u001b[0m\n",
      "\u001b[34m#metrics {\"StartTime\": 1730378988.4657671, \"EndTime\": 1730378988.4657762, \"Dimensions\": {\"Algorithm\": \"Linear Learner\", \"Host\": \"algo-1\", \"Operation\": \"training\", \"epoch\": 5, \"model\": 16}, \"Metrics\": {\"validation_binary_classification_cross_entropy_objective\": {\"sum\": 0.4220404204278325, \"count\": 1, \"min\": 0.4220404204278325, \"max\": 0.4220404204278325}}}\u001b[0m\n",
      "\u001b[34m#metrics {\"StartTime\": 1730378988.4658093, \"EndTime\": 1730378988.4658186, \"Dimensions\": {\"Algorithm\": \"Linear Learner\", \"Host\": \"algo-1\", \"Operation\": \"training\", \"epoch\": 5, \"model\": 17}, \"Metrics\": {\"validation_binary_classification_cross_entropy_objective\": {\"sum\": 0.4212698043276456, \"count\": 1, \"min\": 0.4212698043276456, \"max\": 0.4212698043276456}}}\u001b[0m\n",
      "\u001b[34m#metrics {\"StartTime\": 1730378988.4658496, \"EndTime\": 1730378988.4658592, \"Dimensions\": {\"Algorithm\": \"Linear Learner\", \"Host\": \"algo-1\", \"Operation\": \"training\", \"epoch\": 5, \"model\": 18}, \"Metrics\": {\"validation_binary_classification_cross_entropy_objective\": {\"sum\": 0.42181777424667977, \"count\": 1, \"min\": 0.42181777424667977, \"max\": 0.42181777424667977}}}\u001b[0m\n",
      "\u001b[34m#metrics {\"StartTime\": 1730378988.4658911, \"EndTime\": 1730378988.4659, \"Dimensions\": {\"Algorithm\": \"Linear Learner\", \"Host\": \"algo-1\", \"Operation\": \"training\", \"epoch\": 5, \"model\": 19}, \"Metrics\": {\"validation_binary_classification_cross_entropy_objective\": {\"sum\": 0.4212699059229188, \"count\": 1, \"min\": 0.4212699059229188, \"max\": 0.4212699059229188}}}\u001b[0m\n",
      "\u001b[34m#metrics {\"StartTime\": 1730378988.4659395, \"EndTime\": 1730378988.4659498, \"Dimensions\": {\"Algorithm\": \"Linear Learner\", \"Host\": \"algo-1\", \"Operation\": \"training\", \"epoch\": 5, \"model\": 20}, \"Metrics\": {\"validation_binary_classification_cross_entropy_objective\": {\"sum\": 0.4218932330396638, \"count\": 1, \"min\": 0.4218932330396638, \"max\": 0.4218932330396638}}}\u001b[0m\n",
      "\u001b[34m#metrics {\"StartTime\": 1730378988.4659863, \"EndTime\": 1730378988.4659963, \"Dimensions\": {\"Algorithm\": \"Linear Learner\", \"Host\": \"algo-1\", \"Operation\": \"training\", \"epoch\": 5, \"model\": 21}, \"Metrics\": {\"validation_binary_classification_cross_entropy_objective\": {\"sum\": 0.42677965259167755, \"count\": 1, \"min\": 0.42677965259167755, \"max\": 0.42677965259167755}}}\u001b[0m\n",
      "\u001b[34m#metrics {\"StartTime\": 1730378988.466025, \"EndTime\": 1730378988.466034, \"Dimensions\": {\"Algorithm\": \"Linear Learner\", \"Host\": \"algo-1\", \"Operation\": \"training\", \"epoch\": 5, \"model\": 22}, \"Metrics\": {\"validation_binary_classification_cross_entropy_objective\": {\"sum\": 0.42181837225007845, \"count\": 1, \"min\": 0.42181837225007845, \"max\": 0.42181837225007845}}}\u001b[0m\n",
      "\u001b[34m#metrics {\"StartTime\": 1730378988.4660673, \"EndTime\": 1730378988.4660757, \"Dimensions\": {\"Algorithm\": \"Linear Learner\", \"Host\": \"algo-1\", \"Operation\": \"training\", \"epoch\": 5, \"model\": 23}, \"Metrics\": {\"validation_binary_classification_cross_entropy_objective\": {\"sum\": 0.42677965053924777, \"count\": 1, \"min\": 0.42677965053924777, \"max\": 0.42677965053924777}}}\u001b[0m\n",
      "\u001b[34m#metrics {\"StartTime\": 1730378988.4661117, \"EndTime\": 1730378988.4661212, \"Dimensions\": {\"Algorithm\": \"Linear Learner\", \"Host\": \"algo-1\", \"Operation\": \"training\", \"epoch\": 5, \"model\": 24}, \"Metrics\": {\"validation_binary_classification_cross_entropy_objective\": {\"sum\": 0.5123215864976357, \"count\": 1, \"min\": 0.5123215864976357, \"max\": 0.5123215864976357}}}\u001b[0m\n",
      "\u001b[34m#metrics {\"StartTime\": 1730378988.4661417, \"EndTime\": 1730378988.4661477, \"Dimensions\": {\"Algorithm\": \"Linear Learner\", \"Host\": \"algo-1\", \"Operation\": \"training\", \"epoch\": 5, \"model\": 25}, \"Metrics\": {\"validation_binary_classification_cross_entropy_objective\": {\"sum\": 0.5128909348049433, \"count\": 1, \"min\": 0.5128909348049433, \"max\": 0.5128909348049433}}}\u001b[0m\n",
      "\u001b[34m#metrics {\"StartTime\": 1730378988.4661658, \"EndTime\": 1730378988.4661715, \"Dimensions\": {\"Algorithm\": \"Linear Learner\", \"Host\": \"algo-1\", \"Operation\": \"training\", \"epoch\": 5, \"model\": 26}, \"Metrics\": {\"validation_binary_classification_cross_entropy_objective\": {\"sum\": 0.512318062102566, \"count\": 1, \"min\": 0.512318062102566, \"max\": 0.512318062102566}}}\u001b[0m\n",
      "\u001b[34m#metrics {\"StartTime\": 1730378988.466196, \"EndTime\": 1730378988.4662027, \"Dimensions\": {\"Algorithm\": \"Linear Learner\", \"Host\": \"algo-1\", \"Operation\": \"training\", \"epoch\": 5, \"model\": 27}, \"Metrics\": {\"validation_binary_classification_cross_entropy_objective\": {\"sum\": 0.5128906099612874, \"count\": 1, \"min\": 0.5128906099612874, \"max\": 0.5128906099612874}}}\u001b[0m\n",
      "\u001b[34m#metrics {\"StartTime\": 1730378988.4662378, \"EndTime\": 1730378988.4662461, \"Dimensions\": {\"Algorithm\": \"Linear Learner\", \"Host\": \"algo-1\", \"Operation\": \"training\", \"epoch\": 5, \"model\": 28}, \"Metrics\": {\"validation_binary_classification_cross_entropy_objective\": {\"sum\": 0.5123265304277623, \"count\": 1, \"min\": 0.5123265304277623, \"max\": 0.5123265304277623}}}\u001b[0m\n",
      "\u001b[34m#metrics {\"StartTime\": 1730378988.4662812, \"EndTime\": 1730378988.4662907, \"Dimensions\": {\"Algorithm\": \"Linear Learner\", \"Host\": \"algo-1\", \"Operation\": \"training\", \"epoch\": 5, \"model\": 29}, \"Metrics\": {\"validation_binary_classification_cross_entropy_objective\": {\"sum\": 0.512295947171885, \"count\": 1, \"min\": 0.512295947171885, \"max\": 0.512295947171885}}}\u001b[0m\n",
      "\u001b[34m#metrics {\"StartTime\": 1730378988.4663267, \"EndTime\": 1730378988.466336, \"Dimensions\": {\"Algorithm\": \"Linear Learner\", \"Host\": \"algo-1\", \"Operation\": \"training\", \"epoch\": 5, \"model\": 30}, \"Metrics\": {\"validation_binary_classification_cross_entropy_objective\": {\"sum\": 0.5123157521861617, \"count\": 1, \"min\": 0.5123157521861617, \"max\": 0.5123157521861617}}}\u001b[0m\n",
      "\u001b[34m#metrics {\"StartTime\": 1730378988.4663706, \"EndTime\": 1730378988.4663813, \"Dimensions\": {\"Algorithm\": \"Linear Learner\", \"Host\": \"algo-1\", \"Operation\": \"training\", \"epoch\": 5, \"model\": 31}, \"Metrics\": {\"validation_binary_classification_cross_entropy_objective\": {\"sum\": 0.5122959481048076, \"count\": 1, \"min\": 0.5122959481048076, \"max\": 0.5122959481048076}}}\u001b[0m\n",
      "\u001b[34m[10/31/2024 12:49:48 INFO 140292085315392] #quality_metric: host=algo-1, epoch=5, validation binary_classification_cross_entropy_objective <loss>=0.09678821681385569\u001b[0m\n",
      "\u001b[34m[10/31/2024 12:49:48 INFO 140292085315392] #early_stopping_criteria_metric: host=algo-1, epoch=5, criteria=sampled_f_beta, value=0.9989961446133702\u001b[0m\n",
      "\u001b[34m[10/31/2024 12:49:48 INFO 140292085315392] Epoch 5: Loss improved. Updating best model\u001b[0m\n",
      "\u001b[34m[10/31/2024 12:49:48 INFO 140292085315392] Saving model for epoch: 5\u001b[0m\n",
      "\u001b[34m[10/31/2024 12:49:48 INFO 140292085315392] Saved checkpoint to \"/tmp/tmpfy3igvx3/mx-mod-0000.params\"\u001b[0m\n",
      "\u001b[34m[10/31/2024 12:49:48 INFO 140292085315392] #progress_metric: host=algo-1, completed 40.0 % of epochs\u001b[0m\n",
      "\u001b[34m#metrics {\"StartTime\": 1730378951.9179451, \"EndTime\": 1730378988.472499, \"Dimensions\": {\"Algorithm\": \"Linear Learner\", \"Host\": \"algo-1\", \"Operation\": \"training\", \"epoch\": 5, \"Meta\": \"training_data_iter\"}, \"Metrics\": {\"Total Records Seen\": {\"sum\": 7862832.0, \"count\": 1, \"min\": 7862832, \"max\": 7862832}, \"Total Batches Seen\": {\"sum\": 7866.0, \"count\": 1, \"min\": 7866, \"max\": 7866}, \"Max Records Seen Between Resets\": {\"sum\": 1308472.0, \"count\": 1, \"min\": 1308472, \"max\": 1308472}, \"Max Batches Seen Between Resets\": {\"sum\": 1309.0, \"count\": 1, \"min\": 1309, \"max\": 1309}, \"Reset Count\": {\"sum\": 8.0, \"count\": 1, \"min\": 8, \"max\": 8}, \"Number of Records Since Last Reset\": {\"sum\": 1308472.0, \"count\": 1, \"min\": 1308472, \"max\": 1308472}, \"Number of Batches Since Last Reset\": {\"sum\": 1309.0, \"count\": 1, \"min\": 1309, \"max\": 1309}}}\u001b[0m\n",
      "\u001b[34m[10/31/2024 12:49:48 INFO 140292085315392] #throughput_metric: host=algo-1, train throughput=35794.92433340047 records/second\u001b[0m\n",
      "\u001b[34m[2024-10-31 12:50:20.636] [tensorio] [info] epoch_stats={\"data_pipeline\": \"/opt/ml/input/data/train\", \"epoch\": 15, \"duration\": 32163, \"num_examples\": 1309, \"num_bytes\": 669937664}\u001b[0m\n",
      "\u001b[34m#metrics {\"StartTime\": 1730379020.636528, \"EndTime\": 1730379020.6366043, \"Dimensions\": {\"Algorithm\": \"Linear Learner\", \"Host\": \"algo-1\", \"Operation\": \"training\", \"epoch\": 6, \"model\": 0}, \"Metrics\": {\"train_binary_classification_cross_entropy_objective\": {\"sum\": 0.09595756760576814, \"count\": 1, \"min\": 0.09595756760576814, \"max\": 0.09595756760576814}}}\u001b[0m\n",
      "\u001b[34m#metrics {\"StartTime\": 1730379020.6366875, \"EndTime\": 1730379020.6367059, \"Dimensions\": {\"Algorithm\": \"Linear Learner\", \"Host\": \"algo-1\", \"Operation\": \"training\", \"epoch\": 6, \"model\": 1}, \"Metrics\": {\"train_binary_classification_cross_entropy_objective\": {\"sum\": 0.027250772747424764, \"count\": 1, \"min\": 0.027250772747424764, \"max\": 0.027250772747424764}}}\u001b[0m\n",
      "\u001b[34m#metrics {\"StartTime\": 1730379020.6367543, \"EndTime\": 1730379020.6367662, \"Dimensions\": {\"Algorithm\": \"Linear Learner\", \"Host\": \"algo-1\", \"Operation\": \"training\", \"epoch\": 6, \"model\": 2}, \"Metrics\": {\"train_binary_classification_cross_entropy_objective\": {\"sum\": 0.08773997781619385, \"count\": 1, \"min\": 0.08773997781619385, \"max\": 0.08773997781619385}}}\u001b[0m\n",
      "\u001b[34m#metrics {\"StartTime\": 1730379020.6368039, \"EndTime\": 1730379020.6368148, \"Dimensions\": {\"Algorithm\": \"Linear Learner\", \"Host\": \"algo-1\", \"Operation\": \"training\", \"epoch\": 6, \"model\": 3}, \"Metrics\": {\"train_binary_classification_cross_entropy_objective\": {\"sum\": 0.026785535234923757, \"count\": 1, \"min\": 0.026785535234923757, \"max\": 0.026785535234923757}}}\u001b[0m\n",
      "\u001b[34m#metrics {\"StartTime\": 1730379020.6368508, \"EndTime\": 1730379020.6368613, \"Dimensions\": {\"Algorithm\": \"Linear Learner\", \"Host\": \"algo-1\", \"Operation\": \"training\", \"epoch\": 6, \"model\": 4}, \"Metrics\": {\"train_binary_classification_cross_entropy_objective\": {\"sum\": 0.023799230079038426, \"count\": 1, \"min\": 0.023799230079038426, \"max\": 0.023799230079038426}}}\u001b[0m\n",
      "\u001b[34m#metrics {\"StartTime\": 1730379020.636902, \"EndTime\": 1730379020.6369123, \"Dimensions\": {\"Algorithm\": \"Linear Learner\", \"Host\": \"algo-1\", \"Operation\": \"training\", \"epoch\": 6, \"model\": 5}, \"Metrics\": {\"train_binary_classification_cross_entropy_objective\": {\"sum\": 0.02530509597810401, \"count\": 1, \"min\": 0.02530509597810401, \"max\": 0.02530509597810401}}}\u001b[0m\n",
      "\u001b[34m#metrics {\"StartTime\": 1730379020.6369488, \"EndTime\": 1730379020.6369581, \"Dimensions\": {\"Algorithm\": \"Linear Learner\", \"Host\": \"algo-1\", \"Operation\": \"training\", \"epoch\": 6, \"model\": 6}, \"Metrics\": {\"train_binary_classification_cross_entropy_objective\": {\"sum\": 0.023789931896629684, \"count\": 1, \"min\": 0.023789931896629684, \"max\": 0.023789931896629684}}}\u001b[0m\n",
      "\u001b[34m#metrics {\"StartTime\": 1730379020.636994, \"EndTime\": 1730379020.6370027, \"Dimensions\": {\"Algorithm\": \"Linear Learner\", \"Host\": \"algo-1\", \"Operation\": \"training\", \"epoch\": 6, \"model\": 7}, \"Metrics\": {\"train_binary_classification_cross_entropy_objective\": {\"sum\": 0.025295818151683983, \"count\": 1, \"min\": 0.025295818151683983, \"max\": 0.025295818151683983}}}\u001b[0m\n",
      "\u001b[34m#metrics {\"StartTime\": 1730379020.637043, \"EndTime\": 1730379020.6370528, \"Dimensions\": {\"Algorithm\": \"Linear Learner\", \"Host\": \"algo-1\", \"Operation\": \"training\", \"epoch\": 6, \"model\": 8}, \"Metrics\": {\"train_binary_classification_cross_entropy_objective\": {\"sum\": 0.12559241236532134, \"count\": 1, \"min\": 0.12559241236532134, \"max\": 0.12559241236532134}}}\u001b[0m\n",
      "\u001b[34m#metrics {\"StartTime\": 1730379020.6370864, \"EndTime\": 1730379020.6370966, \"Dimensions\": {\"Algorithm\": \"Linear Learner\", \"Host\": \"algo-1\", \"Operation\": \"training\", \"epoch\": 6, \"model\": 9}, \"Metrics\": {\"train_binary_classification_cross_entropy_objective\": {\"sum\": 0.11940923614385296, \"count\": 1, \"min\": 0.11940923614385296, \"max\": 0.11940923614385296}}}\u001b[0m\n",
      "\u001b[34m#metrics {\"StartTime\": 1730379020.637131, \"EndTime\": 1730379020.6371403, \"Dimensions\": {\"Algorithm\": \"Linear Learner\", \"Host\": \"algo-1\", \"Operation\": \"training\", \"epoch\": 6, \"model\": 10}, \"Metrics\": {\"train_binary_classification_cross_entropy_objective\": {\"sum\": 0.1199439915881609, \"count\": 1, \"min\": 0.1199439915881609, \"max\": 0.1199439915881609}}}\u001b[0m\n",
      "\u001b[34m#metrics {\"StartTime\": 1730379020.6371787, \"EndTime\": 1730379020.6371884, \"Dimensions\": {\"Algorithm\": \"Linear Learner\", \"Host\": \"algo-1\", \"Operation\": \"training\", \"epoch\": 6, \"model\": 11}, \"Metrics\": {\"train_binary_classification_cross_entropy_objective\": {\"sum\": 0.11940920997759617, \"count\": 1, \"min\": 0.11940920997759617, \"max\": 0.11940920997759617}}}\u001b[0m\n",
      "\u001b[34m#metrics {\"StartTime\": 1730379020.6372287, \"EndTime\": 1730379020.6372387, \"Dimensions\": {\"Algorithm\": \"Linear Learner\", \"Host\": \"algo-1\", \"Operation\": \"training\", \"epoch\": 6, \"model\": 12}, \"Metrics\": {\"train_binary_classification_cross_entropy_objective\": {\"sum\": 0.11918246831514784, \"count\": 1, \"min\": 0.11918246831514784, \"max\": 0.11918246831514784}}}\u001b[0m\n",
      "\u001b[34m#metrics {\"StartTime\": 1730379020.637273, \"EndTime\": 1730379020.6372828, \"Dimensions\": {\"Algorithm\": \"Linear Learner\", \"Host\": \"algo-1\", \"Operation\": \"training\", \"epoch\": 6, \"model\": 13}, \"Metrics\": {\"train_binary_classification_cross_entropy_objective\": {\"sum\": 0.12297437912827237, \"count\": 1, \"min\": 0.12297437912827237, \"max\": 0.12297437912827237}}}\u001b[0m\n",
      "\u001b[34m#metrics {\"StartTime\": 1730379020.6373196, \"EndTime\": 1730379020.6373293, \"Dimensions\": {\"Algorithm\": \"Linear Learner\", \"Host\": \"algo-1\", \"Operation\": \"training\", \"epoch\": 6, \"model\": 14}, \"Metrics\": {\"train_binary_classification_cross_entropy_objective\": {\"sum\": 0.11920038557490077, \"count\": 1, \"min\": 0.11920038557490077, \"max\": 0.11920038557490077}}}\u001b[0m\n",
      "\u001b[34m#metrics {\"StartTime\": 1730379020.6373656, \"EndTime\": 1730379020.6373925, \"Dimensions\": {\"Algorithm\": \"Linear Learner\", \"Host\": \"algo-1\", \"Operation\": \"training\", \"epoch\": 6, \"model\": 15}, \"Metrics\": {\"train_binary_classification_cross_entropy_objective\": {\"sum\": 0.12297438209720343, \"count\": 1, \"min\": 0.12297438209720343, \"max\": 0.12297438209720343}}}\u001b[0m\n",
      "\u001b[34m#metrics {\"StartTime\": 1730379020.6374302, \"EndTime\": 1730379020.6374407, \"Dimensions\": {\"Algorithm\": \"Linear Learner\", \"Host\": \"algo-1\", \"Operation\": \"training\", \"epoch\": 6, \"model\": 16}, \"Metrics\": {\"train_binary_classification_cross_entropy_objective\": {\"sum\": 0.4215029760704857, \"count\": 1, \"min\": 0.4215029760704857, \"max\": 0.4215029760704857}}}\u001b[0m\n",
      "\u001b[34m#metrics {\"StartTime\": 1730379020.6374757, \"EndTime\": 1730379020.637485, \"Dimensions\": {\"Algorithm\": \"Linear Learner\", \"Host\": \"algo-1\", \"Operation\": \"training\", \"epoch\": 6, \"model\": 17}, \"Metrics\": {\"train_binary_classification_cross_entropy_objective\": {\"sum\": 0.4216804821236053, \"count\": 1, \"min\": 0.4216804821236053, \"max\": 0.4216804821236053}}}\u001b[0m\n",
      "\u001b[34m#metrics {\"StartTime\": 1730379020.6375241, \"EndTime\": 1730379020.6375341, \"Dimensions\": {\"Algorithm\": \"Linear Learner\", \"Host\": \"algo-1\", \"Operation\": \"training\", \"epoch\": 6, \"model\": 18}, \"Metrics\": {\"train_binary_classification_cross_entropy_objective\": {\"sum\": 0.4215125003546385, \"count\": 1, \"min\": 0.4215125003546385, \"max\": 0.4215125003546385}}}\u001b[0m\n",
      "\u001b[34m#metrics {\"StartTime\": 1730379020.6375747, \"EndTime\": 1730379020.6375856, \"Dimensions\": {\"Algorithm\": \"Linear Learner\", \"Host\": \"algo-1\", \"Operation\": \"training\", \"epoch\": 6, \"model\": 19}, \"Metrics\": {\"train_binary_classification_cross_entropy_objective\": {\"sum\": 0.4216804816569757, \"count\": 1, \"min\": 0.4216804816569757, \"max\": 0.4216804816569757}}}\u001b[0m\n",
      "\u001b[34m#metrics {\"StartTime\": 1730379020.6376238, \"EndTime\": 1730379020.637634, \"Dimensions\": {\"Algorithm\": \"Linear Learner\", \"Host\": \"algo-1\", \"Operation\": \"training\", \"epoch\": 6, \"model\": 20}, \"Metrics\": {\"train_binary_classification_cross_entropy_objective\": {\"sum\": 0.42153535585082635, \"count\": 1, \"min\": 0.42153535585082635, \"max\": 0.42153535585082635}}}\u001b[0m\n",
      "\u001b[34m#metrics {\"StartTime\": 1730379020.6376688, \"EndTime\": 1730379020.6376793, \"Dimensions\": {\"Algorithm\": \"Linear Learner\", \"Host\": \"algo-1\", \"Operation\": \"training\", \"epoch\": 6, \"model\": 21}, \"Metrics\": {\"train_binary_classification_cross_entropy_objective\": {\"sum\": 0.4239452009288543, \"count\": 1, \"min\": 0.4239452009288543, \"max\": 0.4239452009288543}}}\u001b[0m\n",
      "\u001b[34m#metrics {\"StartTime\": 1730379020.637713, \"EndTime\": 1730379020.6377223, \"Dimensions\": {\"Algorithm\": \"Linear Learner\", \"Host\": \"algo-1\", \"Operation\": \"training\", \"epoch\": 6, \"model\": 22}, \"Metrics\": {\"train_binary_classification_cross_entropy_objective\": {\"sum\": 0.421512439646123, \"count\": 1, \"min\": 0.421512439646123, \"max\": 0.421512439646123}}}\u001b[0m\n",
      "\u001b[34m#metrics {\"StartTime\": 1730379020.6377568, \"EndTime\": 1730379020.6377666, \"Dimensions\": {\"Algorithm\": \"Linear Learner\", \"Host\": \"algo-1\", \"Operation\": \"training\", \"epoch\": 6, \"model\": 23}, \"Metrics\": {\"train_binary_classification_cross_entropy_objective\": {\"sum\": 0.4239451999256006, \"count\": 1, \"min\": 0.4239451999256006, \"max\": 0.4239451999256006}}}\u001b[0m\n",
      "\u001b[34m#metrics {\"StartTime\": 1730379020.637805, \"EndTime\": 1730379020.6378145, \"Dimensions\": {\"Algorithm\": \"Linear Learner\", \"Host\": \"algo-1\", \"Operation\": \"training\", \"epoch\": 6, \"model\": 24}, \"Metrics\": {\"train_binary_classification_cross_entropy_objective\": {\"sum\": 0.512336929414615, \"count\": 1, \"min\": 0.512336929414615, \"max\": 0.512336929414615}}}\u001b[0m\n",
      "\u001b[34m#metrics {\"StartTime\": 1730379020.6378503, \"EndTime\": 1730379020.63786, \"Dimensions\": {\"Algorithm\": \"Linear Learner\", \"Host\": \"algo-1\", \"Operation\": \"training\", \"epoch\": 6, \"model\": 25}, \"Metrics\": {\"train_binary_classification_cross_entropy_objective\": {\"sum\": 0.5124045919015867, \"count\": 1, \"min\": 0.5124045919015867, \"max\": 0.5124045919015867}}}\u001b[0m\n",
      "\u001b[34m#metrics {\"StartTime\": 1730379020.637899, \"EndTime\": 1730379020.6379087, \"Dimensions\": {\"Algorithm\": \"Linear Learner\", \"Host\": \"algo-1\", \"Operation\": \"training\", \"epoch\": 6, \"model\": 26}, \"Metrics\": {\"train_binary_classification_cross_entropy_objective\": {\"sum\": 0.5123388635944518, \"count\": 1, \"min\": 0.5123388635944518, \"max\": 0.5123388635944518}}}\u001b[0m\n",
      "\u001b[34m#metrics {\"StartTime\": 1730379020.6379476, \"EndTime\": 1730379020.637958, \"Dimensions\": {\"Algorithm\": \"Linear Learner\", \"Host\": \"algo-1\", \"Operation\": \"training\", \"epoch\": 6, \"model\": 27}, \"Metrics\": {\"train_binary_classification_cross_entropy_objective\": {\"sum\": 0.5124046063904368, \"count\": 1, \"min\": 0.5124046063904368, \"max\": 0.5124046063904368}}}\u001b[0m\n",
      "\u001b[34m#metrics {\"StartTime\": 1730379020.6379972, \"EndTime\": 1730379020.6380076, \"Dimensions\": {\"Algorithm\": \"Linear Learner\", \"Host\": \"algo-1\", \"Operation\": \"training\", \"epoch\": 6, \"model\": 28}, \"Metrics\": {\"train_binary_classification_cross_entropy_objective\": {\"sum\": 0.5123378697199924, \"count\": 1, \"min\": 0.5123378697199924, \"max\": 0.5123378697199924}}}\u001b[0m\n",
      "\u001b[34m#metrics {\"StartTime\": 1730379020.6380467, \"EndTime\": 1730379020.6380565, \"Dimensions\": {\"Algorithm\": \"Linear Learner\", \"Host\": \"algo-1\", \"Operation\": \"training\", \"epoch\": 6, \"model\": 29}, \"Metrics\": {\"train_binary_classification_cross_entropy_objective\": {\"sum\": 0.5132758560647294, \"count\": 1, \"min\": 0.5132758560647294, \"max\": 0.5132758560647294}}}\u001b[0m\n",
      "\u001b[34m#metrics {\"StartTime\": 1730379020.6380937, \"EndTime\": 1730379020.6381037, \"Dimensions\": {\"Algorithm\": \"Linear Learner\", \"Host\": \"algo-1\", \"Operation\": \"training\", \"epoch\": 6, \"model\": 30}, \"Metrics\": {\"train_binary_classification_cross_entropy_objective\": {\"sum\": 0.512338839096396, \"count\": 1, \"min\": 0.512338839096396, \"max\": 0.512338839096396}}}\u001b[0m\n",
      "\u001b[34m#metrics {\"StartTime\": 1730379020.6381414, \"EndTime\": 1730379020.6381512, \"Dimensions\": {\"Algorithm\": \"Linear Learner\", \"Host\": \"algo-1\", \"Operation\": \"training\", \"epoch\": 6, \"model\": 31}, \"Metrics\": {\"train_binary_classification_cross_entropy_objective\": {\"sum\": 0.513275855224796, \"count\": 1, \"min\": 0.513275855224796, \"max\": 0.513275855224796}}}\u001b[0m\n",
      "\u001b[34m[10/31/2024 12:50:20 INFO 140292085315392] #quality_metric: host=algo-1, epoch=6, train binary_classification_cross_entropy_objective <loss>=0.09595756760576814\u001b[0m\n",
      "\u001b[34m[2024-10-31 12:50:23.825] [tensorio] [info] epoch_stats={\"data_pipeline\": \"/opt/ml/input/data/validation\", \"epoch\": 20, \"duration\": 3172, \"num_examples\": 164, \"num_bytes\": 83742208}\u001b[0m\n",
      "\u001b[34m#metrics {\"StartTime\": 1730379025.5275054, \"EndTime\": 1730379025.5275607, \"Dimensions\": {\"Algorithm\": \"Linear Learner\", \"Host\": \"algo-1\", \"Operation\": \"training\", \"epoch\": 6, \"model\": 0}, \"Metrics\": {\"validation_binary_classification_cross_entropy_objective\": {\"sum\": 0.09635363491632261, \"count\": 1, \"min\": 0.09635363491632261, \"max\": 0.09635363491632261}}}\u001b[0m\n",
      "\u001b[34m#metrics {\"StartTime\": 1730379025.5276306, \"EndTime\": 1730379025.5276408, \"Dimensions\": {\"Algorithm\": \"Linear Learner\", \"Host\": \"algo-1\", \"Operation\": \"training\", \"epoch\": 6, \"model\": 1}, \"Metrics\": {\"validation_binary_classification_cross_entropy_objective\": {\"sum\": 0.02651928263255923, \"count\": 1, \"min\": 0.02651928263255923, \"max\": 0.02651928263255923}}}\u001b[0m\n",
      "\u001b[34m#metrics {\"StartTime\": 1730379025.527667, \"EndTime\": 1730379025.5276756, \"Dimensions\": {\"Algorithm\": \"Linear Learner\", \"Host\": \"algo-1\", \"Operation\": \"training\", \"epoch\": 6, \"model\": 2}, \"Metrics\": {\"validation_binary_classification_cross_entropy_objective\": {\"sum\": 0.0865724987017225, \"count\": 1, \"min\": 0.0865724987017225, \"max\": 0.0865724987017225}}}\u001b[0m\n",
      "\u001b[34m#metrics {\"StartTime\": 1730379025.527712, \"EndTime\": 1730379025.5277212, \"Dimensions\": {\"Algorithm\": \"Linear Learner\", \"Host\": \"algo-1\", \"Operation\": \"training\", \"epoch\": 6, \"model\": 3}, \"Metrics\": {\"validation_binary_classification_cross_entropy_objective\": {\"sum\": 0.026140588922203067, \"count\": 1, \"min\": 0.026140588922203067, \"max\": 0.026140588922203067}}}\u001b[0m\n",
      "\u001b[34m#metrics {\"StartTime\": 1730379025.527756, \"EndTime\": 1730379025.5277643, \"Dimensions\": {\"Algorithm\": \"Linear Learner\", \"Host\": \"algo-1\", \"Operation\": \"training\", \"epoch\": 6, \"model\": 4}, \"Metrics\": {\"validation_binary_classification_cross_entropy_objective\": {\"sum\": 0.024272871821810274, \"count\": 1, \"min\": 0.024272871821810274, \"max\": 0.024272871821810274}}}\u001b[0m\n",
      "\u001b[34m#metrics {\"StartTime\": 1730379025.527797, \"EndTime\": 1730379025.5278058, \"Dimensions\": {\"Algorithm\": \"Linear Learner\", \"Host\": \"algo-1\", \"Operation\": \"training\", \"epoch\": 6, \"model\": 5}, \"Metrics\": {\"validation_binary_classification_cross_entropy_objective\": {\"sum\": 0.026088187988114072, \"count\": 1, \"min\": 0.026088187988114072, \"max\": 0.026088187988114072}}}\u001b[0m\n",
      "\u001b[34m#metrics {\"StartTime\": 1730379025.5278375, \"EndTime\": 1730379025.5278475, \"Dimensions\": {\"Algorithm\": \"Linear Learner\", \"Host\": \"algo-1\", \"Operation\": \"training\", \"epoch\": 6, \"model\": 6}, \"Metrics\": {\"validation_binary_classification_cross_entropy_objective\": {\"sum\": 0.024232114893173853, \"count\": 1, \"min\": 0.024232114893173853, \"max\": 0.024232114893173853}}}\u001b[0m\n",
      "\u001b[34m#metrics {\"StartTime\": 1730379025.5278804, \"EndTime\": 1730379025.5278904, \"Dimensions\": {\"Algorithm\": \"Linear Learner\", \"Host\": \"algo-1\", \"Operation\": \"training\", \"epoch\": 6, \"model\": 7}, \"Metrics\": {\"validation_binary_classification_cross_entropy_objective\": {\"sum\": 0.026083409086167977, \"count\": 1, \"min\": 0.026083409086167977, \"max\": 0.026083409086167977}}}\u001b[0m\n",
      "\u001b[34m#metrics {\"StartTime\": 1730379025.527916, \"EndTime\": 1730379025.5279224, \"Dimensions\": {\"Algorithm\": \"Linear Learner\", \"Host\": \"algo-1\", \"Operation\": \"training\", \"epoch\": 6, \"model\": 8}, \"Metrics\": {\"validation_binary_classification_cross_entropy_objective\": {\"sum\": 0.12593309390349489, \"count\": 1, \"min\": 0.12593309390349489, \"max\": 0.12593309390349489}}}\u001b[0m\n",
      "\u001b[34m#metrics {\"StartTime\": 1730379025.5279481, \"EndTime\": 1730379025.5279562, \"Dimensions\": {\"Algorithm\": \"Linear Learner\", \"Host\": \"algo-1\", \"Operation\": \"training\", \"epoch\": 6, \"model\": 9}, \"Metrics\": {\"validation_binary_classification_cross_entropy_objective\": {\"sum\": 0.12005005951941822, \"count\": 1, \"min\": 0.12005005951941822, \"max\": 0.12005005951941822}}}\u001b[0m\n",
      "\u001b[34m#metrics {\"StartTime\": 1730379025.5279894, \"EndTime\": 1730379025.5279992, \"Dimensions\": {\"Algorithm\": \"Linear Learner\", \"Host\": \"algo-1\", \"Operation\": \"training\", \"epoch\": 6, \"model\": 10}, \"Metrics\": {\"validation_binary_classification_cross_entropy_objective\": {\"sum\": 0.12012715787725886, \"count\": 1, \"min\": 0.12012715787725886, \"max\": 0.12012715787725886}}}\u001b[0m\n",
      "\u001b[34m#metrics {\"StartTime\": 1730379025.5280316, \"EndTime\": 1730379025.5280406, \"Dimensions\": {\"Algorithm\": \"Linear Learner\", \"Host\": \"algo-1\", \"Operation\": \"training\", \"epoch\": 6, \"model\": 11}, \"Metrics\": {\"validation_binary_classification_cross_entropy_objective\": {\"sum\": 0.12004891538311839, \"count\": 1, \"min\": 0.12004891538311839, \"max\": 0.12004891538311839}}}\u001b[0m\n",
      "\u001b[34m#metrics {\"StartTime\": 1730379025.5280702, \"EndTime\": 1730379025.528079, \"Dimensions\": {\"Algorithm\": \"Linear Learner\", \"Host\": \"algo-1\", \"Operation\": \"training\", \"epoch\": 6, \"model\": 12}, \"Metrics\": {\"validation_binary_classification_cross_entropy_objective\": {\"sum\": 0.11979988358476588, \"count\": 1, \"min\": 0.11979988358476588, \"max\": 0.11979988358476588}}}\u001b[0m\n",
      "\u001b[34m#metrics {\"StartTime\": 1730379025.5281143, \"EndTime\": 1730379025.528124, \"Dimensions\": {\"Algorithm\": \"Linear Learner\", \"Host\": \"algo-1\", \"Operation\": \"training\", \"epoch\": 6, \"model\": 13}, \"Metrics\": {\"validation_binary_classification_cross_entropy_objective\": {\"sum\": 0.12130049255597608, \"count\": 1, \"min\": 0.12130049255597608, \"max\": 0.12130049255597608}}}\u001b[0m\n",
      "\u001b[34m#metrics {\"StartTime\": 1730379025.5281556, \"EndTime\": 1730379025.5281649, \"Dimensions\": {\"Algorithm\": \"Linear Learner\", \"Host\": \"algo-1\", \"Operation\": \"training\", \"epoch\": 6, \"model\": 14}, \"Metrics\": {\"validation_binary_classification_cross_entropy_objective\": {\"sum\": 0.11978410888949513, \"count\": 1, \"min\": 0.11978410888949513, \"max\": 0.11978410888949513}}}\u001b[0m\n",
      "\u001b[34m#metrics {\"StartTime\": 1730379025.5281932, \"EndTime\": 1730379025.5282025, \"Dimensions\": {\"Algorithm\": \"Linear Learner\", \"Host\": \"algo-1\", \"Operation\": \"training\", \"epoch\": 6, \"model\": 15}, \"Metrics\": {\"validation_binary_classification_cross_entropy_objective\": {\"sum\": 0.12130053313811, \"count\": 1, \"min\": 0.12130053313811, \"max\": 0.12130053313811}}}\u001b[0m\n",
      "\u001b[34m#metrics {\"StartTime\": 1730379025.5282412, \"EndTime\": 1730379025.528251, \"Dimensions\": {\"Algorithm\": \"Linear Learner\", \"Host\": \"algo-1\", \"Operation\": \"training\", \"epoch\": 6, \"model\": 16}, \"Metrics\": {\"validation_binary_classification_cross_entropy_objective\": {\"sum\": 0.42203900854274107, \"count\": 1, \"min\": 0.42203900854274107, \"max\": 0.42203900854274107}}}\u001b[0m\n",
      "\u001b[34m#metrics {\"StartTime\": 1730379025.5282774, \"EndTime\": 1730379025.528286, \"Dimensions\": {\"Algorithm\": \"Linear Learner\", \"Host\": \"algo-1\", \"Operation\": \"training\", \"epoch\": 6, \"model\": 17}, \"Metrics\": {\"validation_binary_classification_cross_entropy_objective\": {\"sum\": 0.42128689556331617, \"count\": 1, \"min\": 0.42128689556331617, \"max\": 0.42128689556331617}}}\u001b[0m\n",
      "\u001b[34m#metrics {\"StartTime\": 1730379025.5283165, \"EndTime\": 1730379025.5283246, \"Dimensions\": {\"Algorithm\": \"Linear Learner\", \"Host\": \"algo-1\", \"Operation\": \"training\", \"epoch\": 6, \"model\": 18}, \"Metrics\": {\"validation_binary_classification_cross_entropy_objective\": {\"sum\": 0.42181760193587203, \"count\": 1, \"min\": 0.42181760193587203, \"max\": 0.42181760193587203}}}\u001b[0m\n",
      "\u001b[34m#metrics {\"StartTime\": 1730379025.528353, \"EndTime\": 1730379025.5283613, \"Dimensions\": {\"Algorithm\": \"Linear Learner\", \"Host\": \"algo-1\", \"Operation\": \"training\", \"epoch\": 6, \"model\": 19}, \"Metrics\": {\"validation_binary_classification_cross_entropy_objective\": {\"sum\": 0.4212869133821382, \"count\": 1, \"min\": 0.4212869133821382, \"max\": 0.4212869133821382}}}\u001b[0m\n",
      "\u001b[34m#metrics {\"StartTime\": 1730379025.528388, \"EndTime\": 1730379025.5283976, \"Dimensions\": {\"Algorithm\": \"Linear Learner\", \"Host\": \"algo-1\", \"Operation\": \"training\", \"epoch\": 6, \"model\": 20}, \"Metrics\": {\"validation_binary_classification_cross_entropy_objective\": {\"sum\": 0.4220269854091977, \"count\": 1, \"min\": 0.4220269854091977, \"max\": 0.4220269854091977}}}\u001b[0m\n",
      "\u001b[34m#metrics {\"StartTime\": 1730379025.5284276, \"EndTime\": 1730379025.5284362, \"Dimensions\": {\"Algorithm\": \"Linear Learner\", \"Host\": \"algo-1\", \"Operation\": \"training\", \"epoch\": 6, \"model\": 21}, \"Metrics\": {\"validation_binary_classification_cross_entropy_objective\": {\"sum\": 0.42660425586252754, \"count\": 1, \"min\": 0.42660425586252754, \"max\": 0.42660425586252754}}}\u001b[0m\n",
      "\u001b[34m#metrics {\"StartTime\": 1730379025.5284662, \"EndTime\": 1730379025.5284762, \"Dimensions\": {\"Algorithm\": \"Linear Learner\", \"Host\": \"algo-1\", \"Operation\": \"training\", \"epoch\": 6, \"model\": 22}, \"Metrics\": {\"validation_binary_classification_cross_entropy_objective\": {\"sum\": 0.4218177777917857, \"count\": 1, \"min\": 0.4218177777917857, \"max\": 0.4218177777917857}}}\u001b[0m\n",
      "\u001b[34m#metrics {\"StartTime\": 1730379025.5285058, \"EndTime\": 1730379025.5285153, \"Dimensions\": {\"Algorithm\": \"Linear Learner\", \"Host\": \"algo-1\", \"Operation\": \"training\", \"epoch\": 6, \"model\": 23}, \"Metrics\": {\"validation_binary_classification_cross_entropy_objective\": {\"sum\": 0.4266042128547948, \"count\": 1, \"min\": 0.4266042128547948, \"max\": 0.4266042128547948}}}\u001b[0m\n",
      "\u001b[34m#metrics {\"StartTime\": 1730379025.5285475, \"EndTime\": 1730379025.5285575, \"Dimensions\": {\"Algorithm\": \"Linear Learner\", \"Host\": \"algo-1\", \"Operation\": \"training\", \"epoch\": 6, \"model\": 24}, \"Metrics\": {\"validation_binary_classification_cross_entropy_objective\": {\"sum\": 0.5123217954723023, \"count\": 1, \"min\": 0.5123217954723023, \"max\": 0.5123217954723023}}}\u001b[0m\n",
      "\u001b[34m#metrics {\"StartTime\": 1730379025.5285854, \"EndTime\": 1730379025.528594, \"Dimensions\": {\"Algorithm\": \"Linear Learner\", \"Host\": \"algo-1\", \"Operation\": \"training\", \"epoch\": 6, \"model\": 25}, \"Metrics\": {\"validation_binary_classification_cross_entropy_objective\": {\"sum\": 0.5128121325105853, \"count\": 1, \"min\": 0.5128121325105853, \"max\": 0.5128121325105853}}}\u001b[0m\n",
      "\u001b[34m#metrics {\"StartTime\": 1730379025.528622, \"EndTime\": 1730379025.5286307, \"Dimensions\": {\"Algorithm\": \"Linear Learner\", \"Host\": \"algo-1\", \"Operation\": \"training\", \"epoch\": 6, \"model\": 26}, \"Metrics\": {\"validation_binary_classification_cross_entropy_objective\": {\"sum\": 0.512317253818409, \"count\": 1, \"min\": 0.512317253818409, \"max\": 0.512317253818409}}}\u001b[0m\n",
      "\u001b[34m#metrics {\"StartTime\": 1730379025.5286613, \"EndTime\": 1730379025.5286713, \"Dimensions\": {\"Algorithm\": \"Linear Learner\", \"Host\": \"algo-1\", \"Operation\": \"training\", \"epoch\": 6, \"model\": 27}, \"Metrics\": {\"validation_binary_classification_cross_entropy_objective\": {\"sum\": 0.5128122511783425, \"count\": 1, \"min\": 0.5128122511783425, \"max\": 0.5128122511783425}}}\u001b[0m\n",
      "\u001b[34m#metrics {\"StartTime\": 1730379025.5286992, \"EndTime\": 1730379025.5287087, \"Dimensions\": {\"Algorithm\": \"Linear Learner\", \"Host\": \"algo-1\", \"Operation\": \"training\", \"epoch\": 6, \"model\": 28}, \"Metrics\": {\"validation_binary_classification_cross_entropy_objective\": {\"sum\": 0.5123221206891273, \"count\": 1, \"min\": 0.5123221206891273, \"max\": 0.5123221206891273}}}\u001b[0m\n",
      "\u001b[34m#metrics {\"StartTime\": 1730379025.5287404, \"EndTime\": 1730379025.5287483, \"Dimensions\": {\"Algorithm\": \"Linear Learner\", \"Host\": \"algo-1\", \"Operation\": \"training\", \"epoch\": 6, \"model\": 29}, \"Metrics\": {\"validation_binary_classification_cross_entropy_objective\": {\"sum\": 0.5120931352054868, \"count\": 1, \"min\": 0.5120931352054868, \"max\": 0.5120931352054868}}}\u001b[0m\n",
      "\u001b[34m#metrics {\"StartTime\": 1730379025.528776, \"EndTime\": 1730379025.5287848, \"Dimensions\": {\"Algorithm\": \"Linear Learner\", \"Host\": \"algo-1\", \"Operation\": \"training\", \"epoch\": 6, \"model\": 30}, \"Metrics\": {\"validation_binary_classification_cross_entropy_objective\": {\"sum\": 0.5123164168002353, \"count\": 1, \"min\": 0.5123164168002353, \"max\": 0.5123164168002353}}}\u001b[0m\n",
      "\u001b[34m#metrics {\"StartTime\": 1730379025.5288143, \"EndTime\": 1730379025.5288231, \"Dimensions\": {\"Algorithm\": \"Linear Learner\", \"Host\": \"algo-1\", \"Operation\": \"training\", \"epoch\": 6, \"model\": 31}, \"Metrics\": {\"validation_binary_classification_cross_entropy_objective\": {\"sum\": 0.5120931309140427, \"count\": 1, \"min\": 0.5120931309140427, \"max\": 0.5120931309140427}}}\u001b[0m\n",
      "\u001b[34m[10/31/2024 12:50:25 INFO 140292085315392] #quality_metric: host=algo-1, epoch=6, validation binary_classification_cross_entropy_objective <loss>=0.09635363491632261\u001b[0m\n",
      "\u001b[34m[10/31/2024 12:50:25 INFO 140292085315392] #early_stopping_criteria_metric: host=algo-1, epoch=6, criteria=sampled_f_beta, value=0.9989961446133702\u001b[0m\n",
      "\u001b[34m[10/31/2024 12:50:25 INFO 140292085315392] Epoch 6: Loss improved. Updating best model\u001b[0m\n",
      "\u001b[34m[10/31/2024 12:50:25 INFO 140292085315392] Saving model for epoch: 6\u001b[0m\n",
      "\u001b[34m[10/31/2024 12:50:25 INFO 140292085315392] Saved checkpoint to \"/tmp/tmp4t4emlg4/mx-mod-0000.params\"\u001b[0m\n",
      "\u001b[34m[10/31/2024 12:50:25 INFO 140292085315392] #progress_metric: host=algo-1, completed 46.666666666666664 % of epochs\u001b[0m\n",
      "\u001b[34m#metrics {\"StartTime\": 1730378988.4727798, \"EndTime\": 1730379025.535171, \"Dimensions\": {\"Algorithm\": \"Linear Learner\", \"Host\": \"algo-1\", \"Operation\": \"training\", \"epoch\": 6, \"Meta\": \"training_data_iter\"}, \"Metrics\": {\"Total Records Seen\": {\"sum\": 9171304.0, \"count\": 1, \"min\": 9171304, \"max\": 9171304}, \"Total Batches Seen\": {\"sum\": 9175.0, \"count\": 1, \"min\": 9175, \"max\": 9175}, \"Max Records Seen Between Resets\": {\"sum\": 1308472.0, \"count\": 1, \"min\": 1308472, \"max\": 1308472}, \"Max Batches Seen Between Resets\": {\"sum\": 1309.0, \"count\": 1, \"min\": 1309, \"max\": 1309}, \"Reset Count\": {\"sum\": 9.0, \"count\": 1, \"min\": 9, \"max\": 9}, \"Number of Records Since Last Reset\": {\"sum\": 1308472.0, \"count\": 1, \"min\": 1308472, \"max\": 1308472}, \"Number of Batches Since Last Reset\": {\"sum\": 1309.0, \"count\": 1, \"min\": 1309, \"max\": 1309}}}\u001b[0m\n",
      "\u001b[34m[10/31/2024 12:50:25 INFO 140292085315392] #throughput_metric: host=algo-1, train throughput=35304.475582020736 records/second\u001b[0m\n"
     ]
    }
   ],
   "source": [
    "### Fit the classifier\n",
    "# Enter your code here\n",
    "classifier_estimator.fit([train_records , val_records , test_records])"
   ]
  },
  {
   "cell_type": "markdown",
   "metadata": {},
   "source": [
    "## Model evaluation\n",
    "In this section, you will evaluate your trained model. "
   ]
  },
  {
   "cell_type": "markdown",
   "metadata": {},
   "source": [
    "First, examine the metrics for the training job:"
   ]
  },
  {
   "cell_type": "code",
   "execution_count": 63,
   "metadata": {},
   "outputs": [
    {
     "data": {
      "text/html": [
       "<div>\n",
       "<style scoped>\n",
       "    .dataframe tbody tr th:only-of-type {\n",
       "        vertical-align: middle;\n",
       "    }\n",
       "\n",
       "    .dataframe tbody tr th {\n",
       "        vertical-align: top;\n",
       "    }\n",
       "\n",
       "    .dataframe thead th {\n",
       "        text-align: right;\n",
       "    }\n",
       "</style>\n",
       "<table border=\"1\" class=\"dataframe\">\n",
       "  <thead>\n",
       "    <tr style=\"text-align: right;\">\n",
       "      <th></th>\n",
       "      <th>timestamp</th>\n",
       "      <th>metric_name</th>\n",
       "      <th>value</th>\n",
       "    </tr>\n",
       "  </thead>\n",
       "  <tbody>\n",
       "    <tr>\n",
       "      <th>0</th>\n",
       "      <td>0.0</td>\n",
       "      <td>test:objective_loss</td>\n",
       "      <td>0.023492</td>\n",
       "    </tr>\n",
       "    <tr>\n",
       "      <th>1</th>\n",
       "      <td>0.0</td>\n",
       "      <td>test:binary_f_beta</td>\n",
       "      <td>0.998967</td>\n",
       "    </tr>\n",
       "    <tr>\n",
       "      <th>2</th>\n",
       "      <td>0.0</td>\n",
       "      <td>test:precision</td>\n",
       "      <td>0.997936</td>\n",
       "    </tr>\n",
       "    <tr>\n",
       "      <th>3</th>\n",
       "      <td>0.0</td>\n",
       "      <td>test:recall</td>\n",
       "      <td>1.000000</td>\n",
       "    </tr>\n",
       "  </tbody>\n",
       "</table>\n",
       "</div>"
      ],
      "text/plain": [
       "   timestamp          metric_name     value\n",
       "0        0.0  test:objective_loss  0.023492\n",
       "1        0.0   test:binary_f_beta  0.998967\n",
       "2        0.0       test:precision  0.997936\n",
       "3        0.0          test:recall  1.000000"
      ]
     },
     "execution_count": 63,
     "metadata": {},
     "output_type": "execute_result"
    }
   ],
   "source": [
    "sagemaker.analytics.TrainingJobAnalytics(classifier_estimator._current_job_name,  # Accessing the Name of Current Trainig Job\n",
    "                                         metric_names = ['test:objective_loss', # Log Loss ( Entropy )\n",
    "                                                         'test:binary_f_beta', # F1 Score\n",
    "                                                         'test:precision',\n",
    "                                                         'test:recall']\n",
    "                                        ).dataframe() # sagemaker.analytics.TrainingJobAnalytics - Retrieve the Trainig Metrics of teh Training Job"
   ]
  },
  {
   "cell_type": "markdown",
   "metadata": {},
   "source": [
    "Next, set up some functions that will help load the test data into Amazon S3 and perform a prediction by using the batch prediction function. Using batch prediction will help reduce costs because the instances will only run when predictions are performed on the supplied test data.\n",
    "\n",
    "**Note:** Replace `<LabBucketName>` with the name of the lab bucket that was created during the lab setup."
   ]
  },
  {
   "cell_type": "code",
   "execution_count": 64,
   "metadata": {},
   "outputs": [
    {
     "name": "stderr",
     "output_type": "stream",
     "text": [
      "INFO:botocore.credentials:Found credentials from IAM Role: BaseNotebookInstanceEc2InstanceRole\n"
     ]
    }
   ],
   "source": [
    "import io\n",
    "bucket='c135545a3449936l7762545t1w64362751248-flightbucket-xdryix0ssjik'\n",
    "prefix='flight-linear'\n",
    "train_file='flight_train.csv'\n",
    "test_file='flight_test.csv'\n",
    "validate_file='flight_validate.csv'\n",
    "whole_file='flight.csv'\n",
    "s3_resource = boto3.Session().resource('s3')\n",
    "\n",
    "def upload_s3_csv(filename, folder, dataframe):\n",
    "    csv_buffer = io.StringIO()\n",
    "    dataframe.to_csv(csv_buffer, header=False, index=False )\n",
    "    s3_resource.Bucket(bucket).Object(os.path.join(prefix, folder, filename)).put(Body=csv_buffer.getvalue())"
   ]
  },
  {
   "cell_type": "code",
   "execution_count": 65,
   "metadata": {},
   "outputs": [],
   "source": [
    "def batch_linear_predict(test_data, estimator):\n",
    "    batch_X = test_data.iloc[:,1:];\n",
    "    batch_X_file='batch-in.csv'\n",
    "    upload_s3_csv(batch_X_file, 'batch-in', batch_X)\n",
    "\n",
    "    batch_output = \"s3://{}/{}/batch-out/\".format(bucket,prefix)\n",
    "    batch_input = \"s3://{}/{}/batch-in/{}\".format(bucket,prefix,batch_X_file)\n",
    "\n",
    "    classifier_transformer = estimator.transformer(instance_count=1,\n",
    "                                           instance_type='ml.m4.xlarge',\n",
    "                                           strategy='MultiRecord',\n",
    "                                           assemble_with='Line',\n",
    "                                           output_path=batch_output)\n",
    "\n",
    "    classifier_transformer.transform(data=batch_input,\n",
    "                             data_type='S3Prefix',\n",
    "                             content_type='text/csv',\n",
    "                             split_type='Line')\n",
    "    \n",
    "    classifier_transformer.wait()\n",
    "\n",
    "    s3 = boto3.client('s3')\n",
    "    obj = s3.get_object(Bucket=bucket, Key=\"{}/batch-out/{}\".format(prefix,'batch-in.csv.out')) # Retrieving Output Channel\n",
    "    target_predicted_df = pd.read_json(io.BytesIO(obj['Body'].read()),orient=\"records\",lines=True) # orient=\"records\" - Key:Value Pair ( JSON ) , lines=True - LIne by Line Object Storing\n",
    "    return test_data.iloc[:,0], target_predicted_df.iloc[:,0]"
   ]
  },
  {
   "cell_type": "markdown",
   "metadata": {},
   "source": [
    "\n",
    "To run the predictions on the test dataset, run the `batch_linear_predict` function (which was defined previously) on your test dataset.\n"
   ]
  },
  {
   "cell_type": "code",
   "execution_count": null,
   "metadata": {},
   "outputs": [
    {
     "name": "stdout",
     "output_type": "stream",
     "text": [
      ".........\u001b[34mDocker entrypoint called with argument(s): serve\u001b[0m\n",
      "\u001b[34mRunning default environment configuration script\u001b[0m\n",
      "\u001b[34m[10/31/2024 13:02:59 INFO 140500036429632] Memory profiler is not enabled by the environment variable ENABLE_PROFILER.\u001b[0m\n",
      "\u001b[34m/opt/amazon/lib/python3.8/site-packages/mxnet/model.py:97: SyntaxWarning: \"is\" with a literal. Did you mean \"==\"?\n",
      "  if num_device is 1 and 'dist' not in kvstore:\u001b[0m\n",
      "\u001b[34m/opt/amazon/lib/python3.8/site-packages/scipy/optimize/_shgo.py:495: SyntaxWarning: \"is\" with a literal. Did you mean \"==\"?\n",
      "  if cons['type'] is 'ineq':\u001b[0m\n",
      "\u001b[34m/opt/amazon/lib/python3.8/site-packages/scipy/optimize/_shgo.py:743: SyntaxWarning: \"is not\" with a literal. Did you mean \"!=\"?\n",
      "  if len(self.X_min) is not 0:\u001b[0m\n",
      "\u001b[34m[10/31/2024 13:03:04 WARNING 140500036429632] Loggers have already been setup.\u001b[0m\n",
      "\u001b[34m[10/31/2024 13:03:04 INFO 140500036429632] loaded entry point class algorithm.serve.server_config:config_api\u001b[0m\n",
      "\u001b[34m[10/31/2024 13:03:04 INFO 140500036429632] loading entry points\u001b[0m\n",
      "\u001b[34m[10/31/2024 13:03:04 INFO 140500036429632] loaded request iterator application/json\u001b[0m\n",
      "\u001b[34m[10/31/2024 13:03:04 INFO 140500036429632] loaded request iterator application/jsonlines\u001b[0m\n",
      "\u001b[34m[10/31/2024 13:03:04 INFO 140500036429632] loaded request iterator application/x-recordio-protobuf\u001b[0m\n",
      "\u001b[34m[10/31/2024 13:03:04 INFO 140500036429632] loaded request iterator text/csv\u001b[0m\n",
      "\u001b[34m[10/31/2024 13:03:04 INFO 140500036429632] loaded response encoder application/json\u001b[0m\n",
      "\u001b[34m[10/31/2024 13:03:04 INFO 140500036429632] loaded response encoder application/jsonlines\u001b[0m\n",
      "\u001b[34m[10/31/2024 13:03:04 INFO 140500036429632] loaded response encoder application/x-recordio-protobuf\u001b[0m\n",
      "\u001b[34m[10/31/2024 13:03:04 INFO 140500036429632] loaded response encoder text/csv\u001b[0m\n",
      "\u001b[34m[10/31/2024 13:03:04 INFO 140500036429632] loaded entry point class algorithm:model\u001b[0m\n",
      "\u001b[34m[10/31/2024 13:03:04 INFO 140500036429632] Number of server workers: 4\u001b[0m\n",
      "\u001b[34m[10/31/2024 13:03:04 INFO 140500036429632] loading model...\u001b[0m\n",
      "\u001b[34m[10/31/2024 13:03:04 INFO 140500036429632] ...model loaded.\u001b[0m\n",
      "\u001b[34m[2024-10-31 13:03:04 +0000] [1] [INFO] Starting gunicorn 20.1.0\u001b[0m\n",
      "\u001b[34m[2024-10-31 13:03:04 +0000] [1] [INFO] Listening at: http://0.0.0.0:8080 (1)\u001b[0m\n",
      "\u001b[34m[2024-10-31 13:03:04 +0000] [1] [INFO] Using worker: sync\u001b[0m\n",
      "\u001b[34m[2024-10-31 13:03:04 +0000] [43] [INFO] Booting worker with pid: 43\u001b[0m\n",
      "\u001b[34m[2024-10-31 13:03:04 +0000] [52] [INFO] Booting worker with pid: 52\u001b[0m\n",
      "\u001b[34m[2024-10-31 13:03:04 +0000] [61] [INFO] Booting worker with pid: 61\u001b[0m\n",
      "\u001b[34m[2024-10-31 13:03:04 +0000] [70] [INFO] Booting worker with pid: 70\u001b[0m\n",
      "\u001b[34m#metrics {\"StartTime\": 1730379784.5259354, \"EndTime\": 1730379785.1626458, \"Dimensions\": {\"Algorithm\": \"LinearLearnerModel\", \"Host\": \"UNKNOWN\", \"Operation\": \"scoring\"}, \"Metrics\": {\"execution_parameters.count\": {\"sum\": 1.0, \"count\": 1, \"min\": 1, \"max\": 1}}}\u001b[0m\n",
      "\u001b[32m2024-10-31T13:03:05.176:[sagemaker logs]: MaxConcurrentTransforms=4, MaxPayloadInMB=6, BatchStrategy=MULTI_RECORD\u001b[0m\n",
      "\u001b[34m#metrics {\"StartTime\": 1730379784.5259354, \"EndTime\": 1730379788.012518, \"Dimensions\": {\"Algorithm\": \"LinearLearnerModel\", \"Host\": \"UNKNOWN\", \"Operation\": \"scoring\"}, \"Metrics\": {\"json.encoder.time\": {\"sum\": 99.73978996276855, \"count\": 1, \"min\": 99.73978996276855, \"max\": 99.73978996276855}, \"invocations.count\": {\"sum\": 1.0, \"count\": 1, \"min\": 1, \"max\": 1}}}\u001b[0m\n",
      "\u001b[34m#metrics {\"StartTime\": 1730379784.5259354, \"EndTime\": 1730379788.1076825, \"Dimensions\": {\"Algorithm\": \"LinearLearnerModel\", \"Host\": \"UNKNOWN\", \"Operation\": \"scoring\"}, \"Metrics\": {\"json.encoder.time\": {\"sum\": 101.60470008850098, \"count\": 1, \"min\": 101.60470008850098, \"max\": 101.60470008850098}, \"invocations.count\": {\"sum\": 1.0, \"count\": 1, \"min\": 1, \"max\": 1}}}\u001b[0m\n",
      "\u001b[34m#metrics {\"StartTime\": 1730379784.5259354, \"EndTime\": 1730379788.2368574, \"Dimensions\": {\"Algorithm\": \"LinearLearnerModel\", \"Host\": \"UNKNOWN\", \"Operation\": \"scoring\"}, \"Metrics\": {\"json.encoder.time\": {\"sum\": 109.5285415649414, \"count\": 1, \"min\": 109.5285415649414, \"max\": 109.5285415649414}, \"invocations.count\": {\"sum\": 1.0, \"count\": 1, \"min\": 1, \"max\": 1}}}\u001b[0m\n",
      "\u001b[34m#metrics {\"StartTime\": 1730379785.1628304, \"EndTime\": 1730379788.26979, \"Dimensions\": {\"Algorithm\": \"LinearLearnerModel\", \"Host\": \"UNKNOWN\", \"Operation\": \"scoring\"}, \"Metrics\": {\"json.encoder.time\": {\"sum\": 113.1582260131836, \"count\": 1, \"min\": 113.1582260131836, \"max\": 113.1582260131836}, \"invocations.count\": {\"sum\": 1.0, \"count\": 1, \"min\": 1, \"max\": 1}}}\u001b[0m\n",
      "\u001b[35m#metrics {\"StartTime\": 1730379784.5259354, \"EndTime\": 1730379788.012518, \"Dimensions\": {\"Algorithm\": \"LinearLearnerModel\", \"Host\": \"UNKNOWN\", \"Operation\": \"scoring\"}, \"Metrics\": {\"json.encoder.time\": {\"sum\": 99.73978996276855, \"count\": 1, \"min\": 99.73978996276855, \"max\": 99.73978996276855}, \"invocations.count\": {\"sum\": 1.0, \"count\": 1, \"min\": 1, \"max\": 1}}}\u001b[0m\n",
      "\u001b[35m#metrics {\"StartTime\": 1730379784.5259354, \"EndTime\": 1730379788.1076825, \"Dimensions\": {\"Algorithm\": \"LinearLearnerModel\", \"Host\": \"UNKNOWN\", \"Operation\": \"scoring\"}, \"Metrics\": {\"json.encoder.time\": {\"sum\": 101.60470008850098, \"count\": 1, \"min\": 101.60470008850098, \"max\": 101.60470008850098}, \"invocations.count\": {\"sum\": 1.0, \"count\": 1, \"min\": 1, \"max\": 1}}}\u001b[0m\n",
      "\u001b[35m#metrics {\"StartTime\": 1730379784.5259354, \"EndTime\": 1730379788.2368574, \"Dimensions\": {\"Algorithm\": \"LinearLearnerModel\", \"Host\": \"UNKNOWN\", \"Operation\": \"scoring\"}, \"Metrics\": {\"json.encoder.time\": {\"sum\": 109.5285415649414, \"count\": 1, \"min\": 109.5285415649414, \"max\": 109.5285415649414}, \"invocations.count\": {\"sum\": 1.0, \"count\": 1, \"min\": 1, \"max\": 1}}}\u001b[0m\n",
      "\u001b[35m#metrics {\"StartTime\": 1730379785.1628304, \"EndTime\": 1730379788.26979, \"Dimensions\": {\"Algorithm\": \"LinearLearnerModel\", \"Host\": \"UNKNOWN\", \"Operation\": \"scoring\"}, \"Metrics\": {\"json.encoder.time\": {\"sum\": 113.1582260131836, \"count\": 1, \"min\": 113.1582260131836, \"max\": 113.1582260131836}, \"invocations.count\": {\"sum\": 1.0, \"count\": 1, \"min\": 1, \"max\": 1}}}\u001b[0m\n",
      "\u001b[34m#metrics {\"StartTime\": 1730379788.0126715, \"EndTime\": 1730379788.9950578, \"Dimensions\": {\"Algorithm\": \"LinearLearnerModel\", \"Host\": \"UNKNOWN\", \"Operation\": \"scoring\"}, \"Metrics\": {\"json.encoder.time\": {\"sum\": 51.93185806274414, \"count\": 1, \"min\": 51.93185806274414, \"max\": 51.93185806274414}, \"invocations.count\": {\"sum\": 1.0, \"count\": 1, \"min\": 1, \"max\": 1}}}\u001b[0m\n",
      "\u001b[35m#metrics {\"StartTime\": 1730379788.0126715, \"EndTime\": 1730379788.9950578, \"Dimensions\": {\"Algorithm\": \"LinearLearnerModel\", \"Host\": \"UNKNOWN\", \"Operation\": \"scoring\"}, \"Metrics\": {\"json.encoder.time\": {\"sum\": 51.93185806274414, \"count\": 1, \"min\": 51.93185806274414, \"max\": 51.93185806274414}, \"invocations.count\": {\"sum\": 1.0, \"count\": 1, \"min\": 1, \"max\": 1}}}\u001b[0m\n",
      "\u001b[34m#metrics {\"StartTime\": 1730379788.237034, \"EndTime\": 1730379789.2081492, \"Dimensions\": {\"Algorithm\": \"LinearLearnerModel\", \"Host\": \"UNKNOWN\", \"Operation\": \"scoring\"}, \"Metrics\": {\"json.encoder.time\": {\"sum\": 46.43869400024414, \"count\": 1, \"min\": 46.43869400024414, \"max\": 46.43869400024414}, \"invocations.count\": {\"sum\": 1.0, \"count\": 1, \"min\": 1, \"max\": 1}}}\u001b[0m\n",
      "\u001b[34m#metrics {\"StartTime\": 1730379788.1078606, \"EndTime\": 1730379789.355912, \"Dimensions\": {\"Algorithm\": \"LinearLearnerModel\", \"Host\": \"UNKNOWN\", \"Operation\": \"scoring\"}, \"Metrics\": {\"json.encoder.time\": {\"sum\": 50.54283142089844, \"count\": 1, \"min\": 50.54283142089844, \"max\": 50.54283142089844}, \"invocations.count\": {\"sum\": 1.0, \"count\": 1, \"min\": 1, \"max\": 1}}}\u001b[0m\n",
      "\u001b[35m#metrics {\"StartTime\": 1730379788.237034, \"EndTime\": 1730379789.2081492, \"Dimensions\": {\"Algorithm\": \"LinearLearnerModel\", \"Host\": \"UNKNOWN\", \"Operation\": \"scoring\"}, \"Metrics\": {\"json.encoder.time\": {\"sum\": 46.43869400024414, \"count\": 1, \"min\": 46.43869400024414, \"max\": 46.43869400024414}, \"invocations.count\": {\"sum\": 1.0, \"count\": 1, \"min\": 1, \"max\": 1}}}\u001b[0m\n",
      "\u001b[35m#metrics {\"StartTime\": 1730379788.1078606, \"EndTime\": 1730379789.355912, \"Dimensions\": {\"Algorithm\": \"LinearLearnerModel\", \"Host\": \"UNKNOWN\", \"Operation\": \"scoring\"}, \"Metrics\": {\"json.encoder.time\": {\"sum\": 50.54283142089844, \"count\": 1, \"min\": 50.54283142089844, \"max\": 50.54283142089844}, \"invocations.count\": {\"sum\": 1.0, \"count\": 1, \"min\": 1, \"max\": 1}}}\u001b[0m\n",
      "\n",
      "\u001b[34mDocker entrypoint called with argument(s): serve\u001b[0m\n",
      "\u001b[34mRunning default environment configuration script\u001b[0m\n",
      "\u001b[34m[10/31/2024 13:02:59 INFO 140500036429632] Memory profiler is not enabled by the environment variable ENABLE_PROFILER.\u001b[0m\n",
      "\u001b[34m/opt/amazon/lib/python3.8/site-packages/mxnet/model.py:97: SyntaxWarning: \"is\" with a literal. Did you mean \"==\"?\n",
      "  if num_device is 1 and 'dist' not in kvstore:\u001b[0m\n",
      "\u001b[34m/opt/amazon/lib/python3.8/site-packages/scipy/optimize/_shgo.py:495: SyntaxWarning: \"is\" with a literal. Did you mean \"==\"?\n",
      "  if cons['type'] is 'ineq':\u001b[0m\n",
      "\u001b[34m/opt/amazon/lib/python3.8/site-packages/scipy/optimize/_shgo.py:743: SyntaxWarning: \"is not\" with a literal. Did you mean \"!=\"?\n",
      "  if len(self.X_min) is not 0:\u001b[0m\n",
      "\u001b[35mDocker entrypoint called with argument(s): serve\u001b[0m\n",
      "\u001b[35mRunning default environment configuration script\u001b[0m\n",
      "\u001b[35m[10/31/2024 13:02:59 INFO 140500036429632] Memory profiler is not enabled by the environment variable ENABLE_PROFILER.\u001b[0m\n",
      "\u001b[35m/opt/amazon/lib/python3.8/site-packages/mxnet/model.py:97: SyntaxWarning: \"is\" with a literal. Did you mean \"==\"?\n",
      "  if num_device is 1 and 'dist' not in kvstore:\u001b[0m\n",
      "\u001b[35m/opt/amazon/lib/python3.8/site-packages/scipy/optimize/_shgo.py:495: SyntaxWarning: \"is\" with a literal. Did you mean \"==\"?\n",
      "  if cons['type'] is 'ineq':\u001b[0m\n",
      "\u001b[35m/opt/amazon/lib/python3.8/site-packages/scipy/optimize/_shgo.py:743: SyntaxWarning: \"is not\" with a literal. Did you mean \"!=\"?\n",
      "  if len(self.X_min) is not 0:\u001b[0m\n",
      "\u001b[34m[10/31/2024 13:03:04 WARNING 140500036429632] Loggers have already been setup.\u001b[0m\n",
      "\u001b[34m[10/31/2024 13:03:04 INFO 140500036429632] loaded entry point class algorithm.serve.server_config:config_api\u001b[0m\n",
      "\u001b[34m[10/31/2024 13:03:04 INFO 140500036429632] loading entry points\u001b[0m\n",
      "\u001b[34m[10/31/2024 13:03:04 INFO 140500036429632] loaded request iterator application/json\u001b[0m\n",
      "\u001b[35m[10/31/2024 13:03:04 WARNING 140500036429632] Loggers have already been setup.\u001b[0m\n",
      "\u001b[35m[10/31/2024 13:03:04 INFO 140500036429632] loaded entry point class algorithm.serve.server_config:config_api\u001b[0m\n",
      "\u001b[35m[10/31/2024 13:03:04 INFO 140500036429632] loading entry points\u001b[0m\n",
      "\u001b[35m[10/31/2024 13:03:04 INFO 140500036429632] loaded request iterator application/json\u001b[0m\n",
      "\u001b[34m[10/31/2024 13:03:04 INFO 140500036429632] loaded request iterator application/jsonlines\u001b[0m\n",
      "\u001b[34m[10/31/2024 13:03:04 INFO 140500036429632] loaded request iterator application/x-recordio-protobuf\u001b[0m\n",
      "\u001b[34m[10/31/2024 13:03:04 INFO 140500036429632] loaded request iterator text/csv\u001b[0m\n",
      "\u001b[34m[10/31/2024 13:03:04 INFO 140500036429632] loaded response encoder application/json\u001b[0m\n",
      "\u001b[34m[10/31/2024 13:03:04 INFO 140500036429632] loaded response encoder application/jsonlines\u001b[0m\n",
      "\u001b[34m[10/31/2024 13:03:04 INFO 140500036429632] loaded response encoder application/x-recordio-protobuf\u001b[0m\n",
      "\u001b[34m[10/31/2024 13:03:04 INFO 140500036429632] loaded response encoder text/csv\u001b[0m\n",
      "\u001b[34m[10/31/2024 13:03:04 INFO 140500036429632] loaded entry point class algorithm:model\u001b[0m\n",
      "\u001b[34m[10/31/2024 13:03:04 INFO 140500036429632] Number of server workers: 4\u001b[0m\n",
      "\u001b[34m[10/31/2024 13:03:04 INFO 140500036429632] loading model...\u001b[0m\n",
      "\u001b[34m[10/31/2024 13:03:04 INFO 140500036429632] ...model loaded.\u001b[0m\n",
      "\u001b[34m[2024-10-31 13:03:04 +0000] [1] [INFO] Starting gunicorn 20.1.0\u001b[0m\n",
      "\u001b[34m[2024-10-31 13:03:04 +0000] [1] [INFO] Listening at: http://0.0.0.0:8080 (1)\u001b[0m\n",
      "\u001b[34m[2024-10-31 13:03:04 +0000] [1] [INFO] Using worker: sync\u001b[0m\n",
      "\u001b[34m[2024-10-31 13:03:04 +0000] [43] [INFO] Booting worker with pid: 43\u001b[0m\n",
      "\u001b[34m[2024-10-31 13:03:04 +0000] [52] [INFO] Booting worker with pid: 52\u001b[0m\n",
      "\u001b[34m[2024-10-31 13:03:04 +0000] [61] [INFO] Booting worker with pid: 61\u001b[0m\n",
      "\u001b[34m[2024-10-31 13:03:04 +0000] [70] [INFO] Booting worker with pid: 70\u001b[0m\n",
      "\u001b[35m[10/31/2024 13:03:04 INFO 140500036429632] loaded request iterator application/jsonlines\u001b[0m\n",
      "\u001b[35m[10/31/2024 13:03:04 INFO 140500036429632] loaded request iterator application/x-recordio-protobuf\u001b[0m\n",
      "\u001b[35m[10/31/2024 13:03:04 INFO 140500036429632] loaded request iterator text/csv\u001b[0m\n",
      "\u001b[35m[10/31/2024 13:03:04 INFO 140500036429632] loaded response encoder application/json\u001b[0m\n",
      "\u001b[35m[10/31/2024 13:03:04 INFO 140500036429632] loaded response encoder application/jsonlines\u001b[0m\n",
      "\u001b[35m[10/31/2024 13:03:04 INFO 140500036429632] loaded response encoder application/x-recordio-protobuf\u001b[0m\n",
      "\u001b[35m[10/31/2024 13:03:04 INFO 140500036429632] loaded response encoder text/csv\u001b[0m\n",
      "\u001b[35m[10/31/2024 13:03:04 INFO 140500036429632] loaded entry point class algorithm:model\u001b[0m\n",
      "\u001b[35m[10/31/2024 13:03:04 INFO 140500036429632] Number of server workers: 4\u001b[0m\n",
      "\u001b[35m[10/31/2024 13:03:04 INFO 140500036429632] loading model...\u001b[0m\n",
      "\u001b[35m[10/31/2024 13:03:04 INFO 140500036429632] ...model loaded.\u001b[0m\n",
      "\u001b[35m[2024-10-31 13:03:04 +0000] [1] [INFO] Starting gunicorn 20.1.0\u001b[0m\n",
      "\u001b[35m[2024-10-31 13:03:04 +0000] [1] [INFO] Listening at: http://0.0.0.0:8080 (1)\u001b[0m\n",
      "\u001b[35m[2024-10-31 13:03:04 +0000] [1] [INFO] Using worker: sync\u001b[0m\n",
      "\u001b[35m[2024-10-31 13:03:04 +0000] [43] [INFO] Booting worker with pid: 43\u001b[0m\n",
      "\u001b[35m[2024-10-31 13:03:04 +0000] [52] [INFO] Booting worker with pid: 52\u001b[0m\n",
      "\u001b[35m[2024-10-31 13:03:04 +0000] [61] [INFO] Booting worker with pid: 61\u001b[0m\n",
      "\u001b[35m[2024-10-31 13:03:04 +0000] [70] [INFO] Booting worker with pid: 70\u001b[0m\n",
      "\u001b[34m#metrics {\"StartTime\": 1730379784.5259354, \"EndTime\": 1730379785.1626458, \"Dimensions\": {\"Algorithm\": \"LinearLearnerModel\", \"Host\": \"UNKNOWN\", \"Operation\": \"scoring\"}, \"Metrics\": {\"execution_parameters.count\": {\"sum\": 1.0, \"count\": 1, \"min\": 1, \"max\": 1}}}\u001b[0m\n",
      "\u001b[35m#metrics {\"StartTime\": 1730379784.5259354, \"EndTime\": 1730379785.1626458, \"Dimensions\": {\"Algorithm\": \"LinearLearnerModel\", \"Host\": \"UNKNOWN\", \"Operation\": \"scoring\"}, \"Metrics\": {\"execution_parameters.count\": {\"sum\": 1.0, \"count\": 1, \"min\": 1, \"max\": 1}}}\u001b[0m\n",
      "\u001b[32m2024-10-31T13:03:05.176:[sagemaker logs]: MaxConcurrentTransforms=4, MaxPayloadInMB=6, BatchStrategy=MULTI_RECORD\u001b[0m\n",
      "\u001b[34m#metrics {\"StartTime\": 1730379784.5259354, \"EndTime\": 1730379788.012518, \"Dimensions\": {\"Algorithm\": \"LinearLearnerModel\", \"Host\": \"UNKNOWN\", \"Operation\": \"scoring\"}, \"Metrics\": {\"json.encoder.time\": {\"sum\": 99.73978996276855, \"count\": 1, \"min\": 99.73978996276855, \"max\": 99.73978996276855}, \"invocations.count\": {\"sum\": 1.0, \"count\": 1, \"min\": 1, \"max\": 1}}}\u001b[0m\n",
      "\u001b[34m#metrics {\"StartTime\": 1730379784.5259354, \"EndTime\": 1730379788.1076825, \"Dimensions\": {\"Algorithm\": \"LinearLearnerModel\", \"Host\": \"UNKNOWN\", \"Operation\": \"scoring\"}, \"Metrics\": {\"json.encoder.time\": {\"sum\": 101.60470008850098, \"count\": 1, \"min\": 101.60470008850098, \"max\": 101.60470008850098}, \"invocations.count\": {\"sum\": 1.0, \"count\": 1, \"min\": 1, \"max\": 1}}}\u001b[0m\n",
      "\u001b[34m#metrics {\"StartTime\": 1730379784.5259354, \"EndTime\": 1730379788.2368574, \"Dimensions\": {\"Algorithm\": \"LinearLearnerModel\", \"Host\": \"UNKNOWN\", \"Operation\": \"scoring\"}, \"Metrics\": {\"json.encoder.time\": {\"sum\": 109.5285415649414, \"count\": 1, \"min\": 109.5285415649414, \"max\": 109.5285415649414}, \"invocations.count\": {\"sum\": 1.0, \"count\": 1, \"min\": 1, \"max\": 1}}}\u001b[0m\n",
      "\u001b[34m#metrics {\"StartTime\": 1730379785.1628304, \"EndTime\": 1730379788.26979, \"Dimensions\": {\"Algorithm\": \"LinearLearnerModel\", \"Host\": \"UNKNOWN\", \"Operation\": \"scoring\"}, \"Metrics\": {\"json.encoder.time\": {\"sum\": 113.1582260131836, \"count\": 1, \"min\": 113.1582260131836, \"max\": 113.1582260131836}, \"invocations.count\": {\"sum\": 1.0, \"count\": 1, \"min\": 1, \"max\": 1}}}\u001b[0m\n",
      "\u001b[35m#metrics {\"StartTime\": 1730379784.5259354, \"EndTime\": 1730379788.012518, \"Dimensions\": {\"Algorithm\": \"LinearLearnerModel\", \"Host\": \"UNKNOWN\", \"Operation\": \"scoring\"}, \"Metrics\": {\"json.encoder.time\": {\"sum\": 99.73978996276855, \"count\": 1, \"min\": 99.73978996276855, \"max\": 99.73978996276855}, \"invocations.count\": {\"sum\": 1.0, \"count\": 1, \"min\": 1, \"max\": 1}}}\u001b[0m\n",
      "\u001b[35m#metrics {\"StartTime\": 1730379784.5259354, \"EndTime\": 1730379788.1076825, \"Dimensions\": {\"Algorithm\": \"LinearLearnerModel\", \"Host\": \"UNKNOWN\", \"Operation\": \"scoring\"}, \"Metrics\": {\"json.encoder.time\": {\"sum\": 101.60470008850098, \"count\": 1, \"min\": 101.60470008850098, \"max\": 101.60470008850098}, \"invocations.count\": {\"sum\": 1.0, \"count\": 1, \"min\": 1, \"max\": 1}}}\u001b[0m\n",
      "\u001b[35m#metrics {\"StartTime\": 1730379784.5259354, \"EndTime\": 1730379788.2368574, \"Dimensions\": {\"Algorithm\": \"LinearLearnerModel\", \"Host\": \"UNKNOWN\", \"Operation\": \"scoring\"}, \"Metrics\": {\"json.encoder.time\": {\"sum\": 109.5285415649414, \"count\": 1, \"min\": 109.5285415649414, \"max\": 109.5285415649414}, \"invocations.count\": {\"sum\": 1.0, \"count\": 1, \"min\": 1, \"max\": 1}}}\u001b[0m\n",
      "\u001b[35m#metrics {\"StartTime\": 1730379785.1628304, \"EndTime\": 1730379788.26979, \"Dimensions\": {\"Algorithm\": \"LinearLearnerModel\", \"Host\": \"UNKNOWN\", \"Operation\": \"scoring\"}, \"Metrics\": {\"json.encoder.time\": {\"sum\": 113.1582260131836, \"count\": 1, \"min\": 113.1582260131836, \"max\": 113.1582260131836}, \"invocations.count\": {\"sum\": 1.0, \"count\": 1, \"min\": 1, \"max\": 1}}}\u001b[0m\n",
      "\u001b[34m#metrics {\"StartTime\": 1730379788.0126715, \"EndTime\": 1730379788.9950578, \"Dimensions\": {\"Algorithm\": \"LinearLearnerModel\", \"Host\": \"UNKNOWN\", \"Operation\": \"scoring\"}, \"Metrics\": {\"json.encoder.time\": {\"sum\": 51.93185806274414, \"count\": 1, \"min\": 51.93185806274414, \"max\": 51.93185806274414}, \"invocations.count\": {\"sum\": 1.0, \"count\": 1, \"min\": 1, \"max\": 1}}}\u001b[0m\n",
      "\u001b[35m#metrics {\"StartTime\": 1730379788.0126715, \"EndTime\": 1730379788.9950578, \"Dimensions\": {\"Algorithm\": \"LinearLearnerModel\", \"Host\": \"UNKNOWN\", \"Operation\": \"scoring\"}, \"Metrics\": {\"json.encoder.time\": {\"sum\": 51.93185806274414, \"count\": 1, \"min\": 51.93185806274414, \"max\": 51.93185806274414}, \"invocations.count\": {\"sum\": 1.0, \"count\": 1, \"min\": 1, \"max\": 1}}}\u001b[0m\n",
      "\u001b[34m#metrics {\"StartTime\": 1730379788.237034, \"EndTime\": 1730379789.2081492, \"Dimensions\": {\"Algorithm\": \"LinearLearnerModel\", \"Host\": \"UNKNOWN\", \"Operation\": \"scoring\"}, \"Metrics\": {\"json.encoder.time\": {\"sum\": 46.43869400024414, \"count\": 1, \"min\": 46.43869400024414, \"max\": 46.43869400024414}, \"invocations.count\": {\"sum\": 1.0, \"count\": 1, \"min\": 1, \"max\": 1}}}\u001b[0m\n",
      "\u001b[34m#metrics {\"StartTime\": 1730379788.1078606, \"EndTime\": 1730379789.355912, \"Dimensions\": {\"Algorithm\": \"LinearLearnerModel\", \"Host\": \"UNKNOWN\", \"Operation\": \"scoring\"}, \"Metrics\": {\"json.encoder.time\": {\"sum\": 50.54283142089844, \"count\": 1, \"min\": 50.54283142089844, \"max\": 50.54283142089844}, \"invocations.count\": {\"sum\": 1.0, \"count\": 1, \"min\": 1, \"max\": 1}}}\u001b[0m\n",
      "\u001b[35m#metrics {\"StartTime\": 1730379788.237034, \"EndTime\": 1730379789.2081492, \"Dimensions\": {\"Algorithm\": \"LinearLearnerModel\", \"Host\": \"UNKNOWN\", \"Operation\": \"scoring\"}, \"Metrics\": {\"json.encoder.time\": {\"sum\": 46.43869400024414, \"count\": 1, \"min\": 46.43869400024414, \"max\": 46.43869400024414}, \"invocations.count\": {\"sum\": 1.0, \"count\": 1, \"min\": 1, \"max\": 1}}}\u001b[0m\n",
      "\u001b[35m#metrics {\"StartTime\": 1730379788.1078606, \"EndTime\": 1730379789.355912, \"Dimensions\": {\"Algorithm\": \"LinearLearnerModel\", \"Host\": \"UNKNOWN\", \"Operation\": \"scoring\"}, \"Metrics\": {\"json.encoder.time\": {\"sum\": 50.54283142089844, \"count\": 1, \"min\": 50.54283142089844, \"max\": 50.54283142089844}, \"invocations.count\": {\"sum\": 1.0, \"count\": 1, \"min\": 1, \"max\": 1}}}\u001b[0m\n"
     ]
    }
   ],
   "source": [
    "test_labels, target_predicted = batch_linear_predict(test, classifier_estimator)"
   ]
  },
  {
   "cell_type": "markdown",
   "metadata": {},
   "source": [
    "To view a plot of the confusion matrix, and various scoring metrics, create a couple of functions:"
   ]
  },
  {
   "cell_type": "code",
   "execution_count": null,
   "metadata": {},
   "outputs": [],
   "source": [
    "from sklearn.metrics import confusion_matrix\n",
    "\n",
    "def plot_confusion_matrix(test_labels, target_predicted):\n",
    "    matrix = confusion_matrix(test_labels, target_predicted)\n",
    "    df_confusion = pd.DataFrame(matrix)\n",
    "    colormap = sns.color_palette(\"BrBG\", 10)\n",
    "    sns.heatmap(df_confusion, annot=True, fmt='.2f', cbar=None, cmap=colormap)\n",
    "    plt.title(\"Confusion Matrix\")\n",
    "    plt.tight_layout()\n",
    "    plt.ylabel(\"True Class\")\n",
    "    plt.xlabel(\"Predicted Class\")\n",
    "    plt.show()"
   ]
  },
  {
   "cell_type": "code",
   "execution_count": null,
   "metadata": {},
   "outputs": [
    {
     "data": {
      "image/png": "[encoded data removed]",
      "text/plain": [
       "<Figure size 640x480 with 1 Axes>"
      ]
     },
     "metadata": {},
     "output_type": "display_data"
    }
   ],
   "source": [
    "plot_confusion_matrix(test_labels, target_predicted)"
   ]
  },
  {
   "cell_type": "code",
   "execution_count": null,
   "metadata": {},
   "outputs": [],
   "source": [
    "from sklearn import metrics\n",
    "from sklearn.metrics import roc_curve , auc\n",
    "def plot_roc(test_labels, target_predicted):\n",
    "    TN, FP, FN, TP = confusion_matrix(test_labels, target_predicted).ravel()\n",
    "    # Sensitivity, hit rate, recall, or true positive rate\n",
    "    Sensitivity  = float(TP)/(TP+FN)*100\n",
    "    # Specificity or true negative rate\n",
    "    Specificity  = float(TN)/(TN+FP)*100\n",
    "    # Precision or positive predictive value\n",
    "    Precision = float(TP)/(TP+FP)*100\n",
    "    # Negative predictive value\n",
    "    NPV = float(TN)/(TN+FN)*100\n",
    "    # Fall out or false positive rate\n",
    "    FPR = float(FP)/(FP+TN)*100\n",
    "    # False negative rate\n",
    "    FNR = float(FN)/(TP+FN)*100\n",
    "    # False discovery rate\n",
    "    FDR = float(FP)/(TP+FP)*100\n",
    "    # Overall accuracy\n",
    "    ACC = float(TP+TN)/(TP+FP+FN+TN)*100\n",
    "\n",
    "    print(\"Sensitivity or TPR: \", Sensitivity, \"%\") \n",
    "    print( \"Specificity or TNR: \",Specificity, \"%\") \n",
    "    print(\"Precision: \",Precision, \"%\") \n",
    "    print(\"Negative Predictive Value: \",NPV, \"%\") \n",
    "    print( \"False Positive Rate: \",FPR,\"%\")\n",
    "    print(\"False Negative Rate: \",FNR, \"%\") \n",
    "    print(\"False Discovery Rate: \",FDR, \"%\" )\n",
    "    print(\"Accuracy: \",ACC, \"%\") \n",
    "\n",
    "    fpr, tpr, thresholds = roc_curve(test_labels, target_predicted)\n",
    "    finite_indices = np.isfinite(thresholds) # Taking Only Finite Thresholds\n",
    "    fpr_finite = fpr[finite_indices] # Filtering FPR that Satisfy Finite Thresholds\n",
    "    tpr_finite = tpr[finite_indices] # Filtering TPR that Satisfy Finite Thresholds\n",
    "    thresholds_finite = thresholds[finite_indices] # Filtering Only Finite Thresholds\n",
    "    \n",
    "    test_labels = test.iloc[:,0];\n",
    "    print(\"Validation AUC\", metrics.roc_auc_score(test_labels, target_predicted) )\n",
    "    \n",
    "    plt.figure() # Create a New Figure\n",
    "    plt.plot(fpr_finite, tpr_finite, label='ROC curve (area = %0.2f)' % auc(fpr_finite, tpr_finite))\n",
    "    plt.plot([0, 1], [0, 1], 'k--')  # Dashed diagonal\n",
    "    plt.xlim([0.0, 1.0])\n",
    "    plt.ylim([0.0, 1.05])\n",
    "    plt.xlabel('False Positive Rate')\n",
    "    plt.ylabel('True Positive Rate')\n",
    "    plt.title('Receiver operating characteristic')\n",
    "    plt.legend(loc=\"lower right\")\n",
    "\n",
    "    roc_auc = auc(fpr, tpr)\n",
    "\n",
    "    if thresholds_finite.size > 0: # Check Filtered Threshold is Empty or Not\n",
    "        ax2 = plt.gca().twinx() # .gca() - Get the Current Axes , .twinx() - Shares the Same X Axes\n",
    "        ax2.plot(fpr_finite, thresholds_finite, markeredgecolor='r', linestyle='dashed', color='r')\n",
    "        ax2.set_ylabel('Threshold', color='r')\n",
    "        ax2.set_ylim([thresholds_finite[-1], thresholds_finite[0]])\n",
    "        ax2.set_xlim([fpr_finite[0], fpr_finite[-1]])\n",
    "\n",
    "    plt.show()"
   ]
  },
  {
   "cell_type": "markdown",
   "metadata": {},
   "source": [
    "To plot the confusion matrix, call the `plot_confusion_matrix` function on the `test_labels` and the `target_predicted` data from your batch job:"
   ]
  },
  {
   "cell_type": "code",
   "execution_count": null,
   "metadata": {},
   "outputs": [
    {
     "name": "stdout",
     "output_type": "stream",
     "text": [
      "Sensitivity or TPR:  100.0 %\n",
      "Specificity or TNR:  99.9450574961695 %\n",
      "Precision:  99.79362864783164 %\n",
      "Negative Predictive Value:  100.0 %\n",
      "False Positive Rate:  0.0549425038304985 %\n",
      "False Negative Rate:  0.0 %\n",
      "False Discovery Rate:  0.20637135216835253 %\n",
      "Accuracy:  99.95659058810583 %\n",
      "Validation AUC 0.9997252874808474\n"
     ]
    },
    {
     "data": {
      "image/png": "[encoded data removed]",
      "text/plain": [
       "<Figure size 640x480 with 2 Axes>"
      ]
     },
     "metadata": {},
     "output_type": "display_data"
    }
   ],
   "source": [
    "# Enter your code here\n",
    "plot_roc(test_labels, target_predicted)"
   ]
  },
  {
   "cell_type": "markdown",
   "metadata": {},
   "source": [
    "### Key questions to consider:\n",
    "\n",
    "1. How does your model's performance on the test set compare to its performance on the training set? What can you deduce from this comparison? \n",
    "2. Are there obvious differences between the outcomes of metrics like accuracy, precision, and recall? If so, why might you be seeing those differences? \n",
    "3. Given your business situation and goals, which metric (or metrics) is the most important for you to consider? Why?\n",
    "4. From a business standpoint, is the outcome for the metric (or metrics) that you consider to be the most important sufficient for what you need? If not, what are some things you might change in your next iteration? (This will happen in the feature engineering section, which is next.)\n",
    "\n",
    "Use the following cells to answer these (and other) questions. Insert and delete cells where needed.\n",
    "\n",
    "#### <span style=\"color: blue;\">Project presentation: In your project presentation, write down your answers to these questions -- and other similar questions that you might answer -- in this section. Record the key details and decisions that you made.</span>"
   ]
  },
  {
   "cell_type": "markdown",
   "metadata": {},
   "source": [
    "\n",
    "**Question**: What can you summarize from the confusion matrix?\n"
   ]
  },
  {
   "cell_type": "markdown",
   "metadata": {},
   "source": [
    "# Enter your answer here\n",
    "* Confusion Matrix Shows that Model is Performing Very Good\n",
    "* It occurs due to Imbalance in Class Data in Flight Delay Dataset\n",
    "* Model Performs Almost 100% Accuarcy due to Imbalanced Classes"
   ]
  },
  {
   "cell_type": "markdown",
   "metadata": {},
   "source": [
    "## <span style=\"color:red\"> End of Step 3 </span>\n",
    "\n",
    "Save the project file to your local computer. Follow these steps:\n",
    "\n",
    "1. In the file explorer on the left, right-click the notebook that you're working on. \n",
    "\n",
    "2. Select **Download**, and save the file locally.  \n",
    "\n",
    "This action downloads the current notebook to the default download folder on your computer."
   ]
  },
  {
   "cell_type": "markdown",
   "metadata": {},
   "source": [
    "# Iteration II"
   ]
  },
  {
   "cell_type": "markdown",
   "metadata": {},
   "source": [
    "# Step 4: Feature engineering\n",
    "\n",
    "You have now gone through one iteration of training and evaluating your model. Given that the first outcome that you reached for your model probably wasn't sufficient for solving your business problem, what could you change about your data to possibly improve model performance?\n",
    "\n",
    "### Key questions to consider:\n",
    "\n",
    "1. How might the balance of your two main classes (*delay* and *no delay*) impact model performance?\n",
    "2. Do you have any features that are correlated?\n",
    "3. At this stage, could you perform any feature-reduction techniques that might have a positive impact on model performance? \n",
    "4. Can you think of adding some more data or datasets?\n",
    "5. After performing some feature engineering, how does the performance of your model compare to the first iteration?\n",
    "\n",
    "Use the following cells to perform specific feature-engineering techniques that you think could improve your model performance (use the previous questions as a guide). Insert and delete cells where needed.\n",
    "\n",
    "#### <span style=\"color: blue;\">Project presentation: In your project presentation, record your key decisions and the methods that you use in this section. Also include any new performance metrics that you obtain after you evaluate your model again.</span>\n",
    "\n",
    "Before you start, think about why the precision and recall are around 80 percent, and the accuracy is at 99 percent."
   ]
  },
  {
   "cell_type": "markdown",
   "metadata": {},
   "source": [
    "Add more features:\n",
    "\n",
    "1. Holidays\n",
    "2. Weather"
   ]
  },
  {
   "cell_type": "markdown",
   "metadata": {},
   "source": [
    "Because the list of holidays from 2014 to 2018 is known, you can create an indicator variable **is_holiday** to mark them.\n",
    "\n",
    "The hypothesis is that airplane delays could be higher during holidays compared to the rest of the days. Add a boolean variable `is_holiday` that includes the holidays for the years 2014-2018."
   ]
  },
  {
   "cell_type": "code",
   "execution_count": 66,
   "metadata": {},
   "outputs": [],
   "source": [
    "# Source: http://www.calendarpedia.com/holidays/federal-holidays-2014.html\n",
    "\n",
    "holidays_14 = ['2014-01-01',  '2014-01-20', '2014-02-17', '2014-05-26', '2014-07-04', '2014-09-01', '2014-10-13', '2014-11-11', '2014-11-27', '2014-12-25' ] \n",
    "holidays_15 = ['2015-01-01',  '2015-01-19', '2015-02-16', '2015-05-25', '2015-06-03', '2015-07-04', '2015-09-07', '2015-10-12', '2015-11-11', '2015-11-26', '2015-12-25'] \n",
    "holidays_16 = ['2016-01-01',  '2016-01-18', '2016-02-15', '2016-05-30', '2016-07-04', '2016-09-05', '2016-10-10', '2016-11-11', '2016-11-24', '2016-12-25', '2016-12-26']\n",
    "holidays_17 = ['2017-01-02', '2017-01-16', '2017-02-20', '2017-05-29' , '2017-07-04', '2017-09-04' ,'2017-10-09', '2017-11-10', '2017-11-23', '2017-12-25']\n",
    "holidays_18 = ['2018-01-01', '2018-01-15', '2018-02-19', '2018-05-28' , '2018-07-04', '2018-09-03' ,'2018-10-08', '2018-11-12','2018-11-22', '2018-12-25']\n",
    "holidays = holidays_14+ holidays_15+ holidays_16 + holidays_17+ holidays_18\n",
    "\n",
    "### Add indicator variable for holidays\n",
    "data_orig['is_holiday'] = data_orig[\"FlightDate\"].isin(holidays)"
   ]
  },
  {
   "cell_type": "code",
   "execution_count": 67,
   "metadata": {},
   "outputs": [],
   "source": [
    "data_orig[\"is_holiday\"]=data_orig[\"is_holiday\"].astype(int)"
   ]
  },
  {
   "cell_type": "markdown",
   "metadata": {},
   "source": [
    "Weather data was fetched from https://www.ncei.noaa.gov/access/services/data/v1?dataset=daily-summaries&stations=USW00023174,USW00012960,USW00003017,USW00094846,USW00013874,USW00023234,USW00003927,USW00023183,USW00013881&dataTypes=AWND,PRCP,SNOW,SNWD,TAVG,TMIN,TMAX&startDate=2014-01-01&endDate=2018-12-31.\n",
    "<br>\n",
    "\n",
    "This dataset has information on wind speed, precipitation, snow, and temperature for cities by their airport codes.\n",
    "\n",
    "**Question**: Could bad weather because of rain, heavy winds, or snow lead to airplane delays? You will now check."
   ]
  },
  {
   "cell_type": "code",
   "execution_count": 68,
   "metadata": {},
   "outputs": [
    {
     "name": "stdout",
     "output_type": "stream",
     "text": [
      "download: s3://aws-tc-largeobjects/CUR-TF-200-ACMLFO-1/flight_delay_project/data2/daily-summaries.csv to project/data/daily-summaries.csv\n",
      "--2024-10-31 13:05:06--  https://www.ncei.noaa.gov/access/services/data/v1?dataset=daily-summaries&stations=USW00023174,USW00012960,USW00003017,USW00094846,USW00013874,USW00023234,USW00003927,USW00023183,USW00013881&dataTypes=AWND,PRCP,SNOW,SNWD,TAVG,TMIN,TMAX&startDate=2014-01-01&endDate=2018-12-31\n",
      "Resolving www.ncei.noaa.gov (www.ncei.noaa.gov)... 205.167.25.178, 205.167.25.167, 205.167.25.168, ...\n",
      "Connecting to www.ncei.noaa.gov (www.ncei.noaa.gov)|205.167.25.178|:443... connected.\n",
      "HTTP request sent, awaiting response... 200 \n",
      "Length: unspecified [text/csv]\n",
      "Saving to: ‘/home/ec2-user/SageMaker/project/data/daily-summaries.csv’\n",
      "\n",
      "    [         <=>                           ] 1,286,682    485KB/s   in 2.6s   \n",
      "\n",
      "2024-10-31 13:05:09 (485 KB/s) - ‘/home/ec2-user/SageMaker/project/data/daily-summaries.csv’ saved [1286682]\n",
      "\n"
     ]
    }
   ],
   "source": [
    "!aws s3 cp s3://aws-tc-largeobjects/CUR-TF-200-ACMLFO-1/flight_delay_project/data2/daily-summaries.csv /home/ec2-user/SageMaker/project/data/ # Copy daily-summaries.csv from S3 Bucket into Specific loaction\n",
    "!wget 'https://www.ncei.noaa.gov/access/services/data/v1?dataset=daily-summaries&stations=USW00023174,USW00012960,USW00003017,USW00094846,USW00013874,USW00023234,USW00003927,USW00023183,USW00013881&dataTypes=AWND,PRCP,SNOW,SNWD,TAVG,TMIN,TMAX&startDate=2014-01-01&endDate=2018-12-31' -O /home/ec2-user/SageMaker/project/data/daily-summaries.csv # wgwt - Download Content from Website"
   ]
  },
  {
   "cell_type": "markdown",
   "metadata": {},
   "source": [
    "Import the weather data that was prepared for the airport codes in the dataset. Use the following stations and airports  for the analysis. Create a new column called *airport* that maps the weather station to the airport name."
   ]
  },
  {
   "cell_type": "code",
   "execution_count": 90,
   "metadata": {},
   "outputs": [],
   "source": [
    "weather = pd.read_csv('/home/ec2-user/SageMaker/project/data/daily-summaries.csv')\n",
    "station = ['USW00023174','USW00012960','USW00003017','USW00094846','USW00013874','USW00023234','USW00003927','USW00023183','USW00013881'] \n",
    "airports = ['LAX', 'IAH', 'DEN', 'ORD', 'ATL', 'SFO', 'DFW', 'PHX', 'CLT']\n",
    "\n",
    "### Map weather stations to airport code\n",
    "station_map = {s:a for s,a in zip(station, airports)} # Pair station Values with airports Values\n",
    "weather['airport'] = weather['STATION'].map(station_map) # Mapping the Values"
   ]
  },
  {
   "cell_type": "code",
   "execution_count": 91,
   "metadata": {},
   "outputs": [
    {
     "data": {
      "text/html": [
       "<div>\n",
       "<style scoped>\n",
       "    .dataframe tbody tr th:only-of-type {\n",
       "        vertical-align: middle;\n",
       "    }\n",
       "\n",
       "    .dataframe tbody tr th {\n",
       "        vertical-align: top;\n",
       "    }\n",
       "\n",
       "    .dataframe thead th {\n",
       "        text-align: right;\n",
       "    }\n",
       "</style>\n",
       "<table border=\"1\" class=\"dataframe\">\n",
       "  <thead>\n",
       "    <tr style=\"text-align: right;\">\n",
       "      <th></th>\n",
       "      <th>STATION</th>\n",
       "      <th>DATE</th>\n",
       "      <th>AWND</th>\n",
       "      <th>PRCP</th>\n",
       "      <th>SNOW</th>\n",
       "      <th>SNWD</th>\n",
       "      <th>TAVG</th>\n",
       "      <th>TMAX</th>\n",
       "      <th>TMIN</th>\n",
       "      <th>airport</th>\n",
       "    </tr>\n",
       "  </thead>\n",
       "  <tbody>\n",
       "    <tr>\n",
       "      <th>0</th>\n",
       "      <td>USW00023174</td>\n",
       "      <td>2014-01-01</td>\n",
       "      <td>16</td>\n",
       "      <td>0</td>\n",
       "      <td>NaN</td>\n",
       "      <td>NaN</td>\n",
       "      <td>131.0</td>\n",
       "      <td>178.0</td>\n",
       "      <td>78.0</td>\n",
       "      <td>LAX</td>\n",
       "    </tr>\n",
       "    <tr>\n",
       "      <th>1</th>\n",
       "      <td>USW00023174</td>\n",
       "      <td>2014-01-02</td>\n",
       "      <td>22</td>\n",
       "      <td>0</td>\n",
       "      <td>NaN</td>\n",
       "      <td>NaN</td>\n",
       "      <td>159.0</td>\n",
       "      <td>256.0</td>\n",
       "      <td>100.0</td>\n",
       "      <td>LAX</td>\n",
       "    </tr>\n",
       "    <tr>\n",
       "      <th>2</th>\n",
       "      <td>USW00023174</td>\n",
       "      <td>2014-01-03</td>\n",
       "      <td>17</td>\n",
       "      <td>0</td>\n",
       "      <td>NaN</td>\n",
       "      <td>NaN</td>\n",
       "      <td>140.0</td>\n",
       "      <td>178.0</td>\n",
       "      <td>83.0</td>\n",
       "      <td>LAX</td>\n",
       "    </tr>\n",
       "    <tr>\n",
       "      <th>3</th>\n",
       "      <td>USW00023174</td>\n",
       "      <td>2014-01-04</td>\n",
       "      <td>18</td>\n",
       "      <td>0</td>\n",
       "      <td>NaN</td>\n",
       "      <td>NaN</td>\n",
       "      <td>136.0</td>\n",
       "      <td>183.0</td>\n",
       "      <td>100.0</td>\n",
       "      <td>LAX</td>\n",
       "    </tr>\n",
       "    <tr>\n",
       "      <th>4</th>\n",
       "      <td>USW00023174</td>\n",
       "      <td>2014-01-05</td>\n",
       "      <td>18</td>\n",
       "      <td>0</td>\n",
       "      <td>NaN</td>\n",
       "      <td>NaN</td>\n",
       "      <td>151.0</td>\n",
       "      <td>244.0</td>\n",
       "      <td>83.0</td>\n",
       "      <td>LAX</td>\n",
       "    </tr>\n",
       "  </tbody>\n",
       "</table>\n",
       "</div>"
      ],
      "text/plain": [
       "       STATION        DATE  AWND  PRCP  SNOW  SNWD   TAVG   TMAX   TMIN  \\\n",
       "0  USW00023174  2014-01-01    16     0   NaN   NaN  131.0  178.0   78.0   \n",
       "1  USW00023174  2014-01-02    22     0   NaN   NaN  159.0  256.0  100.0   \n",
       "2  USW00023174  2014-01-03    17     0   NaN   NaN  140.0  178.0   83.0   \n",
       "3  USW00023174  2014-01-04    18     0   NaN   NaN  136.0  183.0  100.0   \n",
       "4  USW00023174  2014-01-05    18     0   NaN   NaN  151.0  244.0   83.0   \n",
       "\n",
       "  airport  \n",
       "0     LAX  \n",
       "1     LAX  \n",
       "2     LAX  \n",
       "3     LAX  \n",
       "4     LAX  "
      ]
     },
     "execution_count": 91,
     "metadata": {},
     "output_type": "execute_result"
    }
   ],
   "source": [
    "weather.head()"
   ]
  },
  {
   "cell_type": "markdown",
   "metadata": {},
   "source": [
    "From the **DATE** column, create another column called *MONTH*."
   ]
  },
  {
   "cell_type": "code",
   "execution_count": 92,
   "metadata": {},
   "outputs": [
    {
     "data": {
      "text/html": [
       "<div>\n",
       "<style scoped>\n",
       "    .dataframe tbody tr th:only-of-type {\n",
       "        vertical-align: middle;\n",
       "    }\n",
       "\n",
       "    .dataframe tbody tr th {\n",
       "        vertical-align: top;\n",
       "    }\n",
       "\n",
       "    .dataframe thead th {\n",
       "        text-align: right;\n",
       "    }\n",
       "</style>\n",
       "<table border=\"1\" class=\"dataframe\">\n",
       "  <thead>\n",
       "    <tr style=\"text-align: right;\">\n",
       "      <th></th>\n",
       "      <th>STATION</th>\n",
       "      <th>DATE</th>\n",
       "      <th>AWND</th>\n",
       "      <th>PRCP</th>\n",
       "      <th>SNOW</th>\n",
       "      <th>SNWD</th>\n",
       "      <th>TAVG</th>\n",
       "      <th>TMAX</th>\n",
       "      <th>TMIN</th>\n",
       "      <th>airport</th>\n",
       "      <th>MONTH</th>\n",
       "    </tr>\n",
       "  </thead>\n",
       "  <tbody>\n",
       "    <tr>\n",
       "      <th>0</th>\n",
       "      <td>USW00023174</td>\n",
       "      <td>2014-01-01</td>\n",
       "      <td>16</td>\n",
       "      <td>0</td>\n",
       "      <td>NaN</td>\n",
       "      <td>NaN</td>\n",
       "      <td>131.0</td>\n",
       "      <td>178.0</td>\n",
       "      <td>78.0</td>\n",
       "      <td>LAX</td>\n",
       "      <td>01</td>\n",
       "    </tr>\n",
       "    <tr>\n",
       "      <th>1</th>\n",
       "      <td>USW00023174</td>\n",
       "      <td>2014-01-02</td>\n",
       "      <td>22</td>\n",
       "      <td>0</td>\n",
       "      <td>NaN</td>\n",
       "      <td>NaN</td>\n",
       "      <td>159.0</td>\n",
       "      <td>256.0</td>\n",
       "      <td>100.0</td>\n",
       "      <td>LAX</td>\n",
       "      <td>01</td>\n",
       "    </tr>\n",
       "    <tr>\n",
       "      <th>2</th>\n",
       "      <td>USW00023174</td>\n",
       "      <td>2014-01-03</td>\n",
       "      <td>17</td>\n",
       "      <td>0</td>\n",
       "      <td>NaN</td>\n",
       "      <td>NaN</td>\n",
       "      <td>140.0</td>\n",
       "      <td>178.0</td>\n",
       "      <td>83.0</td>\n",
       "      <td>LAX</td>\n",
       "      <td>01</td>\n",
       "    </tr>\n",
       "    <tr>\n",
       "      <th>3</th>\n",
       "      <td>USW00023174</td>\n",
       "      <td>2014-01-04</td>\n",
       "      <td>18</td>\n",
       "      <td>0</td>\n",
       "      <td>NaN</td>\n",
       "      <td>NaN</td>\n",
       "      <td>136.0</td>\n",
       "      <td>183.0</td>\n",
       "      <td>100.0</td>\n",
       "      <td>LAX</td>\n",
       "      <td>01</td>\n",
       "    </tr>\n",
       "    <tr>\n",
       "      <th>4</th>\n",
       "      <td>USW00023174</td>\n",
       "      <td>2014-01-05</td>\n",
       "      <td>18</td>\n",
       "      <td>0</td>\n",
       "      <td>NaN</td>\n",
       "      <td>NaN</td>\n",
       "      <td>151.0</td>\n",
       "      <td>244.0</td>\n",
       "      <td>83.0</td>\n",
       "      <td>LAX</td>\n",
       "      <td>01</td>\n",
       "    </tr>\n",
       "  </tbody>\n",
       "</table>\n",
       "</div>"
      ],
      "text/plain": [
       "       STATION        DATE  AWND  PRCP  SNOW  SNWD   TAVG   TMAX   TMIN  \\\n",
       "0  USW00023174  2014-01-01    16     0   NaN   NaN  131.0  178.0   78.0   \n",
       "1  USW00023174  2014-01-02    22     0   NaN   NaN  159.0  256.0  100.0   \n",
       "2  USW00023174  2014-01-03    17     0   NaN   NaN  140.0  178.0   83.0   \n",
       "3  USW00023174  2014-01-04    18     0   NaN   NaN  136.0  183.0  100.0   \n",
       "4  USW00023174  2014-01-05    18     0   NaN   NaN  151.0  244.0   83.0   \n",
       "\n",
       "  airport MONTH  \n",
       "0     LAX    01  \n",
       "1     LAX    01  \n",
       "2     LAX    01  \n",
       "3     LAX    01  \n",
       "4     LAX    01  "
      ]
     },
     "execution_count": 92,
     "metadata": {},
     "output_type": "execute_result"
    }
   ],
   "source": [
    "weather['MONTH'] = weather['DATE'].apply(lambda x: x.split('-')[1]) # Taking Month from DATE Column\n",
    "weather.head()"
   ]
  },
  {
   "cell_type": "markdown",
   "metadata": {},
   "source": [
    "### Sample output\n",
    "```\n",
    "  STATION     DATE      AWND PRCP SNOW SNWD TAVG TMAX  TMIN airport MONTH\n",
    "0 USW00023174 2014-01-01 16   0   NaN  NaN 131.0 178.0 78.0  LAX    01\n",
    "1 USW00023174 2014-01-02 22   0   NaN  NaN 159.0 256.0 100.0 LAX    01\n",
    "2 USW00023174 2014-01-03 17   0   NaN  NaN 140.0 178.0 83.0  LAX    01\n",
    "3 USW00023174 2014-01-04 18   0   NaN  NaN 136.0 183.0 100.0 LAX    01\n",
    "4 USW00023174 2014-01-05 18   0   NaN  NaN 151.0 244.0 83.0  LAX    01\n",
    "```"
   ]
  },
  {
   "cell_type": "markdown",
   "metadata": {},
   "source": [
    "Analyze and handle the **SNOW** and **SNWD** columns for missing values by using `fillna()`. To check the missing values for all the columns, use the `isna()` function."
   ]
  },
  {
   "cell_type": "code",
   "execution_count": 93,
   "metadata": {},
   "outputs": [
    {
     "data": {
      "text/plain": [
       "STATION     0\n",
       "DATE        0\n",
       "AWND        0\n",
       "PRCP        0\n",
       "SNOW        0\n",
       "SNWD        0\n",
       "TAVG       62\n",
       "TMAX       20\n",
       "TMIN       20\n",
       "airport     0\n",
       "MONTH       0\n",
       "dtype: int64"
      ]
     },
     "execution_count": 93,
     "metadata": {},
     "output_type": "execute_result"
    }
   ],
   "source": [
    "weather.SNOW.fillna(0, inplace=True)\n",
    "weather.SNWD.fillna(0, inplace=True)\n",
    "weather.isna().sum()"
   ]
  },
  {
   "cell_type": "markdown",
   "metadata": {},
   "source": [
    "**Question**: Print the index of the rows that have missing values for *TAVG*, *TMAX*, *TMIN*.\n",
    "\n",
    "**Hint**: To find the rows that are missing, use the `isna()` function. Then, to get the index, use the list on the *idx* variable."
   ]
  },
  {
   "cell_type": "code",
   "execution_count": 94,
   "metadata": {},
   "outputs": [
    {
     "data": {
      "text/plain": [
       "(array([ 3956,  3957,  3958,  3959,  3960,  3961,  3962,  3963,  3964,\n",
       "         3965,  3966,  3967,  3968,  3969,  3970,  3971,  3972,  3973,\n",
       "         3974,  3975,  3976,  3977,  3978,  3979,  3980,  3981,  3982,\n",
       "         3983,  3984,  3985,  4017,  4018,  4019,  4020,  4021,  4022,\n",
       "         4023,  4024,  4025,  4026,  4027,  4028,  4029,  4030,  4031,\n",
       "         4032,  4033,  4034,  4035,  4036,  4037,  4038,  4039,  4040,\n",
       "         4041,  4042,  4043,  4044,  4045,  4046,  4047, 13420]),\n",
       " array([10763, 10764, 10765, 10766, 10767, 10768, 10769, 10770, 10771,\n",
       "        10772, 10773, 10774, 10775, 10776, 10777, 10778, 10779, 10780,\n",
       "        10781, 10782]),\n",
       " array([10763, 10764, 10765, 10766, 10767, 10768, 10769, 10770, 10771,\n",
       "        10772, 10773, 10774, 10775, 10776, 10777, 10778, 10779, 10780,\n",
       "        10781, 10782]))"
      ]
     },
     "execution_count": 94,
     "metadata": {},
     "output_type": "execute_result"
    }
   ],
   "source": [
    "idx = np.array([i for i in range(len(weather))])\n",
    "TAVG_idx = idx[weather.TAVG.isna()]\n",
    "TMAX_idx = idx[weather.TMAX.isna()]\n",
    "TMIN_idx = idx[weather.TMIN.isna()]\n",
    "TAVG_idx , TMAX_idx , TMIN_idx"
   ]
  },
  {
   "cell_type": "markdown",
   "metadata": {},
   "source": [
    "### Sample output\n",
    "\n",
    "```\n",
    "array([ 3956,  3957,  3958,  3959,  3960,  3961,  3962,  3963,  3964,\n",
    "        3965,  3966,  3967,  3968,  3969,  3970,  3971,  3972,  3973,\n",
    "        3974,  3975,  3976,  3977,  3978,  3979,  3980,  3981,  3982,\n",
    "        3983,  3984,  3985,  4017,  4018,  4019,  4020,  4021,  4022,\n",
    "        4023,  4024,  4025,  4026,  4027,  4028,  4029,  4030,  4031,\n",
    "        4032,  4033,  4034,  4035,  4036,  4037,  4038,  4039,  4040,\n",
    "        4041,  4042,  4043,  4044,  4045,  4046,  4047, 13420])\n",
    "```"
   ]
  },
  {
   "cell_type": "markdown",
   "metadata": {},
   "source": [
    "You can replace the missing *TAVG*, *TMAX*, and *TMIN* values with the average value for a particular station or airport. Because consecutive rows of *TAVG_idx* are missing, replacing them with a previous value would not be possible. Instead, replace them with the mean. Use the `groupby` function to aggregate the variables with a mean value.\n",
    "\n",
    "**Hint:** Group by `MONTH` and `STATION`."
   ]
  },
  {
   "cell_type": "code",
   "execution_count": 95,
   "metadata": {},
   "outputs": [
    {
     "data": {
      "text/html": [
       "<div>\n",
       "<style scoped>\n",
       "    .dataframe tbody tr th:only-of-type {\n",
       "        vertical-align: middle;\n",
       "    }\n",
       "\n",
       "    .dataframe tbody tr th {\n",
       "        vertical-align: top;\n",
       "    }\n",
       "\n",
       "    .dataframe thead th {\n",
       "        text-align: right;\n",
       "    }\n",
       "</style>\n",
       "<table border=\"1\" class=\"dataframe\">\n",
       "  <thead>\n",
       "    <tr style=\"text-align: right;\">\n",
       "      <th></th>\n",
       "      <th>STATION</th>\n",
       "      <th>MONTH</th>\n",
       "      <th>TAVG</th>\n",
       "      <th>TMAX</th>\n",
       "      <th>TMIN</th>\n",
       "    </tr>\n",
       "  </thead>\n",
       "  <tbody>\n",
       "    <tr>\n",
       "      <th>0</th>\n",
       "      <td>USW00003017</td>\n",
       "      <td>01</td>\n",
       "      <td>-2.741935</td>\n",
       "      <td>74.000000</td>\n",
       "      <td>-69.858065</td>\n",
       "    </tr>\n",
       "    <tr>\n",
       "      <th>1</th>\n",
       "      <td>USW00003017</td>\n",
       "      <td>02</td>\n",
       "      <td>11.219858</td>\n",
       "      <td>88.553191</td>\n",
       "      <td>-65.035461</td>\n",
       "    </tr>\n",
       "    <tr>\n",
       "      <th>2</th>\n",
       "      <td>USW00003017</td>\n",
       "      <td>03</td>\n",
       "      <td>64.722581</td>\n",
       "      <td>146.858065</td>\n",
       "      <td>-17.070968</td>\n",
       "    </tr>\n",
       "    <tr>\n",
       "      <th>3</th>\n",
       "      <td>USW00003017</td>\n",
       "      <td>04</td>\n",
       "      <td>91.200000</td>\n",
       "      <td>167.440000</td>\n",
       "      <td>14.246667</td>\n",
       "    </tr>\n",
       "    <tr>\n",
       "      <th>4</th>\n",
       "      <td>USW00003017</td>\n",
       "      <td>05</td>\n",
       "      <td>132.580645</td>\n",
       "      <td>206.496774</td>\n",
       "      <td>65.283871</td>\n",
       "    </tr>\n",
       "  </tbody>\n",
       "</table>\n",
       "</div>"
      ],
      "text/plain": [
       "       STATION MONTH        TAVG        TMAX       TMIN\n",
       "0  USW00003017    01   -2.741935   74.000000 -69.858065\n",
       "1  USW00003017    02   11.219858   88.553191 -65.035461\n",
       "2  USW00003017    03   64.722581  146.858065 -17.070968\n",
       "3  USW00003017    04   91.200000  167.440000  14.246667\n",
       "4  USW00003017    05  132.580645  206.496774  65.283871"
      ]
     },
     "execution_count": 95,
     "metadata": {},
     "output_type": "execute_result"
    }
   ],
   "source": [
    "weather_impute = weather.groupby([\"STATION\" , \"MONTH\"]).agg({'TAVG':'mean','TMAX':'mean', 'TMIN':'mean' }).reset_index() # .agg() - Apply functions to the Specified Column\n",
    "weather_impute.head()"
   ]
  },
  {
   "cell_type": "markdown",
   "metadata": {},
   "source": [
    "Merge the mean data with the weather data."
   ]
  },
  {
   "cell_type": "code",
   "execution_count": 96,
   "metadata": {},
   "outputs": [],
   "source": [
    "weather = pd.merge(weather, weather_impute,  how='left', left_on=['MONTH','STATION'], right_on = ['MONTH','STATION'])\\\n",
    ".rename(columns = {'TAVG_y':'TAVG_AVG',\n",
    "                   'TMAX_y':'TMAX_AVG', \n",
    "                   'TMIN_y':'TMIN_AVG', # _y - Average\n",
    "                   'TAVG_x':'TAVG',\n",
    "                   'TMAX_x':'TMAX', \n",
    "                   'TMIN_x':'TMIN'}) # _x - Original\n",
    "# how='left' - weather Dataframe is Retained ( Left ) , left_on , right_on - Columns to Merge ( Match )"
   ]
  },
  {
   "cell_type": "markdown",
   "metadata": {},
   "source": [
    "Check for missing values again."
   ]
  },
  {
   "cell_type": "code",
   "execution_count": 98,
   "metadata": {},
   "outputs": [
    {
     "data": {
      "text/plain": [
       "STATION     0\n",
       "DATE        0\n",
       "AWND        0\n",
       "PRCP        0\n",
       "SNOW        0\n",
       "SNWD        0\n",
       "TAVG        0\n",
       "TMAX        0\n",
       "TMIN        0\n",
       "airport     0\n",
       "MONTH       0\n",
       "TAVG_AVG    0\n",
       "TMAX_AVG    0\n",
       "TMIN_AVG    0\n",
       "dtype: int64"
      ]
     },
     "execution_count": 98,
     "metadata": {},
     "output_type": "execute_result"
    }
   ],
   "source": [
    "# Filling Missing Values \n",
    "weather.TAVG[TAVG_idx] = weather.TAVG_AVG[TAVG_idx] \n",
    "weather.TMAX[TMAX_idx] = weather.TMAX_AVG[TMAX_idx]\n",
    "weather.TMIN[TMIN_idx] = weather.TMIN_AVG[TMIN_idx]\n",
    "weather.isna().sum()"
   ]
  },
  {
   "cell_type": "markdown",
   "metadata": {},
   "source": [
    "Drop `STATION,MONTH,TAVG_AVG,TMAX_AVG,TMIN_AVG,TMAX,TMIN,SNWD` from the dataset."
   ]
  },
  {
   "cell_type": "code",
   "execution_count": 99,
   "metadata": {},
   "outputs": [],
   "source": [
    "weather.drop(columns=['STATION','MONTH','TAVG_AVG', 'TMAX_AVG', 'TMIN_AVG', 'TMAX' ,'TMIN', 'SNWD'],inplace=True)"
   ]
  },
  {
   "cell_type": "code",
   "execution_count": 102,
   "metadata": {},
   "outputs": [
    {
     "data": {
      "text/html": [
       "<div>\n",
       "<style scoped>\n",
       "    .dataframe tbody tr th:only-of-type {\n",
       "        vertical-align: middle;\n",
       "    }\n",
       "\n",
       "    .dataframe tbody tr th {\n",
       "        vertical-align: top;\n",
       "    }\n",
       "\n",
       "    .dataframe thead th {\n",
       "        text-align: right;\n",
       "    }\n",
       "</style>\n",
       "<table border=\"1\" class=\"dataframe\">\n",
       "  <thead>\n",
       "    <tr style=\"text-align: right;\">\n",
       "      <th></th>\n",
       "      <th>DATE</th>\n",
       "      <th>AWND</th>\n",
       "      <th>PRCP</th>\n",
       "      <th>SNOW</th>\n",
       "      <th>TAVG</th>\n",
       "      <th>airport</th>\n",
       "    </tr>\n",
       "  </thead>\n",
       "  <tbody>\n",
       "    <tr>\n",
       "      <th>0</th>\n",
       "      <td>2014-01-01</td>\n",
       "      <td>16</td>\n",
       "      <td>0</td>\n",
       "      <td>0.0</td>\n",
       "      <td>131.0</td>\n",
       "      <td>LAX</td>\n",
       "    </tr>\n",
       "    <tr>\n",
       "      <th>1</th>\n",
       "      <td>2014-01-02</td>\n",
       "      <td>22</td>\n",
       "      <td>0</td>\n",
       "      <td>0.0</td>\n",
       "      <td>159.0</td>\n",
       "      <td>LAX</td>\n",
       "    </tr>\n",
       "    <tr>\n",
       "      <th>2</th>\n",
       "      <td>2014-01-03</td>\n",
       "      <td>17</td>\n",
       "      <td>0</td>\n",
       "      <td>0.0</td>\n",
       "      <td>140.0</td>\n",
       "      <td>LAX</td>\n",
       "    </tr>\n",
       "    <tr>\n",
       "      <th>3</th>\n",
       "      <td>2014-01-04</td>\n",
       "      <td>18</td>\n",
       "      <td>0</td>\n",
       "      <td>0.0</td>\n",
       "      <td>136.0</td>\n",
       "      <td>LAX</td>\n",
       "    </tr>\n",
       "    <tr>\n",
       "      <th>4</th>\n",
       "      <td>2014-01-05</td>\n",
       "      <td>18</td>\n",
       "      <td>0</td>\n",
       "      <td>0.0</td>\n",
       "      <td>151.0</td>\n",
       "      <td>LAX</td>\n",
       "    </tr>\n",
       "  </tbody>\n",
       "</table>\n",
       "</div>"
      ],
      "text/plain": [
       "         DATE  AWND  PRCP  SNOW   TAVG airport\n",
       "0  2014-01-01    16     0   0.0  131.0     LAX\n",
       "1  2014-01-02    22     0   0.0  159.0     LAX\n",
       "2  2014-01-03    17     0   0.0  140.0     LAX\n",
       "3  2014-01-04    18     0   0.0  136.0     LAX\n",
       "4  2014-01-05    18     0   0.0  151.0     LAX"
      ]
     },
     "execution_count": 102,
     "metadata": {},
     "output_type": "execute_result"
    }
   ],
   "source": [
    "weather.head()"
   ]
  },
  {
   "cell_type": "markdown",
   "metadata": {},
   "source": [
    "Add the origin and destination weather conditions to the dataset."
   ]
  },
  {
   "cell_type": "markdown",
   "metadata": {},
   "source": [
    "* Matching FlightDate and Origin / Dest Column with DATE and airport columns if Match Adding Weather Condition of Origin / Destination Airports"
   ]
  },
  {
   "cell_type": "code",
   "execution_count": 107,
   "metadata": {},
   "outputs": [],
   "source": [
    "### Add origin weather conditions\n",
    "data_orig = pd.merge(data_orig, weather,  how='left', left_on=['FlightDate','Origin'], right_on = ['DATE','airport'])\\\n",
    ".rename(columns = {'AWND':'AWND_O','PRCP':'PRCP_O', 'TAVG':'TAVG_O', 'SNOW': 'SNOW_O'})\\\n",
    ".drop(columns=['DATE','airport'])\n",
    "\n",
    "### Add destination weather conditions\n",
    "data_orig = pd.merge(data_orig, weather,  how='left', left_on=['FlightDate','Dest'], right_on = ['DATE','airport'])\\\n",
    ".rename(columns = {'AWND':'AWND_D','PRCP':'PRCP_D', 'TAVG':'TAVG_D', 'SNOW': 'SNOW_D'})\\\n",
    ".drop(columns=['DATE','airport'])"
   ]
  },
  {
   "cell_type": "markdown",
   "metadata": {},
   "source": [
    "**Note**: It's always a good practice to check for nulls or NAs after joins."
   ]
  },
  {
   "cell_type": "code",
   "execution_count": 109,
   "metadata": {},
   "outputs": [
    {
     "data": {
      "text/plain": [
       "0"
      ]
     },
     "execution_count": 109,
     "metadata": {},
     "output_type": "execute_result"
    }
   ],
   "source": [
    "sum(data.isna().any())"
   ]
  },
  {
   "cell_type": "code",
   "execution_count": 110,
   "metadata": {},
   "outputs": [
    {
     "data": {
      "text/plain": [
       "Index(['Year', 'Quarter', 'Month', 'DayofMonth', 'DayOfWeek', 'FlightDate',\n",
       "       'Reporting_Airline', 'Origin', 'OriginState', 'Dest', 'DestState',\n",
       "       'CRSDepTime', 'Cancelled', 'Diverted', 'Distance', 'DistanceGroup',\n",
       "       'ArrDelay', 'ArrDelayMinutes', 'is_delay', 'AirTime', 'DepHourofDay',\n",
       "       'is_holiday', 'AWND_O', 'PRCP_O', 'SNOW_O', 'TAVG_O', 'AWND_D',\n",
       "       'PRCP_D', 'SNOW_D', 'TAVG_D'],\n",
       "      dtype='object')"
      ]
     },
     "execution_count": 110,
     "metadata": {},
     "output_type": "execute_result"
    }
   ],
   "source": [
    "data_orig.columns"
   ]
  },
  {
   "cell_type": "markdown",
   "metadata": {},
   "source": [
    "Convert the categorical data into numerical data by using one-hot encoding."
   ]
  },
  {
   "cell_type": "code",
   "execution_count": 111,
   "metadata": {},
   "outputs": [],
   "source": [
    "data = data_orig.copy()\n",
    "data = data[['is_delay', 'Year', 'Quarter', 'Month', 'DayofMonth', 'DayOfWeek', \n",
    "       'Reporting_Airline', 'Origin', 'Dest','Distance','DepHourofDay','is_holiday', 'AWND_O', 'PRCP_O',\n",
    "       'TAVG_O', 'AWND_D', 'PRCP_D', 'TAVG_D', 'SNOW_O', 'SNOW_D']]\n",
    "\n",
    "\n",
    "categorical_columns  = ['Year', 'Quarter', 'Month', 'DayofMonth', 'DayOfWeek', \n",
    "       'Reporting_Airline', 'Origin', 'Dest', 'is_holiday']\n",
    "for c in categorical_columns:\n",
    "    data[c] = data[c].astype('category')"
   ]
  },
  {
   "cell_type": "code",
   "execution_count": 112,
   "metadata": {},
   "outputs": [],
   "source": [
    "data_dummies = pd.get_dummies(data[['Year', 'Quarter', 'Month', 'DayofMonth', 'DayOfWeek', 'Reporting_Airline', 'Origin', 'Dest', 'is_holiday']], drop_first=True)\n",
    "data_dummies = data_dummies.replace({True: 1, False: 0})\n",
    "data = pd.concat([data, data_dummies], axis = 1)\n",
    "data.drop(categorical_columns,axis=1, inplace=True)"
   ]
  },
  {
   "cell_type": "markdown",
   "metadata": {},
   "source": [
    "Check the new columns."
   ]
  },
  {
   "cell_type": "code",
   "execution_count": 113,
   "metadata": {},
   "outputs": [
    {
     "data": {
      "text/plain": [
       "(1635590, 86)"
      ]
     },
     "execution_count": 113,
     "metadata": {},
     "output_type": "execute_result"
    }
   ],
   "source": [
    "data.shape"
   ]
  },
  {
   "cell_type": "code",
   "execution_count": 114,
   "metadata": {},
   "outputs": [
    {
     "data": {
      "text/plain": [
       "Index(['is_delay', 'Distance', 'DepHourofDay', 'AWND_O', 'PRCP_O', 'TAVG_O',\n",
       "       'AWND_D', 'PRCP_D', 'TAVG_D', 'SNOW_O', 'SNOW_D', 'Year_2015',\n",
       "       'Year_2016', 'Year_2017', 'Year_2018', 'Quarter_2', 'Quarter_3',\n",
       "       'Quarter_4', 'Month_2', 'Month_3', 'Month_4', 'Month_5', 'Month_6',\n",
       "       'Month_7', 'Month_8', 'Month_9', 'Month_10', 'Month_11', 'Month_12',\n",
       "       'DayofMonth_2', 'DayofMonth_3', 'DayofMonth_4', 'DayofMonth_5',\n",
       "       'DayofMonth_6', 'DayofMonth_7', 'DayofMonth_8', 'DayofMonth_9',\n",
       "       'DayofMonth_10', 'DayofMonth_11', 'DayofMonth_12', 'DayofMonth_13',\n",
       "       'DayofMonth_14', 'DayofMonth_15', 'DayofMonth_16', 'DayofMonth_17',\n",
       "       'DayofMonth_18', 'DayofMonth_19', 'DayofMonth_20', 'DayofMonth_21',\n",
       "       'DayofMonth_22', 'DayofMonth_23', 'DayofMonth_24', 'DayofMonth_25',\n",
       "       'DayofMonth_26', 'DayofMonth_27', 'DayofMonth_28', 'DayofMonth_29',\n",
       "       'DayofMonth_30', 'DayofMonth_31', 'DayOfWeek_2', 'DayOfWeek_3',\n",
       "       'DayOfWeek_4', 'DayOfWeek_5', 'DayOfWeek_6', 'DayOfWeek_7',\n",
       "       'Reporting_Airline_DL', 'Reporting_Airline_OO', 'Reporting_Airline_UA',\n",
       "       'Reporting_Airline_WN', 'Origin_CLT', 'Origin_DEN', 'Origin_DFW',\n",
       "       'Origin_IAH', 'Origin_LAX', 'Origin_ORD', 'Origin_PHX', 'Origin_SFO',\n",
       "       'Dest_CLT', 'Dest_DEN', 'Dest_DFW', 'Dest_IAH', 'Dest_LAX', 'Dest_ORD',\n",
       "       'Dest_PHX', 'Dest_SFO', 'is_holiday_1'],\n",
       "      dtype='object')"
      ]
     },
     "execution_count": 114,
     "metadata": {},
     "output_type": "execute_result"
    }
   ],
   "source": [
    "data.columns"
   ]
  },
  {
   "cell_type": "markdown",
   "metadata": {},
   "source": [
    "### Sample output\n",
    "\n",
    "```\n",
    "Index(['Distance', 'DepHourofDay', 'is_delay', 'AWND_O', 'PRCP_O', 'TAVG_O',\n",
    "       'AWND_D', 'PRCP_D', 'TAVG_D', 'SNOW_O', 'SNOW_D', 'Year_2015',\n",
    "       'Year_2016', 'Year_2017', 'Year_2018', 'Quarter_2', 'Quarter_3',\n",
    "       'Quarter_4', 'Month_2', 'Month_3', 'Month_4', 'Month_5', 'Month_6',\n",
    "       'Month_7', 'Month_8', 'Month_9', 'Month_10', 'Month_11', 'Month_12',\n",
    "       'DayofMonth_2', 'DayofMonth_3', 'DayofMonth_4', 'DayofMonth_5',\n",
    "       'DayofMonth_6', 'DayofMonth_7', 'DayofMonth_8', 'DayofMonth_9',\n",
    "       'DayofMonth_10', 'DayofMonth_11', 'DayofMonth_12', 'DayofMonth_13',\n",
    "       'DayofMonth_14', 'DayofMonth_15', 'DayofMonth_16', 'DayofMonth_17',\n",
    "       'DayofMonth_18', 'DayofMonth_19', 'DayofMonth_20', 'DayofMonth_21',\n",
    "       'DayofMonth_22', 'DayofMonth_23', 'DayofMonth_24', 'DayofMonth_25',\n",
    "       'DayofMonth_26', 'DayofMonth_27', 'DayofMonth_28', 'DayofMonth_29',\n",
    "       'DayofMonth_30', 'DayofMonth_31', 'DayOfWeek_2', 'DayOfWeek_3',\n",
    "       'DayOfWeek_4', 'DayOfWeek_5', 'DayOfWeek_6', 'DayOfWeek_7',\n",
    "       'Reporting_Airline_DL', 'Reporting_Airline_OO', 'Reporting_Airline_UA',\n",
    "       'Reporting_Airline_WN', 'Origin_CLT', 'Origin_DEN', 'Origin_DFW',\n",
    "       'Origin_IAH', 'Origin_LAX', 'Origin_ORD', 'Origin_PHX', 'Origin_SFO',\n",
    "       'Dest_CLT', 'Dest_DEN', 'Dest_DFW', 'Dest_IAH', 'Dest_LAX', 'Dest_ORD',\n",
    "       'Dest_PHX', 'Dest_SFO', 'is_holiday_1'],\n",
    "      dtype='object')\n",
    "```"
   ]
  },
  {
   "cell_type": "markdown",
   "metadata": {},
   "source": [
    "Rename the **is_delay** column to *target* again. Use the same code that you used previously."
   ]
  },
  {
   "cell_type": "code",
   "execution_count": 115,
   "metadata": {},
   "outputs": [],
   "source": [
    "data.rename(columns = {\"is_delay\":\"target\"}, inplace=True )# Enter your code here"
   ]
  },
  {
   "cell_type": "markdown",
   "metadata": {},
   "source": [
    "Create the training sets again.\n",
    "\n",
    "**Hint:** Use the `split_data` function that you defined (and used) earlier."
   ]
  },
  {
   "cell_type": "code",
   "execution_count": 116,
   "metadata": {},
   "outputs": [
    {
     "name": "stdout",
     "output_type": "stream",
     "text": [
      "0.0    1033806\n",
      "1.0     274666\n",
      "Name: target, dtype: int64\n",
      "0.0    129226\n",
      "1.0     34333\n",
      "Name: target, dtype: int64\n",
      "0.0    129226\n",
      "1.0     34333\n",
      "Name: target, dtype: int64\n"
     ]
    }
   ],
   "source": [
    "# Enter your code here\n",
    "train, validate, test = split_data(data)\n",
    "print(train['target'].value_counts())\n",
    "print(test['target'].value_counts())\n",
    "print(validate['target'].value_counts())"
   ]
  },
  {
   "cell_type": "markdown",
   "metadata": {},
   "source": [
    "### New baseline classifier\n",
    "\n",
    "Now, see if these new features add any predictive power to the model."
   ]
  },
  {
   "cell_type": "code",
   "execution_count": 117,
   "metadata": {},
   "outputs": [],
   "source": [
    "# Instantiate the LinearLearner estimator object\n",
    "classifier_estimator2 = sagemaker.LinearLearner(role=sagemaker.get_execution_role(),\n",
    "                                               instance_count=1,\n",
    "                                               instance_type=\"ml.m4.xlarge\",\n",
    "                                               predictor_type='binary_classifier',\n",
    "                                               binary_classifier_model_selection_criteria=\"f1\")"
   ]
  },
  {
   "cell_type": "markdown",
   "metadata": {},
   "source": [
    "### Sample code\n",
    "\n",
    "```\n",
    "num_classes = len(pd.unique(train_labels)) \n",
    "classifier_estimator2 = sagemaker.LinearLearner(role=sagemaker.get_execution_role(),\n",
    "                                               instance_count=1,\n",
    "                                               instance_type='ml.m4.xlarge',\n",
    "                                               predictor_type='binary_classifier',\n",
    "                                               binary_classifier_model_selection_criteria = 'cross_entropy_loss')\n",
    "```"
   ]
  },
  {
   "cell_type": "code",
   "execution_count": 118,
   "metadata": {},
   "outputs": [],
   "source": [
    "train_records = classifier_estimator2.record_set(train.values[:, 1:].astype(np.float32), train.values[:, 0].astype(np.float32), channel='train')\n",
    "val_records = classifier_estimator2.record_set(validate.values[:, 1:].astype(np.float32), validate.values[:, 0].astype(np.float32), channel='validation')\n",
    "test_records = classifier_estimator2.record_set(test.values[:, 1:].astype(np.float32), test.values[:, 0].astype(np.float32), channel='test')"
   ]
  },
  {
   "cell_type": "markdown",
   "metadata": {},
   "source": [
    "Train your model by using the three datasets that you just created."
   ]
  },
  {
   "cell_type": "code",
   "execution_count": null,
   "metadata": {},
   "outputs": [
    {
     "name": "stderr",
     "output_type": "stream",
     "text": [
      "INFO:sagemaker.image_uris:Same images used for training and inference. Defaulting to image scope: inference.\n",
      "INFO:sagemaker.image_uris:Ignoring unnecessary instance type: None.\n",
      "INFO:sagemaker.image_uris:Same images used for training and inference. Defaulting to image scope: inference.\n",
      "INFO:sagemaker.image_uris:Ignoring unnecessary instance type: None.\n",
      "INFO:sagemaker:Creating training-job with name: linear-learner-2024-10-31-14-26-44-402\n"
     ]
    },
    {
     "name": "stdout",
     "output_type": "stream",
     "text": [
      "2024-10-31 14:26:45 Starting - Starting the training job...\n",
      "2024-10-31 14:27:00 Starting - Preparing the instances for training...\n",
      "2024-10-31 14:27:26 Downloading - Downloading input data...\n",
      "2024-10-31 14:28:07 Downloading - Downloading the training image...."
     ]
    }
   ],
   "source": [
    "# Enter your code here\n",
    "classifier_estimator2.fit([train_records , val_records , test_records])"
   ]
  },
  {
   "cell_type": "markdown",
   "metadata": {},
   "source": [
    "Perform a batch prediction by using the newly trained model."
   ]
  },
  {
   "cell_type": "code",
   "execution_count": null,
   "metadata": {},
   "outputs": [],
   "source": [
    "# Enter your code here\n",
    "test_labels, target_predicted = batch_linear_predict(test, classifier_estimator)"
   ]
  },
  {
   "cell_type": "markdown",
   "metadata": {},
   "source": [
    "Plot a confusion matrix."
   ]
  },
  {
   "cell_type": "code",
   "execution_count": null,
   "metadata": {},
   "outputs": [],
   "source": [
    "# Enter your code here\n",
    "plot_confusion_matrix(test_labels, target_predicted)"
   ]
  },
  {
   "cell_type": "markdown",
   "metadata": {},
   "source": [
    "The linear model shows only a little improvement in performance. Try a tree-based ensemble model, which is called *XGBoost*, with Amazon SageMaker."
   ]
  },
  {
   "cell_type": "markdown",
   "metadata": {},
   "source": [
    "### Try the XGBoost model"
   ]
  },
  {
   "cell_type": "markdown",
   "metadata": {},
   "source": [
    "Perform these steps:  \n",
    "\n",
    "1. Use the training set variables and save them as CSV files: train.csv, validation.csv and test.csv.\n",
    "2. Store the bucket name in the variable. The Amazon S3 bucket name is provided to the left of the lab instructions.  \n",
    "a. `bucket = <LabBucketName>`  \n",
    "b. `prefix = 'flight-xgb'`  \n",
    "3. Use the AWS SDK for Python (Boto3) to upload the model to the bucket.    "
   ]
  },
  {
   "cell_type": "code",
   "execution_count": null,
   "metadata": {},
   "outputs": [],
   "source": [
    "bucket='c135545a3449936l7762545t1w64362751248-flightbucket-xdryix0ssjik'\n",
    "prefix='flight-xgb'\n",
    "train_file='flight_train.csv'\n",
    "test_file='flight_test.csv'\n",
    "validate_file='flight_validate.csv'\n",
    "whole_file='flight.csv'\n",
    "s3_resource = boto3.Session().resource('s3')\n",
    "\n",
    "def upload_s3_csv(filename, folder, dataframe):\n",
    "    csv_buffer = io.StringIO()\n",
    "    dataframe.to_csv(csv_buffer, header=False, index=False )\n",
    "    s3_resource.Bucket(bucket).Object(os.path.join(prefix, folder, filename)).put(Body=csv_buffer.getvalue())\n",
    "\n",
    "upload_s3_csv(train_file, 'train', train)\n",
    "upload_s3_csv(test_file, 'test', test)\n",
    "upload_s3_csv(validate_file, 'validate', validate)"
   ]
  },
  {
   "cell_type": "markdown",
   "metadata": {},
   "source": [
    "Use the `sagemaker.inputs.TrainingInput` function to create a `record_set` for the training and validation datasets."
   ]
  },
  {
   "cell_type": "code",
   "execution_count": null,
   "metadata": {},
   "outputs": [],
   "source": [
    "train_channel = sagemaker.inputs.TrainingInput(\n",
    "    \"s3://{}/{}/train/\".format(bucket,prefix,train_file),\n",
    "    content_type='text/csv')\n",
    "\n",
    "validate_channel = sagemaker.inputs.TrainingInput(\n",
    "    \"s3://{}/{}/validate/\".format(bucket,prefix,validate_file),\n",
    "    content_type='text/csv')\n",
    "\n",
    "data_channels = {'train': train_channel, 'validation': validate_channel}"
   ]
  },
  {
   "cell_type": "code",
   "execution_count": null,
   "metadata": {},
   "outputs": [],
   "source": [
    "from sagemaker.image_uris import retrieve\n",
    "container = retrieve('xgboost',boto3.Session().region_name,'1.0-1')"
   ]
  },
  {
   "cell_type": "code",
   "execution_count": null,
   "metadata": {},
   "outputs": [],
   "source": [
    "sess = sagemaker.Session()\n",
    "s3_output_location=\"s3://{}/{}/output/\".format(bucket,prefix)\n",
    "\n",
    "xgb = sagemaker.estimator.Estimator(container,\n",
    "                                    role = sagemaker.get_execution_role(), \n",
    "                                    instance_count=1, \n",
    "                                    instance_type=instance_type,\n",
    "                                    output_path=s3_output_location,\n",
    "                                    sagemaker_session=sess)\n",
    "xgb.set_hyperparameters(max_depth=5,\n",
    "                        eta=0.2,\n",
    "                        gamma=4,\n",
    "                        min_child_weight=6,\n",
    "                        subsample=0.8,\n",
    "                        silent=0,\n",
    "                        objective='binary:logistic',\n",
    "                        eval_metric = \"auc\", \n",
    "                        num_round=100)\n",
    "\n",
    "xgb.fit(inputs=data_channels)"
   ]
  },
  {
   "cell_type": "markdown",
   "metadata": {},
   "source": [
    "Use the batch transformer for your new model, and evaluate the model on the test dataset."
   ]
  },
  {
   "cell_type": "code",
   "execution_count": null,
   "metadata": {},
   "outputs": [],
   "source": [
    "batch_X = test.iloc[:,1:];\n",
    "batch_X_file='batch-in.csv'\n",
    "upload_s3_csv(batch_X_file, 'batch-in', batch_X)"
   ]
  },
  {
   "cell_type": "code",
   "execution_count": null,
   "metadata": {},
   "outputs": [],
   "source": [
    "batch_output = \"s3://{}/{}/batch-out/\".format(bucket,prefix)\n",
    "batch_input = \"s3://{}/{}/batch-in/{}\".format(bucket,prefix,batch_X_file)\n",
    "\n",
    "xgb_transformer = xgb.transformer(instance_count=1,\n",
    "                                       instance_type=instance_type,\n",
    "                                       strategy='MultiRecord',\n",
    "                                       assemble_with='Line',\n",
    "                                       output_path=batch_output)\n",
    "\n",
    "xgb_transformer.transform(data=batch_input,\n",
    "                         data_type='S3Prefix',\n",
    "                         content_type='text/csv',\n",
    "                         split_type='Line')\n",
    "xgb_transformer.wait()"
   ]
  },
  {
   "cell_type": "markdown",
   "metadata": {},
   "source": [
    "Get the predicted target and test labels."
   ]
  },
  {
   "cell_type": "code",
   "execution_count": null,
   "metadata": {},
   "outputs": [],
   "source": [
    "s3 = boto3.client('s3')\n",
    "obj = s3.get_object(Bucket=bucket, Key=\"{}/batch-out/{}\".format(prefix,'batch-in.csv.out'))\n",
    "target_predicted = pd.read_csv(io.BytesIO(obj['Body'].read()),sep=',',names=['target'])\n",
    "test_labels = test.iloc[:,0]"
   ]
  },
  {
   "cell_type": "markdown",
   "metadata": {},
   "source": [
    "Calculate the predicted values based on the defined threshold.\n",
    "\n",
    "**Note:** The predicted target will be a score, which must be converted to a binary class."
   ]
  },
  {
   "cell_type": "code",
   "execution_count": null,
   "metadata": {},
   "outputs": [],
   "source": [
    "print(target_predicted.head())\n",
    "\n",
    "def binary_convert(x):\n",
    "    threshold = 0.55\n",
    "    if x > threshold:\n",
    "        return 1\n",
    "    else:\n",
    "        return 0\n",
    "\n",
    "target_predicted['target'] = target_predicted['target'].apply(binary_convert)\n",
    "\n",
    "test_labels = test.iloc[:,0]\n",
    "\n",
    "print(target_predicted.head())"
   ]
  },
  {
   "cell_type": "markdown",
   "metadata": {},
   "source": [
    "Plot a confusion matrix for your `target_predicted` and `test_labels`."
   ]
  },
  {
   "cell_type": "code",
   "execution_count": null,
   "metadata": {},
   "outputs": [],
   "source": [
    "# Enter your code here"
   ]
  },
  {
   "cell_type": "markdown",
   "metadata": {},
   "source": [
    "### Try different thresholds"
   ]
  },
  {
   "cell_type": "markdown",
   "metadata": {},
   "source": [
    "**Question**: Based on how well the model handled the test set, what can you conclude?"
   ]
  },
  {
   "cell_type": "code",
   "execution_count": null,
   "metadata": {},
   "outputs": [],
   "source": [
    "#Enter your answer here"
   ]
  },
  {
   "cell_type": "markdown",
   "metadata": {},
   "source": [
    "### Hyperparameter optimization (HPO)"
   ]
  },
  {
   "cell_type": "code",
   "execution_count": null,
   "metadata": {},
   "outputs": [],
   "source": [
    "from sagemaker.tuner import IntegerParameter, CategoricalParameter, ContinuousParameter, HyperparameterTuner\n",
    "\n",
    "### You can spin up multiple instances to do hyperparameter optimization in parallel\n",
    "\n",
    "xgb = sagemaker.estimator.Estimator(container,\n",
    "                                    role=sagemaker.get_execution_role(), \n",
    "                                    instance_count= 1, # make sure you have a limit set for these instances\n",
    "                                    instance_type=instance_type, \n",
    "                                    output_path='s3://{}/{}/output'.format(bucket, prefix),\n",
    "                                    sagemaker_session=sess)\n",
    "\n",
    "xgb.set_hyperparameters(eval_metric='auc',\n",
    "                        objective='binary:logistic',\n",
    "                        num_round=100,\n",
    "                        rate_drop=0.3,\n",
    "                        tweedie_variance_power=1.4)\n",
    "\n",
    "hyperparameter_ranges = {'alpha': ContinuousParameter(0, 1000, scaling_type='Linear'),\n",
    "                         'eta': ContinuousParameter(0.1, 0.5, scaling_type='Linear'),\n",
    "                         'min_child_weight': ContinuousParameter(3, 10, scaling_type='Linear'),\n",
    "                         'subsample': ContinuousParameter(0.5, 1),\n",
    "                         'num_round': IntegerParameter(10,150)}\n",
    "\n",
    "objective_metric_name = 'validation:auc'\n",
    "\n",
    "tuner = HyperparameterTuner(xgb,\n",
    "                            objective_metric_name,\n",
    "                            hyperparameter_ranges,\n",
    "                            max_jobs=10, # Set this to 10 or above depending upon budget and available time.\n",
    "                            max_parallel_jobs=1)"
   ]
  },
  {
   "cell_type": "code",
   "execution_count": null,
   "metadata": {},
   "outputs": [],
   "source": [
    "tuner.fit(inputs=data_channels)\n",
    "tuner.wait()"
   ]
  },
  {
   "cell_type": "markdown",
   "metadata": {},
   "source": [
    "<i class=\"fas fa-exclamation-triangle\" style=\"color:red\"></i> Wait until the training job is finished. It might take 25-30 minutes.\n",
    "\n",
    "**To monitor hyperparameter optimization jobs:**  \n",
    "\n",
    "1. In the AWS Management Console, on the **Services** menu, choose **Amazon SageMaker**.  \n",
    "2. Choose **Training > Hyperparameter tuning jobs**.\n",
    "3. You can check the status of each hyperparameter tuning job, its objective metric value, and its logs.  "
   ]
  },
  {
   "cell_type": "markdown",
   "metadata": {},
   "source": [
    "Check that the job completed successfully."
   ]
  },
  {
   "cell_type": "code",
   "execution_count": null,
   "metadata": {},
   "outputs": [],
   "source": [
    "boto3.client('sagemaker').describe_hyper_parameter_tuning_job(\n",
    "    HyperParameterTuningJobName=tuner.latest_tuning_job.job_name)['HyperParameterTuningJobStatus']"
   ]
  },
  {
   "cell_type": "markdown",
   "metadata": {},
   "source": [
    "The hyperparameter tuning job will have a model that worked the best. You can get the information about that model from the tuning job."
   ]
  },
  {
   "cell_type": "code",
   "execution_count": null,
   "metadata": {},
   "outputs": [],
   "source": [
    "sage_client = boto3.Session().client('sagemaker')\n",
    "tuning_job_name = tuner.latest_tuning_job.job_name\n",
    "print(f'tuning job name:{tuning_job_name}')\n",
    "tuning_job_result = sage_client.describe_hyper_parameter_tuning_job(HyperParameterTuningJobName=tuning_job_name)\n",
    "best_training_job = tuning_job_result['BestTrainingJob']\n",
    "best_training_job_name = best_training_job['TrainingJobName']\n",
    "print(f\"best training job: {best_training_job_name}\")\n",
    "\n",
    "best_estimator = tuner.best_estimator()\n",
    "\n",
    "tuner_df = sagemaker.HyperparameterTuningJobAnalytics(tuning_job_name).dataframe()\n",
    "tuner_df.head()"
   ]
  },
  {
   "cell_type": "markdown",
   "metadata": {},
   "source": [
    "Use the estimator `best_estimator` and train it by using the data. \n",
    "\n",
    "**Tip:** See the previous XGBoost estimator fit function."
   ]
  },
  {
   "cell_type": "code",
   "execution_count": null,
   "metadata": {},
   "outputs": [],
   "source": [
    "# Enter your code here'"
   ]
  },
  {
   "cell_type": "markdown",
   "metadata": {},
   "source": [
    "Use the batch transformer for your new model, and evaluate the model on the test dataset."
   ]
  },
  {
   "cell_type": "code",
   "execution_count": null,
   "metadata": {},
   "outputs": [],
   "source": [
    "batch_output = \"s3://{}/{}/batch-out/\".format(bucket,prefix)\n",
    "batch_input = \"s3://{}/{}/batch-in/{}\".format(bucket,prefix,batch_X_file)\n",
    "\n",
    "xgb_transformer = best_estimator.transformer(instance_count=1,\n",
    "                                       instance_type=instance_type,\n",
    "                                       strategy='MultiRecord',\n",
    "                                       assemble_with='Line',\n",
    "                                       output_path=batch_output)\n",
    "\n",
    "xgb_transformer.transform(data=batch_input,\n",
    "                         data_type='S3Prefix',\n",
    "                         content_type='text/csv',\n",
    "                         split_type='Line')\n",
    "xgb_transformer.wait()"
   ]
  },
  {
   "cell_type": "code",
   "execution_count": null,
   "metadata": {},
   "outputs": [],
   "source": [
    "s3 = boto3.client('s3')\n",
    "obj = s3.get_object(Bucket=bucket, Key=\"{}/batch-out/{}\".format(prefix,'batch-in.csv.out'))\n",
    "target_predicted = pd.read_csv(io.BytesIO(obj['Body'].read()),sep=',',names=['target'])\n",
    "test_labels = test.iloc[:,0]"
   ]
  },
  {
   "cell_type": "markdown",
   "metadata": {},
   "source": [
    "Get the predicted target and test labels."
   ]
  },
  {
   "cell_type": "code",
   "execution_count": null,
   "metadata": {},
   "outputs": [],
   "source": [
    "print(target_predicted.head())\n",
    "\n",
    "def binary_convert(x):\n",
    "    threshold = 0.55\n",
    "    if x > threshold:\n",
    "        return 1\n",
    "    else:\n",
    "        return 0\n",
    "\n",
    "target_predicted['target'] = target_predicted['target'].apply(binary_convert)\n",
    "\n",
    "test_labels = test.iloc[:,0]\n",
    "\n",
    "print(target_predicted.head())"
   ]
  },
  {
   "cell_type": "markdown",
   "metadata": {},
   "source": [
    "Plot a confusion matrix for your `target_predicted` and `test_labels`."
   ]
  },
  {
   "cell_type": "code",
   "execution_count": null,
   "metadata": {},
   "outputs": [],
   "source": [
    "# Enter your code here"
   ]
  },
  {
   "cell_type": "markdown",
   "metadata": {},
   "source": [
    "**Question**: Try different hyperparameters and hyperparameter ranges. Do these changes improve the model?"
   ]
  },
  {
   "cell_type": "markdown",
   "metadata": {},
   "source": [
    "## Conclusion\n",
    "\n",
    "You have now iterated through training and evaluating your model at least a couple of times. It's time to wrap up this project and reflect on:\n",
    "\n",
    "- What you learned \n",
    "- What types of steps you might take moving forward (assuming that you had more time)\n",
    "\n",
    "Use the following cell to answer some of these questions and other relevant questions:\n",
    "\n",
    "1. Does your model performance meet your business goal? If not, what are some things you'd like to do differently if you had more time for tuning?\n",
    "2. How much did your model improve as you made changes to your dataset, features, and hyperparameters? What types of techniques did you employ throughout this project, and which yielded the greatest improvements in your model?\n",
    "3. What were some of the biggest challenges that you encountered throughout this project?\n",
    "4. Do you have any unanswered questions about aspects of the pipeline that didn't make sense to you?\n",
    "5. What were the three most important things that you learned about machine learning while working on this project?\n",
    "\n",
    "#### <span style=\"color: blue;\">Project presentation: Make sure that you also summarize your answers to these questions in your project presentation. Combine all your notes for your project presentation and prepare to present your findings to the class.</span>"
   ]
  },
  {
   "cell_type": "code",
   "execution_count": null,
   "metadata": {},
   "outputs": [],
   "source": [
    "# Write your answers here"
   ]
  }
 ],
 "metadata": {
  "kernelspec": {
   "display_name": "conda_python3",
   "language": "python",
   "name": "conda_python3"
  },
  "language_info": {
   "codemirror_mode": {
    "name": "ipython",
    "version": 3
   },
   "file_extension": ".py",
   "mimetype": "text/x-python",
   "name": "python",
   "nbconvert_exporter": "python",
   "pygments_lexer": "ipython3",
   "version": "3.10.15"
  }
 },
 "nbformat": 4,
 "nbformat_minor": 4
}
